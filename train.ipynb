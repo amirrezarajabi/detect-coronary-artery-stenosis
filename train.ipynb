{
 "cells": [
  {
   "cell_type": "code",
   "execution_count": 1,
   "metadata": {
    "colab": {
     "base_uri": "https://localhost:8080/"
    },
    "id": "CVDfg9UaeYmv",
    "outputId": "2b7a91db-8530-4c48-dd59-1ba06c1d8f28"
   },
   "outputs": [
    {
     "name": "stdout",
     "output_type": "stream",
     "text": [
      "Mounted at /content/drive\n"
     ]
    }
   ],
   "source": [
    "from google.colab import drive\n",
    "drive.mount('/content/drive')"
   ]
  },
  {
   "cell_type": "code",
   "execution_count": 2,
   "metadata": {
    "colab": {
     "base_uri": "https://localhost:8080/"
    },
    "id": "lHViKyF0ehfH",
    "outputId": "7bb88082-d569-4bbd-d795-52f942b32b5c"
   },
   "outputs": [
    {
     "name": "stdout",
     "output_type": "stream",
     "text": [
      "\u001b[1;30;43mStreaming output truncated to the last 5000 lines.\u001b[0m\n",
      "  inflating: /content/dataset/dataset/14_066_10_0074.bmp  \n",
      "  inflating: /content/dataset/dataset/14_066_9_0061.bmp  \n",
      "  inflating: /content/dataset/dataset/14_023_2_0102.bmp  \n",
      "  inflating: /content/dataset/dataset/14_048_2_0073.bmp  \n",
      "  inflating: /content/dataset/dataset/14_073_1_0047.bmp  \n",
      "  inflating: /content/dataset/dataset/14_015_1_0024.bmp  \n",
      "  inflating: /content/dataset/dataset/14_096_2_0055.xml  \n",
      "  inflating: /content/dataset/dataset/14_087_3_0047.xml  \n",
      "  inflating: /content/dataset/dataset/14_087_3_0051.xml  \n",
      "  inflating: /content/dataset/dataset/14_096_2_0011.xml  \n",
      "  inflating: /content/dataset/dataset/14_050_6_0030.xml  \n",
      "  inflating: /content/dataset/dataset/14_051_5_0026.xml  \n",
      "  inflating: /content/dataset/dataset/14_087_3_0064.xml  \n",
      "  inflating: /content/dataset/dataset/14_084_9_0044.xml  \n",
      "  inflating: /content/dataset/dataset/14_096_5_0036.xml  \n",
      "  inflating: /content/dataset/dataset/14_051_2_0053.xml  \n",
      "  inflating: /content/dataset/dataset/14_066_7_0070.xml  \n",
      "  inflating: /content/dataset/dataset/14_055_6_0020.xml  \n",
      "  inflating: /content/dataset/dataset/14_070_5_0045.xml  \n",
      "  inflating: /content/dataset/dataset/14_066_7_0065.xml  \n",
      "  inflating: /content/dataset/dataset/14_050_8_0054.xml  \n",
      "  inflating: /content/dataset/dataset/14_096_6_0068.xml  \n",
      "  inflating: /content/dataset/dataset/14_068_2_0034.xml  \n",
      "  inflating: /content/dataset/dataset/14_055_5_0033.xml  \n",
      "  inflating: /content/dataset/dataset/14_095_8_0048.xml  \n",
      "  inflating: /content/dataset/dataset/14_059_1_0060.xml  \n",
      "  inflating: /content/dataset/dataset/14_088_3_0028.xml  \n",
      "  inflating: /content/dataset/dataset/14_058_3_0052.xml  \n",
      "  inflating: /content/dataset/dataset/14_085_4_0067.xml  \n",
      "  inflating: /content/dataset/dataset/14_096_3_0064.xml  \n",
      "  inflating: /content/dataset/dataset/14_080_2_0089.xml  \n",
      "  inflating: /content/dataset/dataset/14_058_3_0058.xml  \n",
      "  inflating: /content/dataset/dataset/14_095_7_0059.xml  \n",
      "  inflating: /content/dataset/dataset/14_066_7_0067.xml  \n",
      "  inflating: /content/dataset/dataset/14_066_3_0070.xml  \n",
      "  inflating: /content/dataset/dataset/14_053_2_0075.xml  \n",
      "  inflating: /content/dataset/dataset/14_095_8_0032.xml  \n",
      "  inflating: /content/dataset/dataset/14_053_4_0048.xml  \n",
      "  inflating: /content/dataset/dataset/14_096_5_0067.xml  \n",
      "  inflating: /content/dataset/dataset/14_081_6_0029.xml  \n",
      "  inflating: /content/dataset/dataset/14_053_2_0074.xml  \n",
      "  inflating: /content/dataset/dataset/14_053_1_0071.xml  \n",
      "  inflating: /content/dataset/dataset/14_068_1_0030.xml  \n",
      "  inflating: /content/dataset/dataset/14_096_4_0049.xml  \n",
      "  inflating: /content/dataset/dataset/14_096_6_0069.xml  \n",
      "  inflating: /content/dataset/dataset/14_088_1_0044.xml  \n",
      "  inflating: /content/dataset/dataset/14_059_1_0054.xml  \n",
      "  inflating: /content/dataset/dataset/14_081_6_0037.xml  \n",
      "  inflating: /content/dataset/dataset/14_087_1_0044.xml  \n",
      "  inflating: /content/dataset/dataset/14_069_1_0090.xml  \n",
      "  inflating: /content/dataset/dataset/14_096_5_0053.xml  \n",
      "  inflating: /content/dataset/dataset/14_096_3_0052.xml  \n",
      "  inflating: /content/dataset/dataset/14_077_6_0062.xml  \n",
      "  inflating: /content/dataset/dataset/14_099_5_0022.xml  \n",
      "  inflating: /content/dataset/dataset/14_088_8_0043.xml  \n",
      "  inflating: /content/dataset/dataset/14_077_6_0096.xml  \n",
      "  inflating: /content/dataset/dataset/14_081_7_0038.xml  \n",
      "  inflating: /content/dataset/dataset/14_094_2_0065.xml  \n",
      "  inflating: /content/dataset/dataset/14_088_6_0049.xml  \n",
      "  inflating: /content/dataset/dataset/14_096_4_0063.xml  \n",
      "  inflating: /content/dataset/dataset/14_087_2_0069.xml  \n",
      "  inflating: /content/dataset/dataset/14_051_6_0034.xml  \n",
      "  inflating: /content/dataset/dataset/14_053_1_0065.xml  \n",
      "  inflating: /content/dataset/dataset/14_092_2_0030.xml  \n",
      "  inflating: /content/dataset/dataset/14_085_2_0064.xml  \n",
      "  inflating: /content/dataset/dataset/14_087_2_0089.xml  \n",
      "  inflating: /content/dataset/dataset/14_096_4_0041.xml  \n",
      "  inflating: /content/dataset/dataset/14_092_2_0043.xml  \n",
      "  inflating: /content/dataset/dataset/14_087_2_0054.xml  \n",
      "  inflating: /content/dataset/dataset/14_096_6_0055.xml  \n",
      "  inflating: /content/dataset/dataset/14_095_2_0075.xml  \n",
      "  inflating: /content/dataset/dataset/14_088_5_0035.xml  \n",
      "  inflating: /content/dataset/dataset/14_096_6_0057.xml  \n",
      "  inflating: /content/dataset/dataset/14_055_8_0016.xml  \n",
      "  inflating: /content/dataset/dataset/14_087_1_0036.xml  \n",
      "  inflating: /content/dataset/dataset/14_059_2_0044.xml  \n",
      "  inflating: /content/dataset/dataset/14_088_1_0023.xml  \n",
      "  inflating: /content/dataset/dataset/14_095_1_0085.xml  \n",
      "  inflating: /content/dataset/dataset/14_098_3_0025.xml  \n",
      "  inflating: /content/dataset/dataset/14_095_7_0035.xml  \n",
      "  inflating: /content/dataset/dataset/14_080_3_0037.xml  \n",
      "  inflating: /content/dataset/dataset/14_088_5_0047.xml  \n",
      "  inflating: /content/dataset/dataset/14_095_8_0042.xml  \n",
      "  inflating: /content/dataset/dataset/14_085_1_0056.xml  \n",
      "  inflating: /content/dataset/dataset/14_095_1_0050.xml  \n",
      "  inflating: /content/dataset/dataset/14_068_3_0031.xml  \n",
      "  inflating: /content/dataset/dataset/14_092_2_0025.xml  \n",
      "  inflating: /content/dataset/dataset/14_087_2_0040.xml  \n",
      "  inflating: /content/dataset/dataset/14_053_5_0073.xml  \n",
      "  inflating: /content/dataset/dataset/14_098_3_0024.xml  \n",
      "  inflating: /content/dataset/dataset/14_085_1_0068.xml  \n",
      "  inflating: /content/dataset/dataset/14_067_7_0019.xml  \n",
      "  inflating: /content/dataset/dataset/14_095_2_0031.xml  \n",
      "  inflating: /content/dataset/dataset/14_096_5_0073.xml  \n",
      "  inflating: /content/dataset/dataset/14_085_5_0040.xml  \n",
      "  inflating: /content/dataset/dataset/14_087_2_0068.xml  \n",
      "  inflating: /content/dataset/dataset/14_085_4_0058.xml  \n",
      "  inflating: /content/dataset/dataset/14_062_5_0057.xml  \n",
      "  inflating: /content/dataset/dataset/14_085_1_0051.xml  \n",
      "  inflating: /content/dataset/dataset/14_055_8_0021.xml  \n",
      "  inflating: /content/dataset/dataset/14_050_8_0029.xml  \n",
      "  inflating: /content/dataset/dataset/14_064_2_0080.xml  \n",
      "  inflating: /content/dataset/dataset/14_064_3_0018.xml  \n",
      "  inflating: /content/dataset/dataset/14_084_4_0030.xml  \n",
      "  inflating: /content/dataset/dataset/14_084_3_0021.xml  \n",
      "  inflating: /content/dataset/dataset/14_050_10_0033.xml  \n",
      "  inflating: /content/dataset/dataset/14_066_9_0065.xml  \n",
      "  inflating: /content/dataset/dataset/14_062_3_0050.xml  \n",
      "  inflating: /content/dataset/dataset/14_084_1_0047.xml  \n",
      "  inflating: /content/dataset/dataset/14_092_1_0053.xml  \n",
      "  inflating: /content/dataset/dataset/14_084_3_0036.xml  \n",
      "  inflating: /content/dataset/dataset/14_083_6_0019.xml  \n",
      "  inflating: /content/dataset/dataset/14_057_3_0071.xml  \n",
      "  inflating: /content/dataset/dataset/14_084_1_0050.xml  \n",
      "  inflating: /content/dataset/dataset/14_092_1_0052.xml  \n",
      "  inflating: /content/dataset/dataset/14_092_1_0058.xml  \n",
      "  inflating: /content/dataset/dataset/14_062_2_0068.xml  \n",
      "  inflating: /content/dataset/dataset/14_057_3_0099.xml  \n",
      "  inflating: /content/dataset/dataset/14_062_3_0052.xml  \n",
      "  inflating: /content/dataset/dataset/14_066_9_0064.xml  \n",
      "  inflating: /content/dataset/dataset/14_066_10_0066.xml  \n",
      "  inflating: /content/dataset/dataset/14_084_3_0032.xml  \n",
      "  inflating: /content/dataset/dataset/14_050_10_0042.xml  \n",
      "  inflating: /content/dataset/dataset/14_066_10_0072.xml  \n",
      "  inflating: /content/dataset/dataset/14_062_3_0068.xml  \n",
      "  inflating: /content/dataset/dataset/14_039_5_0025.xml  \n",
      "  inflating: /content/dataset/dataset/14_040_7_0011.xml  \n",
      "  inflating: /content/dataset/dataset/14_022_7_0048.xml  \n",
      "  inflating: /content/dataset/dataset/14_044_5_0026.xml  \n",
      "  inflating: /content/dataset/dataset/14_039_2_0030.xml  \n",
      "  inflating: /content/dataset/dataset/14_044_5_0043.xml  \n",
      "  inflating: /content/dataset/dataset/14_024_5_0064.xml  \n",
      "  inflating: /content/dataset/dataset/14_028_2_0074.xml  \n",
      "  inflating: /content/dataset/dataset/14_044_5_0039.xml  \n",
      "  inflating: /content/dataset/dataset/14_028_2_0069.xml  \n",
      "  inflating: /content/dataset/dataset/14_028_2_0080.xml  \n",
      "  inflating: /content/dataset/dataset/14_022_7_0042.xml  \n",
      "  inflating: /content/dataset/dataset/14_044_5_0038.xml  \n",
      "  inflating: /content/dataset/dataset/14_034_7_0041.xml  \n",
      "  inflating: /content/dataset/dataset/14_006_1_0150.xml  \n",
      "  inflating: /content/dataset/dataset/14_029_1_0048.xml  \n",
      "  inflating: /content/dataset/dataset/14_029_5_0081.xml  \n",
      "  inflating: /content/dataset/dataset/14_021_6_0028.xml  \n",
      "  inflating: /content/dataset/dataset/14_029_5_0069.xml  \n",
      "  inflating: /content/dataset/dataset/14_007_8_0055.xml  \n",
      "  inflating: /content/dataset/dataset/14_023_4_0054.xml  \n",
      "  inflating: /content/dataset/dataset/14_046_6_0054.xml  \n",
      "  inflating: /content/dataset/dataset/14_026_3_0069.xml  \n",
      "  inflating: /content/dataset/dataset/14_050_4_0035.xml  \n",
      "  inflating: /content/dataset/dataset/14_088_8_0065.xml  \n",
      "  inflating: /content/dataset/dataset/14_067_4_0025.xml  \n",
      "  inflating: /content/dataset/dataset/14_076_4_0026.xml  \n",
      "  inflating: /content/dataset/dataset/14_098_3_0008.xml  \n",
      "  inflating: /content/dataset/dataset/14_095_2_0059.xml  \n",
      "  inflating: /content/dataset/dataset/14_085_4_0082.xml  \n",
      "  inflating: /content/dataset/dataset/14_083_6_0017.xml  \n",
      "  inflating: /content/dataset/dataset/14_039_1_0049.xml  \n",
      "  inflating: /content/dataset/dataset/14_010_1_0051.xml  \n",
      "  inflating: /content/dataset/dataset/14_062_3_0042.xml  \n",
      "  inflating: /content/dataset/dataset/14_022_3_0054.xml  \n",
      "  inflating: /content/dataset/dataset/14_029_5_0057.xml  \n",
      "  inflating: /content/dataset/dataset/14_006_1_0074.xml  \n",
      "  inflating: /content/dataset/dataset/14_046_3_0053.xml  \n",
      "  inflating: /content/dataset/dataset/14_002_5_0032.xml  \n",
      "  inflating: /content/dataset/dataset/14_026_2_0085.xml  \n",
      "  inflating: /content/dataset/dataset/14_032_4_0061.xml  \n",
      "  inflating: /content/dataset/dataset/14_007_8_0040.xml  \n",
      "  inflating: /content/dataset/dataset/14_022_2_0046.xml  \n",
      "  inflating: /content/dataset/dataset/14_006_1_0076.xml  \n",
      "  inflating: /content/dataset/dataset/14_049_1_0016.xml  \n",
      "  inflating: /content/dataset/dataset/14_042_5_0029.xml  \n",
      "  inflating: /content/dataset/dataset/14_006_1_0121.xml  \n",
      "  inflating: /content/dataset/dataset/14_039_4_0054.xml  \n",
      "  inflating: /content/dataset/dataset/14_023_3_0034.xml  \n",
      "  inflating: /content/dataset/dataset/14_046_3_0037.xml  \n",
      "  inflating: /content/dataset/dataset/14_016_1_0014.xml  \n",
      "  inflating: /content/dataset/dataset/14_023_4_0061.xml  \n",
      "  inflating: /content/dataset/dataset/14_022_1_0062.xml  \n",
      "  inflating: /content/dataset/dataset/14_029_2_0065.xml  \n",
      "  inflating: /content/dataset/dataset/14_042_5_0045.xml  \n",
      "  inflating: /content/dataset/dataset/14_007_5_0091.xml  \n",
      "  inflating: /content/dataset/dataset/14_044_2_0023.xml  \n",
      "  inflating: /content/dataset/dataset/14_007_8_0097.xml  \n",
      "  inflating: /content/dataset/dataset/14_022_7_0068.xml  \n",
      "  inflating: /content/dataset/dataset/14_039_2_0054.xml  \n",
      "  inflating: /content/dataset/dataset/14_029_5_0049.xml  \n",
      "  inflating: /content/dataset/dataset/14_040_5_0019.xml  \n",
      "  inflating: /content/dataset/dataset/14_007_3_0066.xml  \n",
      "  inflating: /content/dataset/dataset/14_007_6_0076.xml  \n",
      "  inflating: /content/dataset/dataset/14_042_3_0044.xml  \n",
      "  inflating: /content/dataset/dataset/14_029_4_0050.xml  \n",
      "  inflating: /content/dataset/dataset/14_007_3_0090.xml  \n",
      "  inflating: /content/dataset/dataset/14_031_7_0053.xml  \n",
      "  inflating: /content/dataset/dataset/14_026_2_0020.xml  \n",
      "  inflating: /content/dataset/dataset/14_006_1_0136.xml  \n",
      "  inflating: /content/dataset/dataset/14_029_4_0067.xml  \n",
      "  inflating: /content/dataset/dataset/14_007_3_0070.xml  \n",
      "  inflating: /content/dataset/dataset/14_031_6_0062.xml  \n",
      "  inflating: /content/dataset/dataset/14_021_5_0074.xml  \n",
      "  inflating: /content/dataset/dataset/14_006_1_0097.xml  \n",
      "  inflating: /content/dataset/dataset/14_039_1_0029.xml  \n",
      "  inflating: /content/dataset/dataset/14_007_3_0092.xml  \n",
      "  inflating: /content/dataset/dataset/14_029_6_0093.xml  \n",
      "  inflating: /content/dataset/dataset/14_028_3_0051.xml  \n",
      "  inflating: /content/dataset/dataset/14_031_3_0059.xml  \n",
      "  inflating: /content/dataset/dataset/14_018_8_0035.xml  \n",
      "  inflating: /content/dataset/dataset/14_031_5_0053.xml  \n",
      "  inflating: /content/dataset/dataset/14_042_3_0058.xml  \n",
      "  inflating: /content/dataset/dataset/14_007_8_0101.xml  \n",
      "  inflating: /content/dataset/dataset/14_022_6_0058.xml  \n",
      "  inflating: /content/dataset/dataset/14_028_2_0100.xml  \n",
      "  inflating: /content/dataset/dataset/14_006_1_0077.xml  \n",
      "  inflating: /content/dataset/dataset/14_039_5_0067.xml  \n",
      "  inflating: /content/dataset/dataset/14_029_7_0043.xml  \n",
      "  inflating: /content/dataset/dataset/14_049_3_0028.xml  \n",
      "  inflating: /content/dataset/dataset/14_033_3_0031.xml  \n",
      "  inflating: /content/dataset/dataset/14_002_5_0048.xml  \n",
      "  inflating: /content/dataset/dataset/14_031_3_0070.xml  \n",
      "  inflating: /content/dataset/dataset/14_021_16_0066.xml  \n",
      "  inflating: /content/dataset/dataset/14_021_4_0065.xml  \n",
      "  inflating: /content/dataset/dataset/14_019_5_0028.xml  \n",
      "  inflating: /content/dataset/dataset/14_042_4_0075.xml  \n",
      "  inflating: /content/dataset/dataset/14_044_1_0027.xml  \n",
      "  inflating: /content/dataset/dataset/14_032_7_0045.xml  \n",
      "  inflating: /content/dataset/dataset/14_028_2_0055.xml  \n",
      "  inflating: /content/dataset/dataset/14_021_6_0036.xml  \n",
      "  inflating: /content/dataset/dataset/14_024_6_0025.xml  \n",
      "  inflating: /content/dataset/dataset/14_007_5_0078.xml  \n",
      "  inflating: /content/dataset/dataset/14_021_4_0036.xml  \n",
      "  inflating: /content/dataset/dataset/14_033_3_0042.xml  \n",
      "  inflating: /content/dataset/dataset/14_033_4_0047.xml  \n",
      "  inflating: /content/dataset/dataset/14_046_6_0060.xml  \n",
      "  inflating: /content/dataset/dataset/14_021_5_0056.xml  \n",
      "  inflating: /content/dataset/dataset/14_042_1_0022.xml  \n",
      "  inflating: /content/dataset/dataset/14_040_1_0026.xml  \n",
      "  inflating: /content/dataset/dataset/14_019_5_0058.xml  \n",
      "  inflating: /content/dataset/dataset/14_031_3_0064.xml  \n",
      "  inflating: /content/dataset/dataset/14_031_3_0046.xml  \n",
      "  inflating: /content/dataset/dataset/14_024_3_0029.xml  \n",
      "  inflating: /content/dataset/dataset/14_007_3_0045.xml  \n",
      "  inflating: /content/dataset/dataset/14_031_6_0026.xml  \n",
      "  inflating: /content/dataset/dataset/14_007_6_0089.xml  \n",
      "  inflating: /content/dataset/dataset/14_046_3_0046.xml  \n",
      "  inflating: /content/dataset/dataset/14_029_6_0092.xml  \n",
      "  inflating: /content/dataset/dataset/14_033_3_0089.xml  \n",
      "  inflating: /content/dataset/dataset/14_039_1_0037.xml  \n",
      "  inflating: /content/dataset/dataset/14_021_5_0069.xml  \n",
      "  inflating: /content/dataset/dataset/14_066_2_0070.xml  \n",
      "  inflating: /content/dataset/dataset/14_055_5_0023.xml  \n",
      "  inflating: /content/dataset/dataset/14_094_2_0042.xml  \n",
      "  inflating: /content/dataset/dataset/14_088_8_0084.xml  \n",
      "  inflating: /content/dataset/dataset/14_066_8_0037.xml  \n",
      "  inflating: /content/dataset/dataset/14_087_3_0049.xml  \n",
      "  inflating: /content/dataset/dataset/14_070_3_0026.xml  \n",
      "  inflating: /content/dataset/dataset/14_085_2_0062.xml  \n",
      "  inflating: /content/dataset/dataset/14_058_3_0041.xml  \n",
      "  inflating: /content/dataset/dataset/14_088_3_0043.xml  \n",
      "  inflating: /content/dataset/dataset/14_088_8_0071.xml  \n",
      "  inflating: /content/dataset/dataset/14_084_1_0057.xml  \n",
      "  inflating: /content/dataset/dataset/14_084_4_0015.xml  \n",
      "  inflating: /content/dataset/dataset/14_092_1_0061.xml  \n",
      "  inflating: /content/dataset/dataset/14_062_2_0064.xml  \n",
      "  inflating: /content/dataset/dataset/14_024_5_0060.xml  \n",
      "  inflating: /content/dataset/dataset/14_029_7_0061.xml  \n",
      "  inflating: /content/dataset/dataset/14_039_4_0060.xml  \n",
      "  inflating: /content/dataset/dataset/14_049_1_0021.xml  \n",
      "  inflating: /content/dataset/dataset/14_029_2_0072.xml  \n",
      "  inflating: /content/dataset/dataset/14_023_4_0075.xml  \n",
      "  inflating: /content/dataset/dataset/14_006_1_0081.xml  \n",
      "  inflating: /content/dataset/dataset/14_006_1_0041.xml  \n",
      "  inflating: /content/dataset/dataset/14_021_15_0060.xml  \n",
      "  inflating: /content/dataset/dataset/14_029_6_0035.xml  \n",
      "  inflating: /content/dataset/dataset/14_033_3_0057.xml  \n",
      "  inflating: /content/dataset/dataset/14_022_1_0061.xml  \n",
      "  inflating: /content/dataset/dataset/14_006_1_0075.xml  \n",
      "  inflating: /content/dataset/dataset/14_024_1_0023.xml  \n",
      "  inflating: /content/dataset/dataset/14_024_6_0043.xml  \n",
      "  inflating: /content/dataset/dataset/14_042_5_0044.xml  \n",
      "  inflating: /content/dataset/dataset/14_031_8_0063.xml  \n",
      "  inflating: /content/dataset/dataset/14_031_4_0019.xml  \n",
      "  inflating: /content/dataset/dataset/14_039_4_0039.xml  \n",
      "  inflating: /content/dataset/dataset/14_026_2_0093.xml  \n",
      "  inflating: /content/dataset/dataset/14_031_8_0068.xml  \n",
      "  inflating: /content/dataset/dataset/14_026_2_0052.xml  \n",
      "  inflating: /content/dataset/dataset/14_031_6_0057.xml  \n",
      "  inflating: /content/dataset/dataset/14_016_1_0036.xml  \n",
      "  inflating: /content/dataset/dataset/14_039_2_0044.xml  \n",
      "  inflating: /content/dataset/dataset/14_024_2_0047.xml  \n",
      "  inflating: /content/dataset/dataset/14_032_7_0027.xml  \n",
      "  inflating: /content/dataset/dataset/14_042_2_0072.xml  \n",
      "  inflating: /content/dataset/dataset/14_042_1_0039.xml  \n",
      "  inflating: /content/dataset/dataset/14_018_6_0058.xml  \n",
      "  inflating: /content/dataset/dataset/14_021_4_0031.xml  \n",
      "  inflating: /content/dataset/dataset/14_049_1_0027.xml  \n",
      "  inflating: /content/dataset/dataset/14_022_7_0071.xml  \n",
      "  inflating: /content/dataset/dataset/14_007_8_0081.xml  \n",
      "  inflating: /content/dataset/dataset/14_022_6_0037.xml  \n",
      "  inflating: /content/dataset/dataset/14_033_4_0039.xml  \n",
      "  inflating: /content/dataset/dataset/14_023_4_0066.xml  \n",
      "  inflating: /content/dataset/dataset/14_016_1_0040.xml  \n",
      "  inflating: /content/dataset/dataset/14_007_8_0064.xml  \n",
      "  inflating: /content/dataset/dataset/14_032_4_0036.xml  \n",
      "  inflating: /content/dataset/dataset/14_021_16_0074.xml  \n",
      "  inflating: /content/dataset/dataset/14_046_6_0058.xml  \n",
      "  inflating: /content/dataset/dataset/14_024_4_0037.xml  \n",
      "  inflating: /content/dataset/dataset/14_006_1_0093.xml  \n",
      "  inflating: /content/dataset/dataset/14_021_1_0050.xml  \n",
      "  inflating: /content/dataset/dataset/14_006_1_0132.xml  \n",
      "  inflating: /content/dataset/dataset/14_031_8_0058.xml  \n",
      "  inflating: /content/dataset/dataset/14_033_4_0077.xml  \n",
      "  inflating: /content/dataset/dataset/14_021_6_0055.xml  \n",
      "  inflating: /content/dataset/dataset/14_042_3_0062.xml  \n",
      "  inflating: /content/dataset/dataset/14_039_1_0054.xml  \n",
      "  inflating: /content/dataset/dataset/14_040_1_0029.xml  \n",
      "  inflating: /content/dataset/dataset/14_042_4_0035.xml  \n",
      "  inflating: /content/dataset/dataset/14_023_3_0049.xml  \n",
      "  inflating: /content/dataset/dataset/14_085_1_0050.xml  \n",
      "  inflating: /content/dataset/dataset/14_066_2_0037.xml  \n",
      "  inflating: /content/dataset/dataset/14_066_7_0043.xml  \n",
      "  inflating: /content/dataset/dataset/14_051_2_0042.xml  \n",
      "  inflating: /content/dataset/dataset/14_087_3_0031.xml  \n",
      "  inflating: /content/dataset/dataset/14_083_1_0054.xml  \n",
      "  inflating: /content/dataset/dataset/14_059_1_0098.xml  \n",
      "  inflating: /content/dataset/dataset/14_081_10_0036.xml  \n",
      "  inflating: /content/dataset/dataset/14_081_11_0042.xml  \n",
      "  inflating: /content/dataset/dataset/14_057_2_0053.xml  \n",
      "  inflating: /content/dataset/dataset/14_062_2_0037.xml  \n",
      "  inflating: /content/dataset/dataset/14_051_10_0024.xml  \n",
      "  inflating: /content/dataset/dataset/14_028_1_0057.xml  \n",
      "  inflating: /content/dataset/dataset/14_006_1_0044.xml  \n",
      "  inflating: /content/dataset/dataset/14_016_1_0007.xml  \n",
      "  inflating: /content/dataset/dataset/14_010_1_0020.xml  \n",
      "  inflating: /content/dataset/dataset/14_016_1_0012.xml  \n",
      "  inflating: /content/dataset/dataset/14_033_4_0082.xml  \n",
      "  inflating: /content/dataset/dataset/14_024_2_0023.xml  \n",
      "  inflating: /content/dataset/dataset/14_022_2_0056.xml  \n",
      "  inflating: /content/dataset/dataset/14_029_5_0072.xml  \n",
      "  inflating: /content/dataset/dataset/14_006_1_0072.xml  \n",
      "  inflating: /content/dataset/dataset/14_022_1_0065.xml  \n",
      "  inflating: /content/dataset/dataset/14_003_2_0023.xml  \n",
      "  inflating: /content/dataset/dataset/14_007_3_0057.xml  \n",
      "  inflating: /content/dataset/dataset/14_046_6_0059.xml  \n",
      "  inflating: /content/dataset/dataset/14_019_5_0069.xml  \n",
      "  inflating: /content/dataset/dataset/14_031_4_0020.xml  \n",
      "  inflating: /content/dataset/dataset/14_048_4_0058.xml  \n",
      "  inflating: /content/dataset/dataset/14_019_5_0056.xml  \n",
      "  inflating: /content/dataset/dataset/14_040_5_0016.xml  \n",
      "  inflating: /content/dataset/dataset/14_049_4_0052.xml  \n",
      "  inflating: /content/dataset/dataset/14_028_3_0074.xml  \n",
      "  inflating: /content/dataset/dataset/14_007_5_0080.xml  \n",
      "  inflating: /content/dataset/dataset/14_003_1_0018.xml  \n",
      "  inflating: /content/dataset/dataset/14_021_15_0049.xml  \n",
      "  inflating: /content/dataset/dataset/14_021_15_0061.xml  \n",
      "  inflating: /content/dataset/dataset/14_021_30_0028.xml  \n",
      "  inflating: /content/dataset/dataset/14_048_2_0020.xml  \n",
      "  inflating: /content/dataset/dataset/14_015_1_0028.xml  \n",
      "  inflating: /content/dataset/dataset/14_023_2_0077.xml  \n",
      "  inflating: /content/dataset/dataset/14_021_38_0016.xml  \n",
      "  inflating: /content/dataset/dataset/14_021_31_0026.xml  \n",
      "  inflating: /content/dataset/dataset/14_046_5_0087.xml  \n",
      "  inflating: /content/dataset/dataset/14_048_2_0090.xml  \n",
      "  inflating: /content/dataset/dataset/14_021_37_0018.xml  \n",
      "  inflating: /content/dataset/dataset/14_007_10_0073.xml  \n",
      "  inflating: /content/dataset/dataset/14_046_5_0044.xml  \n",
      "  inflating: /content/dataset/dataset/14_048_2_0070.xml  \n",
      "  inflating: /content/dataset/dataset/14_048_3_0056.xml  \n",
      "  inflating: /content/dataset/dataset/14_021_38_0017.xml  \n",
      "  inflating: /content/dataset/dataset/14_021_35_0012.xml  \n",
      "  inflating: /content/dataset/dataset/14_021_37_0038.xml  \n",
      "  inflating: /content/dataset/dataset/14_021_37_0039.xml  \n",
      "  inflating: /content/dataset/dataset/14_048_1_0081.xml  \n",
      "  inflating: /content/dataset/dataset/14_015_1_0008.xml  \n",
      "  inflating: /content/dataset/dataset/14_048_2_0037.xml  \n",
      "  inflating: /content/dataset/dataset/14_048_1_0061.xml  \n",
      "  inflating: /content/dataset/dataset/14_021_34_0029.xml  \n",
      "  inflating: /content/dataset/dataset/14_048_4_0029.xml  \n",
      "  inflating: /content/dataset/dataset/14_021_31_0031.xml  \n",
      "  inflating: /content/dataset/dataset/14_021_37_0054.xml  \n",
      "  inflating: /content/dataset/dataset/14_007_10_0083.xml  \n",
      "  inflating: /content/dataset/dataset/14_048_5_0044.xml  \n",
      "  inflating: /content/dataset/dataset/14_048_2_0083.xml  \n",
      "  inflating: /content/dataset/dataset/14_021_31_0028.xml  \n",
      "  inflating: /content/dataset/dataset/14_048_1_0020.xml  \n",
      "  inflating: /content/dataset/dataset/14_012_4_0030.bmp  \n",
      "  inflating: /content/dataset/dataset/14_048_5_0073.xml  \n",
      "  inflating: /content/dataset/dataset/14_034_6_0028.bmp  \n",
      "  inflating: /content/dataset/dataset/14_040_1_0025.bmp  \n",
      "  inflating: /content/dataset/dataset/14_021_30_0035.bmp  \n",
      "  inflating: /content/dataset/dataset/14_040_3_0010.bmp  \n",
      "  inflating: /content/dataset/dataset/14_044_1_0039.bmp  \n",
      "  inflating: /content/dataset/dataset/14_040_3_0012.bmp  \n",
      "  inflating: /content/dataset/dataset/14_069_1_0056.xml  \n",
      "  inflating: /content/dataset/dataset/14_080_3_0026.xml  \n",
      "  inflating: /content/dataset/dataset/14_088_3_0026.xml  \n",
      "  inflating: /content/dataset/dataset/14_080_2_0047.xml  \n",
      "  inflating: /content/dataset/dataset/14_088_3_0033.xml  \n",
      "  inflating: /content/dataset/dataset/14_085_5_0050.xml  \n",
      "  inflating: /content/dataset/dataset/14_080_2_0045.xml  \n",
      "  inflating: /content/dataset/dataset/14_053_1_0039.xml  \n",
      "  inflating: /content/dataset/dataset/14_059_1_0093.xml  \n",
      "  inflating: /content/dataset/dataset/14_053_2_0058.xml  \n",
      "  inflating: /content/dataset/dataset/14_050_8_0028.xml  \n",
      "  inflating: /content/dataset/dataset/14_097_2_0027.xml  \n",
      "  inflating: /content/dataset/dataset/14_029_6_0030.xml  \n",
      "  inflating: /content/dataset/dataset/14_062_3_0075.xml  \n",
      "  inflating: /content/dataset/dataset/14_019_5_0096.xml  \n",
      "  inflating: /content/dataset/dataset/14_039_2_0050.xml  \n",
      "  inflating: /content/dataset/dataset/14_007_3_0095.xml  \n",
      "  inflating: /content/dataset/dataset/14_029_1_0070.xml  \n",
      "  inflating: /content/dataset/dataset/14_007_8_0107.xml  \n",
      "  inflating: /content/dataset/dataset/14_007_5_0057.xml  \n",
      "  inflating: /content/dataset/dataset/14_032_7_0033.xml  \n",
      "  inflating: /content/dataset/dataset/14_029_1_0058.xml  \n",
      "  inflating: /content/dataset/dataset/14_007_8_0051.xml  \n",
      "  inflating: /content/dataset/dataset/14_024_6_0065.xml  \n",
      "  inflating: /content/dataset/dataset/14_029_7_0051.xml  \n",
      "  inflating: /content/dataset/dataset/14_042_4_0047.xml  \n",
      "  inflating: /content/dataset/dataset/14_022_1_0079.xml  \n",
      "  inflating: /content/dataset/dataset/14_007_8_0105.xml  \n",
      "  inflating: /content/dataset/dataset/14_048_3_0090.xml  \n",
      "  inflating: /content/dataset/dataset/14_044_2_0029.bmp  \n",
      "  inflating: /content/dataset/dataset/14_068_2_0017.bmp  \n",
      "  inflating: /content/dataset/dataset/14_023_2_0091.xml  \n",
      "  inflating: /content/dataset/dataset/14_010_1_0010.bmp  \n",
      "  inflating: /content/dataset/dataset/14_003_2_0019.bmp  \n",
      "  inflating: /content/dataset/dataset/14_021_37_0027.bmp  \n",
      "  inflating: /content/dataset/dataset/14_040_1_0013.bmp  \n",
      "  inflating: /content/dataset/dataset/14_010_1_0031.bmp  \n",
      "  inflating: /content/dataset/dataset/14_075_4_0053.bmp  \n",
      "  inflating: /content/dataset/dataset/14_068_3_0030.bmp  \n",
      "  inflating: /content/dataset/dataset/14_070_5_0036.bmp  \n",
      "  inflating: /content/dataset/dataset/14_010_1_0012.bmp  \n",
      "  inflating: /content/dataset/dataset/14_075_4_0052.bmp  \n",
      "  inflating: /content/dataset/dataset/14_075_5_0031.bmp  \n",
      "  inflating: /content/dataset/dataset/14_040_3_0027.bmp  \n",
      "  inflating: /content/dataset/dataset/14_034_7_0026.bmp  \n",
      "  inflating: /content/dataset/dataset/14_002_5_0025.bmp  \n",
      "  inflating: /content/dataset/dataset/14_050_9_0023.bmp  \n",
      "  inflating: /content/dataset/dataset/14_050_4_0030.bmp  \n",
      "  inflating: /content/dataset/dataset/14_070_4_0040.bmp  \n",
      "  inflating: /content/dataset/dataset/14_050_8_0027.bmp  \n",
      "  inflating: /content/dataset/dataset/14_070_5_0034.bmp  \n",
      "  inflating: /content/dataset/dataset/14_044_3_0038.bmp  \n",
      "  inflating: /content/dataset/dataset/14_075_2_0028.bmp  \n",
      "  inflating: /content/dataset/dataset/14_003_1_0023.bmp  \n",
      "  inflating: /content/dataset/dataset/14_075_1_0018.bmp  \n",
      "  inflating: /content/dataset/dataset/14_034_6_0029.bmp  \n",
      "  inflating: /content/dataset/dataset/14_068_3_0040.bmp  \n",
      "  inflating: /content/dataset/dataset/14_010_1_0054.bmp  \n",
      "  inflating: /content/dataset/dataset/14_021_30_0028.bmp  \n",
      "  inflating: /content/dataset/dataset/14_052_1_0010.bmp  \n",
      "  inflating: /content/dataset/dataset/14_021_32_0022.bmp  \n",
      "  inflating: /content/dataset/dataset/14_040_3_0013.bmp  \n",
      "  inflating: /content/dataset/dataset/14_075_2_0035.bmp  \n",
      "  inflating: /content/dataset/dataset/14_070_3_0044.bmp  \n",
      "  inflating: /content/dataset/dataset/14_051_10_0015.bmp  \n",
      "  inflating: /content/dataset/dataset/14_051_6_0023.bmp  \n",
      "  inflating: /content/dataset/dataset/14_040_1_0031.bmp  \n",
      "  inflating: /content/dataset/dataset/14_051_2_0025.xml  \n",
      "  inflating: /content/dataset/dataset/14_070_3_0049.xml  \n",
      "  inflating: /content/dataset/dataset/14_094_3_0044.xml  \n",
      "  inflating: /content/dataset/dataset/14_088_2_0016.xml  \n",
      "  inflating: /content/dataset/dataset/14_088_8_0045.xml  \n",
      "  inflating: /content/dataset/dataset/14_085_1_0078.xml  \n",
      "  inflating: /content/dataset/dataset/14_039_5_0026.xml  \n",
      "  inflating: /content/dataset/dataset/14_084_5_0024.xml  \n",
      "  inflating: /content/dataset/dataset/14_084_1_0038.xml  \n",
      "  inflating: /content/dataset/dataset/14_029_6_0074.xml  \n",
      "  inflating: /content/dataset/dataset/14_029_2_0057.xml  \n",
      "  inflating: /content/dataset/dataset/14_021_29_0033.xml  \n",
      "  inflating: /content/dataset/dataset/14_007_6_0086.xml  \n",
      "  inflating: /content/dataset/dataset/14_032_4_0059.xml  \n",
      "  inflating: /content/dataset/dataset/14_021_1_0036.xml  \n",
      "  inflating: /content/dataset/dataset/14_022_7_0044.xml  \n",
      "  inflating: /content/dataset/dataset/14_024_3_0039.xml  \n",
      "  inflating: /content/dataset/dataset/14_044_1_0047.xml  \n",
      "  inflating: /content/dataset/dataset/14_016_1_0026.xml  \n",
      "  inflating: /content/dataset/dataset/14_029_6_0095.xml  \n",
      "  inflating: /content/dataset/dataset/14_031_5_0043.xml  \n",
      "  inflating: /content/dataset/dataset/14_021_15_0059.xml  \n",
      "  inflating: /content/dataset/dataset/14_068_3_0011.bmp  \n",
      "  inflating: /content/dataset/dataset/14_015_1_0007.xml  \n",
      "  inflating: /content/dataset/dataset/14_048_2_0033.xml  \n",
      "  inflating: /content/dataset/dataset/14_075_3_0026.bmp  \n",
      "  inflating: /content/dataset/dataset/14_040_7_0011.bmp  \n",
      "  inflating: /content/dataset/dataset/14_002_5_0029.bmp  \n",
      "  inflating: /content/dataset/dataset/14_050_10_0045.bmp  \n",
      "  inflating: /content/dataset/dataset/14_021_29_0013.bmp  \n",
      "  inflating: /content/dataset/dataset/14_034_6_0011.bmp  \n",
      "  inflating: /content/dataset/dataset/14_010_6_0040.bmp  \n",
      "  inflating: /content/dataset/dataset/14_034_6_0032.bmp  \n",
      "  inflating: /content/dataset/dataset/14_021_37_0020.bmp  \n",
      "  inflating: /content/dataset/dataset/14_044_2_0025.bmp  \n",
      "  inflating: /content/dataset/dataset/14_070_4_0022.bmp  \n",
      "  inflating: /content/dataset/dataset/14_044_3_0034.bmp  \n",
      "  inflating: /content/dataset/dataset/14_010_1_0044.bmp  \n",
      "  inflating: /content/dataset/dataset/14_070_4_0052.bmp  \n",
      "  inflating: /content/dataset/dataset/14_070_3_0026.bmp  \n",
      "  inflating: /content/dataset/dataset/14_021_31_0029.bmp  \n",
      "  inflating: /content/dataset/dataset/14_034_7_0015.bmp  \n",
      "  inflating: /content/dataset/dataset/14_051_2_0033.bmp  \n",
      "  inflating: /content/dataset/dataset/14_044_5_0035.bmp  \n",
      "  inflating: /content/dataset/dataset/14_003_1_0010.bmp  \n",
      "  inflating: /content/dataset/dataset/14_051_8_0027.bmp  \n",
      "  inflating: /content/dataset/dataset/14_021_38_0024.bmp  \n",
      "  inflating: /content/dataset/dataset/14_021_37_0035.bmp  \n",
      "  inflating: /content/dataset/dataset/14_040_1_0028.bmp  \n",
      "  inflating: /content/dataset/dataset/14_068_2_0019.bmp  \n",
      "  inflating: /content/dataset/dataset/14_051_2_0042.bmp  \n",
      "  inflating: /content/dataset/dataset/14_070_5_0032.bmp  \n",
      "  inflating: /content/dataset/dataset/14_012_4_0029.bmp  \n",
      "  inflating: /content/dataset/dataset/14_075_3_0021.bmp  \n",
      "  inflating: /content/dataset/dataset/14_052_1_0017.bmp  \n",
      "  inflating: /content/dataset/dataset/14_075_1_0021.bmp  \n",
      "  inflating: /content/dataset/dataset/14_076_3_0015.bmp  \n",
      "  inflating: /content/dataset/dataset/14_094_2_0039.bmp  \n",
      "  inflating: /content/dataset/dataset/14_053_1_0062.xml  \n",
      "  inflating: /content/dataset/dataset/14_070_5_0039.xml  \n",
      "  inflating: /content/dataset/dataset/14_095_1_0042.xml  \n",
      "  inflating: /content/dataset/dataset/14_096_5_0041.xml  \n",
      "  inflating: /content/dataset/dataset/14_096_4_0035.xml  \n",
      "  inflating: /content/dataset/dataset/14_084_9_0031.xml  \n",
      "  inflating: /content/dataset/dataset/14_051_8_0025.xml  \n",
      "  inflating: /content/dataset/dataset/14_085_4_0043.xml  \n",
      "  inflating: /content/dataset/dataset/14_087_1_0060.xml  \n",
      "  inflating: /content/dataset/dataset/14_096_5_0055.xml  \n",
      "  inflating: /content/dataset/dataset/14_085_4_0089.xml  \n",
      "  inflating: /content/dataset/dataset/14_085_4_0069.xml  \n",
      "  inflating: /content/dataset/dataset/14_083_6_0022.xml  \n",
      "  inflating: /content/dataset/dataset/14_087_1_0074.xml  \n",
      "  inflating: /content/dataset/dataset/14_062_2_0067.xml  \n",
      "  inflating: /content/dataset/dataset/14_092_1_0049.xml  \n",
      "  inflating: /content/dataset/dataset/14_084_5_0048.xml  \n",
      "  inflating: /content/dataset/dataset/14_007_6_0050.xml  \n",
      "  inflating: /content/dataset/dataset/14_032_7_0055.xml  \n",
      "  inflating: /content/dataset/dataset/14_029_4_0069.xml  \n",
      "  inflating: /content/dataset/dataset/14_032_6_0034.xml  \n",
      "  inflating: /content/dataset/dataset/14_048_2_0088.xml  \n",
      "  inflating: /content/dataset/dataset/14_048_5_0037.xml  \n",
      "  inflating: /content/dataset/dataset/14_006_1_0138.xml  \n",
      "  inflating: /content/dataset/dataset/14_006_1_0112.xml  \n",
      "  inflating: /content/dataset/dataset/14_075_1_0015.bmp  \n",
      "  inflating: /content/dataset/dataset/14_044_1_0052.bmp  \n",
      "  inflating: /content/dataset/dataset/14_050_10_0046.bmp  \n",
      "  inflating: /content/dataset/dataset/14_021_35_0015.bmp  \n",
      "  inflating: /content/dataset/dataset/14_051_2_0055.bmp  \n",
      "  inflating: /content/dataset/dataset/14_040_3_0022.bmp  \n",
      "  inflating: /content/dataset/dataset/14_002_5_0036.bmp  \n",
      "  inflating: /content/dataset/dataset/14_094_3_0044.bmp  \n",
      "  inflating: /content/dataset/dataset/14_051_2_0025.bmp  \n",
      "  inflating: /content/dataset/dataset/14_044_2_0033.bmp  \n",
      "  inflating: /content/dataset/dataset/14_051_10_0019.bmp  \n",
      "  inflating: /content/dataset/dataset/14_051_5_0034.bmp  \n",
      "  inflating: /content/dataset/dataset/14_046_6_0040.bmp  \n",
      "  inflating: /content/dataset/dataset/14_080_3_0029.bmp  \n",
      "  inflating: /content/dataset/dataset/14_024_6_0038.bmp  \n",
      "  inflating: /content/dataset/dataset/14_046_6_0056.bmp  \n",
      "  inflating: /content/dataset/dataset/14_021_15_0048.bmp  \n",
      "  inflating: /content/dataset/dataset/14_024_6_0027.bmp  \n",
      "  inflating: /content/dataset/dataset/14_024_6_0055.bmp  \n",
      "  inflating: /content/dataset/dataset/14_018_8_0034.bmp  \n",
      "  inflating: /content/dataset/dataset/14_018_6_0037.bmp  \n",
      "  inflating: /content/dataset/dataset/14_080_3_0022.bmp  \n",
      "  inflating: /content/dataset/dataset/14_021_15_0052.bmp  \n",
      "  inflating: /content/dataset/dataset/14_021_16_0027.bmp  \n",
      "  inflating: /content/dataset/dataset/14_080_3_0031.bmp  \n",
      "  inflating: /content/dataset/dataset/14_046_6_0052.bmp  \n",
      "  inflating: /content/dataset/dataset/14_021_15_0059.bmp  \n",
      "  inflating: /content/dataset/dataset/14_080_3_0038.bmp  \n",
      "  inflating: /content/dataset/dataset/14_085_2_0057.xml  \n",
      "  inflating: /content/dataset/dataset/14_087_3_0061.xml  \n",
      "  inflating: /content/dataset/dataset/14_051_2_0024.xml  \n",
      "  inflating: /content/dataset/dataset/14_092_2_0045.xml  \n",
      "  inflating: /content/dataset/dataset/14_066_7_0039.xml  \n",
      "  inflating: /content/dataset/dataset/14_096_2_0035.xml  \n",
      "  inflating: /content/dataset/dataset/14_069_1_0074.xml  \n",
      "  inflating: /content/dataset/dataset/14_084_9_0039.xml  \n",
      "  inflating: /content/dataset/dataset/14_085_5_0070.xml  \n",
      "  inflating: /content/dataset/dataset/14_066_8_0028.xml  \n",
      "  inflating: /content/dataset/dataset/14_053_1_0048.xml  \n",
      "  inflating: /content/dataset/dataset/14_058_4_0047.xml  \n",
      "  inflating: /content/dataset/dataset/14_067_4_0018.xml  \n",
      "  inflating: /content/dataset/dataset/14_081_11_0031.xml  \n",
      "  inflating: /content/dataset/dataset/14_031_4_0046.xml  \n",
      "  inflating: /content/dataset/dataset/14_040_2_0027.xml  \n",
      "  inflating: /content/dataset/dataset/14_031_4_0023.xml  \n",
      "  inflating: /content/dataset/dataset/14_019_5_0040.xml  \n",
      "  inflating: /content/dataset/dataset/14_039_7_0057.xml  \n",
      "  inflating: /content/dataset/dataset/14_031_7_0032.xml  \n",
      "  inflating: /content/dataset/dataset/14_031_5_0042.xml  \n",
      "  inflating: /content/dataset/dataset/14_026_2_0062.xml  \n",
      "  inflating: /content/dataset/dataset/14_029_1_0052.xml  \n",
      "  inflating: /content/dataset/dataset/14_034_6_0039.xml  \n",
      "  inflating: /content/dataset/dataset/14_021_4_0060.xml  \n",
      "  inflating: /content/dataset/dataset/14_044_3_0036.xml  \n",
      "  inflating: /content/dataset/dataset/14_021_31_0008.xml  \n",
      "  inflating: /content/dataset/dataset/14_048_1_0023.xml  \n",
      "  inflating: /content/dataset/dataset/14_046_5_0074.xml  \n",
      "  inflating: /content/dataset/dataset/14_034_7_0028.bmp  \n",
      "  inflating: /content/dataset/dataset/14_002_5_0022.bmp  \n",
      "  inflating: /content/dataset/dataset/14_021_29_0018.bmp  \n",
      "  inflating: /content/dataset/dataset/14_094_2_0041.bmp  \n",
      "  inflating: /content/dataset/dataset/14_068_1_0021.bmp  \n",
      "  inflating: /content/dataset/dataset/14_068_3_0034.bmp  \n",
      "  inflating: /content/dataset/dataset/14_099_5_0026.bmp  \n",
      "  inflating: /content/dataset/dataset/14_088_1_0030.xml  \n",
      "  inflating: /content/dataset/dataset/14_022_1_0050.xml  \n",
      "  inflating: /content/dataset/dataset/14_024_5_0038.xml  \n",
      "  inflating: /content/dataset/dataset/14_075_4_0043.xml  \n",
      "  inflating: /content/dataset/dataset/14_064_2_0076.xml  \n",
      "  inflating: /content/dataset/dataset/14_077_5_0043.xml  \n",
      "  inflating: /content/dataset/dataset/14_094_2_0038.xml  \n",
      "  inflating: /content/dataset/dataset/14_070_4_0029.xml  \n",
      "  inflating: /content/dataset/dataset/14_070_5_0054.xml  \n",
      "  inflating: /content/dataset/dataset/14_083_7_0027.xml  \n",
      "  inflating: /content/dataset/dataset/14_024_3_0031.xml  \n",
      "  inflating: /content/dataset/dataset/14_021_2_0033.xml  \n",
      "  inflating: /content/dataset/dataset/14_006_1_0149.xml  \n",
      "  inflating: /content/dataset/dataset/14_049_3_0030.xml  \n",
      "  inflating: /content/dataset/dataset/14_022_1_0045.xml  \n",
      "  inflating: /content/dataset/dataset/14_024_2_0050.xml  \n",
      "  inflating: /content/dataset/dataset/14_049_1_0025.xml  \n",
      "  inflating: /content/dataset/dataset/14_007_5_0062.xml  \n",
      "  inflating: /content/dataset/dataset/14_046_6_0070.xml  \n",
      "  inflating: /content/dataset/dataset/14_046_5_0032.xml  \n",
      "  inflating: /content/dataset/dataset/14_076_3_0020.bmp  \n",
      "  inflating: /content/dataset/dataset/14_021_29_0011.bmp  \n",
      "  inflating: /content/dataset/dataset/14_014_1_0015.bmp  \n",
      "  inflating: /content/dataset/dataset/14_050_8_0037.bmp  \n",
      "  inflating: /content/dataset/dataset/14_021_15_0058.bmp  \n",
      "  inflating: /content/dataset/dataset/14_046_6_0036.bmp  \n",
      "  inflating: /content/dataset/dataset/14_021_16_0049.bmp  \n",
      "  inflating: /content/dataset/dataset/14_031_5_0051.bmp  \n",
      "  inflating: /content/dataset/dataset/14_032_4_0044.bmp  \n",
      "  inflating: /content/dataset/dataset/14_029_5_0074.bmp  \n",
      "  inflating: /content/dataset/dataset/14_031_8_0050.bmp  \n",
      "  inflating: /content/dataset/dataset/14_053_1_0060.bmp  \n",
      "  inflating: /content/dataset/dataset/14_042_4_0067.bmp  \n",
      "  inflating: /content/dataset/dataset/14_007_5_0117.bmp  \n",
      "  inflating: /content/dataset/dataset/14_033_3_0068.bmp  \n",
      "  inflating: /content/dataset/dataset/14_007_10_0068.bmp  \n",
      "  inflating: /content/dataset/dataset/14_096_5_0072.bmp  \n",
      "  inflating: /content/dataset/dataset/14_029_5_0049.bmp  \n",
      "  inflating: /content/dataset/dataset/14_033_3_0038.bmp  \n",
      "  inflating: /content/dataset/dataset/14_007_8_0075.bmp  \n",
      "  inflating: /content/dataset/dataset/14_053_2_0042.bmp  \n",
      "  inflating: /content/dataset/dataset/14_088_8_0057.bmp  \n",
      "  inflating: /content/dataset/dataset/14_069_1_0083.bmp  \n",
      "  inflating: /content/dataset/dataset/14_031_4_0048.bmp  \n",
      "  inflating: /content/dataset/dataset/14_085_5_0037.bmp  \n",
      "  inflating: /content/dataset/dataset/14_096_5_0080.bmp  \n",
      "  inflating: /content/dataset/dataset/14_042_4_0075.bmp  \n",
      "  inflating: /content/dataset/dataset/14_019_5_0037.bmp  \n",
      "  inflating: /content/dataset/dataset/14_039_2_0041.bmp  \n",
      "  inflating: /content/dataset/dataset/14_039_4_0029.bmp  \n",
      "  inflating: /content/dataset/dataset/14_095_2_0071.bmp  \n",
      "  inflating: /content/dataset/dataset/14_024_2_0029.bmp  \n",
      "  inflating: /content/dataset/dataset/14_069_1_0079.bmp  \n",
      "  inflating: /content/dataset/dataset/14_042_2_0063.bmp  \n",
      "  inflating: /content/dataset/dataset/14_026_2_0097.bmp  \n",
      "  inflating: /content/dataset/dataset/14_080_2_0098.bmp  \n",
      "  inflating: /content/dataset/dataset/14_032_6_0062.bmp  \n",
      "  inflating: /content/dataset/dataset/14_007_5_0064.bmp  \n",
      "  inflating: /content/dataset/dataset/14_007_8_0062.bmp  \n",
      "  inflating: /content/dataset/dataset/14_007_10_0065.bmp  \n",
      "  inflating: /content/dataset/dataset/14_077_6_0088.bmp  \n",
      "  inflating: /content/dataset/dataset/14_077_5_0076.bmp  \n",
      "  inflating: /content/dataset/dataset/14_023_4_0057.bmp  \n",
      "  inflating: /content/dataset/dataset/14_031_6_0037.bmp  \n",
      "  inflating: /content/dataset/dataset/14_042_4_0043.bmp  \n",
      "  inflating: /content/dataset/dataset/14_022_2_0065.bmp  \n",
      "  inflating: /content/dataset/dataset/14_042_2_0048.bmp  \n",
      "  inflating: /content/dataset/dataset/14_022_6_0042.bmp  \n",
      "  inflating: /content/dataset/dataset/14_085_1_0089.bmp  \n",
      "  inflating: /content/dataset/dataset/14_024_3_0010.bmp  \n",
      "  inflating: /content/dataset/dataset/14_088_8_0043.bmp  \n",
      "  inflating: /content/dataset/dataset/14_033_3_0065.bmp  \n",
      "  inflating: /content/dataset/dataset/14_042_5_0051.bmp  \n",
      "  inflating: /content/dataset/dataset/14_053_2_0070.bmp  \n",
      "  inflating: /content/dataset/dataset/14_029_5_0062.bmp  \n",
      "  inflating: /content/dataset/dataset/14_042_1_0065.bmp  \n",
      "  inflating: /content/dataset/dataset/14_088_1_0035.bmp  \n",
      "  inflating: /content/dataset/dataset/14_042_2_0070.bmp  \n",
      "  inflating: /content/dataset/dataset/14_007_3_0088.bmp  \n",
      "  inflating: /content/dataset/dataset/14_029_6_0030.bmp  \n",
      "  inflating: /content/dataset/dataset/14_081_7_0029.bmp  \n",
      "  inflating: /content/dataset/dataset/14_031_8_0040.bmp  \n",
      "  inflating: /content/dataset/dataset/14_087_2_0068.bmp  \n",
      "  inflating: /content/dataset/dataset/14_053_2_0071.bmp  \n",
      "  inflating: /content/dataset/dataset/14_088_1_0042.bmp  \n",
      "  inflating: /content/dataset/dataset/14_006_1_0122.bmp  \n",
      "  inflating: /content/dataset/dataset/14_039_2_0059.bmp  \n",
      "  inflating: /content/dataset/dataset/14_026_2_0013.bmp  \n",
      "  inflating: /content/dataset/dataset/14_081_6_0029.bmp  \n",
      "  inflating: /content/dataset/dataset/14_066_7_0061.bmp  \n",
      "  inflating: /content/dataset/dataset/14_007_8_0095.bmp  \n",
      "  inflating: /content/dataset/dataset/14_083_1_0036.bmp  \n",
      "  inflating: /content/dataset/dataset/14_042_1_0029.bmp  \n",
      "  inflating: /content/dataset/dataset/14_049_4_0057.bmp  \n",
      "  inflating: /content/dataset/dataset/14_053_2_0049.bmp  \n",
      "  inflating: /content/dataset/dataset/14_095_4_0043.bmp  \n",
      "  inflating: /content/dataset/dataset/14_066_7_0050.bmp  \n",
      "  inflating: /content/dataset/dataset/14_016_1_0017.bmp  \n",
      "  inflating: /content/dataset/dataset/14_087_3_0056.bmp  \n",
      "  inflating: /content/dataset/dataset/14_029_6_0052.bmp  \n",
      "  inflating: /content/dataset/dataset/14_066_7_0067.bmp  \n",
      "  inflating: /content/dataset/dataset/14_053_2_0072.bmp  \n",
      "  inflating: /content/dataset/dataset/14_096_4_0061.bmp  \n",
      "  inflating: /content/dataset/dataset/14_096_3_0074.bmp  \n",
      "  inflating: /content/dataset/dataset/14_042_3_0058.bmp  \n",
      "  inflating: /content/dataset/dataset/14_033_3_0062.bmp  \n",
      "  inflating: /content/dataset/dataset/14_053_2_0057.bmp  \n",
      "  inflating: /content/dataset/dataset/14_095_1_0076.bmp  \n",
      "  inflating: /content/dataset/dataset/14_039_4_0062.bmp  \n",
      "  inflating: /content/dataset/dataset/14_058_4_0045.bmp  \n",
      "  inflating: /content/dataset/dataset/14_053_5_0071.bmp  \n",
      "  inflating: /content/dataset/dataset/14_046_3_0061.bmp  \n",
      "  inflating: /content/dataset/dataset/14_024_3_0004.bmp  \n",
      "  inflating: /content/dataset/dataset/14_023_4_0045.bmp  \n",
      "  inflating: /content/dataset/dataset/14_022_3_0065.bmp  \n",
      "  inflating: /content/dataset/dataset/14_095_2_0065.bmp  \n",
      "  inflating: /content/dataset/dataset/14_085_1_0065.bmp  \n",
      "  inflating: /content/dataset/dataset/14_021_5_0066.bmp  \n",
      "  inflating: /content/dataset/dataset/14_053_1_0038.bmp  \n",
      "  inflating: /content/dataset/dataset/14_084_6_0045.bmp  \n",
      "  inflating: /content/dataset/dataset/14_095_4_0032.bmp  \n",
      "  inflating: /content/dataset/dataset/14_033_3_0055.bmp  \n",
      "  inflating: /content/dataset/dataset/14_007_8_0115.bmp  \n",
      "  inflating: /content/dataset/dataset/14_006_1_0121.bmp  \n",
      "  inflating: /content/dataset/dataset/14_026_2_0029.bmp  \n",
      "  inflating: /content/dataset/dataset/14_006_1_0054.bmp  \n",
      "  inflating: /content/dataset/dataset/14_053_2_0084.bmp  \n",
      "  inflating: /content/dataset/dataset/14_029_7_0073.bmp  \n",
      "  inflating: /content/dataset/dataset/14_007_10_0048.bmp  \n",
      "  inflating: /content/dataset/dataset/14_053_4_0049.bmp  \n",
      "  inflating: /content/dataset/dataset/14_021_1_0073.bmp  \n",
      "  inflating: /content/dataset/dataset/14_042_2_0036.bmp  \n",
      "  inflating: /content/dataset/dataset/14_007_10_0085.bmp  \n",
      "  inflating: /content/dataset/dataset/14_085_5_0080.bmp  \n",
      "  inflating: /content/dataset/dataset/14_062_5_0035.bmp  \n",
      "  inflating: /content/dataset/dataset/14_087_2_0026.bmp  \n",
      "  inflating: /content/dataset/dataset/14_029_7_0042.bmp  \n",
      "  inflating: /content/dataset/dataset/14_029_6_0065.bmp  \n",
      "  inflating: /content/dataset/dataset/14_026_2_0100.bmp  \n",
      "  inflating: /content/dataset/dataset/14_096_5_0079.bmp  \n",
      "  inflating: /content/dataset/dataset/14_059_2_0072.bmp  \n",
      "  inflating: /content/dataset/dataset/14_059_2_0068.bmp  \n",
      "  inflating: /content/dataset/dataset/14_007_5_0118.bmp  \n",
      "  inflating: /content/dataset/dataset/14_031_5_0038.bmp  \n",
      "  inflating: /content/dataset/dataset/14_029_7_0046.bmp  \n",
      "  inflating: /content/dataset/dataset/14_087_3_0025.bmp  \n",
      "  inflating: /content/dataset/dataset/14_022_6_0065.bmp  \n",
      "  inflating: /content/dataset/dataset/14_088_1_0037.bmp  \n",
      "  inflating: /content/dataset/dataset/14_096_5_0041.bmp  \n",
      "  inflating: /content/dataset/dataset/14_007_10_0057.bmp  \n",
      "  inflating: /content/dataset/dataset/14_029_7_0056.bmp  \n",
      "  inflating: /content/dataset/dataset/14_032_4_0045.bmp  \n",
      "  inflating: /content/dataset/dataset/14_087_2_0064.bmp  \n",
      "  inflating: /content/dataset/dataset/14_087_3_0074.bmp  \n",
      "  inflating: /content/dataset/dataset/14_039_7_0071.bmp  \n",
      "  inflating: /content/dataset/dataset/14_087_2_0023.bmp  \n",
      "  inflating: /content/dataset/dataset/14_058_4_0032.bmp  \n",
      "  inflating: /content/dataset/dataset/14_039_7_0080.bmp  \n",
      "  inflating: /content/dataset/dataset/14_026_2_0025.bmp  \n",
      "  inflating: /content/dataset/dataset/14_033_3_0067.bmp  \n",
      "  inflating: /content/dataset/dataset/14_095_1_0068.bmp  \n",
      "  inflating: /content/dataset/dataset/14_096_3_0041.bmp  \n",
      "  inflating: /content/dataset/dataset/14_049_3_0025.bmp  \n",
      "  inflating: /content/dataset/dataset/14_032_7_0047.bmp  \n",
      "  inflating: /content/dataset/dataset/14_066_3_0066.bmp  \n",
      "  inflating: /content/dataset/dataset/14_026_2_0069.bmp  \n",
      "  inflating: /content/dataset/dataset/14_032_7_0028.bmp  \n",
      "  inflating: /content/dataset/dataset/14_096_4_0072.bmp  \n",
      "  inflating: /content/dataset/dataset/14_080_2_0101.bmp  \n",
      "  inflating: /content/dataset/dataset/14_006_1_0147.bmp  \n",
      "  inflating: /content/dataset/dataset/14_024_2_0031.bmp  \n",
      "  inflating: /content/dataset/dataset/14_007_8_0076.bmp  \n",
      "  inflating: /content/dataset/dataset/14_022_7_0067.bmp  \n",
      "  inflating: /content/dataset/dataset/14_095_4_0023.bmp  \n",
      "  inflating: /content/dataset/dataset/14_031_6_0065.bmp  \n",
      "  inflating: /content/dataset/dataset/14_095_2_0053.bmp  \n",
      "  inflating: /content/dataset/dataset/14_007_6_0064.bmp  \n",
      "  inflating: /content/dataset/dataset/14_095_7_0041.bmp  \n",
      "  inflating: /content/dataset/dataset/14_064_2_0068.bmp  \n",
      "  inflating: /content/dataset/dataset/14_081_3_0031.bmp  \n",
      "  inflating: /content/dataset/dataset/14_032_4_0058.bmp  \n",
      "  inflating: /content/dataset/dataset/14_085_2_0034.bmp  \n",
      "  inflating: /content/dataset/dataset/14_085_1_0090.bmp  \n",
      "  inflating: /content/dataset/dataset/14_095_1_0082.bmp  \n",
      "  inflating: /content/dataset/dataset/14_053_2_0074.bmp  \n",
      "  inflating: /content/dataset/dataset/14_087_2_0056.bmp  \n",
      "  inflating: /content/dataset/dataset/14_080_2_0070.bmp  \n",
      "  inflating: /content/dataset/dataset/14_026_2_0012.bmp  \n",
      "  inflating: /content/dataset/dataset/14_042_1_0059.bmp  \n",
      "  inflating: /content/dataset/dataset/14_088_1_0031.bmp  \n",
      "  inflating: /content/dataset/dataset/14_019_5_0030.bmp  \n",
      "  inflating: /content/dataset/dataset/14_007_8_0073.bmp  \n",
      "  inflating: /content/dataset/dataset/14_095_5_0053.bmp  \n",
      "  inflating: /content/dataset/dataset/14_007_10_0084.bmp  \n",
      "  inflating: /content/dataset/dataset/14_007_8_0108.bmp  \n",
      "  inflating: /content/dataset/dataset/14_046_3_0059.bmp  \n",
      "  inflating: /content/dataset/dataset/14_053_1_0039.bmp  \n",
      "  inflating: /content/dataset/dataset/14_028_3_0065.bmp  \n",
      "  inflating: /content/dataset/dataset/14_039_1_0034.bmp  \n",
      "  inflating: /content/dataset/dataset/14_095_7_0063.bmp  \n",
      "  inflating: /content/dataset/dataset/14_007_8_0077.bmp  \n",
      "  inflating: /content/dataset/dataset/14_021_1_0042.bmp  \n",
      "  inflating: /content/dataset/dataset/14_023_3_0032.bmp  \n",
      "  inflating: /content/dataset/dataset/14_084_7_0039.bmp  \n",
      "  inflating: /content/dataset/dataset/14_096_5_0075.bmp  \n",
      "  inflating: /content/dataset/dataset/14_007_6_0091.bmp  \n",
      "  inflating: /content/dataset/dataset/14_096_4_0055.bmp  \n",
      "  inflating: /content/dataset/dataset/14_021_6_0057.bmp  \n",
      "  inflating: /content/dataset/dataset/14_059_2_0055.bmp  \n",
      "  inflating: /content/dataset/dataset/14_088_6_0036.bmp  \n",
      "  inflating: /content/dataset/dataset/14_049_1_0022.bmp  \n",
      "  inflating: /content/dataset/dataset/14_007_5_0093.bmp  \n",
      "  inflating: /content/dataset/dataset/14_098_4_0025.bmp  \n",
      "  inflating: /content/dataset/dataset/14_053_1_0061.bmp  \n",
      "  inflating: /content/dataset/dataset/14_046_3_0063.bmp  \n",
      "  inflating: /content/dataset/dataset/14_042_2_0049.bmp  \n",
      "  inflating: /content/dataset/dataset/14_087_2_0080.bmp  \n",
      "  inflating: /content/dataset/dataset/14_028_2_0058.bmp  \n",
      "  inflating: /content/dataset/dataset/14_066_8_0050.bmp  \n",
      "  inflating: /content/dataset/dataset/14_031_7_0075.bmp  \n",
      "  inflating: /content/dataset/dataset/14_023_4_0078.bmp  \n",
      "  inflating: /content/dataset/dataset/14_064_2_0060.bmp  \n",
      "  inflating: /content/dataset/dataset/14_049_1_0020.bmp  \n",
      "  inflating: /content/dataset/dataset/14_007_8_0082.bmp  \n",
      "  inflating: /content/dataset/dataset/14_029_5_0093.bmp  \n",
      "  inflating: /content/dataset/dataset/14_022_2_0062.bmp  \n",
      "  inflating: /content/dataset/dataset/14_029_6_0036.bmp  \n",
      "  inflating: /content/dataset/dataset/14_039_4_0058.bmp  \n",
      "  inflating: /content/dataset/dataset/14_007_3_0053.bmp  \n",
      "  inflating: /content/dataset/dataset/14_085_5_0062.bmp  \n",
      "  inflating: /content/dataset/dataset/14_032_4_0064.bmp  \n",
      "  inflating: /content/dataset/dataset/14_024_2_0021.bmp  \n",
      "  inflating: /content/dataset/dataset/14_081_11_0043.bmp  \n",
      "  inflating: /content/dataset/dataset/14_096_4_0064.bmp  \n",
      "  inflating: /content/dataset/dataset/14_039_5_0086.bmp  \n",
      "  inflating: /content/dataset/dataset/14_042_3_0059.bmp  \n",
      "  inflating: /content/dataset/dataset/14_042_4_0064.bmp  \n",
      "  inflating: /content/dataset/dataset/14_084_6_0043.bmp  \n",
      "  inflating: /content/dataset/dataset/14_039_2_0028.bmp  \n",
      "  inflating: /content/dataset/dataset/14_081_3_0021.bmp  \n",
      "  inflating: /content/dataset/dataset/14_021_6_0030.bmp  \n",
      "  inflating: /content/dataset/dataset/14_039_4_0024.bmp  \n",
      "  inflating: /content/dataset/dataset/14_062_5_0059.bmp  \n",
      "  inflating: /content/dataset/dataset/14_096_6_0058.bmp  \n",
      "  inflating: /content/dataset/dataset/14_028_1_0084.bmp  \n",
      "  inflating: /content/dataset/dataset/14_080_2_0058.bmp  \n",
      "  inflating: /content/dataset/dataset/14_095_1_0058.bmp  \n",
      "  inflating: /content/dataset/dataset/14_022_6_0035.bmp  \n",
      "  inflating: /content/dataset/dataset/14_021_6_0026.bmp  \n",
      "  inflating: /content/dataset/dataset/14_062_5_0056.bmp  \n",
      "  inflating: /content/dataset/dataset/14_029_2_0046.bmp  \n",
      "  inflating: /content/dataset/dataset/14_024_5_0052.bmp  \n",
      "  inflating: /content/dataset/dataset/14_066_7_0070.bmp  \n",
      "  inflating: /content/dataset/dataset/14_024_5_0036.bmp  \n",
      "  inflating: /content/dataset/dataset/14_042_1_0024.bmp  \n",
      "  inflating: /content/dataset/dataset/14_053_4_0076.bmp  \n",
      "  inflating: /content/dataset/dataset/14_088_1_0053.bmp  \n",
      "  inflating: /content/dataset/dataset/14_024_3_0011.bmp  \n",
      "  inflating: /content/dataset/dataset/14_077_5_0042.bmp  \n",
      "  inflating: /content/dataset/dataset/14_031_8_0043.bmp  \n",
      "  inflating: /content/dataset/dataset/14_033_4_0036.bmp  \n",
      "  inflating: /content/dataset/dataset/14_083_1_0052.bmp  \n",
      "  inflating: /content/dataset/dataset/14_087_3_0047.bmp  \n",
      "  inflating: /content/dataset/dataset/14_032_6_0049.bmp  \n",
      "  inflating: /content/dataset/dataset/14_022_6_0063.bmp  \n",
      "  inflating: /content/dataset/dataset/14_096_6_0052.bmp  \n",
      "  inflating: /content/dataset/dataset/14_087_1_0087.bmp  \n",
      "  inflating: /content/dataset/dataset/14_039_4_0061.bmp  \n",
      "  inflating: /content/dataset/dataset/14_022_6_0053.bmp  \n",
      "  inflating: /content/dataset/dataset/14_028_2_0083.bmp  \n",
      "  inflating: /content/dataset/dataset/14_019_5_0041.bmp  \n",
      "  inflating: /content/dataset/dataset/14_085_5_0045.bmp  \n",
      "  inflating: /content/dataset/dataset/14_007_8_0070.bmp  \n",
      "  inflating: /content/dataset/dataset/14_077_5_0062.bmp  \n",
      "  inflating: /content/dataset/dataset/14_096_4_0041.bmp  \n",
      "  inflating: /content/dataset/dataset/14_031_3_0035.bmp  \n",
      "  inflating: /content/dataset/dataset/14_022_1_0045.bmp  \n",
      "  inflating: /content/dataset/dataset/14_031_3_0061.bmp  \n",
      "  inflating: /content/dataset/dataset/14_042_4_0068.bmp  \n",
      "  inflating: /content/dataset/dataset/14_007_8_0049.bmp  \n",
      "  inflating: /content/dataset/dataset/14_029_5_0070.bmp  \n",
      "  inflating: /content/dataset/dataset/14_022_2_0059.bmp  \n",
      "  inflating: /content/dataset/dataset/14_024_3_0006.bmp  \n",
      "  inflating: /content/dataset/dataset/14_016_1_0070.bmp  \n",
      "  inflating: /content/dataset/dataset/14_084_7_0068.bmp  \n",
      "  inflating: /content/dataset/dataset/14_019_5_0039.bmp  \n",
      "  inflating: /content/dataset/dataset/14_087_2_0078.bmp  \n",
      "  inflating: /content/dataset/dataset/14_026_3_0056.bmp  \n",
      "  inflating: /content/dataset/dataset/14_029_4_0055.bmp  \n",
      "  inflating: /content/dataset/dataset/14_095_1_0060.bmp  \n",
      "  inflating: /content/dataset/dataset/14_049_4_0058.bmp  \n",
      "  inflating: /content/dataset/dataset/14_053_1_0063.bmp  \n",
      "  inflating: /content/dataset/dataset/14_007_8_0107.bmp  \n",
      "  inflating: /content/dataset/dataset/14_031_5_0034.bmp  \n",
      "  inflating: /content/dataset/dataset/14_042_1_0055.bmp  \n",
      "  inflating: /content/dataset/dataset/14_088_6_0032.bmp  \n",
      "  inflating: /content/dataset/dataset/14_087_2_0063.bmp  \n",
      "  inflating: /content/dataset/dataset/14_085_4_0058.bmp  \n",
      "  inflating: /content/dataset/dataset/14_021_1_0067.bmp  \n",
      "  inflating: /content/dataset/dataset/14_029_5_0084.bmp  \n",
      "  inflating: /content/dataset/dataset/14_095_1_0074.bmp  \n",
      "  inflating: /content/dataset/dataset/14_088_2_0037.bmp  \n",
      "  inflating: /content/dataset/dataset/14_031_8_0058.bmp  \n",
      "  inflating: /content/dataset/dataset/14_066_3_0061.bmp  \n",
      "  inflating: /content/dataset/dataset/14_087_3_0040.bmp  \n",
      "  inflating: /content/dataset/dataset/14_016_1_0022.bmp  \n",
      "  inflating: /content/dataset/dataset/14_095_5_0031.bmp  \n",
      "  inflating: /content/dataset/dataset/14_039_4_0072.bmp  \n",
      "  inflating: /content/dataset/dataset/14_066_8_0023.bmp  \n",
      "  inflating: /content/dataset/dataset/14_066_2_0039.bmp  \n",
      "  inflating: /content/dataset/dataset/14_053_5_0037.bmp  \n",
      "  inflating: /content/dataset/dataset/14_007_3_0073.bmp  \n",
      "  inflating: /content/dataset/dataset/14_077_5_0074.bmp  \n",
      "  inflating: /content/dataset/dataset/14_066_2_0067.bmp  \n",
      "  inflating: /content/dataset/dataset/14_096_4_0049.bmp  \n",
      "  inflating: /content/dataset/dataset/14_032_4_0061.bmp  \n",
      "  inflating: /content/dataset/dataset/14_095_4_0058.bmp  \n",
      "  inflating: /content/dataset/dataset/14_007_5_0057.bmp  \n",
      "  inflating: /content/dataset/dataset/14_097_2_0016.bmp  \n",
      "  inflating: /content/dataset/dataset/14_007_6_0074.bmp  \n",
      "  inflating: /content/dataset/dataset/14_023_3_0052.bmp  \n",
      "  inflating: /content/dataset/dataset/14_042_2_0038.bmp  \n",
      "  inflating: /content/dataset/dataset/14_022_1_0051.bmp  \n",
      "  inflating: /content/dataset/dataset/14_069_1_0099.bmp  \n",
      "  inflating: /content/dataset/dataset/14_066_8_0034.bmp  \n",
      "  inflating: /content/dataset/dataset/14_026_2_0116.bmp  \n",
      "  inflating: /content/dataset/dataset/14_088_6_0031.bmp  \n",
      "  inflating: /content/dataset/dataset/14_077_5_0045.bmp  \n",
      "  inflating: /content/dataset/dataset/14_031_7_0077.bmp  \n",
      "  inflating: /content/dataset/dataset/14_066_8_0024.bmp  \n",
      "  inflating: /content/dataset/dataset/14_080_2_0074.bmp  \n",
      "  inflating: /content/dataset/dataset/14_053_5_0042.bmp  \n",
      "  inflating: /content/dataset/dataset/14_095_4_0034.bmp  \n",
      "  inflating: /content/dataset/dataset/14_046_5_0057.bmp  \n",
      "  inflating: /content/dataset/dataset/14_023_2_0095.bmp  \n",
      "  inflating: /content/dataset/dataset/14_048_2_0091.bmp  \n",
      "  inflating: /content/dataset/dataset/14_048_3_0044.bmp  \n",
      "  inflating: /content/dataset/dataset/14_092_1_0042.bmp  \n",
      "  inflating: /content/dataset/dataset/14_073_1_0059.bmp  \n",
      "  inflating: /content/dataset/dataset/14_083_7_0017.bmp  \n",
      "  inflating: /content/dataset/dataset/14_084_1_0033.bmp  \n",
      "  inflating: /content/dataset/dataset/14_084_3_0033.bmp  \n",
      "  inflating: /content/dataset/dataset/14_062_3_0066.bmp  \n",
      "  inflating: /content/dataset/dataset/14_048_4_0041.bmp  \n",
      "  inflating: /content/dataset/dataset/14_073_1_0055.bmp  \n",
      "  inflating: /content/dataset/dataset/14_048_1_0041.bmp  \n",
      "  inflating: /content/dataset/dataset/14_048_5_0071.bmp  \n",
      "  inflating: /content/dataset/dataset/14_023_2_0093.bmp  \n",
      "  inflating: /content/dataset/dataset/14_092_1_0059.bmp  \n",
      "  inflating: /content/dataset/dataset/14_048_2_0024.bmp  \n",
      "  inflating: /content/dataset/dataset/14_064_3_0036.bmp  \n",
      "  inflating: /content/dataset/dataset/14_048_4_0033.bmp  \n",
      "  inflating: /content/dataset/dataset/14_062_2_0047.bmp  \n",
      "  inflating: /content/dataset/dataset/14_064_3_0025.bmp  \n",
      "  inflating: /content/dataset/dataset/14_048_1_0071.bmp  \n",
      "  inflating: /content/dataset/dataset/14_048_4_0021.bmp  \n",
      "  inflating: /content/dataset/dataset/14_084_1_0038.bmp  \n",
      "  inflating: /content/dataset/dataset/14_057_3_0086.bmp  \n",
      "  inflating: /content/dataset/dataset/14_046_5_0076.bmp  \n",
      "  inflating: /content/dataset/dataset/14_066_10_0043.bmp  \n",
      "  inflating: /content/dataset/dataset/14_048_2_0077.bmp  \n",
      "  inflating: /content/dataset/dataset/14_046_5_0074.bmp  \n",
      "  inflating: /content/dataset/dataset/14_057_2_0049.bmp  \n",
      "  inflating: /content/dataset/dataset/14_048_2_0030.bmp  \n",
      "  inflating: /content/dataset/dataset/14_048_1_0079.bmp  \n",
      "  inflating: /content/dataset/dataset/14_084_4_0025.bmp  \n",
      "  inflating: /content/dataset/dataset/14_023_2_0104.bmp  \n",
      "  inflating: /content/dataset/dataset/14_057_3_0065.bmp  \n",
      "  inflating: /content/dataset/dataset/14_062_2_0072.bmp  \n",
      "  inflating: /content/dataset/dataset/14_048_3_0064.bmp  \n",
      "  inflating: /content/dataset/dataset/14_064_3_0018.bmp  \n",
      "  inflating: /content/dataset/dataset/14_057_3_0084.bmp  \n",
      "  inflating: /content/dataset/dataset/14_084_3_0026.bmp  \n",
      "  inflating: /content/dataset/dataset/14_066_10_0075.bmp  \n",
      "  inflating: /content/dataset/dataset/14_092_1_0036.bmp  \n",
      "  inflating: /content/dataset/dataset/14_048_4_0050.bmp  \n",
      "  inflating: /content/dataset/dataset/14_084_3_0049.bmp  \n",
      "  inflating: /content/dataset/dataset/14_057_2_0051.bmp  \n",
      "  inflating: /content/dataset/dataset/14_084_4_0028.bmp  \n",
      "  inflating: /content/dataset/dataset/14_046_5_0056.bmp  \n",
      "  inflating: /content/dataset/dataset/14_057_3_0068.bmp  \n",
      "  inflating: /content/dataset/dataset/14_062_2_0071.bmp  \n",
      "  inflating: /content/dataset/dataset/14_048_3_0043.bmp  \n",
      "  inflating: /content/dataset/dataset/14_046_5_0069.bmp  \n",
      "  inflating: /content/dataset/dataset/14_084_5_0031.bmp  \n",
      "  inflating: /content/dataset/dataset/14_023_2_0091.bmp  \n",
      "  inflating: /content/dataset/dataset/14_066_9_0055.bmp  \n",
      "  inflating: /content/dataset/dataset/14_046_5_0038.bmp  \n",
      "  inflating: /content/dataset/dataset/14_015_1_0034.bmp  \n",
      "  inflating: /content/dataset/dataset/14_062_3_0059.bmp  \n",
      "  inflating: /content/dataset/dataset/14_084_3_0017.bmp  \n",
      "  inflating: /content/dataset/dataset/14_073_1_0046.bmp  \n",
      "  inflating: /content/dataset/dataset/14_073_1_0064.bmp  \n",
      "  inflating: /content/dataset/dataset/14_057_2_0056.bmp  \n",
      "  inflating: /content/dataset/dataset/14_084_4_0026.bmp  \n",
      "  inflating: /content/dataset/dataset/14_048_2_0039.bmp  \n",
      "  inflating: /content/dataset/dataset/14_015_1_0036.bmp  \n",
      "  inflating: /content/dataset/dataset/14_083_6_0020.bmp  \n",
      "  inflating: /content/dataset/dataset/14_015_1_0038.bmp  \n",
      "  inflating: /content/dataset/dataset/14_048_2_0065.bmp  \n",
      "  inflating: /content/dataset/dataset/14_048_2_0071.bmp  \n",
      "  inflating: /content/dataset/dataset/14_084_9_0020.xml  \n",
      "  inflating: /content/dataset/dataset/14_058_4_0042.xml  \n",
      "  inflating: /content/dataset/dataset/14_051_5_0040.xml  \n",
      "  inflating: /content/dataset/dataset/14_096_2_0030.xml  \n",
      "  inflating: /content/dataset/dataset/14_058_4_0030.xml  \n",
      "  inflating: /content/dataset/dataset/14_050_6_0018.xml  \n",
      "  inflating: /content/dataset/dataset/14_096_2_0010.xml  \n",
      "  inflating: /content/dataset/dataset/14_051_5_0025.xml  \n",
      "  inflating: /content/dataset/dataset/14_084_9_0029.xml  \n",
      "  inflating: /content/dataset/dataset/14_051_2_0034.xml  \n",
      "  inflating: /content/dataset/dataset/14_053_5_0044.xml  \n",
      "  inflating: /content/dataset/dataset/14_085_5_0077.xml  \n",
      "  inflating: /content/dataset/dataset/14_075_5_0019.xml  \n",
      "  inflating: /content/dataset/dataset/14_094_3_0043.xml  \n",
      "  inflating: /content/dataset/dataset/14_053_5_0053.xml  \n",
      "  inflating: /content/dataset/dataset/14_050_4_0024.xml  \n",
      "  inflating: /content/dataset/dataset/14_066_7_0050.xml  \n",
      "  inflating: /content/dataset/dataset/14_096_3_0047.xml  \n",
      "  inflating: /content/dataset/dataset/14_087_3_0072.xml  \n",
      "  inflating: /content/dataset/dataset/14_055_6_0017.xml  \n",
      "  inflating: /content/dataset/dataset/14_075_2_0029.xml  \n",
      "  inflating: /content/dataset/dataset/14_095_5_0053.xml  \n",
      "  inflating: /content/dataset/dataset/14_050_8_0049.xml  \n",
      "  inflating: /content/dataset/dataset/14_050_9_0035.xml  \n",
      "  inflating: /content/dataset/dataset/14_096_3_0051.xml  \n",
      "  inflating: /content/dataset/dataset/14_080_3_0035.xml  \n",
      "  inflating: /content/dataset/dataset/14_085_4_0044.xml  \n",
      "  inflating: /content/dataset/dataset/14_088_8_0038.xml  \n",
      "  inflating: /content/dataset/dataset/14_066_7_0035.xml  \n",
      "  inflating: /content/dataset/dataset/14_088_8_0077.xml  \n",
      "  inflating: /content/dataset/dataset/14_077_6_0083.xml  \n",
      "  inflating: /content/dataset/dataset/14_053_4_0077.xml  \n",
      "  inflating: /content/dataset/dataset/14_088_8_0080.xml  \n",
      "  inflating: /content/dataset/dataset/14_083_1_0050.xml  \n",
      "  inflating: /content/dataset/dataset/14_051_6_0022.xml  \n",
      "  inflating: /content/dataset/dataset/14_096_3_0067.xml  \n",
      "  inflating: /content/dataset/dataset/14_096_3_0073.xml  \n",
      "  inflating: /content/dataset/dataset/14_095_4_0057.xml  \n",
      "  inflating: /content/dataset/dataset/14_087_2_0076.xml  \n",
      "  inflating: /content/dataset/dataset/14_095_7_0029.xml  \n",
      "  inflating: /content/dataset/dataset/14_051_6_0028.xml  \n",
      "  inflating: /content/dataset/dataset/14_083_1_0045.xml  \n",
      "  inflating: /content/dataset/dataset/14_096_3_0071.xml  \n",
      "  inflating: /content/dataset/dataset/14_075_4_0050.xml  \n",
      "  inflating: /content/dataset/dataset/14_088_6_0048.xml  \n",
      "  inflating: /content/dataset/dataset/14_088_1_0053.xml  \n",
      "  inflating: /content/dataset/dataset/14_070_3_0045.xml  \n",
      "  inflating: /content/dataset/dataset/14_076_3_0019.xml  \n",
      "  inflating: /content/dataset/dataset/14_087_1_0053.xml  \n",
      "  inflating: /content/dataset/dataset/14_096_5_0046.xml  \n",
      "  inflating: /content/dataset/dataset/14_099_5_0016.xml  \n",
      "  inflating: /content/dataset/dataset/14_099_6_0013.xml  \n",
      "  inflating: /content/dataset/dataset/14_096_5_0064.xml  \n",
      "  inflating: /content/dataset/dataset/14_077_5_0070.xml  \n",
      "  inflating: /content/dataset/dataset/14_087_1_0051.xml  \n",
      "  inflating: /content/dataset/dataset/14_053_4_0089.xml  \n",
      "  inflating: /content/dataset/dataset/14_097_1_0031.xml  \n",
      "  inflating: /content/dataset/dataset/14_087_2_0030.xml  \n",
      "  inflating: /content/dataset/dataset/14_095_7_0020.xml  \n",
      "  inflating: /content/dataset/dataset/14_088_2_0033.xml  \n",
      "  inflating: /content/dataset/dataset/14_087_2_0048.xml  \n",
      "  inflating: /content/dataset/dataset/14_070_4_0041.xml  \n",
      "  inflating: /content/dataset/dataset/14_053_4_0081.xml  \n",
      "  inflating: /content/dataset/dataset/14_088_8_0049.xml  \n",
      "  inflating: /content/dataset/dataset/14_059_1_0068.xml  \n",
      "  inflating: /content/dataset/dataset/14_095_2_0060.xml  \n",
      "  inflating: /content/dataset/dataset/14_085_1_0082.xml  \n",
      "  inflating: /content/dataset/dataset/14_064_2_0064.xml  \n",
      "  inflating: /content/dataset/dataset/14_095_2_0061.xml  \n",
      "  inflating: /content/dataset/dataset/14_096_4_0069.xml  \n",
      "  inflating: /content/dataset/dataset/14_096_6_0026.xml  \n",
      "  inflating: /content/dataset/dataset/14_064_2_0050.xml  \n",
      "  inflating: /content/dataset/dataset/14_096_3_0045.xml  \n",
      "  inflating: /content/dataset/dataset/14_081_6_0034.xml  \n",
      "  inflating: /content/dataset/dataset/14_068_6_0047.xml  \n",
      "  inflating: /content/dataset/dataset/14_077_6_0075.xml  \n",
      "  inflating: /content/dataset/dataset/14_051_2_0022.xml  \n",
      "  inflating: /content/dataset/dataset/14_053_5_0033.xml  \n",
      "  inflating: /content/dataset/dataset/14_088_3_0052.xml  \n",
      "  inflating: /content/dataset/dataset/14_094_2_0046.xml  \n",
      "  inflating: /content/dataset/dataset/14_053_2_0083.xml  \n",
      "  inflating: /content/dataset/dataset/14_084_7_0044.xml  \n",
      "  inflating: /content/dataset/dataset/14_066_2_0060.xml  \n",
      "  inflating: /content/dataset/dataset/14_053_2_0077.xml  \n",
      "  inflating: /content/dataset/dataset/14_095_4_0061.xml  \n",
      "  inflating: /content/dataset/dataset/14_087_2_0056.xml  \n",
      "  inflating: /content/dataset/dataset/14_088_2_0025.xml  \n",
      "  inflating: /content/dataset/dataset/14_097_2_0017.xml  \n",
      "  inflating: /content/dataset/dataset/14_066_8_0069.xml  \n",
      "  inflating: /content/dataset/dataset/14_097_2_0021.xml  \n",
      "  inflating: /content/dataset/dataset/14_088_3_0045.xml  \n",
      "  inflating: /content/dataset/dataset/14_097_1_0027.xml  \n",
      "  inflating: /content/dataset/dataset/14_095_7_0050.xml  \n",
      "  inflating: /content/dataset/dataset/14_095_4_0031.xml  \n",
      "  inflating: /content/dataset/dataset/14_077_6_0063.xml  \n",
      "  inflating: /content/dataset/dataset/14_051_8_0022.xml  \n",
      "  inflating: /content/dataset/dataset/14_075_4_0045.xml  \n",
      "  inflating: /content/dataset/dataset/14_088_2_0018.xml  \n",
      "  inflating: /content/dataset/dataset/14_053_4_0055.xml  \n",
      "  inflating: /content/dataset/dataset/14_087_1_0073.xml  \n",
      "  inflating: /content/dataset/dataset/14_095_8_0031.xml  \n",
      "  inflating: /content/dataset/dataset/14_095_5_0037.xml  \n",
      "  inflating: /content/dataset/dataset/14_077_5_0054.xml  \n",
      "  inflating: /content/dataset/dataset/14_097_2_0031.xml  \n",
      "  inflating: /content/dataset/dataset/14_059_1_0064.xml  \n",
      "  inflating: /content/dataset/dataset/14_053_4_0052.xml  \n",
      "  inflating: /content/dataset/dataset/14_068_1_0027.xml  \n",
      "  inflating: /content/dataset/dataset/14_081_11_0037.xml  \n",
      "  inflating: /content/dataset/dataset/14_053_2_0069.xml  \n",
      "  inflating: /content/dataset/dataset/14_057_2_0048.xml  \n",
      "  inflating: /content/dataset/dataset/14_053_2_0071.xml  \n",
      "  inflating: /content/dataset/dataset/14_084_5_0047.xml  \n",
      "  inflating: /content/dataset/dataset/14_084_5_0035.xml  \n",
      "  inflating: /content/dataset/dataset/14_062_2_0075.xml  \n",
      "  inflating: /content/dataset/dataset/14_081_10_0040.xml  \n",
      "  inflating: /content/dataset/dataset/14_050_10_0048.xml  \n",
      "  inflating: /content/dataset/dataset/14_057_3_0079.xml  \n",
      "  inflating: /content/dataset/dataset/14_062_3_0070.xml  \n",
      "  inflating: /content/dataset/dataset/14_057_3_0092.xml  \n",
      "  inflating: /content/dataset/dataset/14_083_6_0043.xml  \n",
      "  inflating: /content/dataset/dataset/14_062_2_0057.xml  \n",
      "  inflating: /content/dataset/dataset/14_084_3_0037.xml  \n",
      "  inflating: /content/dataset/dataset/14_084_5_0015.xml  \n",
      "  inflating: /content/dataset/dataset/14_051_10_0020.xml  \n",
      "  inflating: /content/dataset/dataset/14_062_3_0059.xml  \n",
      "  inflating: /content/dataset/dataset/14_066_10_0050.xml  \n",
      "  inflating: /content/dataset/dataset/14_021_16_0051.xml  \n",
      "  inflating: /content/dataset/dataset/14_012_4_0030.xml  \n",
      "  inflating: /content/dataset/dataset/14_034_6_0029.xml  \n",
      "  inflating: /content/dataset/dataset/14_012_4_0031.xml  \n",
      "  inflating: /content/dataset/dataset/14_007_6_0088.xml  \n",
      "  inflating: /content/dataset/dataset/14_028_2_0060.xml  \n",
      "  inflating: /content/dataset/dataset/14_039_2_0051.xml  \n",
      "  inflating: /content/dataset/dataset/14_024_6_0032.xml  \n",
      "  inflating: /content/dataset/dataset/14_029_2_0044.xml  \n",
      "  inflating: /content/dataset/dataset/14_023_4_0060.xml  \n",
      "  inflating: /content/dataset/dataset/14_032_6_0043.xml  \n",
      "  inflating: /content/dataset/dataset/14_023_4_0055.xml  \n",
      "  inflating: /content/dataset/dataset/14_022_3_0080.xml  \n",
      "  inflating: /content/dataset/dataset/14_095_8_0035.xml  \n",
      "  inflating: /content/dataset/dataset/14_050_6_0035.xml  \n",
      "  inflating: /content/dataset/dataset/14_066_3_0057.xml  \n",
      "  inflating: /content/dataset/dataset/14_051_2_0056.xml  \n",
      "  inflating: /content/dataset/dataset/14_067_4_0013.xml  \n",
      "  inflating: /content/dataset/dataset/14_059_2_0056.xml  \n",
      "  inflating: /content/dataset/dataset/14_075_5_0016.xml  \n",
      "  inflating: /content/dataset/dataset/14_050_8_0045.xml  \n",
      "  inflating: /content/dataset/dataset/14_066_7_0061.xml  \n",
      "  inflating: /content/dataset/dataset/14_085_2_0040.xml  \n",
      "  inflating: /content/dataset/dataset/14_069_1_0082.xml  \n",
      "  inflating: /content/dataset/dataset/14_087_2_0044.xml  \n",
      "  inflating: /content/dataset/dataset/14_058_3_0048.xml  \n",
      "  inflating: /content/dataset/dataset/14_077_6_0059.xml  \n",
      "  inflating: /content/dataset/dataset/14_081_7_0034.xml  \n",
      "  inflating: /content/dataset/dataset/14_067_7_0021.xml  \n",
      "  inflating: /content/dataset/dataset/14_095_4_0035.xml  \n",
      "  inflating: /content/dataset/dataset/14_068_3_0023.xml  \n",
      "  inflating: /content/dataset/dataset/14_057_3_0094.xml  \n",
      "  inflating: /content/dataset/dataset/14_010_1_0044.xml  \n",
      "  inflating: /content/dataset/dataset/14_039_5_0049.xml  \n",
      "  inflating: /content/dataset/dataset/14_031_4_0043.xml  \n",
      "  inflating: /content/dataset/dataset/14_018_8_0017.xml  \n",
      "  inflating: /content/dataset/dataset/14_039_7_0066.xml  \n",
      "  inflating: /content/dataset/dataset/14_003_1_0020.xml  \n",
      "  inflating: /content/dataset/dataset/14_031_8_0055.xml  \n",
      "  inflating: /content/dataset/dataset/14_023_4_0057.xml  \n",
      "  inflating: /content/dataset/dataset/14_040_5_0032.xml  \n",
      "  inflating: /content/dataset/dataset/14_022_1_0076.xml  \n",
      "  inflating: /content/dataset/dataset/14_024_6_0041.xml  \n",
      "  inflating: /content/dataset/dataset/14_022_6_0047.xml  \n",
      "  inflating: /content/dataset/dataset/14_026_3_0082.xml  \n",
      "  inflating: /content/dataset/dataset/14_007_8_0095.xml  \n",
      "  inflating: /content/dataset/dataset/14_024_6_0055.xml  \n",
      "  inflating: /content/dataset/dataset/14_046_6_0062.xml  \n",
      "  inflating: /content/dataset/dataset/14_023_4_0076.xml  \n",
      "  inflating: /content/dataset/dataset/14_039_2_0033.xml  \n",
      "  inflating: /content/dataset/dataset/14_032_7_0020.xml  \n",
      "  inflating: /content/dataset/dataset/14_016_1_0047.xml  \n",
      "  inflating: /content/dataset/dataset/14_021_4_0059.xml  \n",
      "  inflating: /content/dataset/dataset/14_039_4_0026.xml  \n",
      "  inflating: /content/dataset/dataset/14_039_1_0021.xml  \n",
      "  inflating: /content/dataset/dataset/14_022_3_0069.xml  \n",
      "  inflating: /content/dataset/dataset/14_039_4_0041.xml  \n",
      "  inflating: /content/dataset/dataset/14_007_8_0057.xml  \n",
      "  inflating: /content/dataset/dataset/14_021_6_0037.xml  \n",
      "  inflating: /content/dataset/dataset/14_007_6_0074.xml  \n",
      "  inflating: /content/dataset/dataset/14_031_5_0044.xml  \n",
      "  inflating: /content/dataset/dataset/14_018_6_0051.xml  \n",
      "  inflating: /content/dataset/dataset/14_026_2_0059.xml  \n",
      "  inflating: /content/dataset/dataset/14_021_5_0057.xml  \n",
      "  inflating: /content/dataset/dataset/14_007_3_0036.xml  \n",
      "  inflating: /content/dataset/dataset/14_033_4_0050.xml  \n",
      "  inflating: /content/dataset/dataset/14_014_1_0027.xml  \n",
      "  inflating: /content/dataset/dataset/14_022_2_0067.xml  \n",
      "  inflating: /content/dataset/dataset/14_022_2_0065.xml  \n",
      "  inflating: /content/dataset/dataset/14_019_5_0073.xml  \n",
      "  inflating: /content/dataset/dataset/14_019_5_0065.xml  \n",
      "  inflating: /content/dataset/dataset/14_029_5_0042.xml  \n",
      "  inflating: /content/dataset/dataset/14_024_2_0019.xml  \n",
      "  inflating: /content/dataset/dataset/14_021_6_0021.xml  \n",
      "  inflating: /content/dataset/dataset/14_029_4_0072.xml  \n",
      "  inflating: /content/dataset/dataset/14_007_6_0043.xml  \n",
      "  inflating: /content/dataset/dataset/14_003_2_0010.xml  \n",
      "  inflating: /content/dataset/dataset/14_007_5_0051.xml  \n",
      "  inflating: /content/dataset/dataset/14_024_6_0030.xml  \n",
      "  inflating: /content/dataset/dataset/14_007_6_0062.xml  \n",
      "  inflating: /content/dataset/dataset/14_024_3_0022.xml  \n",
      "  inflating: /content/dataset/dataset/14_028_1_0053.xml  \n",
      "  inflating: /content/dataset/dataset/14_033_3_0027.xml  \n",
      "  inflating: /content/dataset/dataset/14_007_8_0049.xml  \n",
      "  inflating: /content/dataset/dataset/14_039_7_0070.xml  \n",
      "  inflating: /content/dataset/dataset/14_007_8_0063.xml  \n",
      "  inflating: /content/dataset/dataset/14_042_2_0055.xml  \n",
      "  inflating: /content/dataset/dataset/14_024_3_0035.xml  \n",
      "  inflating: /content/dataset/dataset/14_018_6_0044.xml  \n",
      "  inflating: /content/dataset/dataset/14_033_4_0079.xml  \n",
      "  inflating: /content/dataset/dataset/14_021_5_0068.xml  \n",
      "  inflating: /content/dataset/dataset/14_032_4_0026.xml  \n",
      "  inflating: /content/dataset/dataset/14_006_1_0054.xml  \n",
      "  inflating: /content/dataset/dataset/14_022_2_0066.xml  \n",
      "  inflating: /content/dataset/dataset/14_003_2_0025.xml  \n",
      "  inflating: /content/dataset/dataset/14_007_3_0064.xml  \n",
      "  inflating: /content/dataset/dataset/14_031_6_0069.xml  \n",
      "  inflating: /content/dataset/dataset/14_053_5_0069.xml  \n",
      "  inflating: /content/dataset/dataset/14_097_1_0035.xml  \n",
      "  inflating: /content/dataset/dataset/14_081_3_0028.xml  \n",
      "  inflating: /content/dataset/dataset/14_077_6_0110.xml  \n",
      "  inflating: /content/dataset/dataset/14_083_1_0062.xml  \n",
      "  inflating: /content/dataset/dataset/14_096_5_0057.xml  \n",
      "  inflating: /content/dataset/dataset/14_096_2_0014.xml  \n",
      "  inflating: /content/dataset/dataset/14_096_3_0057.xml  \n",
      "  inflating: /content/dataset/dataset/14_081_3_0017.xml  \n",
      "  inflating: /content/dataset/dataset/14_051_5_0036.xml  \n",
      "  inflating: /content/dataset/dataset/14_092_1_0074.xml  \n",
      "  inflating: /content/dataset/dataset/14_096_4_0037.xml  \n",
      "  inflating: /content/dataset/dataset/14_084_3_0043.xml  \n",
      "  inflating: /content/dataset/dataset/14_066_10_0076.xml  \n",
      "  inflating: /content/dataset/dataset/14_044_5_0021.xml  \n",
      "  inflating: /content/dataset/dataset/14_042_5_0046.xml  \n",
      "  inflating: /content/dataset/dataset/14_021_2_0021.xml  \n",
      "  inflating: /content/dataset/dataset/14_044_5_0049.xml  \n",
      "  inflating: /content/dataset/dataset/14_033_4_0034.xml  \n",
      "  inflating: /content/dataset/dataset/14_026_3_0063.xml  \n",
      "  inflating: /content/dataset/dataset/14_021_1_0097.xml  \n",
      "  inflating: /content/dataset/dataset/14_021_1_0062.xml  \n",
      "  inflating: /content/dataset/dataset/14_021_16_0067.xml  \n",
      "  inflating: /content/dataset/dataset/14_017_1_0027.xml  \n",
      "  inflating: /content/dataset/dataset/14_022_1_0049.xml  \n",
      "  inflating: /content/dataset/dataset/14_010_1_0032.xml  \n",
      "  inflating: /content/dataset/dataset/14_033_3_0033.xml  \n",
      "  inflating: /content/dataset/dataset/14_031_4_0042.xml  \n",
      "  inflating: /content/dataset/dataset/14_026_2_0047.xml  \n",
      "  inflating: /content/dataset/dataset/14_007_8_0083.xml  \n",
      "  inflating: /content/dataset/dataset/14_022_2_0058.xml  \n",
      "  inflating: /content/dataset/dataset/14_042_1_0023.xml  \n",
      "  inflating: /content/dataset/dataset/14_033_4_0073.xml  \n",
      "  inflating: /content/dataset/dataset/14_026_3_0089.xml  \n",
      "  inflating: /content/dataset/dataset/14_021_1_0094.xml  \n",
      "  inflating: /content/dataset/dataset/14_033_3_0025.xml  \n",
      "  inflating: /content/dataset/dataset/14_006_1_0152.xml  \n",
      "  inflating: /content/dataset/dataset/14_017_1_0057.xml  \n",
      "  inflating: /content/dataset/dataset/14_028_1_0051.xml  \n",
      "  inflating: /content/dataset/dataset/14_029_6_0084.xml  \n",
      "  inflating: /content/dataset/dataset/14_031_7_0051.xml  \n",
      "  inflating: /content/dataset/dataset/14_029_6_0037.xml  \n",
      "  inflating: /content/dataset/dataset/14_024_4_0039.xml  \n",
      "  inflating: /content/dataset/dataset/14_019_5_0036.xml  \n",
      "  inflating: /content/dataset/dataset/14_032_6_0053.xml  \n",
      "  inflating: /content/dataset/dataset/14_026_2_0033.xml  \n",
      "  inflating: /content/dataset/dataset/14_007_5_0085.xml  \n",
      "  inflating: /content/dataset/dataset/14_007_5_0094.xml  \n",
      "  inflating: /content/dataset/dataset/14_018_8_0030.xml  \n",
      "  inflating: /content/dataset/dataset/14_021_6_0031.xml  \n",
      "  inflating: /content/dataset/dataset/14_024_4_0064.xml  \n",
      "  inflating: /content/dataset/dataset/14_021_5_0059.xml  \n",
      "  inflating: /content/dataset/dataset/14_021_1_0066.xml  \n",
      "  inflating: /content/dataset/dataset/14_032_4_0053.xml  \n",
      "  inflating: /content/dataset/dataset/14_032_4_0046.xml  \n",
      "  inflating: /content/dataset/dataset/14_024_3_0019.xml  \n",
      "  inflating: /content/dataset/dataset/14_018_8_0028.xml  \n",
      "  inflating: /content/dataset/dataset/14_007_3_0056.xml  \n",
      "  inflating: /content/dataset/dataset/14_040_2_0021.xml  \n",
      "  inflating: /content/dataset/dataset/14_031_4_0044.xml  \n",
      "  inflating: /content/dataset/dataset/14_024_6_0037.xml  \n",
      "  inflating: /content/dataset/dataset/14_026_2_0069.xml  \n",
      "  inflating: /content/dataset/dataset/14_031_5_0040.xml  \n",
      "  inflating: /content/dataset/dataset/14_033_4_0076.xml  \n",
      "  inflating: /content/dataset/dataset/14_023_3_0054.xml  \n",
      "  inflating: /content/dataset/dataset/14_002_5_0035.xml  \n",
      "  inflating: /content/dataset/dataset/14_029_1_0050.xml  \n",
      "  inflating: /content/dataset/dataset/14_007_5_0081.xml  \n",
      "  inflating: /content/dataset/dataset/14_031_5_0025.xml  \n",
      "  inflating: /content/dataset/dataset/14_040_1_0034.xml  \n",
      "  inflating: /content/dataset/dataset/14_022_1_0071.xml  \n",
      "  inflating: /content/dataset/dataset/14_018_6_0039.xml  \n",
      "  inflating: /content/dataset/dataset/14_028_1_0075.xml  \n",
      "  inflating: /content/dataset/dataset/14_039_7_0076.xml  \n",
      "  inflating: /content/dataset/dataset/14_031_3_0039.xml  \n",
      "  inflating: /content/dataset/dataset/14_007_8_0085.xml  \n",
      "  inflating: /content/dataset/dataset/14_039_7_0063.xml  \n",
      "  inflating: /content/dataset/dataset/14_031_3_0054.xml  \n",
      "  inflating: /content/dataset/dataset/14_039_1_0040.xml  \n",
      "  inflating: /content/dataset/dataset/14_026_2_0043.xml  \n",
      "  inflating: /content/dataset/dataset/14_007_6_0052.xml  \n",
      "  inflating: /content/dataset/dataset/14_012_3_0013.xml  \n",
      "  inflating: /content/dataset/dataset/14_006_1_0058.xml  \n",
      "  inflating: /content/dataset/dataset/14_024_1_0056.xml  \n",
      "  inflating: /content/dataset/dataset/14_034_7_0022.xml  \n",
      "  inflating: /content/dataset/dataset/14_070_4_0053.xml  \n",
      "  inflating: /content/dataset/dataset/14_084_6_0047.xml  \n",
      "  inflating: /content/dataset/dataset/14_096_6_0046.xml  \n",
      "  inflating: /content/dataset/dataset/14_085_5_0073.xml  \n",
      "  inflating: /content/dataset/dataset/14_092_2_0036.xml  \n",
      "  inflating: /content/dataset/dataset/14_094_2_0068.xml  \n",
      "  inflating: /content/dataset/dataset/14_098_3_0009.xml  \n",
      "  inflating: /content/dataset/dataset/14_058_4_0044.xml  \n",
      "  inflating: /content/dataset/dataset/14_069_1_0062.xml  \n",
      "  inflating: /content/dataset/dataset/14_081_6_0038.xml  \n",
      "  inflating: /content/dataset/dataset/14_088_6_0052.xml  \n",
      "  inflating: /content/dataset/dataset/14_088_8_0047.xml  \n",
      "  inflating: /content/dataset/dataset/14_024_5_0057.xml  \n",
      "  inflating: /content/dataset/dataset/14_066_9_0060.xml  \n",
      "  inflating: /content/dataset/dataset/14_081_10_0046.xml  \n",
      "  inflating: /content/dataset/dataset/14_022_7_0046.xml  \n",
      "  inflating: /content/dataset/dataset/14_010_6_0025.xml  \n",
      "  inflating: /content/dataset/dataset/14_039_5_0054.xml  \n",
      "  inflating: /content/dataset/dataset/14_028_1_0089.xml  \n",
      "  inflating: /content/dataset/dataset/14_022_6_0075.xml  \n",
      "  inflating: /content/dataset/dataset/14_028_2_0091.xml  \n",
      "  inflating: /content/dataset/dataset/14_028_1_0042.xml  \n",
      "  inflating: /content/dataset/dataset/14_032_7_0042.xml  \n",
      "  inflating: /content/dataset/dataset/14_018_6_0031.xml  \n",
      "  inflating: /content/dataset/dataset/14_007_5_0095.xml  \n",
      "  inflating: /content/dataset/dataset/14_022_6_0074.xml  \n",
      "  inflating: /content/dataset/dataset/14_029_7_0072.xml  \n",
      "  inflating: /content/dataset/dataset/14_031_4_0029.xml  \n",
      "  inflating: /content/dataset/dataset/14_044_2_0031.xml  \n",
      "  inflating: /content/dataset/dataset/14_021_35_0028.xml  \n",
      "  inflating: /content/dataset/dataset/14_031_7_0041.xml  \n",
      "  inflating: /content/dataset/dataset/14_033_4_0024.xml  \n",
      "  inflating: /content/dataset/dataset/14_033_3_0087.xml  \n",
      "  inflating: /content/dataset/dataset/14_024_3_0011.xml  \n",
      "  inflating: /content/dataset/dataset/14_016_1_0054.xml  \n",
      "  inflating: /content/dataset/dataset/14_021_16_0085.xml  \n",
      "  inflating: /content/dataset/dataset/14_021_35_0035.xml  \n",
      "  inflating: /content/dataset/dataset/14_021_15_0027.xml  \n",
      "  inflating: /content/dataset/dataset/14_048_4_0023.xml  \n",
      "  inflating: /content/dataset/dataset/14_046_5_0037.xml  \n",
      "  inflating: /content/dataset/dataset/14_048_2_0034.xml  \n",
      "  inflating: /content/dataset/dataset/14_007_10_0087.xml  \n",
      "  inflating: /content/dataset/dataset/14_023_2_0094.xml  \n",
      "  inflating: /content/dataset/dataset/14_021_35_0033.xml  \n",
      "  inflating: /content/dataset/dataset/14_048_3_0089.xml  \n",
      "  inflating: /content/dataset/dataset/14_021_37_0033.xml  \n",
      "  inflating: /content/dataset/dataset/14_048_3_0038.xml  \n",
      "  inflating: /content/dataset/dataset/14_048_3_0063.xml  \n",
      "  inflating: /content/dataset/dataset/14_021_32_0029.xml  \n",
      "  inflating: /content/dataset/dataset/14_046_5_0090.xml  \n",
      "  inflating: /content/dataset/dataset/14_021_32_0028.xml  \n",
      "  inflating: /content/dataset/dataset/14_007_10_0092.xml  \n",
      "  inflating: /content/dataset/dataset/14_048_2_0073.xml  \n",
      "  inflating: /content/dataset/dataset/14_046_5_0034.xml  \n",
      "  inflating: /content/dataset/dataset/14_015_1_0067.xml  \n",
      "  inflating: /content/dataset/dataset/14_015_1_0009.xml  \n",
      "  inflating: /content/dataset/dataset/14_048_1_0040.xml  \n",
      "  inflating: /content/dataset/dataset/14_023_2_0087.xml  \n",
      "  inflating: /content/dataset/dataset/14_048_2_0025.xml  \n",
      "  inflating: /content/dataset/dataset/14_048_2_0049.xml  \n",
      "  inflating: /content/dataset/dataset/14_046_5_0041.xml  \n",
      "  inflating: /content/dataset/dataset/14_048_2_0040.xml  \n",
      "  inflating: /content/dataset/dataset/14_021_31_0017.xml  \n",
      "  inflating: /content/dataset/dataset/14_021_30_0025.xml  \n",
      "  inflating: /content/dataset/dataset/14_046_5_0062.xml  \n",
      "  inflating: /content/dataset/dataset/14_048_2_0054.xml  \n",
      "  inflating: /content/dataset/dataset/14_048_2_0062.xml  \n",
      "  inflating: /content/dataset/dataset/14_021_16_0026.xml  \n",
      "  inflating: /content/dataset/dataset/14_050_9_0014.bmp  \n",
      "  inflating: /content/dataset/dataset/14_010_1_0013.bmp  \n",
      "  inflating: /content/dataset/dataset/14_075_1_0028.xml  \n",
      "  inflating: /content/dataset/dataset/14_075_8_0032.xml  \n",
      "  inflating: /content/dataset/dataset/14_096_2_0058.xml  \n",
      "  inflating: /content/dataset/dataset/14_069_1_0100.xml  \n",
      "  inflating: /content/dataset/dataset/14_088_5_0038.xml  \n",
      "  inflating: /content/dataset/dataset/14_075_4_0042.xml  \n",
      "  inflating: /content/dataset/dataset/14_087_1_0038.xml  \n",
      "  inflating: /content/dataset/dataset/14_075_1_0015.xml  \n",
      "  inflating: /content/dataset/dataset/14_051_6_0027.xml  \n",
      "  inflating: /content/dataset/dataset/14_053_2_0070.xml  \n",
      "  inflating: /content/dataset/dataset/14_022_7_0072.xml  \n",
      "  inflating: /content/dataset/dataset/14_033_3_0045.xml  \n",
      "  inflating: /content/dataset/dataset/14_049_3_0026.xml  \n",
      "  inflating: /content/dataset/dataset/14_034_7_0045.xml  \n",
      "  inflating: /content/dataset/dataset/14_032_7_0024.xml  \n",
      "  inflating: /content/dataset/dataset/14_024_3_0032.xml  \n",
      "  inflating: /content/dataset/dataset/14_021_1_0086.xml  \n",
      "  inflating: /content/dataset/dataset/14_022_7_0070.xml  \n",
      "  inflating: /content/dataset/dataset/14_024_3_0027.xml  \n",
      "  inflating: /content/dataset/dataset/14_019_5_0060.xml  \n",
      "  inflating: /content/dataset/dataset/14_024_2_0053.xml  \n",
      "  inflating: /content/dataset/dataset/14_024_1_0025.xml  \n",
      "  inflating: /content/dataset/dataset/14_042_4_0050.xml  \n",
      "  inflating: /content/dataset/dataset/14_007_5_0042.xml  \n",
      "  inflating: /content/dataset/dataset/14_033_4_0038.xml  \n",
      "  inflating: /content/dataset/dataset/14_010_6_0043.xml  \n",
      "  inflating: /content/dataset/dataset/14_022_7_0058.xml  \n",
      "  inflating: /content/dataset/dataset/14_044_5_0050.xml  \n",
      "  inflating: /content/dataset/dataset/14_021_1_0093.xml  \n",
      "  inflating: /content/dataset/dataset/14_024_1_0027.xml  \n",
      "  inflating: /content/dataset/dataset/14_048_3_0066.xml  \n",
      "  inflating: /content/dataset/dataset/14_040_5_0025.bmp  \n",
      "  inflating: /content/dataset/dataset/14_017_1_0031.bmp  \n",
      "  inflating: /content/dataset/dataset/14_048_1_0073.xml  \n",
      "  inflating: /content/dataset/dataset/14_051_2_0050.bmp  \n",
      "  inflating: /content/dataset/dataset/14_044_5_0054.bmp  \n",
      "  inflating: /content/dataset/dataset/14_021_35_0030.bmp  \n",
      "  inflating: /content/dataset/dataset/14_076_4_0028.bmp  \n",
      "  inflating: /content/dataset/dataset/14_017_1_0025.bmp  \n",
      "  inflating: /content/dataset/dataset/14_051_10_0014.bmp  \n",
      "  inflating: /content/dataset/dataset/14_010_6_0020.bmp  \n",
      "  inflating: /content/dataset/dataset/14_012_3_0014.bmp  \n",
      "  inflating: /content/dataset/dataset/14_003_1_0021.bmp  \n",
      "  inflating: /content/dataset/dataset/14_003_1_0008.bmp  \n",
      "  inflating: /content/dataset/dataset/14_051_10_0016.bmp  \n",
      "  inflating: /content/dataset/dataset/14_034_7_0018.bmp  \n",
      "  inflating: /content/dataset/dataset/14_034_6_0035.bmp  \n",
      "  inflating: /content/dataset/dataset/14_003_2_0010.bmp  \n",
      "  inflating: /content/dataset/dataset/14_099_6_0019.bmp  \n",
      "  inflating: /content/dataset/dataset/14_052_1_0013.bmp  \n",
      "  inflating: /content/dataset/dataset/14_070_5_0029.bmp  \n",
      "  inflating: /content/dataset/dataset/14_051_2_0023.bmp  \n",
      "  inflating: /content/dataset/dataset/14_051_10_0023.bmp  \n",
      "  inflating: /content/dataset/dataset/14_044_1_0054.bmp  \n",
      "  inflating: /content/dataset/dataset/14_021_35_0024.bmp  \n",
      "  inflating: /content/dataset/dataset/14_070_4_0039.bmp  \n",
      "  inflating: /content/dataset/dataset/14_017_1_0027.bmp  \n",
      "  inflating: /content/dataset/dataset/14_051_8_0034.bmp  \n",
      "  inflating: /content/dataset/dataset/14_050_10_0038.bmp  \n",
      "  inflating: /content/dataset/dataset/14_034_6_0037.bmp  \n",
      "  inflating: /content/dataset/dataset/14_075_6_0022.bmp  \n",
      "  inflating: /content/dataset/dataset/14_040_7_0005.bmp  \n",
      "  inflating: /content/dataset/dataset/14_040_1_0019.bmp  \n",
      "  inflating: /content/dataset/dataset/14_094_3_0054.bmp  \n",
      "  inflating: /content/dataset/dataset/14_044_1_0048.bmp  \n",
      "  inflating: /content/dataset/dataset/14_012_3_0015.bmp  \n",
      "  inflating: /content/dataset/dataset/14_017_1_0056.bmp  \n",
      "  inflating: /content/dataset/dataset/14_021_29_0034.bmp  \n",
      "  inflating: /content/dataset/dataset/14_012_3_0022.bmp  \n",
      "  inflating: /content/dataset/dataset/14_055_5_0019.bmp  \n",
      "  inflating: /content/dataset/dataset/14_068_1_0027.bmp  \n",
      "  inflating: /content/dataset/dataset/14_044_3_0039.bmp  \n",
      "  inflating: /content/dataset/dataset/14_040_1_0039.bmp  \n",
      "  inflating: /content/dataset/dataset/14_034_7_0042.bmp  \n",
      "  inflating: /content/dataset/dataset/14_070_4_0038.bmp  \n",
      "  inflating: /content/dataset/dataset/14_050_9_0036.bmp  \n",
      "  inflating: /content/dataset/dataset/14_075_4_0051.bmp  \n",
      "  inflating: /content/dataset/dataset/14_003_2_0025.bmp  \n",
      "  inflating: /content/dataset/dataset/14_003_1_0014.bmp  \n",
      "  inflating: /content/dataset/dataset/14_070_4_0025.bmp  \n",
      "  inflating: /content/dataset/dataset/14_051_6_0029.bmp  \n",
      "  inflating: /content/dataset/dataset/14_050_8_0031.bmp  \n",
      "  inflating: /content/dataset/dataset/14_051_2_0058.bmp  \n",
      "  inflating: /content/dataset/dataset/14_034_6_0034.bmp  \n",
      "  inflating: /content/dataset/dataset/14_053_4_0067.xml  \n",
      "  inflating: /content/dataset/dataset/14_075_2_0032.xml  \n",
      "  inflating: /content/dataset/dataset/14_088_6_0050.xml  \n",
      "  inflating: /content/dataset/dataset/14_070_5_0030.xml  \n",
      "  inflating: /content/dataset/dataset/14_096_4_0067.xml  \n",
      "  inflating: /content/dataset/dataset/14_050_9_0032.xml  \n",
      "  inflating: /content/dataset/dataset/14_014_1_0022.xml  \n",
      "  inflating: /content/dataset/dataset/14_084_4_0020.xml  \n",
      "  inflating: /content/dataset/dataset/14_012_4_0014.xml  \n",
      "  inflating: /content/dataset/dataset/14_007_3_0040.xml  \n",
      "  inflating: /content/dataset/dataset/14_034_7_0016.xml  \n",
      "  inflating: /content/dataset/dataset/14_042_1_0026.xml  \n",
      "  inflating: /content/dataset/dataset/14_002_5_0036.xml  \n",
      "  inflating: /content/dataset/dataset/14_029_7_0070.xml  \n",
      "  inflating: /content/dataset/dataset/14_029_4_0074.xml  \n",
      "  inflating: /content/dataset/dataset/14_021_32_0027.xml  \n",
      "  inflating: /content/dataset/dataset/14_022_3_0058.xml  \n",
      "  inflating: /content/dataset/dataset/14_050_10_0039.bmp  \n",
      "  inflating: /content/dataset/dataset/14_048_1_0047.xml  \n",
      "  inflating: /content/dataset/dataset/14_015_1_0062.xml  \n",
      "  inflating: /content/dataset/dataset/14_046_5_0060.xml  \n",
      "  inflating: /content/dataset/dataset/14_021_32_0014.bmp  \n",
      "  inflating: /content/dataset/dataset/14_075_8_0035.bmp  \n",
      "  inflating: /content/dataset/dataset/14_075_8_0031.bmp  \n",
      "  inflating: /content/dataset/dataset/14_040_2_0016.bmp  \n",
      "  inflating: /content/dataset/dataset/14_050_10_0048.bmp  \n",
      "  inflating: /content/dataset/dataset/14_044_3_0044.bmp  \n",
      "  inflating: /content/dataset/dataset/14_044_5_0044.bmp  \n",
      "  inflating: /content/dataset/dataset/14_068_3_0027.bmp  \n",
      "  inflating: /content/dataset/dataset/14_051_2_0056.bmp  \n",
      "  inflating: /content/dataset/dataset/14_003_1_0019.bmp  \n",
      "  inflating: /content/dataset/dataset/14_075_2_0031.bmp  \n",
      "  inflating: /content/dataset/dataset/14_050_8_0050.bmp  \n",
      "  inflating: /content/dataset/dataset/14_050_9_0041.bmp  \n",
      "  inflating: /content/dataset/dataset/14_075_6_0025.bmp  \n",
      "  inflating: /content/dataset/dataset/14_034_7_0036.bmp  \n",
      "  inflating: /content/dataset/dataset/14_094_3_0047.bmp  \n",
      "  inflating: /content/dataset/dataset/14_040_5_0035.bmp  \n",
      "  inflating: /content/dataset/dataset/14_050_6_0035.bmp  \n",
      "  inflating: /content/dataset/dataset/14_040_5_0020.bmp  \n",
      "  inflating: /content/dataset/dataset/14_021_38_0031.bmp  \n",
      "  inflating: /content/dataset/dataset/14_040_3_0028.bmp  \n",
      "  inflating: /content/dataset/dataset/14_040_5_0029.bmp  \n",
      "  inflating: /content/dataset/dataset/14_021_37_0021.bmp  \n",
      "  inflating: /content/dataset/dataset/14_010_6_0038.bmp  \n",
      "  inflating: /content/dataset/dataset/14_014_1_0020.bmp  \n",
      "  inflating: /content/dataset/dataset/14_094_2_0068.bmp  \n",
      "  inflating: /content/dataset/dataset/14_050_8_0021.bmp  \n",
      "  inflating: /content/dataset/dataset/14_021_38_0039.bmp  \n",
      "  inflating: /content/dataset/dataset/14_044_1_0045.bmp  \n",
      "  inflating: /content/dataset/dataset/14_068_3_0022.bmp  \n",
      "  inflating: /content/dataset/dataset/14_088_8_0073.xml  \n",
      "  inflating: /content/dataset/dataset/14_059_2_0063.xml  \n",
      "  inflating: /content/dataset/dataset/14_081_3_0015.xml  \n",
      "  inflating: /content/dataset/dataset/14_095_1_0043.xml  \n",
      "  inflating: /content/dataset/dataset/14_095_7_0061.xml  \n",
      "  inflating: /content/dataset/dataset/14_050_9_0010.xml  \n",
      "  inflating: /content/dataset/dataset/14_087_3_0081.xml  \n",
      "  inflating: /content/dataset/dataset/14_052_1_0022.xml  \n",
      "  inflating: /content/dataset/dataset/14_050_9_0027.xml  \n",
      "  inflating: /content/dataset/dataset/14_095_7_0060.xml  \n",
      "  inflating: /content/dataset/dataset/14_057_3_0082.xml  \n",
      "  inflating: /content/dataset/dataset/14_066_10_0060.xml  \n",
      "  inflating: /content/dataset/dataset/14_092_1_0062.xml  \n",
      "  inflating: /content/dataset/dataset/14_066_9_0055.xml  \n",
      "  inflating: /content/dataset/dataset/14_039_5_0060.xml  \n",
      "  inflating: /content/dataset/dataset/14_029_2_0060.xml  \n",
      "  inflating: /content/dataset/dataset/14_040_3_0015.xml  \n",
      "  inflating: /content/dataset/dataset/14_049_4_0028.xml  \n",
      "  inflating: /content/dataset/dataset/14_007_6_0051.xml  \n",
      "  inflating: /content/dataset/dataset/14_003_1_0007.xml  \n",
      "  inflating: /content/dataset/dataset/14_034_7_0035.xml  \n",
      "  inflating: /content/dataset/dataset/14_022_6_0062.xml  \n",
      "  inflating: /content/dataset/dataset/14_026_2_0114.xml  \n",
      "  inflating: /content/dataset/dataset/14_044_5_0036.xml  \n",
      "  inflating: /content/dataset/dataset/14_024_2_0035.xml  \n",
      "  inflating: /content/dataset/dataset/14_040_5_0036.xml  \n",
      "  inflating: /content/dataset/dataset/14_029_4_0088.xml  \n",
      "  inflating: /content/dataset/dataset/14_028_3_0055.xml  \n",
      "  inflating: /content/dataset/dataset/14_006_1_0113.xml  \n",
      "  inflating: /content/dataset/dataset/14_021_31_0014.xml  \n",
      "  inflating: /content/dataset/dataset/14_021_35_0015.xml  \n",
      "  inflating: /content/dataset/dataset/14_014_1_0016.bmp  \n",
      "  inflating: /content/dataset/dataset/14_075_1_0028.bmp  \n",
      "  inflating: /content/dataset/dataset/14_021_37_0023.xml  \n",
      "  inflating: /content/dataset/dataset/14_075_2_0018.bmp  \n",
      "  inflating: /content/dataset/dataset/14_099_5_0018.bmp  \n",
      "  inflating: /content/dataset/dataset/14_021_32_0018.bmp  \n",
      "  inflating: /content/dataset/dataset/14_017_1_0044.bmp  \n",
      "  inflating: /content/dataset/dataset/14_067_4_0026.bmp  \n",
      "  inflating: /content/dataset/dataset/14_055_5_0021.bmp  \n",
      "  inflating: /content/dataset/dataset/14_017_1_0045.bmp  \n",
      "  inflating: /content/dataset/dataset/14_021_31_0015.bmp  \n",
      "  inflating: /content/dataset/dataset/14_051_2_0048.bmp  \n",
      "  inflating: /content/dataset/dataset/14_003_1_0006.bmp  \n",
      "  inflating: /content/dataset/dataset/14_044_5_0037.bmp  \n",
      "  inflating: /content/dataset/dataset/14_024_6_0049.bmp  \n",
      "  inflating: /content/dataset/dataset/14_040_7_0022.bmp  \n",
      "  inflating: /content/dataset/dataset/14_021_37_0023.bmp  \n",
      "  inflating: /content/dataset/dataset/14_024_6_0026.bmp  \n",
      "  inflating: /content/dataset/dataset/14_024_6_0060.bmp  \n",
      "  inflating: /content/dataset/dataset/14_021_16_0037.bmp  \n",
      "  inflating: /content/dataset/dataset/14_021_16_0034.bmp  \n",
      "  inflating: /content/dataset/dataset/14_021_15_0057.bmp  \n",
      "  inflating: /content/dataset/dataset/14_080_3_0032.bmp  \n",
      "  inflating: /content/dataset/dataset/14_018_8_0025.bmp  \n",
      "  inflating: /content/dataset/dataset/14_021_4_0036.bmp  \n",
      "  inflating: /content/dataset/dataset/14_024_6_0046.bmp  \n",
      "  inflating: /content/dataset/dataset/14_018_6_0049.bmp  \n",
      "  inflating: /content/dataset/dataset/14_046_6_0066.bmp  \n",
      "  inflating: /content/dataset/dataset/14_021_15_0065.bmp  \n",
      "  inflating: /content/dataset/dataset/14_046_6_0050.bmp  \n",
      "  inflating: /content/dataset/dataset/14_021_4_0039.bmp  \n",
      "  inflating: /content/dataset/dataset/14_046_6_0064.bmp  \n",
      "  inflating: /content/dataset/dataset/14_080_3_0033.bmp  \n",
      "  inflating: /content/dataset/dataset/14_018_6_0056.bmp  \n",
      "  inflating: /content/dataset/dataset/14_024_6_0051.bmp  \n",
      "  inflating: /content/dataset/dataset/14_068_6_0049.xml  \n",
      "  inflating: /content/dataset/dataset/14_080_2_0067.xml  \n",
      "  inflating: /content/dataset/dataset/14_095_5_0033.xml  \n",
      "  inflating: /content/dataset/dataset/14_095_2_0071.xml  \n",
      "  inflating: /content/dataset/dataset/14_098_3_0016.xml  \n",
      "  inflating: /content/dataset/dataset/14_050_6_0037.xml  \n",
      "  inflating: /content/dataset/dataset/14_055_5_0016.xml  \n",
      "  inflating: /content/dataset/dataset/14_087_1_0068.xml  \n",
      "  inflating: /content/dataset/dataset/14_088_6_0034.xml  \n",
      "  inflating: /content/dataset/dataset/14_040_7_0015.xml  \n",
      "  inflating: /content/dataset/dataset/14_039_5_0057.xml  \n",
      "  inflating: /content/dataset/dataset/14_057_2_0050.xml  \n",
      "  inflating: /content/dataset/dataset/14_084_3_0049.xml  \n",
      "  inflating: /content/dataset/dataset/14_084_5_0025.xml  \n",
      "  inflating: /content/dataset/dataset/14_062_3_0040.xml  \n",
      "  inflating: /content/dataset/dataset/14_024_5_0041.xml  \n",
      "  inflating: /content/dataset/dataset/14_010_1_0046.xml  \n",
      "  inflating: /content/dataset/dataset/14_033_4_0089.xml  \n",
      "  inflating: /content/dataset/dataset/14_029_2_0056.xml  \n",
      "  inflating: /content/dataset/dataset/14_023_3_0043.xml  \n",
      "  inflating: /content/dataset/dataset/14_006_1_0090.xml  \n",
      "  inflating: /content/dataset/dataset/14_044_1_0046.xml  \n",
      "  inflating: /content/dataset/dataset/14_046_3_0027.xml  \n",
      "  inflating: /content/dataset/dataset/14_007_6_0066.xml  \n",
      "  inflating: /content/dataset/dataset/14_002_5_0022.xml  \n",
      "  inflating: /content/dataset/dataset/14_024_6_0035.xml  \n",
      "  inflating: /content/dataset/dataset/14_044_3_0046.xml  \n",
      "  inflating: /content/dataset/dataset/14_024_6_0045.xml  \n",
      "  inflating: /content/dataset/dataset/14_033_4_0042.xml  \n",
      "  inflating: /content/dataset/dataset/14_021_16_0039.xml  \n",
      "  inflating: /content/dataset/dataset/14_048_2_0080.xml  \n",
      "  inflating: /content/dataset/dataset/14_023_2_0099.xml  \n",
      "  inflating: /content/dataset/dataset/14_070_4_0045.bmp  \n",
      "  inflating: /content/dataset/dataset/14_070_5_0054.bmp  \n",
      "  inflating: /content/dataset/dataset/14_044_2_0042.bmp  \n",
      "  inflating: /content/dataset/dataset/14_094_3_0045.bmp  \n",
      "  inflating: /content/dataset/dataset/14_021_30_0019.bmp  \n",
      "  inflating: /content/dataset/dataset/14_075_1_0022.bmp  \n",
      "  inflating: /content/dataset/dataset/14_021_31_0008.bmp  \n",
      "  inflating: /content/dataset/dataset/14_021_16_0030.bmp  \n",
      "  inflating: /content/dataset/dataset/14_021_5_0064.xml  \n",
      "  inflating: /content/dataset/dataset/14_066_8_0051.xml  \n",
      "  inflating: /content/dataset/dataset/14_095_2_0078.xml  \n",
      "  inflating: /content/dataset/dataset/14_059_1_0059.xml  \n",
      "  inflating: /content/dataset/dataset/14_059_1_0087.xml  \n",
      "  inflating: /content/dataset/dataset/14_066_7_0040.xml  \n",
      "  inflating: /content/dataset/dataset/14_040_2_0011.xml  \n",
      "  inflating: /content/dataset/dataset/14_024_2_0045.xml  \n",
      "  inflating: /content/dataset/dataset/14_033_3_0065.xml  \n",
      "  inflating: /content/dataset/dataset/14_018_8_0032.xml  \n",
      "  inflating: /content/dataset/dataset/14_048_5_0053.xml  \n",
      "  inflating: /content/dataset/dataset/14_007_8_0111.xml  \n",
      "  inflating: /content/dataset/dataset/14_007_10_0075.xml  \n",
      "  inflating: /content/dataset/dataset/14_024_3_0038.xml  \n",
      "  inflating: /content/dataset/dataset/14_048_1_0070.xml  \n",
      "  inflating: /content/dataset/dataset/14_070_5_0048.bmp  \n",
      "  inflating: /content/dataset/dataset/14_021_34_0019.bmp  \n",
      "  inflating: /content/dataset/dataset/14_062_5_0068.bmp  \n",
      "  inflating: /content/dataset/dataset/14_068_1_0028.bmp  \n",
      "  inflating: /content/dataset/dataset/14_046_6_0046.bmp  \n",
      "  inflating: /content/dataset/dataset/14_022_1_0049.bmp  \n",
      "  inflating: /content/dataset/dataset/14_053_4_0082.bmp  \n",
      "  inflating: /content/dataset/dataset/14_077_5_0049.bmp  \n",
      "  inflating: /content/dataset/dataset/14_024_4_0047.bmp  \n",
      "  inflating: /content/dataset/dataset/14_084_9_0041.bmp  \n",
      "  inflating: /content/dataset/dataset/14_096_5_0036.bmp  \n",
      "  inflating: /content/dataset/dataset/14_059_1_0050.bmp  \n",
      "  inflating: /content/dataset/dataset/14_096_4_0066.bmp  \n",
      "  inflating: /content/dataset/dataset/14_019_5_0053.bmp  \n",
      "  inflating: /content/dataset/dataset/14_039_1_0027.bmp  \n",
      "  inflating: /content/dataset/dataset/14_046_3_0051.bmp  \n",
      "  inflating: /content/dataset/dataset/14_084_9_0044.bmp  \n",
      "  inflating: /content/dataset/dataset/14_021_5_0056.bmp  \n",
      "  inflating: /content/dataset/dataset/14_095_8_0066.bmp  \n",
      "  inflating: /content/dataset/dataset/14_042_3_0035.bmp  \n",
      "  inflating: /content/dataset/dataset/14_029_7_0061.bmp  \n",
      "  inflating: /content/dataset/dataset/14_021_2_0022.bmp  \n",
      "  inflating: /content/dataset/dataset/14_029_5_0044.bmp  \n",
      "  inflating: /content/dataset/dataset/14_066_8_0055.bmp  \n",
      "  inflating: /content/dataset/dataset/14_097_2_0018.bmp  \n",
      "  inflating: /content/dataset/dataset/14_087_1_0077.bmp  \n",
      "  inflating: /content/dataset/dataset/14_007_3_0037.bmp  \n",
      "  inflating: /content/dataset/dataset/14_007_5_0116.bmp  \n",
      "  inflating: /content/dataset/dataset/14_022_1_0063.bmp  \n",
      "  inflating: /content/dataset/dataset/14_021_6_0024.bmp  \n",
      "  inflating: /content/dataset/dataset/14_026_2_0039.bmp  \n",
      "  inflating: /content/dataset/dataset/14_007_6_0072.bmp  \n",
      "  inflating: /content/dataset/dataset/14_092_2_0037.bmp  \n",
      "  inflating: /content/dataset/dataset/14_007_8_0120.bmp  \n",
      "  inflating: /content/dataset/dataset/14_039_2_0043.bmp  \n",
      "  inflating: /content/dataset/dataset/14_029_1_0055.bmp  \n",
      "  inflating: /content/dataset/dataset/14_053_4_0036.bmp  \n",
      "  inflating: /content/dataset/dataset/14_026_2_0072.bmp  \n",
      "  inflating: /content/dataset/dataset/14_028_2_0063.bmp  \n",
      "  inflating: /content/dataset/dataset/14_029_5_0097.bmp  \n",
      "  inflating: /content/dataset/dataset/14_058_3_0060.bmp  \n",
      "  inflating: /content/dataset/dataset/14_077_6_0106.bmp  \n",
      "  inflating: /content/dataset/dataset/14_007_3_0094.bmp  \n",
      "  inflating: /content/dataset/dataset/14_042_4_0065.bmp  \n",
      "  inflating: /content/dataset/dataset/14_083_1_0043.bmp  \n",
      "  inflating: /content/dataset/dataset/14_087_1_0038.bmp  \n",
      "  inflating: /content/dataset/dataset/14_039_5_0085.bmp  \n",
      "  inflating: /content/dataset/dataset/14_016_1_0052.bmp  \n",
      "  inflating: /content/dataset/dataset/14_019_5_0098.bmp  \n",
      "  inflating: /content/dataset/dataset/14_081_11_0031.bmp  \n",
      "  inflating: /content/dataset/dataset/14_095_5_0044.bmp  \n",
      "  inflating: /content/dataset/dataset/14_042_3_0063.bmp  \n",
      "  inflating: /content/dataset/dataset/14_026_2_0050.bmp  \n",
      "  inflating: /content/dataset/dataset/14_069_1_0062.bmp  \n",
      "  inflating: /content/dataset/dataset/14_042_3_0047.bmp  \n",
      "  inflating: /content/dataset/dataset/14_029_4_0071.bmp  \n",
      "  inflating: /content/dataset/dataset/14_024_4_0061.bmp  \n",
      "  inflating: /content/dataset/dataset/14_042_5_0052.bmp  \n",
      "  inflating: /content/dataset/dataset/14_019_5_0028.bmp  \n",
      "  inflating: /content/dataset/dataset/14_095_1_0042.bmp  \n",
      "  inflating: /content/dataset/dataset/14_058_3_0058.bmp  \n",
      "  inflating: /content/dataset/dataset/14_007_6_0036.bmp  \n",
      "  inflating: /content/dataset/dataset/14_024_3_0028.bmp  \n",
      "  inflating: /content/dataset/dataset/14_095_1_0036.bmp  \n",
      "  inflating: /content/dataset/dataset/14_087_1_0064.bmp  \n",
      "  inflating: /content/dataset/dataset/14_029_2_0033.bmp  \n",
      "  inflating: /content/dataset/dataset/14_021_5_0057.bmp  \n",
      "  inflating: /content/dataset/dataset/14_095_1_0064.bmp  \n",
      "  inflating: /content/dataset/dataset/14_088_8_0056.bmp  \n",
      "  inflating: /content/dataset/dataset/14_029_5_0053.bmp  \n",
      "  inflating: /content/dataset/dataset/14_029_5_0067.bmp  \n",
      "  inflating: /content/dataset/dataset/14_053_2_0037.bmp  \n",
      "  inflating: /content/dataset/dataset/14_007_10_0039.bmp  \n",
      "  inflating: /content/dataset/dataset/14_039_4_0078.bmp  \n",
      "  inflating: /content/dataset/dataset/14_088_8_0072.bmp  \n",
      "  inflating: /content/dataset/dataset/14_029_2_0058.bmp  \n",
      "  inflating: /content/dataset/dataset/14_085_4_0051.bmp  \n",
      "  inflating: /content/dataset/dataset/14_095_7_0052.bmp  \n",
      "  inflating: /content/dataset/dataset/14_066_2_0060.bmp  \n",
      "  inflating: /content/dataset/dataset/14_080_2_0073.bmp  \n",
      "  inflating: /content/dataset/dataset/14_026_2_0121.bmp  \n",
      "  inflating: /content/dataset/dataset/14_080_2_0047.bmp  \n",
      "  inflating: /content/dataset/dataset/14_007_5_0119.bmp  \n",
      "  inflating: /content/dataset/dataset/14_029_7_0049.bmp  \n",
      "  inflating: /content/dataset/dataset/14_031_4_0024.bmp  \n",
      "  inflating: /content/dataset/dataset/14_028_2_0089.bmp  \n",
      "  inflating: /content/dataset/dataset/14_042_5_0027.bmp  \n",
      "  inflating: /content/dataset/dataset/14_087_2_0045.bmp  \n",
      "  inflating: /content/dataset/dataset/14_016_1_0025.bmp  \n",
      "  inflating: /content/dataset/dataset/14_029_4_0064.bmp  \n",
      "  inflating: /content/dataset/dataset/14_007_3_0065.bmp  \n",
      "  inflating: /content/dataset/dataset/14_007_8_0099.bmp  \n",
      "  inflating: /content/dataset/dataset/14_029_6_0076.bmp  \n",
      "  inflating: /content/dataset/dataset/14_021_6_0051.bmp  \n",
      "  inflating: /content/dataset/dataset/14_033_3_0090.bmp  \n",
      "  inflating: /content/dataset/dataset/14_046_3_0042.bmp  \n",
      "  inflating: /content/dataset/dataset/14_053_5_0065.bmp  \n",
      "  inflating: /content/dataset/dataset/14_007_3_0072.bmp  \n",
      "  inflating: /content/dataset/dataset/14_088_5_0036.bmp  \n",
      "  inflating: /content/dataset/dataset/14_085_4_0064.bmp  \n",
      "  inflating: /content/dataset/dataset/14_039_4_0080.bmp  \n",
      "  inflating: /content/dataset/dataset/14_096_4_0038.bmp  \n",
      "  inflating: /content/dataset/dataset/14_007_5_0055.bmp  \n",
      "  inflating: /content/dataset/dataset/14_088_1_0041.bmp  \n",
      "  inflating: /content/dataset/dataset/14_059_1_0052.bmp  \n",
      "  inflating: /content/dataset/dataset/14_029_5_0073.bmp  \n",
      "  inflating: /content/dataset/dataset/14_098_4_0026.bmp  \n",
      "  inflating: /content/dataset/dataset/14_022_6_0038.bmp  \n",
      "  inflating: /content/dataset/dataset/14_095_2_0031.bmp  \n",
      "  inflating: /content/dataset/dataset/14_039_1_0037.bmp  \n",
      "  inflating: /content/dataset/dataset/14_024_4_0041.bmp  \n",
      "  inflating: /content/dataset/dataset/14_007_5_0120.bmp  \n",
      "  inflating: /content/dataset/dataset/14_096_6_0034.bmp  \n",
      "  inflating: /content/dataset/dataset/14_053_2_0039.bmp  \n",
      "  inflating: /content/dataset/dataset/14_053_5_0030.bmp  \n",
      "  inflating: /content/dataset/dataset/14_033_3_0033.bmp  \n",
      "  inflating: /content/dataset/dataset/14_031_7_0049.bmp  \n",
      "  inflating: /content/dataset/dataset/14_049_4_0056.bmp  \n",
      "  inflating: /content/dataset/dataset/14_029_4_0050.bmp  \n",
      "  inflating: /content/dataset/dataset/14_031_6_0031.bmp  \n",
      "  inflating: /content/dataset/dataset/14_087_3_0072.bmp  \n",
      "  inflating: /content/dataset/dataset/14_028_3_0048.bmp  \n",
      "  inflating: /content/dataset/dataset/14_022_6_0046.bmp  \n",
      "  inflating: /content/dataset/dataset/14_042_5_0044.bmp  \n",
      "  inflating: /content/dataset/dataset/14_092_2_0041.bmp  \n",
      "  inflating: /content/dataset/dataset/14_024_1_0020.bmp  \n",
      "  inflating: /content/dataset/dataset/14_026_2_0115.bmp  \n",
      "  inflating: /content/dataset/dataset/14_039_1_0020.bmp  \n",
      "  inflating: /content/dataset/dataset/14_029_2_0048.bmp  \n",
      "  inflating: /content/dataset/dataset/14_021_1_0059.bmp  \n",
      "  inflating: /content/dataset/dataset/14_029_2_0035.bmp  \n",
      "  inflating: /content/dataset/dataset/14_022_2_0058.bmp  \n",
      "  inflating: /content/dataset/dataset/14_021_1_0040.bmp  \n",
      "  inflating: /content/dataset/dataset/14_095_8_0039.bmp  \n",
      "  inflating: /content/dataset/dataset/14_059_1_0089.bmp  \n",
      "  inflating: /content/dataset/dataset/14_039_5_0028.bmp  \n",
      "  inflating: /content/dataset/dataset/14_095_5_0035.bmp  \n",
      "  inflating: /content/dataset/dataset/14_033_4_0064.bmp  \n",
      "  inflating: /content/dataset/dataset/14_006_1_0073.bmp  \n",
      "  inflating: /content/dataset/dataset/14_064_2_0070.bmp  \n",
      "  inflating: /content/dataset/dataset/14_095_8_0046.bmp  \n",
      "  inflating: /content/dataset/dataset/14_029_2_0060.bmp  \n",
      "  inflating: /content/dataset/dataset/14_064_2_0078.bmp  \n",
      "  inflating: /content/dataset/dataset/14_039_4_0067.bmp  \n",
      "  inflating: /content/dataset/dataset/14_007_6_0073.bmp  \n",
      "  inflating: /content/dataset/dataset/14_097_1_0034.bmp  \n",
      "  inflating: /content/dataset/dataset/14_028_2_0096.bmp  \n",
      "  inflating: /content/dataset/dataset/14_053_1_0036.bmp  \n",
      "  inflating: /content/dataset/dataset/14_007_8_0063.bmp  \n",
      "  inflating: /content/dataset/dataset/14_095_1_0080.bmp  \n",
      "  inflating: /content/dataset/dataset/14_081_7_0034.bmp  \n",
      "  inflating: /content/dataset/dataset/14_095_1_0062.bmp  \n",
      "  inflating: /content/dataset/dataset/14_029_4_0065.bmp  \n",
      "  inflating: /content/dataset/dataset/14_022_1_0075.bmp  \n",
      "  inflating: /content/dataset/dataset/14_049_4_0030.bmp  \n",
      "  inflating: /content/dataset/dataset/14_059_2_0070.bmp  \n",
      "  inflating: /content/dataset/dataset/14_084_9_0024.bmp  \n",
      "  inflating: /content/dataset/dataset/14_031_7_0028.bmp  \n",
      "  inflating: /content/dataset/dataset/14_081_7_0037.bmp  \n",
      "  inflating: /content/dataset/dataset/14_053_4_0059.bmp  \n",
      "  inflating: /content/dataset/dataset/14_022_2_0070.bmp  \n",
      "  inflating: /content/dataset/dataset/14_095_4_0051.bmp  \n",
      "  inflating: /content/dataset/dataset/14_077_5_0075.bmp  \n",
      "  inflating: /content/dataset/dataset/14_023_3_0043.bmp  \n",
      "  inflating: /content/dataset/dataset/14_007_5_0122.bmp  \n",
      "  inflating: /content/dataset/dataset/14_007_10_0055.bmp  \n",
      "  inflating: /content/dataset/dataset/14_087_3_0063.bmp  \n",
      "  inflating: /content/dataset/dataset/14_016_1_0064.bmp  \n",
      "  inflating: /content/dataset/dataset/14_077_6_0104.bmp  \n",
      "  inflating: /content/dataset/dataset/14_024_5_0047.bmp  \n",
      "  inflating: /content/dataset/dataset/14_080_2_0062.bmp  \n",
      "  inflating: /content/dataset/dataset/14_087_1_0065.bmp  \n",
      "  inflating: /content/dataset/dataset/14_095_1_0053.bmp  \n",
      "  inflating: /content/dataset/dataset/14_029_2_0066.bmp  \n",
      "  inflating: /content/dataset/dataset/14_022_3_0068.bmp  \n",
      "  inflating: /content/dataset/dataset/14_006_1_0052.bmp  \n",
      "  inflating: /content/dataset/dataset/14_029_7_0072.bmp  \n",
      "  inflating: /content/dataset/dataset/14_019_5_0062.bmp  \n",
      "  inflating: /content/dataset/dataset/14_028_2_0051.bmp  \n",
      "  inflating: /content/dataset/dataset/14_095_1_0043.bmp  \n",
      "  inflating: /content/dataset/dataset/14_021_6_0040.bmp  \n",
      "  inflating: /content/dataset/dataset/14_042_5_0049.bmp  \n",
      "  inflating: /content/dataset/dataset/14_022_6_0073.bmp  \n",
      "  inflating: /content/dataset/dataset/14_049_1_0016.bmp  \n",
      "  inflating: /content/dataset/dataset/14_028_1_0055.bmp  \n",
      "  inflating: /content/dataset/dataset/14_039_7_0069.bmp  \n",
      "  inflating: /content/dataset/dataset/14_029_4_0054.bmp  \n",
      "  inflating: /content/dataset/dataset/14_019_5_0077.bmp  \n",
      "  inflating: /content/dataset/dataset/14_023_4_0068.bmp  \n",
      "  inflating: /content/dataset/dataset/14_007_6_0078.bmp  \n",
      "  inflating: /content/dataset/dataset/14_021_1_0078.bmp  \n",
      "  inflating: /content/dataset/dataset/14_042_2_0065.bmp  \n",
      "  inflating: /content/dataset/dataset/14_024_4_0040.bmp  \n",
      "  inflating: /content/dataset/dataset/14_096_6_0053.bmp  \n",
      "  inflating: /content/dataset/dataset/14_088_1_0048.bmp  \n",
      "  inflating: /content/dataset/dataset/14_084_7_0037.bmp  \n",
      "  inflating: /content/dataset/dataset/14_022_7_0021.bmp  \n",
      "  inflating: /content/dataset/dataset/14_007_8_0058.bmp  \n",
      "  inflating: /content/dataset/dataset/14_085_2_0052.bmp  \n",
      "  inflating: /content/dataset/dataset/14_096_3_0062.bmp  \n",
      "  inflating: /content/dataset/dataset/14_019_5_0083.bmp  \n",
      "  inflating: /content/dataset/dataset/14_042_5_0031.bmp  \n",
      "  inflating: /content/dataset/dataset/14_029_2_0030.bmp  \n",
      "  inflating: /content/dataset/dataset/14_029_5_0099.bmp  \n",
      "  inflating: /content/dataset/dataset/14_031_6_0054.bmp  \n",
      "  inflating: /content/dataset/dataset/14_096_6_0028.bmp  \n",
      "  inflating: /content/dataset/dataset/14_085_2_0054.bmp  \n",
      "  inflating: /content/dataset/dataset/14_042_1_0054.bmp  \n",
      "  inflating: /content/dataset/dataset/14_053_1_0074.bmp  \n",
      "  inflating: /content/dataset/dataset/14_039_1_0058.bmp  \n",
      "  inflating: /content/dataset/dataset/14_033_4_0021.bmp  \n",
      "  inflating: /content/dataset/dataset/14_024_4_0058.bmp  \n",
      "  inflating: /content/dataset/dataset/14_032_7_0039.bmp  \n",
      "  inflating: /content/dataset/dataset/14_042_4_0030.bmp  \n",
      "  inflating: /content/dataset/dataset/14_058_3_0045.bmp  \n",
      "  inflating: /content/dataset/dataset/14_007_8_0067.bmp  \n",
      "  inflating: /content/dataset/dataset/14_024_1_0057.bmp  \n",
      "  inflating: /content/dataset/dataset/14_096_6_0033.bmp  \n",
      "  inflating: /content/dataset/dataset/14_029_4_0052.bmp  \n",
      "  inflating: /content/dataset/dataset/14_085_5_0063.bmp  \n",
      "  inflating: /content/dataset/dataset/14_095_7_0053.bmp  \n",
      "  inflating: /content/dataset/dataset/14_039_4_0045.bmp  \n",
      "  inflating: /content/dataset/dataset/14_031_6_0050.bmp  \n",
      "  inflating: /content/dataset/dataset/14_059_2_0063.bmp  \n",
      "  inflating: /content/dataset/dataset/14_087_2_0086.bmp  \n",
      "  inflating: /content/dataset/dataset/14_096_3_0052.bmp  \n",
      "  inflating: /content/dataset/dataset/14_039_2_0045.bmp  \n",
      "  inflating: /content/dataset/dataset/14_085_4_0049.bmp  \n",
      "  inflating: /content/dataset/dataset/14_066_2_0050.bmp  \n",
      "  inflating: /content/dataset/dataset/14_042_3_0065.bmp  \n",
      "  inflating: /content/dataset/dataset/14_007_6_0055.bmp  \n",
      "  inflating: /content/dataset/dataset/14_053_4_0063.bmp  \n",
      "  inflating: /content/dataset/dataset/14_029_1_0061.bmp  \n",
      "  inflating: /content/dataset/dataset/14_096_3_0047.bmp  \n",
      "  inflating: /content/dataset/dataset/14_059_1_0090.bmp  \n",
      "  inflating: /content/dataset/dataset/14_085_5_0051.bmp  \n",
      "  inflating: /content/dataset/dataset/14_066_2_0062.bmp  \n",
      "  inflating: /content/dataset/dataset/14_088_8_0039.bmp  \n",
      "  inflating: /content/dataset/dataset/14_024_3_0027.bmp  \n",
      "  inflating: /content/dataset/dataset/14_095_1_0047.bmp  \n",
      "  inflating: /content/dataset/dataset/14_007_6_0038.bmp  \n",
      "  inflating: /content/dataset/dataset/14_053_5_0055.bmp  \n",
      "  inflating: /content/dataset/dataset/14_085_5_0075.bmp  \n",
      "  inflating: /content/dataset/dataset/14_081_10_0036.bmp  \n",
      "  inflating: /content/dataset/dataset/14_088_1_0056.bmp  \n",
      "  inflating: /content/dataset/dataset/14_021_6_0056.bmp  \n",
      "  inflating: /content/dataset/dataset/14_031_4_0019.bmp  \n",
      "  inflating: /content/dataset/dataset/14_066_8_0030.bmp  \n",
      "  inflating: /content/dataset/dataset/14_028_1_0059.bmp  \n",
      "  inflating: /content/dataset/dataset/14_059_1_0081.bmp  \n",
      "  inflating: /content/dataset/dataset/14_022_3_0053.bmp  \n",
      "  inflating: /content/dataset/dataset/14_081_11_0026.bmp  \n",
      "  inflating: /content/dataset/dataset/14_066_2_0056.bmp  \n",
      "  inflating: /content/dataset/dataset/14_066_7_0052.bmp  \n",
      "  inflating: /content/dataset/dataset/14_032_4_0041.bmp  \n",
      "  inflating: /content/dataset/dataset/14_042_3_0030.bmp  \n",
      "  inflating: /content/dataset/dataset/14_039_1_0047.bmp  \n",
      "  inflating: /content/dataset/dataset/14_095_5_0040.bmp  \n",
      "  inflating: /content/dataset/dataset/14_031_7_0021.bmp  \n",
      "  inflating: /content/dataset/dataset/14_021_1_0055.bmp  \n",
      "  inflating: /content/dataset/dataset/14_059_1_0080.bmp  \n",
      "  inflating: /content/dataset/dataset/14_024_1_0051.bmp  \n",
      "  inflating: /content/dataset/dataset/14_033_4_0039.bmp  \n",
      "  inflating: /content/dataset/dataset/14_022_3_0056.bmp  \n",
      "  inflating: /content/dataset/dataset/14_007_8_0112.bmp  \n",
      "  inflating: /content/dataset/dataset/14_059_2_0049.bmp  \n",
      "  inflating: /content/dataset/dataset/14_039_4_0033.bmp  \n",
      "  inflating: /content/dataset/dataset/14_021_5_0051.bmp  \n",
      "  inflating: /content/dataset/dataset/14_039_5_0063.bmp  \n",
      "  inflating: /content/dataset/dataset/14_024_2_0056.bmp  \n",
      "  inflating: /content/dataset/dataset/14_024_3_0020.bmp  \n",
      "  inflating: /content/dataset/dataset/14_031_7_0061.bmp  \n",
      "  inflating: /content/dataset/dataset/14_096_2_0036.bmp  \n",
      "  inflating: /content/dataset/dataset/14_088_8_0048.bmp  \n",
      "  inflating: /content/dataset/dataset/14_098_3_0021.bmp  \n",
      "  inflating: /content/dataset/dataset/14_022_7_0040.bmp  \n",
      "  inflating: /content/dataset/dataset/14_096_3_0030.bmp  \n",
      "  inflating: /content/dataset/dataset/14_059_1_0078.bmp  \n",
      "  inflating: /content/dataset/dataset/14_095_2_0047.bmp  \n",
      "  inflating: /content/dataset/dataset/14_028_1_0066.bmp  \n",
      "  inflating: /content/dataset/dataset/14_022_6_0070.bmp  \n",
      "  inflating: /content/dataset/dataset/14_042_5_0046.bmp  \n",
      "  inflating: /content/dataset/dataset/14_053_1_0056.bmp  \n",
      "  inflating: /content/dataset/dataset/14_031_7_0043.bmp  \n",
      "  inflating: /content/dataset/dataset/14_029_5_0072.bmp  \n",
      "  inflating: /content/dataset/dataset/14_042_4_0070.bmp  \n",
      "  inflating: /content/dataset/dataset/14_021_5_0075.bmp  \n",
      "  inflating: /content/dataset/dataset/14_062_5_0043.bmp  \n",
      "  inflating: /content/dataset/dataset/14_077_5_0053.bmp  \n",
      "  inflating: /content/dataset/dataset/14_031_6_0066.bmp  \n",
      "  inflating: /content/dataset/dataset/14_053_5_0064.bmp  \n",
      "  inflating: /content/dataset/dataset/14_032_4_0062.bmp  \n",
      "  inflating: /content/dataset/dataset/14_053_2_0048.bmp  \n",
      "  inflating: /content/dataset/dataset/14_062_3_0068.bmp  \n",
      "  inflating: /content/dataset/dataset/14_022_3_0078.bmp  \n",
      "  inflating: /content/dataset/dataset/14_095_4_0042.bmp  \n",
      "  inflating: /content/dataset/dataset/14_028_1_0090.bmp  \n",
      "  inflating: /content/dataset/dataset/14_048_5_0018.bmp  \n",
      "  inflating: /content/dataset/dataset/14_062_2_0035.bmp  \n",
      "  inflating: /content/dataset/dataset/14_039_4_0049.bmp  \n",
      "  inflating: /content/dataset/dataset/14_048_2_0080.bmp  \n",
      "  inflating: /content/dataset/dataset/14_066_9_0060.bmp  \n",
      "  inflating: /content/dataset/dataset/14_048_5_0017.bmp  \n",
      "  inflating: /content/dataset/dataset/14_048_2_0081.bmp  \n",
      "  inflating: /content/dataset/dataset/14_084_3_0024.bmp  \n",
      "  inflating: /content/dataset/dataset/14_062_3_0074.bmp  \n",
      "  inflating: /content/dataset/dataset/14_048_4_0034.bmp  \n",
      "  inflating: /content/dataset/dataset/14_092_1_0049.bmp  \n",
      "  inflating: /content/dataset/dataset/14_083_7_0022.bmp  \n",
      "  inflating: /content/dataset/dataset/14_046_5_0066.bmp  \n",
      "  inflating: /content/dataset/dataset/14_084_5_0018.bmp  \n",
      "  inflating: /content/dataset/dataset/14_048_3_0078.bmp  \n",
      "  inflating: /content/dataset/dataset/14_023_2_0119.bmp  \n",
      "  inflating: /content/dataset/dataset/14_048_4_0064.bmp  \n",
      "  inflating: /content/dataset/dataset/14_084_1_0023.bmp  \n",
      "  inflating: /content/dataset/dataset/14_092_1_0037.bmp  \n",
      "  inflating: /content/dataset/dataset/14_062_2_0056.bmp  \n",
      "  inflating: /content/dataset/dataset/14_066_10_0044.bmp  \n",
      "  inflating: /content/dataset/dataset/14_048_4_0028.bmp  \n",
      "  inflating: /content/dataset/dataset/14_084_5_0023.bmp  \n",
      "  inflating: /content/dataset/dataset/14_057_3_0060.bmp  \n",
      "  inflating: /content/dataset/dataset/14_048_1_0083.bmp  \n",
      "  inflating: /content/dataset/dataset/14_062_2_0062.bmp  \n",
      "  inflating: /content/dataset/dataset/14_048_3_0062.bmp  \n",
      "  inflating: /content/dataset/dataset/14_084_5_0048.bmp  \n",
      "  inflating: /content/dataset/dataset/14_015_1_0030.bmp  \n",
      "  inflating: /content/dataset/dataset/14_092_1_0060.bmp  \n",
      "  inflating: /content/dataset/dataset/14_057_2_0063.bmp  \n",
      "  inflating: /content/dataset/dataset/14_073_1_0063.bmp  \n",
      "  inflating: /content/dataset/dataset/14_084_4_0021.bmp  \n",
      "  inflating: /content/dataset/dataset/14_057_2_0037.bmp  \n",
      "  inflating: /content/dataset/dataset/14_048_2_0098.bmp  \n",
      "  inflating: /content/dataset/dataset/14_084_5_0049.bmp  \n",
      "  inflating: /content/dataset/dataset/14_048_2_0072.bmp  \n",
      "  inflating: /content/dataset/dataset/14_057_2_0041.bmp  \n",
      "  inflating: /content/dataset/dataset/14_046_5_0055.bmp  \n",
      "  inflating: /content/dataset/dataset/14_048_2_0088.bmp  \n",
      "  inflating: /content/dataset/dataset/14_023_2_0111.bmp  \n",
      "  inflating: /content/dataset/dataset/14_046_5_0065.bmp  \n",
      "  inflating: /content/dataset/dataset/14_023_2_0106.bmp  \n",
      "  inflating: /content/dataset/dataset/14_062_3_0045.bmp  \n",
      "  inflating: /content/dataset/dataset/14_046_5_0075.bmp  \n",
      "  inflating: /content/dataset/dataset/14_092_1_0062.bmp  \n",
      "  inflating: /content/dataset/dataset/14_048_2_0061.bmp  \n",
      "  inflating: /content/dataset/dataset/14_048_3_0065.bmp  \n",
      "  inflating: /content/dataset/dataset/14_048_4_0027.bmp  \n",
      "  inflating: /content/dataset/dataset/14_084_5_0043.bmp  \n",
      "  inflating: /content/dataset/dataset/14_048_2_0021.bmp  \n",
      "  inflating: /content/dataset/dataset/14_048_2_0100.bmp  \n",
      "  inflating: /content/dataset/dataset/14_048_1_0021.bmp  \n",
      "  inflating: /content/dataset/dataset/14_048_2_0097.bmp  \n",
      "  inflating: /content/dataset/dataset/14_057_2_0069.bmp  \n",
      "  inflating: /content/dataset/dataset/14_057_2_0044.bmp  \n",
      "  inflating: /content/dataset/dataset/14_048_2_0084.bmp  \n",
      "  inflating: /content/dataset/dataset/14_066_10_0059.bmp  \n",
      "  inflating: /content/dataset/dataset/14_048_3_0047.bmp  \n",
      "  inflating: /content/dataset/dataset/14_066_9_0051.bmp  \n",
      "  inflating: /content/dataset/dataset/14_064_3_0014.bmp  \n",
      "  inflating: /content/dataset/dataset/14_062_2_0043.bmp  \n",
      "  inflating: /content/dataset/dataset/14_083_6_0046.bmp  \n",
      "  inflating: /content/dataset/dataset/14_091_1_0038.bmp  \n",
      "  inflating: /content/dataset/dataset/14_084_1_0031.bmp  \n",
      "  inflating: /content/dataset/dataset/14_084_3_0016.bmp  \n",
      "  inflating: /content/dataset/dataset/14_057_3_0076.bmp  \n",
      "  inflating: /content/dataset/dataset/14_092_1_0075.bmp  \n",
      "  inflating: /content/dataset/dataset/14_084_3_0028.bmp  \n",
      "  inflating: /content/dataset/dataset/14_084_9_0035.xml  \n",
      "  inflating: /content/dataset/dataset/14_051_2_0023.xml  \n",
      "  inflating: /content/dataset/dataset/14_087_3_0058.xml  \n",
      "  inflating: /content/dataset/dataset/14_053_5_0047.xml  \n",
      "  inflating: /content/dataset/dataset/14_087_3_0028.xml  \n",
      "  inflating: /content/dataset/dataset/14_075_1_0026.xml  \n",
      "  inflating: /content/dataset/dataset/14_084_9_0023.xml  \n",
      "  inflating: /content/dataset/dataset/14_096_2_0048.xml  \n",
      "  inflating: /content/dataset/dataset/14_075_5_0033.xml  \n",
      "  inflating: /content/dataset/dataset/14_070_5_0029.xml  \n",
      "  inflating: /content/dataset/dataset/14_096_2_0024.xml  \n",
      "  inflating: /content/dataset/dataset/14_094_3_0031.xml  \n",
      "  inflating: /content/dataset/dataset/14_051_2_0047.xml  \n",
      "  inflating: /content/dataset/dataset/14_066_7_0036.xml  \n",
      "  inflating: /content/dataset/dataset/14_095_4_0063.xml  \n",
      "  inflating: /content/dataset/dataset/14_084_9_0036.xml  \n",
      "  inflating: /content/dataset/dataset/14_075_4_0051.xml  \n",
      "  inflating: /content/dataset/dataset/14_087_1_0065.xml  \n",
      "  inflating: /content/dataset/dataset/14_064_2_0067.xml  \n",
      "  inflating: /content/dataset/dataset/14_070_3_0035.xml  \n",
      "  inflating: /content/dataset/dataset/14_055_5_0030.xml  \n",
      "  inflating: /content/dataset/dataset/14_088_6_0032.xml  \n",
      "  inflating: /content/dataset/dataset/14_088_2_0027.xml  \n",
      "  inflating: /content/dataset/dataset/14_095_4_0039.xml  \n",
      "  inflating: /content/dataset/dataset/14_092_2_0041.xml  \n",
      "  inflating: /content/dataset/dataset/14_051_5_0038.xml  \n",
      "  inflating: /content/dataset/dataset/14_099_5_0021.xml  \n",
      "  inflating: /content/dataset/dataset/14_095_8_0043.xml  \n",
      "  inflating: /content/dataset/dataset/14_070_3_0046.xml  \n",
      "  inflating: /content/dataset/dataset/14_051_8_0021.xml  \n",
      "  inflating: /content/dataset/dataset/14_095_1_0066.xml  \n",
      "  inflating: /content/dataset/dataset/14_055_5_0026.xml  \n",
      "  inflating: /content/dataset/dataset/14_050_9_0036.xml  \n",
      "  inflating: /content/dataset/dataset/14_080_3_0029.xml  \n",
      "  inflating: /content/dataset/dataset/14_068_6_0044.xml  \n",
      "  inflating: /content/dataset/dataset/14_096_5_0079.xml  \n",
      "  inflating: /content/dataset/dataset/14_085_4_0071.xml  \n",
      "  inflating: /content/dataset/dataset/14_097_1_0032.xml  \n",
      "  inflating: /content/dataset/dataset/14_094_2_0064.xml  \n",
      "  inflating: /content/dataset/dataset/14_098_4_0034.xml  \n",
      "  inflating: /content/dataset/dataset/14_066_2_0054.xml  \n",
      "  inflating: /content/dataset/dataset/14_095_8_0057.xml  \n",
      "  inflating: /content/dataset/dataset/14_064_2_0065.xml  \n",
      "  inflating: /content/dataset/dataset/14_094_2_0067.xml  \n",
      "  inflating: /content/dataset/dataset/14_064_2_0078.xml  \n",
      "  inflating: /content/dataset/dataset/14_059_1_0056.xml  \n",
      "  inflating: /content/dataset/dataset/14_067_4_0022.xml  \n",
      "  inflating: /content/dataset/dataset/14_075_6_0015.xml  \n",
      "  inflating: /content/dataset/dataset/14_066_2_0040.xml  \n",
      "  inflating: /content/dataset/dataset/14_085_4_0053.xml  \n",
      "  inflating: /content/dataset/dataset/14_088_1_0022.xml  \n",
      "  inflating: /content/dataset/dataset/14_070_3_0029.xml  \n",
      "  inflating: /content/dataset/dataset/14_083_1_0053.xml  \n",
      "  inflating: /content/dataset/dataset/14_096_3_0070.xml  \n",
      "  inflating: /content/dataset/dataset/14_075_4_0059.xml  \n",
      "  inflating: /content/dataset/dataset/14_095_2_0056.xml  \n",
      "  inflating: /content/dataset/dataset/14_051_5_0030.xml  \n",
      "  inflating: /content/dataset/dataset/14_084_7_0046.xml  \n",
      "  inflating: /content/dataset/dataset/14_096_5_0066.xml  \n",
      "  inflating: /content/dataset/dataset/14_085_2_0046.xml  \n",
      "  inflating: /content/dataset/dataset/14_066_3_0059.xml  \n",
      "  inflating: /content/dataset/dataset/14_051_8_0023.xml  \n",
      "  inflating: /content/dataset/dataset/14_098_4_0023.xml  \n",
      "  inflating: /content/dataset/dataset/14_088_8_0082.xml  \n",
      "  inflating: /content/dataset/dataset/14_068_3_0032.xml  \n",
      "  inflating: /content/dataset/dataset/14_088_8_0040.xml  \n",
      "  inflating: /content/dataset/dataset/14_069_1_0093.xml  \n",
      "  inflating: /content/dataset/dataset/14_067_7_0024.xml  \n",
      "  inflating: /content/dataset/dataset/14_095_2_0032.xml  \n",
      "  inflating: /content/dataset/dataset/14_077_6_0055.xml  \n",
      "  inflating: /content/dataset/dataset/14_052_1_0019.xml  \n",
      "  inflating: /content/dataset/dataset/14_095_7_0028.xml  \n",
      "  inflating: /content/dataset/dataset/14_059_1_0076.xml  \n",
      "  inflating: /content/dataset/dataset/14_088_3_0037.xml  \n",
      "  inflating: /content/dataset/dataset/14_053_4_0069.xml  \n",
      "  inflating: /content/dataset/dataset/14_055_6_0019.xml  \n",
      "  inflating: /content/dataset/dataset/14_066_7_0042.xml  \n",
      "  inflating: /content/dataset/dataset/14_087_3_0034.xml  \n",
      "  inflating: /content/dataset/dataset/14_075_5_0029.xml  \n",
      "  inflating: /content/dataset/dataset/14_068_3_0033.xml  \n",
      "  inflating: /content/dataset/dataset/14_088_5_0029.xml  \n",
      "  inflating: /content/dataset/dataset/14_053_2_0039.xml  \n",
      "  inflating: /content/dataset/dataset/14_095_8_0062.xml  \n",
      "  inflating: /content/dataset/dataset/14_059_2_0058.xml  \n",
      "  inflating: /content/dataset/dataset/14_087_1_0045.xml  \n",
      "  inflating: /content/dataset/dataset/14_068_3_0040.xml  \n",
      "  inflating: /content/dataset/dataset/14_095_8_0039.xml  \n",
      "  inflating: /content/dataset/dataset/14_085_2_0058.xml  \n",
      "  inflating: /content/dataset/dataset/14_059_1_0062.xml  \n",
      "  inflating: /content/dataset/dataset/14_088_6_0039.xml  \n",
      "  inflating: /content/dataset/dataset/14_080_3_0028.xml  \n",
      "  inflating: /content/dataset/dataset/14_085_4_0087.xml  \n",
      "  inflating: /content/dataset/dataset/14_096_4_0062.xml  \n",
      "  inflating: /content/dataset/dataset/14_051_2_0029.xml  \n",
      "  inflating: /content/dataset/dataset/14_095_7_0065.xml  \n",
      "  inflating: /content/dataset/dataset/14_095_1_0052.xml  \n",
      "  inflating: /content/dataset/dataset/14_085_4_0065.xml  \n",
      "  inflating: /content/dataset/dataset/14_070_5_0046.xml  \n",
      "  inflating: /content/dataset/dataset/14_064_2_0071.xml  \n",
      "  inflating: /content/dataset/dataset/14_087_2_0041.xml  \n",
      "  inflating: /content/dataset/dataset/14_080_2_0061.xml  \n",
      "  inflating: /content/dataset/dataset/14_084_6_0046.xml  \n",
      "  inflating: /content/dataset/dataset/14_055_5_0025.xml  \n",
      "  inflating: /content/dataset/dataset/14_075_4_0054.xml  \n",
      "  inflating: /content/dataset/dataset/14_066_8_0070.xml  \n",
      "  inflating: /content/dataset/dataset/14_069_1_0055.xml  \n",
      "  inflating: /content/dataset/dataset/14_098_4_0033.xml  \n",
      "  inflating: /content/dataset/dataset/14_050_10_0038.xml  \n",
      "  inflating: /content/dataset/dataset/14_084_3_0023.xml  \n",
      "  inflating: /content/dataset/dataset/14_084_5_0020.xml  \n",
      "  inflating: /content/dataset/dataset/14_092_1_0073.xml  \n",
      "  inflating: /content/dataset/dataset/14_062_2_0076.xml  \n",
      "  inflating: /content/dataset/dataset/14_064_3_0019.xml  \n",
      "  inflating: /content/dataset/dataset/14_084_3_0046.xml  \n",
      "  inflating: /content/dataset/dataset/14_050_10_0030.xml  \n",
      "  inflating: /content/dataset/dataset/14_092_1_0064.xml  \n",
      "  inflating: /content/dataset/dataset/14_092_1_0047.xml  \n",
      "  inflating: /content/dataset/dataset/14_084_1_0020.xml  \n",
      "  inflating: /content/dataset/dataset/14_081_10_0048.xml  \n",
      "  inflating: /content/dataset/dataset/14_062_3_0071.xml  \n",
      "  inflating: /content/dataset/dataset/14_084_1_0045.xml  \n",
      "  inflating: /content/dataset/dataset/14_064_3_0013.xml  \n",
      "  inflating: /content/dataset/dataset/14_073_1_0065.xml  \n",
      "  inflating: /content/dataset/dataset/14_091_1_0035.xml  \n",
      "  inflating: /content/dataset/dataset/14_083_6_0024.xml  \n",
      "  inflating: /content/dataset/dataset/14_084_5_0036.xml  \n",
      "  inflating: /content/dataset/dataset/14_064_3_0032.xml  \n",
      "  inflating: /content/dataset/dataset/14_051_10_0013.xml  \n",
      "  inflating: /content/dataset/dataset/14_084_5_0051.xml  \n",
      "  inflating: /content/dataset/dataset/14_010_1_0055.xml  \n",
      "  inflating: /content/dataset/dataset/14_039_5_0034.xml  \n",
      "  inflating: /content/dataset/dataset/14_039_5_0035.xml  \n",
      "  inflating: /content/dataset/dataset/14_028_2_0097.xml  \n",
      "  inflating: /content/dataset/dataset/14_024_5_0047.xml  \n",
      "  inflating: /content/dataset/dataset/14_029_6_0053.xml  \n",
      "  inflating: /content/dataset/dataset/14_044_5_0054.xml  \n",
      "  inflating: /content/dataset/dataset/14_039_5_0078.xml  \n",
      "  inflating: /content/dataset/dataset/14_039_1_0046.xml  \n",
      "  inflating: /content/dataset/dataset/14_019_5_0090.xml  \n",
      "  inflating: /content/dataset/dataset/14_039_5_0071.xml  \n",
      "  inflating: /content/dataset/dataset/14_046_6_0056.xml  \n",
      "  inflating: /content/dataset/dataset/14_042_4_0038.xml  \n",
      "  inflating: /content/dataset/dataset/14_017_1_0042.xml  \n",
      "  inflating: /content/dataset/dataset/14_042_4_0033.xml  \n",
      "  inflating: /content/dataset/dataset/14_014_1_0021.xml  \n",
      "  inflating: /content/dataset/dataset/14_024_4_0063.xml  \n",
      "  inflating: /content/dataset/dataset/14_042_5_0034.xml  \n",
      "  inflating: /content/dataset/dataset/14_034_6_0035.xml  \n",
      "  inflating: /content/dataset/dataset/14_007_3_0029.xml  \n",
      "  inflating: /content/dataset/dataset/14_017_1_0031.xml  \n",
      "  inflating: /content/dataset/dataset/14_042_2_0069.xml  \n",
      "  inflating: /content/dataset/dataset/14_042_3_0037.xml  \n",
      "  inflating: /content/dataset/dataset/14_016_1_0021.xml  \n",
      "  inflating: /content/dataset/dataset/14_080_2_0091.xml  \n",
      "  inflating: /content/dataset/dataset/14_094_3_0047.xml  \n",
      "  inflating: /content/dataset/dataset/14_075_2_0024.xml  \n",
      "  inflating: /content/dataset/dataset/14_095_7_0031.xml  \n",
      "  inflating: /content/dataset/dataset/14_095_8_0045.xml  \n",
      "  inflating: /content/dataset/dataset/14_085_5_0058.xml  \n",
      "  inflating: /content/dataset/dataset/14_053_5_0075.xml  \n",
      "  inflating: /content/dataset/dataset/14_085_4_0063.xml  \n",
      "  inflating: /content/dataset/dataset/14_094_2_0069.xml  \n",
      "  inflating: /content/dataset/dataset/14_088_5_0042.xml  \n",
      "  inflating: /content/dataset/dataset/14_070_4_0047.xml  \n",
      "  inflating: /content/dataset/dataset/14_064_2_0057.xml  \n",
      "  inflating: /content/dataset/dataset/14_081_11_0043.xml  \n",
      "  inflating: /content/dataset/dataset/14_062_2_0084.xml  \n",
      "  inflating: /content/dataset/dataset/14_057_2_0047.xml  \n",
      "  inflating: /content/dataset/dataset/14_024_5_0075.xml  \n",
      "  inflating: /content/dataset/dataset/14_084_5_0018.xml  \n",
      "  inflating: /content/dataset/dataset/14_022_6_0023.xml  \n",
      "  inflating: /content/dataset/dataset/14_024_2_0030.xml  \n",
      "  inflating: /content/dataset/dataset/14_031_3_0045.xml  \n",
      "  inflating: /content/dataset/dataset/14_007_3_0093.xml  \n",
      "  inflating: /content/dataset/dataset/14_006_1_0068.xml  \n",
      "  inflating: /content/dataset/dataset/14_046_3_0058.xml  \n",
      "  inflating: /content/dataset/dataset/14_031_4_0025.xml  \n",
      "  inflating: /content/dataset/dataset/14_031_5_0058.xml  \n",
      "  inflating: /content/dataset/dataset/14_007_5_0093.xml  \n",
      "  inflating: /content/dataset/dataset/14_007_3_0084.xml  \n",
      "  inflating: /content/dataset/dataset/14_042_2_0062.xml  \n",
      "  inflating: /content/dataset/dataset/14_029_4_0078.xml  \n",
      "  inflating: /content/dataset/dataset/14_032_7_0059.xml  \n",
      "  inflating: /content/dataset/dataset/14_022_3_0061.xml  \n",
      "  inflating: /content/dataset/dataset/14_026_2_0086.xml  \n",
      "  inflating: /content/dataset/dataset/14_022_6_0046.xml  \n",
      "  inflating: /content/dataset/dataset/14_046_6_0033.xml  \n",
      "  inflating: /content/dataset/dataset/14_032_6_0033.xml  \n",
      "  inflating: /content/dataset/dataset/14_031_5_0028.xml  \n",
      "  inflating: /content/dataset/dataset/14_024_2_0054.xml  \n",
      "  inflating: /content/dataset/dataset/14_033_4_0053.xml  \n",
      "  inflating: /content/dataset/dataset/14_029_7_0074.xml  \n",
      "  inflating: /content/dataset/dataset/14_028_1_0086.xml  \n",
      "  inflating: /content/dataset/dataset/14_031_3_0058.xml  \n",
      "  inflating: /content/dataset/dataset/14_032_4_0062.xml  \n",
      "  inflating: /content/dataset/dataset/14_029_6_0058.xml  \n",
      "  inflating: /content/dataset/dataset/14_023_3_0037.xml  \n",
      "  inflating: /content/dataset/dataset/14_042_3_0065.xml  \n",
      "  inflating: /content/dataset/dataset/14_029_2_0047.xml  \n",
      "  inflating: /content/dataset/dataset/14_049_1_0022.xml  \n",
      "  inflating: /content/dataset/dataset/14_042_1_0044.xml  \n",
      "  inflating: /content/dataset/dataset/14_007_5_0086.xml  \n",
      "  inflating: /content/dataset/dataset/14_031_8_0042.xml  \n",
      "  inflating: /content/dataset/dataset/14_033_3_0038.xml  \n",
      "  inflating: /content/dataset/dataset/14_022_7_0031.xml  \n",
      "  inflating: /content/dataset/dataset/14_002_5_0040.xml  \n",
      "  inflating: /content/dataset/dataset/14_007_3_0071.xml  \n",
      "  inflating: /content/dataset/dataset/14_039_4_0057.xml  \n",
      "  inflating: /content/dataset/dataset/14_018_8_0036.xml  \n",
      "  inflating: /content/dataset/dataset/14_029_7_0038.xml  \n",
      "  inflating: /content/dataset/dataset/14_032_6_0030.xml  \n",
      "  inflating: /content/dataset/dataset/14_022_7_0030.xml  \n",
      "  inflating: /content/dataset/dataset/14_040_2_0014.xml  \n",
      "  inflating: /content/dataset/dataset/14_022_3_0074.xml  \n",
      "  inflating: /content/dataset/dataset/14_023_4_0068.xml  \n",
      "  inflating: /content/dataset/dataset/14_029_5_0048.xml  \n",
      "  inflating: /content/dataset/dataset/14_046_6_0068.xml  \n",
      "  inflating: /content/dataset/dataset/14_029_2_0036.xml  \n",
      "  inflating: /content/dataset/dataset/14_032_4_0042.xml  \n",
      "  inflating: /content/dataset/dataset/14_017_1_0038.xml  \n",
      "  inflating: /content/dataset/dataset/14_039_5_0073.xml  \n",
      "  inflating: /content/dataset/dataset/14_022_7_0024.xml  \n",
      "  inflating: /content/dataset/dataset/14_029_5_0097.xml  \n",
      "  inflating: /content/dataset/dataset/14_033_3_0077.xml  \n",
      "  inflating: /content/dataset/dataset/14_006_1_0096.xml  \n",
      "  inflating: /content/dataset/dataset/14_006_1_0094.xml  \n",
      "  inflating: /content/dataset/dataset/14_002_8_0009.xml  \n",
      "  inflating: /content/dataset/dataset/14_007_8_0108.xml  \n",
      "  inflating: /content/dataset/dataset/14_042_4_0057.xml  \n",
      "  inflating: /content/dataset/dataset/14_042_5_0064.xml  \n",
      "  inflating: /content/dataset/dataset/14_022_3_0060.xml  \n",
      "  inflating: /content/dataset/dataset/14_007_3_0091.xml  \n",
      "  inflating: /content/dataset/dataset/14_028_1_0070.xml  \n",
      "  inflating: /content/dataset/dataset/14_018_8_0016.xml  \n",
      "  inflating: /content/dataset/dataset/14_039_1_0044.xml  \n",
      "  inflating: /content/dataset/dataset/14_095_5_0055.xml  \n",
      "  inflating: /content/dataset/dataset/14_053_1_0060.xml  \n",
      "  inflating: /content/dataset/dataset/14_053_5_0042.xml  \n",
      "  inflating: /content/dataset/dataset/14_053_5_0057.xml  \n",
      "  inflating: /content/dataset/dataset/14_083_1_0048.xml  \n",
      "  inflating: /content/dataset/dataset/14_077_6_0111.xml  \n",
      "  inflating: /content/dataset/dataset/14_095_8_0051.xml  \n",
      "  inflating: /content/dataset/dataset/14_066_2_0064.xml  \n",
      "  inflating: /content/dataset/dataset/14_098_3_0015.xml  \n",
      "  inflating: /content/dataset/dataset/14_085_4_0083.xml  \n",
      "  inflating: /content/dataset/dataset/14_057_3_0081.xml  \n",
      "  inflating: /content/dataset/dataset/14_066_8_0022.xml  \n",
      "  inflating: /content/dataset/dataset/14_021_16_0033.xml  \n",
      "  inflating: /content/dataset/dataset/14_066_10_0063.xml  \n",
      "  inflating: /content/dataset/dataset/14_021_16_0037.xml  \n",
      "  inflating: /content/dataset/dataset/14_010_6_0017.xml  \n",
      "  inflating: /content/dataset/dataset/14_016_1_0016.xml  \n",
      "  inflating: /content/dataset/dataset/14_023_3_0047.xml  \n",
      "  inflating: /content/dataset/dataset/14_024_6_0040.xml  \n",
      "  inflating: /content/dataset/dataset/14_007_5_0047.xml  \n",
      "  inflating: /content/dataset/dataset/14_021_4_0050.xml  \n",
      "  inflating: /content/dataset/dataset/14_007_6_0056.xml  \n",
      "  inflating: /content/dataset/dataset/14_024_6_0038.xml  \n",
      "  inflating: /content/dataset/dataset/14_026_3_0054.xml  \n",
      "  inflating: /content/dataset/dataset/14_029_2_0067.xml  \n",
      "  inflating: /content/dataset/dataset/14_031_6_0063.xml  \n",
      "  inflating: /content/dataset/dataset/14_021_1_0061.xml  \n",
      "  inflating: /content/dataset/dataset/14_031_8_0043.xml  \n",
      "  inflating: /content/dataset/dataset/14_024_6_0062.xml  \n",
      "  inflating: /content/dataset/dataset/14_021_4_0044.xml  \n",
      "  inflating: /content/dataset/dataset/14_032_7_0044.xml  \n",
      "  inflating: /content/dataset/dataset/14_029_2_0053.xml  \n",
      "  inflating: /content/dataset/dataset/14_007_6_0030.xml  \n",
      "  inflating: /content/dataset/dataset/14_006_1_0088.xml  \n",
      "  inflating: /content/dataset/dataset/14_024_6_0063.xml  \n",
      "  inflating: /content/dataset/dataset/14_021_6_0058.xml  \n",
      "  inflating: /content/dataset/dataset/14_042_4_0055.xml  \n",
      "  inflating: /content/dataset/dataset/14_007_3_0086.xml  \n",
      "  inflating: /content/dataset/dataset/14_029_2_0071.xml  \n",
      "  inflating: /content/dataset/dataset/14_024_1_0053.xml  \n",
      "  inflating: /content/dataset/dataset/14_048_4_0070.xml  \n",
      "  inflating: /content/dataset/dataset/14_049_1_0023.xml  \n",
      "  inflating: /content/dataset/dataset/14_039_7_0078.xml  \n",
      "  inflating: /content/dataset/dataset/14_026_3_0075.xml  \n",
      "  inflating: /content/dataset/dataset/14_042_5_0053.xml  \n",
      "  inflating: /content/dataset/dataset/14_029_5_0054.xml  \n",
      "  inflating: /content/dataset/dataset/14_019_5_0029.xml  \n",
      "  inflating: /content/dataset/dataset/14_029_7_0048.xml  \n",
      "  inflating: /content/dataset/dataset/14_029_5_0073.xml  \n",
      "  inflating: /content/dataset/dataset/14_026_3_0057.xml  \n",
      "  inflating: /content/dataset/dataset/14_007_8_0052.xml  \n",
      "  inflating: /content/dataset/dataset/14_040_5_0024.xml  \n",
      "  inflating: /content/dataset/dataset/14_033_3_0049.xml  \n",
      "  inflating: /content/dataset/dataset/14_029_1_0045.xml  \n",
      "  inflating: /content/dataset/dataset/14_019_5_0080.xml  \n",
      "  inflating: /content/dataset/dataset/14_018_8_0025.xml  \n",
      "  inflating: /content/dataset/dataset/14_023_3_0038.xml  \n",
      "  inflating: /content/dataset/dataset/14_042_2_0067.xml  \n",
      "  inflating: /content/dataset/dataset/14_033_3_0044.xml  \n",
      "  inflating: /content/dataset/dataset/14_007_5_0043.xml  \n",
      "  inflating: /content/dataset/dataset/14_021_16_0057.xml  \n",
      "  inflating: /content/dataset/dataset/14_022_6_0033.xml  \n",
      "  inflating: /content/dataset/dataset/14_021_4_0029.xml  \n",
      "  inflating: /content/dataset/dataset/14_007_8_0047.xml  \n",
      "  inflating: /content/dataset/dataset/14_007_3_0060.xml  \n",
      "  inflating: /content/dataset/dataset/14_023_4_0048.xml  \n",
      "  inflating: /content/dataset/dataset/14_021_2_0031.xml  \n",
      "  inflating: /content/dataset/dataset/14_003_1_0005.xml  \n",
      "  inflating: /content/dataset/dataset/14_026_2_0075.xml  \n",
      "  inflating: /content/dataset/dataset/14_029_7_0035.xml  \n",
      "  inflating: /content/dataset/dataset/14_033_4_0055.xml  \n",
      "  inflating: /content/dataset/dataset/14_016_1_0013.xml  \n",
      "  inflating: /content/dataset/dataset/14_006_1_0092.xml  \n",
      "  inflating: /content/dataset/dataset/14_006_1_0087.xml  \n",
      "  inflating: /content/dataset/dataset/14_006_1_0111.xml  \n",
      "  inflating: /content/dataset/dataset/14_024_2_0036.xml  \n",
      "  inflating: /content/dataset/dataset/14_022_7_0052.xml  \n",
      "  inflating: /content/dataset/dataset/14_007_8_0071.xml  \n",
      "  inflating: /content/dataset/dataset/14_026_2_0103.xml  \n",
      "  inflating: /content/dataset/dataset/14_031_4_0017.xml  \n",
      "  inflating: /content/dataset/dataset/14_034_7_0023.xml  \n",
      "  inflating: /content/dataset/dataset/14_031_8_0073.xml  \n",
      "  inflating: /content/dataset/dataset/14_028_1_0068.xml  \n",
      "  inflating: /content/dataset/dataset/14_039_5_0076.xml  \n",
      "  inflating: /content/dataset/dataset/14_022_2_0043.xml  \n",
      "  inflating: /content/dataset/dataset/14_050_9_0025.xml  \n",
      "  inflating: /content/dataset/dataset/14_085_5_0059.xml  \n",
      "  inflating: /content/dataset/dataset/14_096_3_0032.xml  \n",
      "  inflating: /content/dataset/dataset/14_069_1_0083.xml  \n",
      "  inflating: /content/dataset/dataset/14_095_1_0049.xml  \n",
      "  inflating: /content/dataset/dataset/14_070_5_0027.xml  \n",
      "  inflating: /content/dataset/dataset/14_095_2_0058.xml  \n",
      "  inflating: /content/dataset/dataset/14_068_2_0019.xml  \n",
      "  inflating: /content/dataset/dataset/14_094_3_0046.xml  \n",
      "  inflating: /content/dataset/dataset/14_095_8_0044.xml  \n",
      "  inflating: /content/dataset/dataset/14_059_1_0079.xml  \n",
      "  inflating: /content/dataset/dataset/14_088_1_0060.xml  \n",
      "  inflating: /content/dataset/dataset/14_073_1_0055.xml  \n",
      "  inflating: /content/dataset/dataset/14_084_5_0019.xml  \n",
      "  inflating: /content/dataset/dataset/14_083_7_0012.xml  \n",
      "  inflating: /content/dataset/dataset/14_031_7_0063.xml  \n",
      "  inflating: /content/dataset/dataset/14_031_6_0028.xml  \n",
      "  inflating: /content/dataset/dataset/14_046_6_0045.xml  \n",
      "  inflating: /content/dataset/dataset/14_033_4_0054.xml  \n",
      "  inflating: /content/dataset/dataset/14_046_3_0024.xml  \n",
      "  inflating: /content/dataset/dataset/14_042_2_0035.xml  \n",
      "  inflating: /content/dataset/dataset/14_031_7_0031.xml  \n",
      "  inflating: /content/dataset/dataset/14_021_16_0075.xml  \n",
      "  inflating: /content/dataset/dataset/14_006_1_0086.xml  \n",
      "  inflating: /content/dataset/dataset/14_029_7_0058.xml  \n",
      "  inflating: /content/dataset/dataset/14_024_6_0053.xml  \n",
      "  inflating: /content/dataset/dataset/14_031_8_0045.xml  \n",
      "  inflating: /content/dataset/dataset/14_019_5_0033.xml  \n",
      "  inflating: /content/dataset/dataset/14_021_1_0034.xml  \n",
      "  inflating: /content/dataset/dataset/14_023_4_0067.xml  \n",
      "  inflating: /content/dataset/dataset/14_026_3_0084.xml  \n",
      "  inflating: /content/dataset/dataset/14_042_3_0054.xml  \n",
      "  inflating: /content/dataset/dataset/14_002_5_0034.xml  \n",
      "  inflating: /content/dataset/dataset/14_029_4_0082.xml  \n",
      "  inflating: /content/dataset/dataset/14_042_4_0073.xml  \n",
      "  inflating: /content/dataset/dataset/14_031_5_0041.xml  \n",
      "  inflating: /content/dataset/dataset/14_048_4_0050.xml  \n",
      "  inflating: /content/dataset/dataset/14_042_3_0024.xml  \n",
      "  inflating: /content/dataset/dataset/14_021_15_0065.xml  \n",
      "  inflating: /content/dataset/dataset/14_048_4_0055.xml  \n",
      "  inflating: /content/dataset/dataset/14_021_16_0042.xml  \n",
      "  inflating: /content/dataset/dataset/14_021_16_0081.xml  \n",
      "  inflating: /content/dataset/dataset/14_023_2_0102.xml  \n",
      "  inflating: /content/dataset/dataset/14_007_10_0072.xml  \n",
      "  inflating: /content/dataset/dataset/14_021_30_0015.xml  \n",
      "  inflating: /content/dataset/dataset/14_048_4_0064.xml  \n",
      "  inflating: /content/dataset/dataset/14_021_31_0013.xml  \n",
      "  inflating: /content/dataset/dataset/14_015_1_0036.xml  \n",
      "  inflating: /content/dataset/dataset/14_048_5_0055.xml  \n",
      "  inflating: /content/dataset/dataset/14_007_10_0070.xml  \n",
      "  inflating: /content/dataset/dataset/14_048_2_0059.xml  \n",
      "  inflating: /content/dataset/dataset/14_021_38_0015.xml  \n",
      "  inflating: /content/dataset/dataset/14_007_10_0051.xml  \n",
      "  inflating: /content/dataset/dataset/14_015_1_0034.xml  \n",
      "  inflating: /content/dataset/dataset/14_015_1_0053.xml  \n",
      "  inflating: /content/dataset/dataset/14_046_5_0065.xml  \n",
      "  inflating: /content/dataset/dataset/14_046_5_0036.xml  \n",
      "  inflating: /content/dataset/dataset/14_048_5_0030.xml  \n",
      "  inflating: /content/dataset/dataset/14_048_3_0088.xml  \n",
      "  inflating: /content/dataset/dataset/14_048_2_0023.xml  \n",
      "  inflating: /content/dataset/dataset/14_048_5_0057.xml  \n",
      "  inflating: /content/dataset/dataset/14_048_2_0053.xml  \n",
      "  inflating: /content/dataset/dataset/14_021_37_0045.xml  \n",
      "  inflating: /content/dataset/dataset/14_007_10_0048.xml  \n",
      "  inflating: /content/dataset/dataset/14_048_2_0021.xml  \n",
      "  inflating: /content/dataset/dataset/14_023_2_0066.xml  \n",
      "  inflating: /content/dataset/dataset/14_021_38_0025.xml  \n",
      "  inflating: /content/dataset/dataset/14_021_37_0028.xml  \n",
      "  inflating: /content/dataset/dataset/14_021_31_0029.xml  \n",
      "  inflating: /content/dataset/dataset/14_050_6_0032.bmp  \n",
      "  inflating: /content/dataset/dataset/14_002_5_0039.bmp  \n",
      "  inflating: /content/dataset/dataset/14_067_7_0012.bmp  \n",
      "  inflating: /content/dataset/dataset/14_050_4_0032.bmp  \n",
      "  inflating: /content/dataset/dataset/14_068_2_0020.bmp  \n",
      "  inflating: /content/dataset/dataset/14_050_10_0033.bmp  \n",
      "  inflating: /content/dataset/dataset/14_068_1_0029.xml  \n",
      "  inflating: /content/dataset/dataset/14_087_2_0064.xml  \n",
      "  inflating: /content/dataset/dataset/14_064_2_0062.xml  \n",
      "  inflating: /content/dataset/dataset/14_095_2_0051.xml  \n",
      "  inflating: /content/dataset/dataset/14_094_3_0058.xml  \n",
      "  inflating: /content/dataset/dataset/14_069_1_0069.xml  \n",
      "  inflating: /content/dataset/dataset/14_059_1_0070.xml  \n",
      "  inflating: /content/dataset/dataset/14_087_2_0087.xml  \n",
      "  inflating: /content/dataset/dataset/14_076_3_0023.xml  \n",
      "  inflating: /content/dataset/dataset/14_059_1_0072.xml  \n",
      "  inflating: /content/dataset/dataset/14_073_1_0049.xml  \n",
      "  inflating: /content/dataset/dataset/14_031_5_0038.xml  \n",
      "  inflating: /content/dataset/dataset/14_039_2_0052.xml  \n",
      "  inflating: /content/dataset/dataset/14_084_3_0024.xml  \n",
      "  inflating: /content/dataset/dataset/14_028_2_0053.xml  \n",
      "  inflating: /content/dataset/dataset/14_039_4_0066.xml  \n",
      "  inflating: /content/dataset/dataset/14_033_3_0052.xml  \n",
      "  inflating: /content/dataset/dataset/14_021_1_0072.xml  \n",
      "  inflating: /content/dataset/dataset/14_034_6_0033.xml  \n",
      "  inflating: /content/dataset/dataset/14_042_4_0045.xml  \n",
      "  inflating: /content/dataset/dataset/14_046_6_0052.xml  \n",
      "  inflating: /content/dataset/dataset/14_023_4_0046.xml  \n",
      "  inflating: /content/dataset/dataset/14_024_3_0030.xml  \n",
      "  inflating: /content/dataset/dataset/14_018_6_0054.xml  \n",
      "  inflating: /content/dataset/dataset/14_048_1_0066.xml  \n",
      "  inflating: /content/dataset/dataset/14_021_29_0012.xml  \n",
      "  inflating: /content/dataset/dataset/14_033_3_0047.xml  \n",
      "  inflating: /content/dataset/dataset/14_007_10_0061.xml  \n",
      "  inflating: /content/dataset/dataset/14_048_3_0087.xml  \n",
      "  inflating: /content/dataset/dataset/14_007_10_0063.xml  \n",
      "  inflating: /content/dataset/dataset/14_014_1_0019.bmp  \n",
      "  inflating: /content/dataset/dataset/14_002_8_0008.bmp  \n",
      "  inflating: /content/dataset/dataset/14_021_35_0027.bmp  \n",
      "  inflating: /content/dataset/dataset/14_068_3_0025.bmp  \n",
      "  inflating: /content/dataset/dataset/14_040_1_0032.bmp  \n",
      "  inflating: /content/dataset/dataset/14_068_2_0022.bmp  \n",
      "  inflating: /content/dataset/dataset/14_094_3_0055.bmp  \n",
      "  inflating: /content/dataset/dataset/14_040_2_0020.bmp  \n",
      "  inflating: /content/dataset/dataset/14_021_31_0018.bmp  \n",
      "  inflating: /content/dataset/dataset/14_067_4_0021.bmp  \n",
      "  inflating: /content/dataset/dataset/14_094_2_0058.bmp  \n",
      "  inflating: /content/dataset/dataset/14_051_10_0021.bmp  \n",
      "  inflating: /content/dataset/dataset/14_075_4_0045.bmp  \n",
      "  inflating: /content/dataset/dataset/14_094_2_0065.bmp  \n",
      "  inflating: /content/dataset/dataset/14_075_6_0029.bmp  \n",
      "  inflating: /content/dataset/dataset/14_094_3_0033.bmp  \n",
      "  inflating: /content/dataset/dataset/14_055_6_0017.bmp  \n",
      "  inflating: /content/dataset/dataset/14_055_6_0016.bmp  \n",
      "  inflating: /content/dataset/dataset/14_044_3_0042.bmp  \n",
      "  inflating: /content/dataset/dataset/14_055_5_0013.bmp  \n",
      "  inflating: /content/dataset/dataset/14_044_3_0030.bmp  \n",
      "  inflating: /content/dataset/dataset/14_021_38_0023.bmp  \n",
      "  inflating: /content/dataset/dataset/14_050_8_0041.bmp  \n",
      "  inflating: /content/dataset/dataset/14_050_9_0044.bmp  \n",
      "  inflating: /content/dataset/dataset/14_070_4_0055.bmp  \n",
      "  inflating: /content/dataset/dataset/14_040_2_0021.bmp  \n",
      "  inflating: /content/dataset/dataset/14_070_5_0050.bmp  \n",
      "  inflating: /content/dataset/dataset/14_014_1_0027.bmp  \n",
      "  inflating: /content/dataset/dataset/14_040_2_0015.bmp  \n",
      "  inflating: /content/dataset/dataset/14_050_8_0040.bmp  \n",
      "  inflating: /content/dataset/dataset/14_051_2_0052.bmp  \n",
      "  inflating: /content/dataset/dataset/14_070_4_0033.bmp  \n",
      "  inflating: /content/dataset/dataset/14_010_6_0016.bmp  \n",
      "  inflating: /content/dataset/dataset/14_051_8_0023.bmp  \n",
      "  inflating: /content/dataset/dataset/14_055_5_0031.bmp  \n",
      "  inflating: /content/dataset/dataset/14_040_5_0033.bmp  \n",
      "  inflating: /content/dataset/dataset/14_034_7_0030.bmp  \n",
      "  inflating: /content/dataset/dataset/14_067_7_0019.bmp  \n",
      "  inflating: /content/dataset/dataset/14_096_6_0058.xml  \n",
      "  inflating: /content/dataset/dataset/14_066_7_0062.xml  \n",
      "  inflating: /content/dataset/dataset/14_069_1_0081.xml  \n",
      "  inflating: /content/dataset/dataset/14_068_6_0038.xml  \n",
      "  inflating: /content/dataset/dataset/14_092_2_0034.xml  \n",
      "  inflating: /content/dataset/dataset/14_084_6_0045.xml  \n",
      "  inflating: /content/dataset/dataset/14_067_4_0019.xml  \n",
      "  inflating: /content/dataset/dataset/14_095_5_0057.xml  \n",
      "  inflating: /content/dataset/dataset/14_059_2_0040.xml  \n",
      "  inflating: /content/dataset/dataset/14_096_2_0051.xml  \n",
      "  inflating: /content/dataset/dataset/14_070_5_0040.xml  \n",
      "  inflating: /content/dataset/dataset/14_095_8_0053.xml  \n",
      "  inflating: /content/dataset/dataset/14_050_9_0042.xml  \n",
      "  inflating: /content/dataset/dataset/14_069_1_0094.xml  \n",
      "  inflating: /content/dataset/dataset/14_073_1_0068.xml  \n",
      "  inflating: /content/dataset/dataset/14_084_1_0048.xml  \n",
      "  inflating: /content/dataset/dataset/14_096_5_0039.xml  \n",
      "  inflating: /content/dataset/dataset/14_016_1_0056.xml  \n",
      "  inflating: /content/dataset/dataset/14_042_3_0069.xml  \n",
      "  inflating: /content/dataset/dataset/14_033_4_0056.xml  \n",
      "  inflating: /content/dataset/dataset/14_007_5_0063.xml  \n",
      "  inflating: /content/dataset/dataset/14_039_1_0060.xml  \n",
      "  inflating: /content/dataset/dataset/14_022_6_0030.xml  \n",
      "  inflating: /content/dataset/dataset/14_046_3_0033.xml  \n",
      "  inflating: /content/dataset/dataset/14_007_6_0093.xml  \n",
      "  inflating: /content/dataset/dataset/14_026_2_0108.xml  \n",
      "  inflating: /content/dataset/dataset/14_007_8_0093.xml  \n",
      "  inflating: /content/dataset/dataset/14_029_6_0061.xml  \n",
      "  inflating: /content/dataset/dataset/14_048_2_0069.xml  \n",
      "  inflating: /content/dataset/dataset/14_007_10_0089.xml  \n",
      "  inflating: /content/dataset/dataset/14_010_1_0042.bmp  \n",
      "  inflating: /content/dataset/dataset/14_007_10_0068.xml  \n",
      "  inflating: /content/dataset/dataset/14_068_6_0035.bmp  \n",
      "  inflating: /content/dataset/dataset/14_023_2_0112.xml  \n",
      "  inflating: /content/dataset/dataset/14_075_6_0020.bmp  \n",
      "  inflating: /content/dataset/dataset/14_067_4_0017.bmp  \n",
      "  inflating: /content/dataset/dataset/14_021_37_0019.bmp  \n",
      "  inflating: /content/dataset/dataset/14_076_4_0021.bmp  \n",
      "  inflating: /content/dataset/dataset/14_052_1_0012.bmp  \n",
      "  inflating: /content/dataset/dataset/14_040_5_0027.bmp  \n",
      "  inflating: /content/dataset/dataset/14_044_1_0043.bmp  \n",
      "  inflating: /content/dataset/dataset/14_040_2_0028.bmp  \n",
      "  inflating: /content/dataset/dataset/14_051_6_0033.bmp  \n",
      "  inflating: /content/dataset/dataset/14_010_1_0028.bmp  \n",
      "  inflating: /content/dataset/dataset/14_014_1_0028.bmp  \n",
      "  inflating: /content/dataset/dataset/14_021_29_0030.bmp  \n",
      "  inflating: /content/dataset/dataset/14_050_4_0020.bmp  \n",
      "  inflating: /content/dataset/dataset/14_040_5_0028.bmp  \n",
      "  inflating: /content/dataset/dataset/14_068_2_0027.bmp  \n",
      "  inflating: /content/dataset/dataset/14_075_1_0020.bmp  \n",
      "  inflating: /content/dataset/dataset/14_040_7_0017.bmp  \n",
      "  inflating: /content/dataset/dataset/14_068_2_0032.bmp  \n",
      "  inflating: /content/dataset/dataset/14_075_5_0016.bmp  \n",
      "  inflating: /content/dataset/dataset/14_050_10_0029.bmp  \n",
      "  inflating: /content/dataset/dataset/14_050_4_0029.bmp  \n",
      "  inflating: /content/dataset/dataset/14_094_2_0043.bmp  \n",
      "  inflating: /content/dataset/dataset/14_050_6_0028.bmp  \n",
      "  inflating: /content/dataset/dataset/14_051_8_0019.bmp  \n",
      "  inflating: /content/dataset/dataset/14_051_10_0031.bmp  \n",
      "  inflating: /content/dataset/dataset/14_044_3_0045.bmp  \n",
      "  inflating: /content/dataset/dataset/14_021_34_0030.bmp  \n",
      "  inflating: /content/dataset/dataset/14_040_7_0020.bmp  \n",
      "  inflating: /content/dataset/dataset/14_055_8_0011.bmp  \n",
      "  inflating: /content/dataset/dataset/14_044_2_0024.bmp  \n",
      "  inflating: /content/dataset/dataset/14_003_1_0027.bmp  \n",
      "  inflating: /content/dataset/dataset/14_094_3_0036.bmp  \n",
      "  inflating: /content/dataset/dataset/14_055_5_0015.bmp  \n",
      "  inflating: /content/dataset/dataset/14_021_29_0012.bmp  \n",
      "  inflating: /content/dataset/dataset/14_076_3_0021.bmp  \n",
      "  inflating: /content/dataset/dataset/14_044_1_0050.bmp  \n",
      "  inflating: /content/dataset/dataset/14_050_10_0044.bmp  \n",
      "  inflating: /content/dataset/dataset/14_096_5_0054.xml  \n",
      "  inflating: /content/dataset/dataset/14_055_5_0028.xml  \n",
      "  inflating: /content/dataset/dataset/14_096_2_0017.xml  \n",
      "  inflating: /content/dataset/dataset/14_077_6_0112.xml  \n",
      "  inflating: /content/dataset/dataset/14_096_6_0021.xml  \n",
      "  inflating: /content/dataset/dataset/14_088_5_0048.xml  \n",
      "  inflating: /content/dataset/dataset/14_095_5_0061.xml  \n",
      "  inflating: /content/dataset/dataset/14_059_2_0048.xml  \n",
      "  inflating: /content/dataset/dataset/14_096_3_0062.xml  \n",
      "  inflating: /content/dataset/dataset/14_057_3_0063.xml  \n",
      "  inflating: /content/dataset/dataset/14_075_4_0032.xml  \n",
      "  inflating: /content/dataset/dataset/14_095_1_0057.xml  \n",
      "  inflating: /content/dataset/dataset/14_055_5_0034.xml  \n",
      "  inflating: /content/dataset/dataset/14_029_6_0057.xml  \n",
      "  inflating: /content/dataset/dataset/14_049_3_0040.xml  \n",
      "  inflating: /content/dataset/dataset/14_031_3_0043.xml  \n",
      "  inflating: /content/dataset/dataset/14_024_3_0040.xml  \n",
      "  inflating: /content/dataset/dataset/14_024_6_0021.xml  \n",
      "  inflating: /content/dataset/dataset/14_024_6_0028.xml  \n",
      "  inflating: /content/dataset/dataset/14_026_2_0055.xml  \n",
      "  inflating: /content/dataset/dataset/14_039_2_0036.xml  \n",
      "  inflating: /content/dataset/dataset/14_026_2_0100.xml  \n",
      "  inflating: /content/dataset/dataset/14_039_7_0061.xml  \n",
      "  inflating: /content/dataset/dataset/14_029_5_0037.xml  \n",
      "  inflating: /content/dataset/dataset/14_007_8_0035.xml  \n",
      "  inflating: /content/dataset/dataset/14_033_4_0061.xml  \n",
      "  inflating: /content/dataset/dataset/14_021_35_0008.xml  \n",
      "  inflating: /content/dataset/dataset/14_003_1_0025.bmp  \n",
      "  inflating: /content/dataset/dataset/14_046_5_0042.xml  \n",
      "  inflating: /content/dataset/dataset/14_021_37_0037.xml  \n",
      "  inflating: /content/dataset/dataset/14_012_4_0035.bmp  \n",
      "  inflating: /content/dataset/dataset/14_021_38_0042.bmp  \n",
      "  inflating: /content/dataset/dataset/14_055_5_0028.bmp  \n",
      "  inflating: /content/dataset/dataset/14_070_4_0034.bmp  \n",
      "  inflating: /content/dataset/dataset/14_050_9_0018.bmp  \n",
      "  inflating: /content/dataset/dataset/14_075_6_0027.bmp  \n",
      "  inflating: /content/dataset/dataset/14_021_38_0032.bmp  \n",
      "  inflating: /content/dataset/dataset/14_051_2_0049.bmp  \n",
      "  inflating: /content/dataset/dataset/14_051_8_0031.bmp  \n",
      "  inflating: /content/dataset/dataset/14_024_6_0040.bmp  \n",
      "  inflating: /content/dataset/dataset/14_024_6_0062.bmp  \n",
      "  inflating: /content/dataset/dataset/14_046_6_0055.bmp  \n",
      "  inflating: /content/dataset/dataset/14_024_6_0033.bmp  \n",
      "  inflating: /content/dataset/dataset/14_018_6_0047.bmp  \n",
      "  inflating: /content/dataset/dataset/14_021_4_0054.bmp  \n",
      "  inflating: /content/dataset/dataset/14_018_6_0041.bmp  \n",
      "  inflating: /content/dataset/dataset/14_046_6_0029.bmp  \n",
      "  inflating: /content/dataset/dataset/14_018_6_0054.bmp  \n",
      "  inflating: /content/dataset/dataset/14_068_6_0039.xml  \n",
      "  inflating: /content/dataset/dataset/14_080_3_0039.xml  \n",
      "  inflating: /content/dataset/dataset/14_053_5_0038.xml  \n",
      "  inflating: /content/dataset/dataset/14_084_9_0025.xml  \n",
      "  inflating: /content/dataset/dataset/14_096_2_0020.xml  \n",
      "  inflating: /content/dataset/dataset/14_083_1_0042.xml  \n",
      "  inflating: /content/dataset/dataset/14_096_3_0031.xml  \n",
      "  inflating: /content/dataset/dataset/14_088_8_0051.xml  \n",
      "  inflating: /content/dataset/dataset/14_095_2_0064.xml  \n",
      "  inflating: /content/dataset/dataset/14_092_2_0035.xml  \n",
      "  inflating: /content/dataset/dataset/14_053_4_0066.xml  \n",
      "  inflating: /content/dataset/dataset/14_062_2_0044.xml  \n",
      "  inflating: /content/dataset/dataset/14_057_3_0062.xml  \n",
      "  inflating: /content/dataset/dataset/14_007_6_0073.xml  \n",
      "  inflating: /content/dataset/dataset/14_031_8_0036.xml  \n",
      "  inflating: /content/dataset/dataset/14_039_7_0068.xml  \n",
      "  inflating: /content/dataset/dataset/14_042_1_0042.xml  \n",
      "  inflating: /content/dataset/dataset/14_006_1_0140.xml  \n",
      "  inflating: /content/dataset/dataset/14_021_35_0014.xml  \n",
      "  inflating: /content/dataset/dataset/14_039_7_0080.xml  \n",
      "  inflating: /content/dataset/dataset/14_042_2_0036.xml  \n",
      "  inflating: /content/dataset/dataset/14_021_29_0018.xml  \n",
      "  inflating: /content/dataset/dataset/14_048_4_0061.xml  \n",
      "  inflating: /content/dataset/dataset/14_021_29_0032.xml  \n",
      "  inflating: /content/dataset/dataset/14_070_3_0038.bmp  \n",
      "  inflating: /content/dataset/dataset/14_044_1_0023.bmp  \n",
      "  inflating: /content/dataset/dataset/14_050_9_0043.bmp  \n",
      "  inflating: /content/dataset/dataset/14_068_3_0021.bmp  \n",
      "  inflating: /content/dataset/dataset/14_051_2_0041.bmp  \n",
      "  inflating: /content/dataset/dataset/14_018_6_0026.bmp  \n",
      "  inflating: /content/dataset/dataset/14_021_4_0043.bmp  \n",
      "  inflating: /content/dataset/dataset/14_070_5_0048.xml  \n",
      "  inflating: /content/dataset/dataset/14_024_6_0066.xml  \n",
      "  inflating: /content/dataset/dataset/14_028_2_0087.xml  \n",
      "  inflating: /content/dataset/dataset/14_088_6_0044.xml  \n",
      "  inflating: /content/dataset/dataset/14_053_2_0073.xml  \n",
      "  inflating: /content/dataset/dataset/14_081_6_0032.xml  \n",
      "  inflating: /content/dataset/dataset/14_085_1_0084.xml  \n",
      "  inflating: /content/dataset/dataset/14_088_1_0025.xml  \n",
      "  inflating: /content/dataset/dataset/14_088_5_0039.xml  \n",
      "  inflating: /content/dataset/dataset/14_064_3_0017.xml  \n",
      "  inflating: /content/dataset/dataset/14_084_3_0025.xml  \n",
      "  inflating: /content/dataset/dataset/14_084_1_0025.xml  \n",
      "  inflating: /content/dataset/dataset/14_023_4_0071.xml  \n",
      "  inflating: /content/dataset/dataset/14_021_1_0064.xml  \n",
      "  inflating: /content/dataset/dataset/14_026_2_0024.xml  \n",
      "  inflating: /content/dataset/dataset/14_010_1_0009.xml  \n",
      "  inflating: /content/dataset/dataset/14_029_7_0064.xml  \n",
      "  inflating: /content/dataset/dataset/14_022_7_0059.xml  \n",
      "  inflating: /content/dataset/dataset/14_044_2_0032.bmp  \n",
      "  inflating: /content/dataset/dataset/14_014_1_0023.bmp  \n",
      "  inflating: /content/dataset/dataset/14_010_6_0042.bmp  \n",
      "  inflating: /content/dataset/dataset/14_021_29_0011.xml  \n",
      "  inflating: /content/dataset/dataset/14_012_4_0036.bmp  \n",
      "  inflating: /content/dataset/dataset/14_021_16_0082.bmp  \n",
      "  inflating: /content/dataset/dataset/14_039_7_0065.bmp  \n",
      "  inflating: /content/dataset/dataset/14_081_10_0046.bmp  \n",
      "  inflating: /content/dataset/dataset/14_028_2_0062.bmp  \n",
      "  inflating: /content/dataset/dataset/14_007_3_0042.bmp  \n",
      "  inflating: /content/dataset/dataset/14_081_7_0042.bmp  \n",
      "  inflating: /content/dataset/dataset/14_053_1_0072.bmp  \n",
      "  inflating: /content/dataset/dataset/14_059_2_0041.bmp  \n",
      "  inflating: /content/dataset/dataset/14_033_4_0060.bmp  \n",
      "  inflating: /content/dataset/dataset/14_021_1_0101.bmp  \n",
      "  inflating: /content/dataset/dataset/14_031_7_0078.bmp  \n",
      "  inflating: /content/dataset/dataset/14_081_11_0045.bmp  \n",
      "  inflating: /content/dataset/dataset/14_026_3_0079.bmp  \n",
      "  inflating: /content/dataset/dataset/14_022_6_0043.bmp  \n",
      "  inflating: /content/dataset/dataset/14_039_1_0043.bmp  \n",
      "  inflating: /content/dataset/dataset/14_049_4_0055.bmp  \n",
      "  inflating: /content/dataset/dataset/14_084_7_0042.bmp  \n",
      "  inflating: /content/dataset/dataset/14_019_5_0084.bmp  \n",
      "  inflating: /content/dataset/dataset/14_042_3_0054.bmp  \n",
      "  inflating: /content/dataset/dataset/14_033_4_0081.bmp  \n",
      "  inflating: /content/dataset/dataset/14_007_3_0085.bmp  \n",
      "  inflating: /content/dataset/dataset/14_016_1_0014.bmp  \n",
      "  inflating: /content/dataset/dataset/14_019_5_0044.bmp  \n",
      "  inflating: /content/dataset/dataset/14_088_6_0035.bmp  \n",
      "  inflating: /content/dataset/dataset/14_088_8_0075.bmp  \n",
      "  inflating: /content/dataset/dataset/14_059_2_0044.bmp  \n",
      "  inflating: /content/dataset/dataset/14_085_4_0038.bmp  \n",
      "  inflating: /content/dataset/dataset/14_029_1_0070.bmp  \n",
      "  inflating: /content/dataset/dataset/14_023_4_0061.bmp  \n",
      "  inflating: /content/dataset/dataset/14_081_3_0011.bmp  \n",
      "  inflating: /content/dataset/dataset/14_031_7_0057.bmp  \n",
      "  inflating: /content/dataset/dataset/14_021_5_0058.bmp  \n",
      "  inflating: /content/dataset/dataset/14_085_4_0061.bmp  \n",
      "  inflating: /content/dataset/dataset/14_029_5_0098.bmp  \n",
      "  inflating: /content/dataset/dataset/14_022_6_0028.bmp  \n",
      "  inflating: /content/dataset/dataset/14_022_2_0051.bmp  \n",
      "  inflating: /content/dataset/dataset/14_031_4_0039.bmp  \n",
      "  inflating: /content/dataset/dataset/14_088_8_0054.bmp  \n",
      "  inflating: /content/dataset/dataset/14_032_6_0031.bmp  \n",
      "  inflating: /content/dataset/dataset/14_029_5_0061.bmp  \n",
      "  inflating: /content/dataset/dataset/14_095_1_0059.bmp  \n",
      "  inflating: /content/dataset/dataset/14_022_3_0049.bmp  \n",
      "  inflating: /content/dataset/dataset/14_042_2_0073.bmp  \n",
      "  inflating: /content/dataset/dataset/14_066_2_0045.bmp  \n",
      "  inflating: /content/dataset/dataset/14_077_6_0113.bmp  \n",
      "  inflating: /content/dataset/dataset/14_085_5_0036.bmp  \n",
      "  inflating: /content/dataset/dataset/14_095_7_0034.bmp  \n",
      "  inflating: /content/dataset/dataset/14_033_4_0069.bmp  \n",
      "  inflating: /content/dataset/dataset/14_042_1_0026.bmp  \n",
      "  inflating: /content/dataset/dataset/14_029_4_0066.bmp  \n",
      "  inflating: /content/dataset/dataset/14_066_2_0048.bmp  \n",
      "  inflating: /content/dataset/dataset/14_084_9_0030.bmp  \n",
      "  inflating: /content/dataset/dataset/14_096_2_0028.bmp  \n",
      "  inflating: /content/dataset/dataset/14_088_1_0033.bmp  \n",
      "  inflating: /content/dataset/dataset/14_059_1_0093.bmp  \n",
      "  inflating: /content/dataset/dataset/14_042_1_0038.bmp  \n",
      "  inflating: /content/dataset/dataset/14_081_3_0034.bmp  \n",
      "  inflating: /content/dataset/dataset/14_029_2_0056.bmp  \n",
      "  inflating: /content/dataset/dataset/14_096_5_0038.bmp  \n",
      "  inflating: /content/dataset/dataset/14_064_2_0059.bmp  \n",
      "  inflating: /content/dataset/dataset/14_023_4_0052.bmp  \n",
      "  inflating: /content/dataset/dataset/14_081_3_0029.bmp  \n",
      "  inflating: /content/dataset/dataset/14_087_2_0027.bmp  \n",
      "  inflating: /content/dataset/dataset/14_095_4_0016.bmp  \n",
      "  inflating: /content/dataset/dataset/14_084_6_0036.bmp  \n",
      "  inflating: /content/dataset/dataset/14_033_4_0020.bmp  \n",
      "  inflating: /content/dataset/dataset/14_087_1_0079.bmp  \n",
      "  inflating: /content/dataset/dataset/14_077_6_0065.bmp  \n",
      "  inflating: /content/dataset/dataset/14_022_7_0059.bmp  \n",
      "  inflating: /content/dataset/dataset/14_033_3_0047.bmp  \n",
      "  inflating: /content/dataset/dataset/14_026_2_0046.bmp  \n",
      "  inflating: /content/dataset/dataset/14_033_3_0085.bmp  \n",
      "  inflating: /content/dataset/dataset/14_088_2_0036.bmp  \n",
      "  inflating: /content/dataset/dataset/14_023_4_0071.bmp  \n",
      "  inflating: /content/dataset/dataset/14_085_4_0037.bmp  \n",
      "  inflating: /content/dataset/dataset/14_039_7_0055.bmp  \n",
      "  inflating: /content/dataset/dataset/14_085_5_0073.bmp  \n",
      "  inflating: /content/dataset/dataset/14_024_5_0080.bmp  \n",
      "  inflating: /content/dataset/dataset/14_024_1_0060.bmp  \n",
      "  inflating: /content/dataset/dataset/14_024_3_0032.bmp  \n",
      "  inflating: /content/dataset/dataset/14_006_1_0051.bmp  \n",
      "  inflating: /content/dataset/dataset/14_084_7_0067.bmp  \n",
      "  inflating: /content/dataset/dataset/14_022_7_0050.bmp  \n",
      "  inflating: /content/dataset/dataset/14_006_1_0064.bmp  \n",
      "  inflating: /content/dataset/dataset/14_077_5_0065.bmp  \n",
      "  inflating: /content/dataset/dataset/14_088_5_0026.bmp  \n",
      "  inflating: /content/dataset/dataset/14_042_5_0050.bmp  \n",
      "  inflating: /content/dataset/dataset/14_021_6_0050.bmp  \n",
      "  inflating: /content/dataset/dataset/14_029_1_0042.bmp  \n",
      "  inflating: /content/dataset/dataset/14_085_2_0064.bmp  \n",
      "  inflating: /content/dataset/dataset/14_096_4_0070.bmp  \n",
      "  inflating: /content/dataset/dataset/14_022_1_0050.bmp  \n",
      "  inflating: /content/dataset/dataset/14_069_1_0067.bmp  \n",
      "  inflating: /content/dataset/dataset/14_042_3_0056.bmp  \n",
      "  inflating: /content/dataset/dataset/14_022_2_0040.bmp  \n",
      "  inflating: /content/dataset/dataset/14_046_3_0048.bmp  \n",
      "  inflating: /content/dataset/dataset/14_024_3_0021.bmp  \n",
      "  inflating: /content/dataset/dataset/14_022_1_0042.bmp  \n",
      "  inflating: /content/dataset/dataset/14_007_8_0101.bmp  \n",
      "  inflating: /content/dataset/dataset/14_077_6_0112.bmp  \n",
      "  inflating: /content/dataset/dataset/14_085_5_0071.bmp  \n",
      "  inflating: /content/dataset/dataset/14_019_5_0073.bmp  \n",
      "  inflating: /content/dataset/dataset/14_007_8_0105.bmp  \n",
      "  inflating: /content/dataset/dataset/14_080_2_0067.bmp  \n",
      "  inflating: /content/dataset/dataset/14_024_4_0059.bmp  \n",
      "  inflating: /content/dataset/dataset/14_098_4_0034.bmp  \n",
      "  inflating: /content/dataset/dataset/14_096_3_0036.bmp  \n",
      "  inflating: /content/dataset/dataset/14_021_1_0062.bmp  \n",
      "  inflating: /content/dataset/dataset/14_042_3_0036.bmp  \n",
      "  inflating: /content/dataset/dataset/14_022_3_0079.bmp  \n",
      "  inflating: /content/dataset/dataset/14_033_4_0040.bmp  \n",
      "  inflating: /content/dataset/dataset/14_084_6_0040.bmp  \n",
      "  inflating: /content/dataset/dataset/14_039_5_0078.bmp  \n",
      "  inflating: /content/dataset/dataset/14_053_5_0054.bmp  \n",
      "  inflating: /content/dataset/dataset/14_059_1_0099.bmp  \n",
      "  inflating: /content/dataset/dataset/14_098_3_0013.bmp  \n",
      "  inflating: /content/dataset/dataset/14_096_3_0032.bmp  \n",
      "  inflating: /content/dataset/dataset/14_085_5_0035.bmp  \n",
      "  inflating: /content/dataset/dataset/14_016_1_0060.bmp  \n",
      "  inflating: /content/dataset/dataset/14_024_5_0062.bmp  \n",
      "  inflating: /content/dataset/dataset/14_077_6_0072.bmp  \n",
      "  inflating: /content/dataset/dataset/14_022_1_0058.bmp  \n",
      "  inflating: /content/dataset/dataset/14_053_1_0075.bmp  \n",
      "  inflating: /content/dataset/dataset/14_039_4_0070.bmp  \n",
      "  inflating: /content/dataset/dataset/14_033_4_0018.bmp  \n",
      "  inflating: /content/dataset/dataset/14_088_8_0068.bmp  \n",
      "  inflating: /content/dataset/dataset/14_022_6_0057.bmp  \n",
      "  inflating: /content/dataset/dataset/14_097_2_0030.bmp  \n",
      "  inflating: /content/dataset/dataset/14_053_5_0078.bmp  \n",
      "  inflating: /content/dataset/dataset/14_028_1_0085.bmp  \n",
      "  inflating: /content/dataset/dataset/14_096_6_0045.bmp  \n",
      "  inflating: /content/dataset/dataset/14_007_8_0053.bmp  \n",
      "  inflating: /content/dataset/dataset/14_026_3_0057.bmp  \n",
      "  inflating: /content/dataset/dataset/14_007_10_0063.bmp  \n",
      "  inflating: /content/dataset/dataset/14_007_5_0115.bmp  \n",
      "  inflating: /content/dataset/dataset/14_095_5_0061.bmp  \n",
      "  inflating: /content/dataset/dataset/14_098_3_0025.bmp  \n",
      "  inflating: /content/dataset/dataset/14_006_1_0103.bmp  \n",
      "  inflating: /content/dataset/dataset/14_021_1_0033.bmp  \n",
      "  inflating: /content/dataset/dataset/14_046_3_0057.bmp  \n",
      "  inflating: /content/dataset/dataset/14_019_5_0094.bmp  \n",
      "  inflating: /content/dataset/dataset/14_087_2_0054.bmp  \n",
      "  inflating: /content/dataset/dataset/14_081_3_0025.bmp  \n",
      "  inflating: /content/dataset/dataset/14_087_3_0045.bmp  \n",
      "  inflating: /content/dataset/dataset/14_042_1_0048.bmp  \n",
      "  inflating: /content/dataset/dataset/14_033_4_0046.bmp  \n",
      "  inflating: /content/dataset/dataset/14_085_2_0062.bmp  \n",
      "  inflating: /content/dataset/dataset/14_053_2_0075.bmp  \n",
      "  inflating: /content/dataset/dataset/14_077_5_0071.bmp  \n",
      "  inflating: /content/dataset/dataset/14_085_1_0054.bmp  \n",
      "  inflating: /content/dataset/dataset/14_096_6_0020.bmp  \n",
      "  inflating: /content/dataset/dataset/14_053_2_0062.bmp  \n",
      "  inflating: /content/dataset/dataset/14_088_3_0053.bmp  \n",
      "  inflating: /content/dataset/dataset/14_039_5_0030.bmp  \n",
      "  inflating: /content/dataset/dataset/14_029_6_0100.bmp  \n",
      "  inflating: /content/dataset/dataset/14_080_2_0080.bmp  \n",
      "  inflating: /content/dataset/dataset/14_042_4_0060.bmp  \n",
      "  inflating: /content/dataset/dataset/14_026_3_0078.bmp  \n",
      "  inflating: /content/dataset/dataset/14_033_3_0057.bmp  \n",
      "  inflating: /content/dataset/dataset/14_016_1_0038.bmp  \n",
      "  inflating: /content/dataset/dataset/14_081_7_0024.bmp  \n",
      "  inflating: /content/dataset/dataset/14_029_7_0037.bmp  \n",
      "  inflating: /content/dataset/dataset/14_095_4_0017.bmp  \n",
      "  inflating: /content/dataset/dataset/14_031_8_0075.bmp  \n",
      "  inflating: /content/dataset/dataset/14_096_2_0055.bmp  \n",
      "  inflating: /content/dataset/dataset/14_019_5_0079.bmp  \n",
      "  inflating: /content/dataset/dataset/14_028_1_0075.bmp  \n",
      "  inflating: /content/dataset/dataset/14_098_3_0008.bmp  \n",
      "  inflating: /content/dataset/dataset/14_031_6_0033.bmp  \n",
      "  inflating: /content/dataset/dataset/14_053_2_0050.bmp  \n",
      "  inflating: /content/dataset/dataset/14_028_1_0082.bmp  \n",
      "  inflating: /content/dataset/dataset/14_049_4_0031.bmp  \n",
      "  inflating: /content/dataset/dataset/14_096_2_0043.bmp  \n",
      "  inflating: /content/dataset/dataset/14_019_5_0081.bmp  \n",
      "  inflating: /content/dataset/dataset/14_039_5_0040.bmp  \n",
      "  inflating: /content/dataset/dataset/14_066_8_0032.bmp  \n",
      "  inflating: /content/dataset/dataset/14_023_3_0034.bmp  \n",
      "  inflating: /content/dataset/dataset/14_039_5_0066.bmp  \n",
      "  inflating: /content/dataset/dataset/14_087_1_0055.bmp  \n",
      "  inflating: /content/dataset/dataset/14_062_5_0069.bmp  \n",
      "  inflating: /content/dataset/dataset/14_096_6_0064.bmp  \n",
      "  inflating: /content/dataset/dataset/14_088_8_0074.bmp  \n",
      "  inflating: /content/dataset/dataset/14_028_1_0064.bmp  \n",
      "  inflating: /content/dataset/dataset/14_042_5_0033.bmp  \n",
      "  inflating: /content/dataset/dataset/14_077_5_0055.bmp  \n",
      "  inflating: /content/dataset/dataset/14_024_5_0072.bmp  \n",
      "  inflating: /content/dataset/dataset/14_022_2_0047.bmp  \n",
      "  inflating: /content/dataset/dataset/14_077_5_0059.bmp  \n",
      "  inflating: /content/dataset/dataset/14_026_3_0085.bmp  \n",
      "  inflating: /content/dataset/dataset/14_058_4_0047.bmp  \n",
      "  inflating: /content/dataset/dataset/14_095_2_0054.bmp  \n",
      "  inflating: /content/dataset/dataset/14_042_3_0034.bmp  \n",
      "  inflating: /content/dataset/dataset/14_095_4_0057.bmp  \n",
      "  inflating: /content/dataset/dataset/14_023_4_0048.bmp  \n",
      "  inflating: /content/dataset/dataset/14_029_6_0057.bmp  \n",
      "  inflating: /content/dataset/dataset/14_007_10_0089.bmp  \n",
      "  inflating: /content/dataset/dataset/14_084_9_0020.bmp  \n",
      "  inflating: /content/dataset/dataset/14_088_8_0065.bmp  \n",
      "  inflating: /content/dataset/dataset/14_095_4_0035.bmp  \n",
      "  inflating: /content/dataset/dataset/14_046_3_0038.bmp  \n",
      "  inflating: /content/dataset/dataset/14_098_4_0028.bmp  \n",
      "  inflating: /content/dataset/dataset/14_080_2_0090.bmp  \n",
      "  inflating: /content/dataset/dataset/14_026_2_0107.bmp  \n",
      "  inflating: /content/dataset/dataset/14_029_7_0054.bmp  \n",
      "  inflating: /content/dataset/dataset/14_058_3_0061.bmp  \n",
      "  inflating: /content/dataset/dataset/14_053_2_0034.bmp  \n",
      "  inflating: /content/dataset/dataset/14_021_1_0046.bmp  \n",
      "  inflating: /content/dataset/dataset/14_096_2_0014.bmp  \n",
      "  inflating: /content/dataset/dataset/14_023_3_0039.bmp  \n",
      "  inflating: /content/dataset/dataset/14_088_1_0044.bmp  \n",
      "  inflating: /content/dataset/dataset/14_024_4_0033.bmp  \n",
      "  inflating: /content/dataset/dataset/14_097_2_0022.bmp  \n",
      "  inflating: /content/dataset/dataset/14_039_5_0079.bmp  \n",
      "  inflating: /content/dataset/dataset/14_019_5_0068.bmp  \n",
      "  inflating: /content/dataset/dataset/14_039_4_0054.bmp  \n",
      "  inflating: /content/dataset/dataset/14_024_3_0051.bmp  \n",
      "  inflating: /content/dataset/dataset/14_016_1_0057.bmp  \n",
      "  inflating: /content/dataset/dataset/14_022_1_0064.bmp  \n",
      "  inflating: /content/dataset/dataset/14_031_7_0036.bmp  \n",
      "  inflating: /content/dataset/dataset/14_028_2_0090.bmp  \n",
      "  inflating: /content/dataset/dataset/14_019_5_0052.bmp  \n",
      "  inflating: /content/dataset/dataset/14_033_3_0039.bmp  \n",
      "  inflating: /content/dataset/dataset/14_016_1_0034.bmp  \n",
      "  inflating: /content/dataset/dataset/14_007_10_0061.bmp  \n",
      "  inflating: /content/dataset/dataset/14_032_7_0053.bmp  \n",
      "  inflating: /content/dataset/dataset/14_006_1_0069.bmp  \n",
      "  inflating: /content/dataset/dataset/14_024_4_0052.bmp  \n",
      "  inflating: /content/dataset/dataset/14_007_3_0066.bmp  \n",
      "  inflating: /content/dataset/dataset/14_033_3_0054.bmp  \n",
      "  inflating: /content/dataset/dataset/14_042_5_0040.bmp  \n",
      "  inflating: /content/dataset/dataset/14_039_5_0074.bmp  \n",
      "  inflating: /content/dataset/dataset/14_042_4_0037.bmp  \n",
      "  inflating: /content/dataset/dataset/14_085_1_0097.bmp  \n",
      "  inflating: /content/dataset/dataset/14_031_8_0059.bmp  \n",
      "  inflating: /content/dataset/dataset/14_028_3_0056.bmp  \n",
      "  inflating: /content/dataset/dataset/14_083_1_0061.bmp  \n",
      "  inflating: /content/dataset/dataset/14_095_2_0056.bmp  \n",
      "  inflating: /content/dataset/dataset/14_029_5_0032.bmp  \n",
      "  inflating: /content/dataset/dataset/14_095_5_0049.bmp  \n",
      "  inflating: /content/dataset/dataset/14_096_3_0042.bmp  \n",
      "  inflating: /content/dataset/dataset/14_039_4_0066.bmp  \n",
      "  inflating: /content/dataset/dataset/14_039_5_0052.bmp  \n",
      "  inflating: /content/dataset/dataset/14_033_4_0080.bmp  \n",
      "  inflating: /content/dataset/dataset/14_029_2_0080.bmp  \n",
      "  inflating: /content/dataset/dataset/14_084_7_0031.bmp  \n",
      "  inflating: /content/dataset/dataset/14_031_6_0055.bmp  \n",
      "  inflating: /content/dataset/dataset/14_085_1_0058.bmp  \n",
      "  inflating: /content/dataset/dataset/14_088_8_0076.bmp  \n",
      "  inflating: /content/dataset/dataset/14_033_3_0066.bmp  \n",
      "  inflating: /content/dataset/dataset/14_028_2_0050.bmp  \n",
      "  inflating: /content/dataset/dataset/14_092_2_0025.bmp  \n",
      "  inflating: /content/dataset/dataset/14_096_2_0027.bmp  \n",
      "  inflating: /content/dataset/dataset/14_085_2_0044.bmp  \n",
      "  inflating: /content/dataset/dataset/14_058_4_0033.bmp  \n",
      "  inflating: /content/dataset/dataset/14_031_5_0052.bmp  \n",
      "  inflating: /content/dataset/dataset/14_097_2_0017.bmp  \n",
      "  inflating: /content/dataset/dataset/14_029_7_0070.bmp  \n",
      "  inflating: /content/dataset/dataset/14_081_6_0039.bmp  \n",
      "  inflating: /content/dataset/dataset/14_053_5_0075.bmp  \n",
      "  inflating: /content/dataset/dataset/14_024_5_0078.bmp  \n",
      "  inflating: /content/dataset/dataset/14_095_8_0042.bmp  \n",
      "  inflating: /content/dataset/dataset/14_095_8_0038.bmp  \n",
      "  inflating: /content/dataset/dataset/14_046_3_0032.bmp  \n",
      "  inflating: /content/dataset/dataset/14_046_3_0053.bmp  \n",
      "  inflating: /content/dataset/dataset/14_088_1_0038.bmp  \n",
      "  inflating: /content/dataset/dataset/14_033_3_0040.bmp  \n",
      "  inflating: /content/dataset/dataset/14_049_1_0025.bmp  \n",
      "  inflating: /content/dataset/dataset/14_031_6_0052.bmp  \n",
      "  inflating: /content/dataset/dataset/14_062_5_0058.bmp  \n",
      "  inflating: /content/dataset/dataset/14_023_3_0033.bmp  \n",
      "  inflating: /content/dataset/dataset/14_031_7_0035.bmp  \n",
      "  inflating: /content/dataset/dataset/14_087_3_0036.bmp  \n",
      "  inflating: /content/dataset/dataset/14_006_1_0127.bmp  \n",
      "  inflating: /content/dataset/dataset/14_077_5_0077.bmp  \n",
      "  inflating: /content/dataset/dataset/14_088_3_0035.bmp  \n",
      "  inflating: /content/dataset/dataset/14_042_2_0052.bmp  \n",
      "  inflating: /content/dataset/dataset/14_085_4_0042.bmp  \n",
      "  inflating: /content/dataset/dataset/14_022_7_0055.bmp  \n",
      "  inflating: /content/dataset/dataset/14_007_5_0070.bmp  \n",
      "  inflating: /content/dataset/dataset/14_039_2_0057.bmp  \n",
      "  inflating: /content/dataset/dataset/14_095_1_0037.bmp  \n",
      "  inflating: /content/dataset/dataset/14_024_2_0042.bmp  \n",
      "  inflating: /content/dataset/dataset/14_032_6_0070.bmp  \n",
      "  inflating: /content/dataset/dataset/14_039_5_0072.bmp  \n",
      "  inflating: /content/dataset/dataset/14_026_2_0052.bmp  \n",
      "  inflating: /content/dataset/dataset/14_039_4_0046.bmp  \n",
      "  inflating: /content/dataset/dataset/14_022_2_0046.bmp  \n",
      "  inflating: /content/dataset/dataset/14_039_5_0069.bmp  \n",
      "  inflating: /content/dataset/dataset/14_031_8_0053.bmp  \n",
      "  inflating: /content/dataset/dataset/14_006_1_0046.bmp  \n",
      "  inflating: /content/dataset/dataset/14_058_4_0049.bmp  \n",
      "  inflating: /content/dataset/dataset/14_007_3_0029.bmp  \n",
      "  inflating: /content/dataset/dataset/14_042_1_0022.bmp  \n",
      "  inflating: /content/dataset/dataset/14_031_3_0065.bmp  \n",
      "  inflating: /content/dataset/dataset/14_007_10_0073.bmp  \n",
      "  inflating: /content/dataset/dataset/14_087_2_0028.bmp  \n",
      "  inflating: /content/dataset/dataset/14_046_3_0047.bmp  \n",
      "  inflating: /content/dataset/dataset/14_021_5_0073.bmp  \n",
      "  inflating: /content/dataset/dataset/14_053_2_0054.bmp  \n",
      "  inflating: /content/dataset/dataset/14_088_1_0039.bmp  \n",
      "  inflating: /content/dataset/dataset/14_007_10_0074.bmp  \n",
      "  inflating: /content/dataset/dataset/14_096_2_0038.bmp  \n",
      "  inflating: /content/dataset/dataset/14_007_3_0050.bmp  \n",
      "  inflating: /content/dataset/dataset/14_048_4_0030.bmp  \n",
      "  inflating: /content/dataset/dataset/14_083_7_0016.bmp  \n",
      "  inflating: /content/dataset/dataset/14_015_1_0003.bmp  \n",
      "  inflating: /content/dataset/dataset/14_048_5_0079.bmp  \n",
      "  inflating: /content/dataset/dataset/14_023_2_0113.bmp  \n",
      "  inflating: /content/dataset/dataset/14_048_2_0050.bmp  \n",
      "  inflating: /content/dataset/dataset/14_066_10_0051.bmp  \n",
      "  inflating: /content/dataset/dataset/14_048_2_0044.bmp  \n",
      "  inflating: /content/dataset/dataset/14_046_5_0082.bmp  \n",
      "  inflating: /content/dataset/dataset/14_084_1_0055.bmp  \n",
      "  inflating: /content/dataset/dataset/14_048_1_0066.bmp  \n",
      "  inflating: /content/dataset/dataset/14_048_5_0062.bmp  \n",
      "  inflating: /content/dataset/dataset/14_083_6_0036.bmp  \n",
      "  inflating: /content/dataset/dataset/14_048_4_0023.bmp  \n",
      "  inflating: /content/dataset/dataset/14_048_5_0063.bmp  \n",
      "  inflating: /content/dataset/dataset/14_057_3_0075.bmp  \n",
      "  inflating: /content/dataset/dataset/14_092_1_0055.bmp  \n",
      "  inflating: /content/dataset/dataset/14_046_5_0062.bmp  \n",
      "  inflating: /content/dataset/dataset/14_023_2_0077.bmp  \n",
      "  inflating: /content/dataset/dataset/14_015_1_0053.bmp  \n",
      "  inflating: /content/dataset/dataset/14_048_5_0066.bmp  \n",
      "  inflating: /content/dataset/dataset/14_048_5_0067.bmp  \n",
      "  inflating: /content/dataset/dataset/14_046_5_0070.bmp  \n",
      "  inflating: /content/dataset/dataset/14_048_3_0085.bmp  \n",
      "  inflating: /content/dataset/dataset/14_062_3_0064.bmp  \n",
      "  inflating: /content/dataset/dataset/14_062_2_0080.bmp  \n",
      "  inflating: /content/dataset/dataset/14_062_2_0079.bmp  \n",
      "  inflating: /content/dataset/dataset/14_048_3_0068.bmp  \n",
      "  inflating: /content/dataset/dataset/14_048_1_0054.bmp  \n",
      "  inflating: /content/dataset/dataset/14_048_1_0024.bmp  \n",
      "  inflating: /content/dataset/dataset/14_083_6_0032.bmp  \n",
      "  inflating: /content/dataset/dataset/14_015_1_0066.bmp  \n",
      "  inflating: /content/dataset/dataset/14_023_2_0085.bmp  \n",
      "  inflating: /content/dataset/dataset/14_084_1_0037.bmp  \n",
      "  inflating: /content/dataset/dataset/14_048_2_0056.bmp  \n",
      "  inflating: /content/dataset/dataset/14_057_3_0098.bmp  \n",
      "  inflating: /content/dataset/dataset/14_048_3_0053.bmp  \n",
      "  inflating: /content/dataset/dataset/14_064_3_0013.bmp  \n",
      "  inflating: /content/dataset/dataset/14_048_5_0059.bmp  \n",
      "  inflating: /content/dataset/dataset/14_084_1_0036.bmp  \n",
      "  inflating: /content/dataset/dataset/14_092_1_0063.bmp  \n",
      "  inflating: /content/dataset/dataset/14_048_1_0053.bmp  \n",
      "  inflating: /content/dataset/dataset/14_048_3_0082.bmp  \n",
      "  inflating: /content/dataset/dataset/14_083_7_0024.bmp  \n",
      "  inflating: /content/dataset/dataset/14_062_3_0049.bmp  \n",
      "  inflating: /content/dataset/dataset/14_048_2_0048.bmp  \n",
      "  inflating: /content/dataset/dataset/14_083_7_0025.bmp  \n",
      "  inflating: /content/dataset/dataset/14_048_5_0077.bmp  \n",
      "  inflating: /content/dataset/dataset/14_092_1_0074.bmp  \n",
      "  inflating: /content/dataset/dataset/14_048_3_0069.bmp  \n",
      "  inflating: /content/dataset/dataset/14_015_1_0019.bmp  \n",
      "  inflating: /content/dataset/dataset/14_083_7_0028.bmp  \n",
      "  inflating: /content/dataset/dataset/14_048_2_0085.bmp  \n",
      "  inflating: /content/dataset/dataset/14_048_5_0061.bmp  \n",
      "  inflating: /content/dataset/dataset/14_015_1_0045.bmp  \n",
      "  inflating: /content/dataset/dataset/14_084_1_0052.bmp  \n",
      "  inflating: /content/dataset/dataset/14_023_2_0120.bmp  \n",
      "  inflating: /content/dataset/dataset/14_048_1_0075.bmp  \n",
      "  inflating: /content/dataset/dataset/14_057_3_0061.bmp  \n",
      "  inflating: /content/dataset/dataset/14_084_3_0030.bmp  \n",
      "  inflating: /content/dataset/dataset/14_015_1_0025.bmp  \n",
      "  inflating: /content/dataset/dataset/14_095_4_0043.xml  \n",
      "  inflating: /content/dataset/dataset/14_075_2_0028.xml  \n",
      "  inflating: /content/dataset/dataset/14_084_9_0045.xml  \n",
      "  inflating: /content/dataset/dataset/14_053_5_0046.xml  \n",
      "  inflating: /content/dataset/dataset/14_096_2_0033.xml  \n",
      "  inflating: /content/dataset/dataset/14_075_2_0017.xml  \n",
      "  inflating: /content/dataset/dataset/14_053_5_0037.xml  \n",
      "  inflating: /content/dataset/dataset/14_087_3_0065.xml  \n",
      "  inflating: /content/dataset/dataset/14_075_1_0027.xml  \n",
      "  inflating: /content/dataset/dataset/14_094_3_0042.xml  \n",
      "  inflating: /content/dataset/dataset/14_051_2_0028.xml  \n",
      "  inflating: /content/dataset/dataset/14_058_4_0031.xml  \n",
      "  inflating: /content/dataset/dataset/14_087_3_0029.xml  \n",
      "  inflating: /content/dataset/dataset/14_050_8_0039.xml  \n",
      "  inflating: /content/dataset/dataset/14_094_3_0032.xml  \n",
      "  inflating: /content/dataset/dataset/14_064_2_0072.xml  \n",
      "  inflating: /content/dataset/dataset/14_095_1_0051.xml  \n",
      "  inflating: /content/dataset/dataset/14_053_2_0056.xml  \n",
      "  inflating: /content/dataset/dataset/14_051_8_0020.xml  \n",
      "  inflating: /content/dataset/dataset/14_099_6_0011.xml  \n",
      "  inflating: /content/dataset/dataset/14_055_8_0008.xml  \n",
      "  inflating: /content/dataset/dataset/14_059_1_0089.xml  \n",
      "  inflating: /content/dataset/dataset/14_084_6_0060.xml  \n",
      "  inflating: /content/dataset/dataset/14_092_2_0038.xml  \n",
      "  inflating: /content/dataset/dataset/14_080_2_0088.xml  \n",
      "  inflating: /content/dataset/dataset/14_070_4_0024.xml  \n",
      "  inflating: /content/dataset/dataset/14_085_4_0059.xml  \n",
      "  inflating: /content/dataset/dataset/14_077_5_0051.xml  \n",
      "  inflating: /content/dataset/dataset/14_059_1_0100.xml  \n",
      "  inflating: /content/dataset/dataset/14_085_4_0047.xml  \n",
      "  inflating: /content/dataset/dataset/14_066_8_0040.xml  \n",
      "  inflating: /content/dataset/dataset/14_077_6_0115.xml  \n",
      "  inflating: /content/dataset/dataset/14_095_1_0058.xml  \n",
      "  inflating: /content/dataset/dataset/14_084_6_0043.xml  \n",
      "  inflating: /content/dataset/dataset/14_053_2_0038.xml  \n",
      "  inflating: /content/dataset/dataset/14_085_5_0038.xml  \n",
      "  inflating: /content/dataset/dataset/14_095_5_0044.xml  \n",
      "  inflating: /content/dataset/dataset/14_084_7_0045.xml  \n",
      "  inflating: /content/dataset/dataset/14_087_1_0090.xml  \n",
      "  inflating: /content/dataset/dataset/14_070_4_0040.xml  \n",
      "  inflating: /content/dataset/dataset/14_084_7_0053.xml  \n",
      "  inflating: /content/dataset/dataset/14_095_7_0064.xml  \n",
      "  inflating: /content/dataset/dataset/14_087_1_0059.xml  \n",
      "  inflating: /content/dataset/dataset/14_053_2_0032.xml  \n",
      "  inflating: /content/dataset/dataset/14_068_3_0039.xml  \n",
      "  inflating: /content/dataset/dataset/14_085_5_0055.xml  \n",
      "  inflating: /content/dataset/dataset/14_053_1_0073.xml  \n",
      "  inflating: /content/dataset/dataset/14_081_7_0040.xml  \n",
      "  inflating: /content/dataset/dataset/14_051_8_0034.xml  \n",
      "  inflating: /content/dataset/dataset/14_075_2_0021.xml  \n",
      "  inflating: /content/dataset/dataset/14_095_8_0038.xml  \n",
      "  inflating: /content/dataset/dataset/14_096_5_0071.xml  \n",
      "  inflating: /content/dataset/dataset/14_097_2_0020.xml  \n",
      "  inflating: /content/dataset/dataset/14_075_3_0026.xml  \n",
      "  inflating: /content/dataset/dataset/14_087_1_0078.xml  \n",
      "  inflating: /content/dataset/dataset/14_067_7_0025.xml  \n",
      "  inflating: /content/dataset/dataset/14_055_8_0015.xml  \n",
      "  inflating: /content/dataset/dataset/14_095_5_0064.xml  \n",
      "  inflating: /content/dataset/dataset/14_088_5_0037.xml  \n",
      "  inflating: /content/dataset/dataset/14_075_3_0024.xml  \n",
      "  inflating: /content/dataset/dataset/14_066_7_0057.xml  \n",
      "  inflating: /content/dataset/dataset/14_085_5_0067.xml  \n",
      "  inflating: /content/dataset/dataset/14_051_2_0033.xml  \n",
      "  inflating: /content/dataset/dataset/14_099_6_0019.xml  \n",
      "  inflating: /content/dataset/dataset/14_066_8_0048.xml  \n",
      "  inflating: /content/dataset/dataset/14_085_4_0052.xml  \n",
      "  inflating: /content/dataset/dataset/14_098_3_0013.xml  \n",
      "  inflating: /content/dataset/dataset/14_088_3_0035.xml  \n",
      "  inflating: /content/dataset/dataset/14_085_5_0031.xml  \n",
      "  inflating: /content/dataset/dataset/14_069_1_0071.xml  \n",
      "  inflating: /content/dataset/dataset/14_077_6_0069.xml  \n",
      "  inflating: /content/dataset/dataset/14_051_5_0039.xml  \n",
      "  inflating: /content/dataset/dataset/14_068_3_0030.xml  \n",
      "  inflating: /content/dataset/dataset/14_083_1_0047.xml  \n",
      "  inflating: /content/dataset/dataset/14_085_4_0046.xml  \n",
      "  inflating: /content/dataset/dataset/14_095_4_0030.xml  \n",
      "  inflating: /content/dataset/dataset/14_062_5_0036.xml  \n",
      "  inflating: /content/dataset/dataset/14_088_1_0037.xml  \n",
      "  inflating: /content/dataset/dataset/14_095_2_0038.xml  \n",
      "  inflating: /content/dataset/dataset/14_080_2_0055.xml  \n",
      "  inflating: /content/dataset/dataset/14_059_2_0071.xml  \n",
      "  inflating: /content/dataset/dataset/14_066_3_0066.xml  \n",
      "  inflating: /content/dataset/dataset/14_070_3_0028.xml  \n",
      "  inflating: /content/dataset/dataset/14_095_8_0055.xml  \n",
      "  inflating: /content/dataset/dataset/14_095_2_0041.xml  \n",
      "  inflating: /content/dataset/dataset/14_050_8_0025.xml  \n",
      "  inflating: /content/dataset/dataset/14_085_5_0060.xml  \n",
      "  inflating: /content/dataset/dataset/14_080_2_0053.xml  \n",
      "  inflating: /content/dataset/dataset/14_081_7_0049.xml  \n",
      "  inflating: /content/dataset/dataset/14_066_8_0046.xml  \n",
      "  inflating: /content/dataset/dataset/14_062_5_0065.xml  \n",
      "  inflating: /content/dataset/dataset/14_062_5_0070.xml  \n",
      "  inflating: /content/dataset/dataset/14_069_1_0067.xml  \n",
      "  inflating: /content/dataset/dataset/14_062_3_0065.xml  \n",
      "  inflating: /content/dataset/dataset/14_066_9_0051.xml  \n",
      "  inflating: /content/dataset/dataset/14_084_5_0029.xml  \n",
      "  inflating: /content/dataset/dataset/14_084_5_0044.xml  \n",
      "  inflating: /content/dataset/dataset/14_084_3_0017.xml  \n",
      "  inflating: /content/dataset/dataset/14_084_1_0035.xml  \n",
      "  inflating: /content/dataset/dataset/14_084_4_0018.xml  \n",
      "  inflating: /content/dataset/dataset/14_073_1_0046.xml  \n",
      "  inflating: /content/dataset/dataset/14_084_1_0028.xml  \n",
      "  inflating: /content/dataset/dataset/14_057_2_0033.xml  \n",
      "  inflating: /content/dataset/dataset/14_057_2_0041.xml  \n",
      "  inflating: /content/dataset/dataset/14_066_10_0067.xml  \n",
      "  inflating: /content/dataset/dataset/14_064_3_0011.xml  \n",
      "  inflating: /content/dataset/dataset/14_050_10_0050.xml  \n",
      "  inflating: /content/dataset/dataset/14_084_1_0018.xml  \n",
      "  inflating: /content/dataset/dataset/14_024_5_0058.xml  \n",
      "  inflating: /content/dataset/dataset/14_040_3_0025.xml  \n",
      "  inflating: /content/dataset/dataset/14_039_5_0079.xml  \n",
      "  inflating: /content/dataset/dataset/14_021_16_0073.xml  \n",
      "  inflating: /content/dataset/dataset/14_021_16_0034.xml  \n",
      "  inflating: /content/dataset/dataset/14_010_1_0033.xml  \n",
      "  inflating: /content/dataset/dataset/14_028_2_0068.xml  \n",
      "  inflating: /content/dataset/dataset/14_044_1_0043.xml  \n",
      "  inflating: /content/dataset/dataset/14_040_7_0018.xml  \n",
      "  inflating: /content/dataset/dataset/14_034_6_0027.xml  \n",
      "  inflating: /content/dataset/dataset/14_007_3_0035.xml  \n",
      "  inflating: /content/dataset/dataset/14_044_1_0055.xml  \n",
      "  inflating: /content/dataset/dataset/14_029_2_0046.xml  \n",
      "  inflating: /content/dataset/dataset/14_042_4_0032.xml  \n",
      "  inflating: /content/dataset/dataset/14_028_2_0064.xml  \n",
      "  inflating: /content/dataset/dataset/14_022_3_0063.xml  \n",
      "  inflating: /content/dataset/dataset/14_029_5_0032.xml  \n",
      "  inflating: /content/dataset/dataset/14_029_7_0056.xml  \n",
      "  inflating: /content/dataset/dataset/14_003_1_0001.xml  \n",
      "  inflating: /content/dataset/dataset/14_033_3_0063.xml  \n",
      "  inflating: /content/dataset/dataset/14_031_6_0033.xml  \n",
      "  inflating: /content/dataset/dataset/14_006_1_0123.xml  \n",
      "  inflating: /content/dataset/dataset/14_075_6_0024.xml  \n",
      "  inflating: /content/dataset/dataset/14_088_2_0036.xml  \n",
      "  inflating: /content/dataset/dataset/14_053_1_0056.xml  \n",
      "  inflating: /content/dataset/dataset/14_053_5_0060.xml  \n",
      "  inflating: /content/dataset/dataset/14_053_1_0069.xml  \n",
      "  inflating: /content/dataset/dataset/14_077_5_0038.xml  \n",
      "  inflating: /content/dataset/dataset/14_095_5_0041.xml  \n",
      "  inflating: /content/dataset/dataset/14_053_5_0043.xml  \n",
      "  inflating: /content/dataset/dataset/14_088_5_0027.xml  \n",
      "  inflating: /content/dataset/dataset/14_058_3_0062.xml  \n",
      "  inflating: /content/dataset/dataset/14_092_2_0047.xml  \n",
      "  inflating: /content/dataset/dataset/14_092_1_0056.xml  \n",
      "  inflating: /content/dataset/dataset/14_066_9_0057.xml  \n",
      "  inflating: /content/dataset/dataset/14_007_6_0040.xml  \n",
      "  inflating: /content/dataset/dataset/14_007_5_0073.xml  \n",
      "  inflating: /content/dataset/dataset/14_034_7_0024.xml  \n",
      "  inflating: /content/dataset/dataset/14_026_2_0128.xml  \n",
      "  inflating: /content/dataset/dataset/14_031_6_0032.xml  \n",
      "  inflating: /content/dataset/dataset/14_032_6_0040.xml  \n",
      "  inflating: /content/dataset/dataset/14_029_1_0068.xml  \n",
      "  inflating: /content/dataset/dataset/14_032_7_0052.xml  \n",
      "  inflating: /content/dataset/dataset/14_007_5_0084.xml  \n",
      "  inflating: /content/dataset/dataset/14_010_6_0020.xml  \n",
      "  inflating: /content/dataset/dataset/14_021_5_0060.xml  \n",
      "  inflating: /content/dataset/dataset/14_022_2_0050.xml  \n",
      "  inflating: /content/dataset/dataset/14_016_1_0067.xml  \n",
      "  inflating: /content/dataset/dataset/14_006_1_0137.xml  \n",
      "  inflating: /content/dataset/dataset/14_042_4_0054.xml  \n",
      "  inflating: /content/dataset/dataset/14_026_2_0051.xml  \n",
      "  inflating: /content/dataset/dataset/14_031_6_0060.xml  \n",
      "  inflating: /content/dataset/dataset/14_007_8_0038.xml  \n",
      "  inflating: /content/dataset/dataset/14_018_6_0035.xml  \n",
      "  inflating: /content/dataset/dataset/14_032_7_0051.xml  \n",
      "  inflating: /content/dataset/dataset/14_029_5_0095.xml  \n",
      "  inflating: /content/dataset/dataset/14_029_1_0061.xml  \n",
      "  inflating: /content/dataset/dataset/14_033_4_0028.xml  \n",
      "  inflating: /content/dataset/dataset/14_029_4_0079.xml  \n",
      "  inflating: /content/dataset/dataset/14_039_4_0063.xml  \n",
      "  inflating: /content/dataset/dataset/14_040_2_0028.xml  \n",
      "  inflating: /content/dataset/dataset/14_044_3_0040.xml  \n",
      "  inflating: /content/dataset/dataset/14_046_3_0044.xml  \n",
      "  inflating: /content/dataset/dataset/14_007_6_0032.xml  \n",
      "  inflating: /content/dataset/dataset/14_026_2_0016.xml  \n",
      "  inflating: /content/dataset/dataset/14_029_6_0085.xml  \n",
      "  inflating: /content/dataset/dataset/14_018_8_0034.xml  \n",
      "  inflating: /content/dataset/dataset/14_049_4_0027.xml  \n",
      "  inflating: /content/dataset/dataset/14_044_2_0028.xml  \n",
      "  inflating: /content/dataset/dataset/14_033_4_0016.xml  \n",
      "  inflating: /content/dataset/dataset/14_040_3_0010.xml  \n",
      "  inflating: /content/dataset/dataset/14_042_2_0074.xml  \n",
      "  inflating: /content/dataset/dataset/14_031_4_0039.xml  \n",
      "  inflating: /content/dataset/dataset/14_029_5_0040.xml  \n",
      "  inflating: /content/dataset/dataset/14_031_5_0023.xml  \n",
      "  inflating: /content/dataset/dataset/14_039_4_0068.xml  \n",
      "  inflating: /content/dataset/dataset/14_021_1_0060.xml  \n",
      "  inflating: /content/dataset/dataset/14_003_2_0011.xml  \n",
      "  inflating: /content/dataset/dataset/14_029_5_0038.xml  \n",
      "  inflating: /content/dataset/dataset/14_010_6_0047.xml  \n",
      "  inflating: /content/dataset/dataset/14_042_1_0053.xml  \n",
      "  inflating: /content/dataset/dataset/14_021_4_0053.xml  \n",
      "  inflating: /content/dataset/dataset/14_029_6_0047.xml  \n",
      "  inflating: /content/dataset/dataset/14_021_1_0039.xml  \n",
      "  inflating: /content/dataset/dataset/14_034_6_0037.xml  \n",
      "  inflating: /content/dataset/dataset/14_024_1_0058.xml  \n",
      "  inflating: /content/dataset/dataset/14_026_3_0056.xml  \n",
      "  inflating: /content/dataset/dataset/14_007_8_0088.xml  \n",
      "  inflating: /content/dataset/dataset/14_024_4_0027.xml  \n",
      "  inflating: /content/dataset/dataset/14_039_4_0040.xml  \n",
      "  inflating: /content/dataset/dataset/14_021_4_0066.xml  \n",
      "  inflating: /content/dataset/dataset/14_029_4_0092.xml  \n",
      "  inflating: /content/dataset/dataset/14_029_5_0061.xml  \n",
      "  inflating: /content/dataset/dataset/14_007_6_0042.xml  \n",
      "  inflating: /content/dataset/dataset/14_024_2_0043.xml  \n",
      "  inflating: /content/dataset/dataset/14_042_2_0063.xml  \n",
      "  inflating: /content/dataset/dataset/14_026_3_0080.xml  \n",
      "  inflating: /content/dataset/dataset/14_022_2_0052.xml  \n",
      "  inflating: /content/dataset/dataset/14_006_1_0151.xml  \n",
      "  inflating: /content/dataset/dataset/14_007_3_0051.xml  \n",
      "  inflating: /content/dataset/dataset/14_018_8_0037.xml  \n",
      "  inflating: /content/dataset/dataset/14_033_4_0022.xml  \n",
      "  inflating: /content/dataset/dataset/14_022_1_0055.xml  \n",
      "  inflating: /content/dataset/dataset/14_028_3_0066.xml  \n",
      "  inflating: /content/dataset/dataset/14_007_6_0049.xml  \n",
      "  inflating: /content/dataset/dataset/14_023_4_0080.xml  \n",
      "  inflating: /content/dataset/dataset/14_006_1_0109.xml  \n",
      "  inflating: /content/dataset/dataset/14_028_2_0056.xml  \n",
      "  inflating: /content/dataset/dataset/14_095_8_0066.xml  \n",
      "  inflating: /content/dataset/dataset/14_095_1_0063.xml  \n",
      "  inflating: /content/dataset/dataset/14_088_1_0056.xml  \n",
      "  inflating: /content/dataset/dataset/14_053_5_0068.xml  \n",
      "  inflating: /content/dataset/dataset/14_067_4_0012.xml  \n",
      "  inflating: /content/dataset/dataset/14_088_2_0022.xml  \n",
      "  inflating: /content/dataset/dataset/14_077_6_0105.xml  \n",
      "  inflating: /content/dataset/dataset/14_050_9_0039.xml  \n",
      "  inflating: /content/dataset/dataset/14_077_6_0104.xml  \n",
      "  inflating: /content/dataset/dataset/14_083_6_0029.xml  \n",
      "  inflating: /content/dataset/dataset/14_062_2_0070.xml  \n",
      "  inflating: /content/dataset/dataset/14_081_11_0027.xml  \n",
      "  inflating: /content/dataset/dataset/14_029_6_0054.xml  \n",
      "  inflating: /content/dataset/dataset/14_022_6_0045.xml  \n",
      "  inflating: /content/dataset/dataset/14_022_2_0072.xml  \n",
      "  inflating: /content/dataset/dataset/14_029_5_0060.xml  \n",
      "  inflating: /content/dataset/dataset/14_026_3_0060.xml  \n",
      "  inflating: /content/dataset/dataset/14_039_4_0049.xml  \n",
      "  inflating: /content/dataset/dataset/14_007_3_0079.xml  \n",
      "  inflating: /content/dataset/dataset/14_021_1_0102.xml  \n",
      "  inflating: /content/dataset/dataset/14_018_6_0023.xml  \n",
      "  inflating: /content/dataset/dataset/14_033_3_0081.xml  \n",
      "  inflating: /content/dataset/dataset/14_049_1_0037.xml  \n",
      "  inflating: /content/dataset/dataset/14_024_6_0039.xml  \n",
      "  inflating: /content/dataset/dataset/14_031_7_0065.xml  \n",
      "  inflating: /content/dataset/dataset/14_007_5_0106.xml  \n",
      "  inflating: /content/dataset/dataset/14_021_6_0059.xml  \n",
      "  inflating: /content/dataset/dataset/14_042_5_0036.xml  \n",
      "  inflating: /content/dataset/dataset/14_031_4_0018.xml  \n",
      "  inflating: /content/dataset/dataset/14_023_3_0050.xml  \n",
      "  inflating: /content/dataset/dataset/14_003_2_0012.xml  \n",
      "  inflating: /content/dataset/dataset/14_032_4_0033.xml  \n",
      "  inflating: /content/dataset/dataset/14_003_2_0013.xml  \n",
      "  inflating: /content/dataset/dataset/14_044_1_0049.xml  \n",
      "  inflating: /content/dataset/dataset/14_023_3_0058.xml  \n",
      "  inflating: /content/dataset/dataset/14_021_6_0047.xml  \n",
      "  inflating: /content/dataset/dataset/14_023_4_0074.xml  \n",
      "  inflating: /content/dataset/dataset/14_029_5_0062.xml  \n",
      "  inflating: /content/dataset/dataset/14_026_3_0085.xml  \n",
      "  inflating: /content/dataset/dataset/14_026_2_0066.xml  \n",
      "  inflating: /content/dataset/dataset/14_040_2_0013.xml  \n",
      "  inflating: /content/dataset/dataset/14_033_4_0086.xml  \n",
      "  inflating: /content/dataset/dataset/14_002_8_0012.xml  \n",
      "  inflating: /content/dataset/dataset/14_010_6_0040.xml  \n",
      "  inflating: /content/dataset/dataset/14_007_3_0087.xml  \n",
      "  inflating: /content/dataset/dataset/14_046_6_0063.xml  \n",
      "  inflating: /content/dataset/dataset/14_023_4_0050.xml  \n",
      "  inflating: /content/dataset/dataset/14_007_3_0078.xml  \n",
      "  inflating: /content/dataset/dataset/14_029_7_0045.xml  \n",
      "  inflating: /content/dataset/dataset/14_022_3_0047.xml  \n",
      "  inflating: /content/dataset/dataset/14_031_6_0044.xml  \n",
      "  inflating: /content/dataset/dataset/14_029_6_0038.xml  \n",
      "  inflating: /content/dataset/dataset/14_029_6_0096.xml  \n",
      "  inflating: /content/dataset/dataset/14_028_1_0060.xml  \n",
      "  inflating: /content/dataset/dataset/14_016_1_0025.xml  \n",
      "  inflating: /content/dataset/dataset/14_017_1_0053.xml  \n",
      "  inflating: /content/dataset/dataset/14_024_6_0047.xml  \n",
      "  inflating: /content/dataset/dataset/14_046_6_0034.xml  \n",
      "  inflating: /content/dataset/dataset/14_031_6_0051.xml  \n",
      "  inflating: /content/dataset/dataset/14_024_2_0022.xml  \n",
      "  inflating: /content/dataset/dataset/14_021_4_0054.xml  \n",
      "  inflating: /content/dataset/dataset/14_026_2_0056.xml  \n",
      "  inflating: /content/dataset/dataset/14_007_3_0069.xml  \n",
      "  inflating: /content/dataset/dataset/14_029_4_0100.xml  \n",
      "  inflating: /content/dataset/dataset/14_010_6_0024.xml  \n",
      "  inflating: /content/dataset/dataset/14_033_4_0062.xml  \n",
      "  inflating: /content/dataset/dataset/14_046_3_0049.xml  \n",
      "  inflating: /content/dataset/dataset/14_044_1_0029.xml  \n",
      "  inflating: /content/dataset/dataset/14_021_4_0041.xml  \n",
      "  inflating: /content/dataset/dataset/14_032_4_0023.xml  \n",
      "  inflating: /content/dataset/dataset/14_040_1_0017.xml  \n",
      "  inflating: /content/dataset/dataset/14_096_2_0023.xml  \n",
      "  inflating: /content/dataset/dataset/14_051_2_0032.xml  \n",
      "  inflating: /content/dataset/dataset/14_050_4_0034.xml  \n",
      "  inflating: /content/dataset/dataset/14_051_2_0057.xml  \n",
      "  inflating: /content/dataset/dataset/14_080_2_0071.xml  \n",
      "  inflating: /content/dataset/dataset/14_096_2_0046.xml  \n",
      "  inflating: /content/dataset/dataset/14_075_1_0021.xml  \n",
      "  inflating: /content/dataset/dataset/14_084_6_0037.xml  \n",
      "  inflating: /content/dataset/dataset/14_096_3_0042.xml  \n",
      "  inflating: /content/dataset/dataset/14_095_1_0082.xml  \n",
      "  inflating: /content/dataset/dataset/14_068_1_0022.xml  \n",
      "  inflating: /content/dataset/dataset/14_088_6_0037.xml  \n",
      "  inflating: /content/dataset/dataset/14_081_3_0035.xml  \n",
      "  inflating: /content/dataset/dataset/14_064_2_0060.xml  \n",
      "  inflating: /content/dataset/dataset/14_064_3_0022.xml  \n",
      "  inflating: /content/dataset/dataset/14_022_2_0068.xml  \n",
      "  inflating: /content/dataset/dataset/14_034_7_0037.xml  \n",
      "  inflating: /content/dataset/dataset/14_042_2_0050.xml  \n",
      "  inflating: /content/dataset/dataset/14_034_6_0026.xml  \n",
      "  inflating: /content/dataset/dataset/14_046_6_0066.xml  \n",
      "  inflating: /content/dataset/dataset/14_029_5_0093.xml  \n",
      "  inflating: /content/dataset/dataset/14_023_3_0055.xml  \n",
      "  inflating: /content/dataset/dataset/14_046_6_0029.xml  \n",
      "  inflating: /content/dataset/dataset/14_042_2_0045.xml  \n",
      "  inflating: /content/dataset/dataset/14_029_7_0067.xml  \n",
      "  inflating: /content/dataset/dataset/14_012_3_0024.xml  \n",
      "  inflating: /content/dataset/dataset/14_033_3_0073.xml  \n",
      "  inflating: /content/dataset/dataset/14_042_5_0038.xml  \n",
      "  inflating: /content/dataset/dataset/14_021_29_0029.xml  \n",
      "  inflating: /content/dataset/dataset/14_048_4_0052.xml  \n",
      "  inflating: /content/dataset/dataset/14_002_5_0021.xml  \n",
      "  inflating: /content/dataset/dataset/14_021_6_0039.xml  \n",
      "  inflating: /content/dataset/dataset/14_021_15_0057.xml  \n",
      "  inflating: /content/dataset/dataset/14_021_16_0046.xml  \n",
      "  inflating: /content/dataset/dataset/14_048_4_0045.xml  \n",
      "  inflating: /content/dataset/dataset/14_021_16_0061.xml  \n",
      "  inflating: /content/dataset/dataset/14_021_15_0053.xml  \n",
      "  inflating: /content/dataset/dataset/14_021_15_0062.xml  \n",
      "  inflating: /content/dataset/dataset/14_048_4_0063.xml  \n",
      "  inflating: /content/dataset/dataset/14_048_1_0077.xml  \n",
      "  inflating: /content/dataset/dataset/14_048_2_0035.xml  \n",
      "  inflating: /content/dataset/dataset/14_021_34_0036.xml  \n",
      "  inflating: /content/dataset/dataset/14_021_34_0023.xml  \n",
      "  inflating: /content/dataset/dataset/14_048_3_0033.xml  \n",
      "  inflating: /content/dataset/dataset/14_021_34_0020.xml  \n",
      "  inflating: /content/dataset/dataset/14_048_3_0082.xml  \n",
      "  inflating: /content/dataset/dataset/14_007_10_0036.xml  \n",
      "  inflating: /content/dataset/dataset/14_048_5_0033.xml  \n",
      "  inflating: /content/dataset/dataset/14_021_31_0010.xml  \n",
      "  inflating: /content/dataset/dataset/14_007_10_0078.xml  \n",
      "  inflating: /content/dataset/dataset/14_048_1_0083.xml  \n",
      "  inflating: /content/dataset/dataset/14_021_30_0021.xml  \n",
      "  inflating: /content/dataset/dataset/14_021_38_0021.xml  \n",
      "  inflating: /content/dataset/dataset/14_015_1_0002.xml  \n",
      "  inflating: /content/dataset/dataset/14_021_31_0030.xml  \n",
      "  inflating: /content/dataset/dataset/14_021_30_0037.xml  \n",
      "  inflating: /content/dataset/dataset/14_021_29_0022.xml  \n",
      "  inflating: /content/dataset/dataset/14_023_2_0120.xml  \n",
      "  inflating: /content/dataset/dataset/14_021_37_0050.xml  \n",
      "  inflating: /content/dataset/dataset/14_046_5_0082.xml  \n",
      "  inflating: /content/dataset/dataset/14_048_1_0021.xml  \n",
      "  inflating: /content/dataset/dataset/14_015_1_0027.xml  \n",
      "  inflating: /content/dataset/dataset/14_048_3_0035.xml  \n",
      "  inflating: /content/dataset/dataset/14_023_2_0110.xml  \n",
      "  inflating: /content/dataset/dataset/14_021_32_0030.xml  \n",
      "  inflating: /content/dataset/dataset/14_021_31_0034.xml  \n",
      "  inflating: /content/dataset/dataset/14_048_5_0035.xml  \n",
      "  inflating: /content/dataset/dataset/14_007_10_0055.xml  \n",
      "  inflating: /content/dataset/dataset/14_015_1_0005.xml  \n",
      "  inflating: /content/dataset/dataset/14_070_5_0051.bmp  \n",
      "  inflating: /content/dataset/dataset/14_075_6_0015.bmp  \n",
      "  inflating: /content/dataset/dataset/14_075_1_0017.xml  \n",
      "  inflating: /content/dataset/dataset/14_075_4_0040.xml  \n",
      "  inflating: /content/dataset/dataset/14_085_1_0090.xml  \n",
      "  inflating: /content/dataset/dataset/14_097_2_0025.xml  \n",
      "  inflating: /content/dataset/dataset/14_066_7_0041.xml  \n",
      "  inflating: /content/dataset/dataset/14_053_4_0044.xml  \n",
      "  inflating: /content/dataset/dataset/14_095_4_0067.xml  \n",
      "  inflating: /content/dataset/dataset/14_085_1_0066.xml  \n",
      "  inflating: /content/dataset/dataset/14_070_5_0049.xml  \n",
      "  inflating: /content/dataset/dataset/14_083_7_0026.xml  \n",
      "  inflating: /content/dataset/dataset/14_099_5_0013.xml  \n",
      "  inflating: /content/dataset/dataset/14_092_1_0039.xml  \n",
      "  inflating: /content/dataset/dataset/14_029_6_0032.xml  \n",
      "  inflating: /content/dataset/dataset/14_083_6_0047.xml  \n",
      "  inflating: /content/dataset/dataset/14_084_1_0024.xml  \n",
      "  inflating: /content/dataset/dataset/14_051_10_0012.xml  \n",
      "  inflating: /content/dataset/dataset/14_050_10_0044.xml  \n",
      "  inflating: /content/dataset/dataset/14_046_6_0047.xml  \n",
      "  inflating: /content/dataset/dataset/14_057_2_0065.xml  \n",
      "  inflating: /content/dataset/dataset/14_021_1_0070.xml  \n",
      "  inflating: /content/dataset/dataset/14_019_5_0094.xml  \n",
      "  inflating: /content/dataset/dataset/14_044_5_0052.xml  \n",
      "  inflating: /content/dataset/dataset/14_018_6_0056.xml  \n",
      "  inflating: /content/dataset/dataset/14_042_4_0052.xml  \n",
      "  inflating: /content/dataset/dataset/14_042_5_0033.xml  \n",
      "  inflating: /content/dataset/dataset/14_007_6_0034.xml  \n",
      "  inflating: /content/dataset/dataset/14_019_5_0083.xml  \n",
      "  inflating: /content/dataset/dataset/14_017_1_0022.xml  \n",
      "  inflating: /content/dataset/dataset/14_021_4_0027.xml  \n",
      "  inflating: /content/dataset/dataset/14_010_6_0041.xml  \n",
      "  inflating: /content/dataset/dataset/14_040_2_0012.xml  \n",
      "  inflating: /content/dataset/dataset/14_010_1_0014.xml  \n",
      "  inflating: /content/dataset/dataset/14_007_8_0046.xml  \n",
      "  inflating: /content/dataset/dataset/14_023_4_0051.xml  \n",
      "  inflating: /content/dataset/dataset/14_022_3_0079.xml  \n",
      "  inflating: /content/dataset/dataset/14_017_1_0037.xml  \n",
      "  inflating: /content/dataset/dataset/14_048_1_0059.xml  \n",
      "  inflating: /content/dataset/dataset/14_023_4_0079.xml  \n",
      "  inflating: /content/dataset/dataset/14_015_1_0054.xml  \n",
      "  inflating: /content/dataset/dataset/14_015_1_0056.xml  \n",
      "  inflating: /content/dataset/dataset/14_018_6_0043.xml  \n",
      "  inflating: /content/dataset/dataset/14_048_3_0059.xml  \n",
      "  inflating: /content/dataset/dataset/14_023_2_0093.xml  \n",
      "  inflating: /content/dataset/dataset/14_040_7_0025.bmp  \n",
      "  inflating: /content/dataset/dataset/14_048_3_0073.xml  \n",
      "  inflating: /content/dataset/dataset/14_010_1_0041.bmp  \n",
      "  inflating: /content/dataset/dataset/14_021_32_0017.bmp  \n",
      "  inflating: /content/dataset/dataset/14_040_3_0011.bmp  \n",
      "  inflating: /content/dataset/dataset/14_075_4_0037.bmp  \n",
      "  inflating: /content/dataset/dataset/14_021_37_0033.bmp  \n",
      "  inflating: /content/dataset/dataset/14_068_3_0019.bmp  \n",
      "  inflating: /content/dataset/dataset/14_051_5_0025.bmp  \n",
      "  inflating: /content/dataset/dataset/14_051_6_0028.bmp  \n",
      "  inflating: /content/dataset/dataset/14_040_1_0033.bmp  \n",
      "  inflating: /content/dataset/dataset/14_017_1_0038.bmp  \n",
      "  inflating: /content/dataset/dataset/14_050_4_0024.bmp  \n",
      "  inflating: /content/dataset/dataset/14_094_2_0047.bmp  \n",
      "  inflating: /content/dataset/dataset/14_052_1_0018.bmp  \n",
      "  inflating: /content/dataset/dataset/14_003_1_0002.bmp  \n",
      "  inflating: /content/dataset/dataset/14_076_3_0019.bmp  \n",
      "  inflating: /content/dataset/dataset/14_068_3_0038.bmp  \n",
      "  inflating: /content/dataset/dataset/14_021_35_0018.bmp  \n",
      "  inflating: /content/dataset/dataset/14_050_8_0025.bmp  \n",
      "  inflating: /content/dataset/dataset/14_010_1_0039.bmp  \n",
      "  inflating: /content/dataset/dataset/14_075_5_0032.bmp  \n",
      "  inflating: /content/dataset/dataset/14_050_6_0038.bmp  \n",
      "  inflating: /content/dataset/dataset/14_050_9_0035.bmp  \n",
      "  inflating: /content/dataset/dataset/14_012_3_0021.bmp  \n",
      "  inflating: /content/dataset/dataset/14_099_8_0006.bmp  \n",
      "  inflating: /content/dataset/dataset/14_076_4_0023.bmp  \n",
      "  inflating: /content/dataset/dataset/14_050_6_0019.bmp  \n",
      "  inflating: /content/dataset/dataset/14_050_4_0033.bmp  \n",
      "  inflating: /content/dataset/dataset/14_040_3_0024.bmp  \n",
      "  inflating: /content/dataset/dataset/14_070_4_0031.bmp  \n",
      "  inflating: /content/dataset/dataset/14_068_1_0025.bmp  \n",
      "  inflating: /content/dataset/dataset/14_099_5_0022.bmp  \n",
      "  inflating: /content/dataset/dataset/14_010_1_0040.bmp  \n",
      "  inflating: /content/dataset/dataset/14_021_32_0021.bmp  \n",
      "  inflating: /content/dataset/dataset/14_050_4_0027.bmp  \n",
      "  inflating: /content/dataset/dataset/14_034_6_0017.bmp  \n",
      "  inflating: /content/dataset/dataset/14_003_1_0003.bmp  \n",
      "  inflating: /content/dataset/dataset/14_003_2_0018.bmp  \n",
      "  inflating: /content/dataset/dataset/14_014_1_0026.bmp  \n",
      "  inflating: /content/dataset/dataset/14_034_6_0020.bmp  \n",
      "  inflating: /content/dataset/dataset/14_080_2_0059.xml  \n",
      "  inflating: /content/dataset/dataset/14_085_4_0081.xml  \n",
      "  inflating: /content/dataset/dataset/14_087_2_0052.xml  \n",
      "  inflating: /content/dataset/dataset/14_062_5_0038.xml  \n",
      "  inflating: /content/dataset/dataset/14_050_6_0036.xml  \n",
      "  inflating: /content/dataset/dataset/14_077_6_0084.xml  \n",
      "  inflating: /content/dataset/dataset/14_099_6_0023.xml  \n",
      "  inflating: /content/dataset/dataset/14_088_3_0038.xml  \n",
      "  inflating: /content/dataset/dataset/14_096_6_0067.xml  \n",
      "  inflating: /content/dataset/dataset/14_084_3_0038.xml  \n",
      "  inflating: /content/dataset/dataset/14_062_3_0041.xml  \n",
      "  inflating: /content/dataset/dataset/14_040_3_0008.xml  \n",
      "  inflating: /content/dataset/dataset/14_033_4_0026.xml  \n",
      "  inflating: /content/dataset/dataset/14_026_3_0067.xml  \n",
      "  inflating: /content/dataset/dataset/14_040_2_0033.xml  \n",
      "  inflating: /content/dataset/dataset/14_024_3_0013.xml  \n",
      "  inflating: /content/dataset/dataset/14_042_3_0033.xml  \n",
      "  inflating: /content/dataset/dataset/14_024_4_0034.xml  \n",
      "  inflating: /content/dataset/dataset/14_021_16_0083.xml  \n",
      "  inflating: /content/dataset/dataset/14_022_7_0051.xml  \n",
      "  inflating: /content/dataset/dataset/14_048_2_0056.xml  \n",
      "  inflating: /content/dataset/dataset/14_055_8_0015.bmp  \n",
      "  inflating: /content/dataset/dataset/14_021_35_0019.bmp  \n",
      "  inflating: /content/dataset/dataset/14_067_4_0020.bmp  \n",
      "  inflating: /content/dataset/dataset/14_067_7_0018.bmp  \n",
      "  inflating: /content/dataset/dataset/14_040_1_0012.bmp  \n",
      "  inflating: /content/dataset/dataset/14_094_2_0051.bmp  \n",
      "  inflating: /content/dataset/dataset/14_048_3_0047.xml  \n",
      "  inflating: /content/dataset/dataset/14_002_8_0020.bmp  \n",
      "  inflating: /content/dataset/dataset/14_021_32_0020.bmp  \n",
      "  inflating: /content/dataset/dataset/14_044_5_0049.bmp  \n",
      "  inflating: /content/dataset/dataset/14_051_5_0026.bmp  \n",
      "  inflating: /content/dataset/dataset/14_021_30_0012.bmp  \n",
      "  inflating: /content/dataset/dataset/14_021_37_0050.bmp  \n",
      "  inflating: /content/dataset/dataset/14_002_5_0045.bmp  \n",
      "  inflating: /content/dataset/dataset/14_050_6_0020.bmp  \n",
      "  inflating: /content/dataset/dataset/14_051_10_0030.bmp  \n",
      "  inflating: /content/dataset/dataset/14_075_4_0048.bmp  \n",
      "  inflating: /content/dataset/dataset/14_021_38_0030.bmp  \n",
      "  inflating: /content/dataset/dataset/14_050_9_0025.bmp  \n",
      "  inflating: /content/dataset/dataset/14_050_4_0021.bmp  \n",
      "  inflating: /content/dataset/dataset/14_010_6_0024.bmp  \n",
      "  inflating: /content/dataset/dataset/14_051_5_0023.bmp  \n",
      "  inflating: /content/dataset/dataset/14_075_6_0031.bmp  \n",
      "  inflating: /content/dataset/dataset/14_050_6_0017.bmp  \n",
      "  inflating: /content/dataset/dataset/14_051_10_0024.bmp  \n",
      "  inflating: /content/dataset/dataset/14_055_5_0009.bmp  \n",
      "  inflating: /content/dataset/dataset/14_050_4_0034.bmp  \n",
      "  inflating: /content/dataset/dataset/14_044_1_0035.bmp  \n",
      "  inflating: /content/dataset/dataset/14_051_2_0032.bmp  \n",
      "  inflating: /content/dataset/dataset/14_021_37_0017.bmp  \n",
      "  inflating: /content/dataset/dataset/14_051_2_0057.bmp  \n",
      "  inflating: /content/dataset/dataset/14_051_10_0012.bmp  \n",
      "  inflating: /content/dataset/dataset/14_021_34_0018.bmp  \n",
      "  inflating: /content/dataset/dataset/14_068_3_0014.bmp  \n",
      "  inflating: /content/dataset/dataset/14_051_6_0027.bmp  \n",
      "  inflating: /content/dataset/dataset/14_012_4_0020.bmp  \n",
      "  inflating: /content/dataset/dataset/14_021_34_0027.bmp  \n",
      "  inflating: /content/dataset/dataset/14_075_4_0040.bmp  \n",
      "  inflating: /content/dataset/dataset/14_051_5_0021.xml  \n",
      "  inflating: /content/dataset/dataset/14_095_8_0064.xml  \n",
      "  inflating: /content/dataset/dataset/14_053_4_0035.xml  \n",
      "  inflating: /content/dataset/dataset/14_052_1_0023.xml  \n",
      "  inflating: /content/dataset/dataset/14_070_3_0025.xml  \n",
      "  inflating: /content/dataset/dataset/14_088_3_0041.xml  \n",
      "  inflating: /content/dataset/dataset/14_085_4_0057.xml  \n",
      "  inflating: /content/dataset/dataset/14_097_1_0036.xml  \n",
      "  inflating: /content/dataset/dataset/14_081_7_0037.xml  \n",
      "  inflating: /content/dataset/dataset/14_057_3_0096.xml  \n",
      "  inflating: /content/dataset/dataset/14_024_5_0049.xml  \n",
      "  inflating: /content/dataset/dataset/14_084_5_0049.xml  \n",
      "  inflating: /content/dataset/dataset/14_040_7_0008.xml  \n",
      "  inflating: /content/dataset/dataset/14_042_3_0075.xml  \n",
      "  inflating: /content/dataset/dataset/14_022_6_0049.xml  \n",
      "  inflating: /content/dataset/dataset/14_046_6_0037.xml  \n",
      "  inflating: /content/dataset/dataset/14_010_6_0018.xml  \n",
      "  inflating: /content/dataset/dataset/14_042_5_0043.xml  \n",
      "  inflating: /content/dataset/dataset/14_070_5_0030.bmp  \n",
      "  inflating: /content/dataset/dataset/14_010_1_0014.bmp  \n",
      "  inflating: /content/dataset/dataset/14_021_38_0032.xml  \n",
      "  inflating: /content/dataset/dataset/14_067_7_0022.bmp  \n",
      "  inflating: /content/dataset/dataset/14_051_8_0025.bmp  \n",
      "  inflating: /content/dataset/dataset/14_051_8_0024.bmp  \n",
      "  inflating: /content/dataset/dataset/14_044_5_0036.bmp  \n",
      "  inflating: /content/dataset/dataset/14_040_7_0008.bmp  \n",
      "  inflating: /content/dataset/dataset/14_034_6_0041.bmp  \n",
      "  inflating: /content/dataset/dataset/14_021_35_0009.bmp  \n",
      "  inflating: /content/dataset/dataset/14_010_1_0047.bmp  \n",
      "  inflating: /content/dataset/dataset/14_046_6_0062.bmp  \n",
      "  inflating: /content/dataset/dataset/14_024_6_0030.bmp  \n",
      "  inflating: /content/dataset/dataset/14_024_6_0057.bmp  \n",
      "  inflating: /content/dataset/dataset/14_018_6_0045.bmp  \n",
      "  inflating: /content/dataset/dataset/14_046_6_0054.bmp  \n",
      "  inflating: /content/dataset/dataset/14_018_8_0045.bmp  \n",
      "  inflating: /content/dataset/dataset/14_021_15_0042.bmp  \n",
      "  inflating: /content/dataset/dataset/14_018_6_0021.bmp  \n",
      "  inflating: /content/dataset/dataset/14_021_16_0071.bmp  \n",
      "  inflating: /content/dataset/dataset/14_018_8_0044.bmp  \n",
      "  inflating: /content/dataset/dataset/14_021_16_0085.bmp  \n",
      "  inflating: /content/dataset/dataset/14_024_6_0054.bmp  \n",
      "  inflating: /content/dataset/dataset/14_046_6_0049.bmp  \n",
      "  inflating: /content/dataset/dataset/14_018_6_0053.bmp  \n",
      "  inflating: /content/dataset/dataset/14_024_6_0048.bmp  \n",
      "  inflating: /content/dataset/dataset/14_021_16_0072.bmp  \n",
      "  inflating: /content/dataset/dataset/14_018_6_0038.bmp  \n",
      "  inflating: /content/dataset/dataset/14_021_16_0024.bmp  \n",
      "  inflating: /content/dataset/dataset/14_080_3_0026.bmp  \n",
      "  inflating: /content/dataset/dataset/14_051_5_0029.xml  \n",
      "  inflating: /content/dataset/dataset/14_080_2_0086.xml  \n",
      "  inflating: /content/dataset/dataset/14_094_2_0041.xml  \n",
      "  inflating: /content/dataset/dataset/14_066_7_0063.xml  \n",
      "  inflating: /content/dataset/dataset/14_058_4_0037.xml  \n",
      "  inflating: /content/dataset/dataset/14_084_6_0051.xml  \n",
      "  inflating: /content/dataset/dataset/14_053_4_0073.xml  \n",
      "  inflating: /content/dataset/dataset/14_088_5_0040.xml  \n",
      "  inflating: /content/dataset/dataset/14_050_8_0022.xml  \n",
      "  inflating: /content/dataset/dataset/14_084_4_0021.xml  \n",
      "  inflating: /content/dataset/dataset/14_066_10_0042.xml  \n",
      "  inflating: /content/dataset/dataset/14_029_6_0081.xml  \n",
      "  inflating: /content/dataset/dataset/14_039_1_0042.xml  \n",
      "  inflating: /content/dataset/dataset/14_044_1_0053.xml  \n",
      "  inflating: /content/dataset/dataset/14_044_2_0042.xml  \n",
      "  inflating: /content/dataset/dataset/14_021_4_0043.xml  \n",
      "  inflating: /content/dataset/dataset/14_042_2_0046.xml  \n",
      "  inflating: /content/dataset/dataset/14_023_3_0033.xml  \n",
      "  inflating: /content/dataset/dataset/14_042_1_0057.xml  \n",
      "  inflating: /content/dataset/dataset/14_024_1_0048.xml  \n",
      "  inflating: /content/dataset/dataset/14_032_4_0058.xml  \n",
      "  inflating: /content/dataset/dataset/14_026_2_0115.xml  \n",
      "  inflating: /content/dataset/dataset/14_007_8_0092.xml  \n",
      "  inflating: /content/dataset/dataset/14_048_3_0036.xml  \n",
      "  inflating: /content/dataset/dataset/14_067_4_0018.bmp  \n",
      "  inflating: /content/dataset/dataset/14_007_10_0069.xml  \n",
      "  inflating: /content/dataset/dataset/14_017_1_0051.bmp  \n",
      "  inflating: /content/dataset/dataset/14_099_8_0008.bmp  \n",
      "  inflating: /content/dataset/dataset/14_050_6_0037.bmp  \n",
      "  inflating: /content/dataset/dataset/14_068_6_0049.bmp  \n",
      "  inflating: /content/dataset/dataset/14_053_4_0050.xml  \n",
      "  inflating: /content/dataset/dataset/14_059_1_0050.xml  \n",
      "  inflating: /content/dataset/dataset/14_016_1_0057.xml  \n",
      "  inflating: /content/dataset/dataset/14_039_2_0046.xml  \n",
      "  inflating: /content/dataset/dataset/14_022_7_0066.xml  \n",
      "  inflating: /content/dataset/dataset/14_066_7_0055.xml  \n",
      "  inflating: /content/dataset/dataset/14_096_6_0050.xml  \n",
      "  inflating: /content/dataset/dataset/14_084_9_0040.xml  \n",
      "  inflating: /content/dataset/dataset/14_080_3_0030.xml  \n",
      "  inflating: /content/dataset/dataset/14_080_2_0044.xml  \n",
      "  inflating: /content/dataset/dataset/14_098_4_0024.xml  \n",
      "  inflating: /content/dataset/dataset/14_044_5_0053.xml  \n",
      "  inflating: /content/dataset/dataset/14_033_3_0079.xml  \n",
      "  inflating: /content/dataset/dataset/14_022_3_0066.xml  \n",
      "  inflating: /content/dataset/dataset/14_021_1_0071.xml  \n",
      "  inflating: /content/dataset/dataset/14_031_6_0046.xml  \n",
      "  inflating: /content/dataset/dataset/14_024_3_0024.xml  \n",
      "  inflating: /content/dataset/dataset/14_007_10_0043.xml  \n",
      "  inflating: /content/dataset/dataset/14_048_4_0027.xml  \n",
      "  inflating: /content/dataset/dataset/14_015_1_0055.xml  \n",
      "  inflating: /content/dataset/dataset/14_021_38_0043.bmp  \n",
      "  inflating: /content/dataset/dataset/14_021_15_0034.bmp  \n",
      "  inflating: /content/dataset/dataset/14_021_15_0067.bmp  \n",
      "  inflating: /content/dataset/dataset/14_026_2_0042.bmp  \n",
      "  inflating: /content/dataset/dataset/14_087_1_0035.bmp  \n",
      "  inflating: /content/dataset/dataset/14_028_1_0048.bmp  \n",
      "  inflating: /content/dataset/dataset/14_028_1_0076.bmp  \n",
      "  inflating: /content/dataset/dataset/14_007_8_0097.bmp  \n",
      "  inflating: /content/dataset/dataset/14_028_2_0073.bmp  \n",
      "  inflating: /content/dataset/dataset/14_085_4_0034.bmp  \n",
      "  inflating: /content/dataset/dataset/14_088_6_0048.bmp  \n",
      "  inflating: /content/dataset/dataset/14_032_7_0040.bmp  \n",
      "  inflating: /content/dataset/dataset/14_087_2_0072.bmp  \n",
      "  inflating: /content/dataset/dataset/14_087_3_0026.bmp  \n",
      "  inflating: /content/dataset/dataset/14_007_5_0062.bmp  \n",
      "  inflating: /content/dataset/dataset/14_053_4_0067.bmp  \n",
      "  inflating: /content/dataset/dataset/14_024_4_0024.bmp  \n",
      "  inflating: /content/dataset/dataset/14_059_2_0056.bmp  \n",
      "  inflating: /content/dataset/dataset/14_031_4_0030.bmp  \n",
      "  inflating: /content/dataset/dataset/14_029_4_0078.bmp  \n",
      "  inflating: /content/dataset/dataset/14_077_5_0060.bmp  \n",
      "  inflating: /content/dataset/dataset/14_092_2_0047.bmp  \n",
      "  inflating: /content/dataset/dataset/14_085_4_0067.bmp  \n",
      "  inflating: /content/dataset/dataset/14_033_4_0066.bmp  \n",
      "  inflating: /content/dataset/dataset/14_033_4_0028.bmp  \n",
      "  inflating: /content/dataset/dataset/14_059_1_0094.bmp  \n",
      "  inflating: /content/dataset/dataset/14_039_5_0025.bmp  \n",
      "  inflating: /content/dataset/dataset/14_077_5_0080.bmp  \n",
      "  inflating: /content/dataset/dataset/14_007_10_0038.bmp  \n",
      "  inflating: /content/dataset/dataset/14_032_4_0039.bmp  \n",
      "  inflating: /content/dataset/dataset/14_087_1_0049.bmp  \n",
      "  inflating: /content/dataset/dataset/14_024_3_0037.bmp  \n",
      "  inflating: /content/dataset/dataset/14_084_9_0039.bmp  \n",
      "  inflating: /content/dataset/dataset/14_097_1_0025.bmp  \n",
      "  inflating: /content/dataset/dataset/14_022_7_0064.bmp  \n",
      "  inflating: /content/dataset/dataset/14_021_2_0033.bmp  \n",
      "  inflating: /content/dataset/dataset/14_024_1_0059.bmp  \n",
      "  inflating: /content/dataset/dataset/14_039_7_0063.bmp  \n",
      "  inflating: /content/dataset/dataset/14_006_1_0057.bmp  \n",
      "  inflating: /content/dataset/dataset/14_026_2_0070.bmp  \n",
      "  inflating: /content/dataset/dataset/14_077_6_0099.bmp  \n",
      "  inflating: /content/dataset/dataset/14_096_2_0059.bmp  \n",
      "  inflating: /content/dataset/dataset/14_026_2_0122.bmp  \n",
      "  inflating: /content/dataset/dataset/14_085_5_0069.bmp  \n",
      "  inflating: /content/dataset/dataset/14_053_2_0053.bmp  \n",
      "  inflating: /content/dataset/dataset/14_087_3_0075.bmp  \n",
      "  inflating: /content/dataset/dataset/14_095_5_0050.bmp  \n",
      "  inflating: /content/dataset/dataset/14_033_4_0086.bmp  \n",
      "  inflating: /content/dataset/dataset/14_059_1_0077.bmp  \n",
      "  inflating: /content/dataset/dataset/14_029_7_0075.bmp  \n",
      "  inflating: /content/dataset/dataset/14_053_5_0067.bmp  \n",
      "  inflating: /content/dataset/dataset/14_031_8_0069.bmp  \n",
      "  inflating: /content/dataset/dataset/14_069_1_0093.bmp  \n",
      "  inflating: /content/dataset/dataset/14_033_4_0016.bmp  \n",
      "  inflating: /content/dataset/dataset/14_096_2_0046.bmp  \n",
      "  inflating: /content/dataset/dataset/14_029_6_0067.bmp  \n",
      "  inflating: /content/dataset/dataset/14_022_1_0054.bmp  \n",
      "  inflating: /content/dataset/dataset/14_007_3_0069.bmp  \n",
      "  inflating: /content/dataset/dataset/14_026_3_0050.bmp  \n",
      "  inflating: /content/dataset/dataset/14_033_4_0022.bmp  \n",
      "  inflating: /content/dataset/dataset/14_095_2_0064.bmp  \n",
      "  inflating: /content/dataset/dataset/14_085_5_0079.bmp  \n",
      "  inflating: /content/dataset/dataset/14_022_6_0027.bmp  \n",
      "  inflating: /content/dataset/dataset/14_024_1_0026.bmp  \n",
      "  inflating: /content/dataset/dataset/14_007_5_0076.bmp  \n",
      "  inflating: /content/dataset/dataset/14_088_8_0079.bmp  \n",
      "  inflating: /content/dataset/dataset/14_029_5_0031.bmp  \n",
      "  inflating: /content/dataset/dataset/14_049_3_0028.bmp  \n",
      "  inflating: /content/dataset/dataset/14_007_3_0032.bmp  \n",
      "  inflating: /content/dataset/dataset/14_032_4_0031.bmp  \n",
      "  inflating: /content/dataset/dataset/14_024_5_0061.bmp  \n",
      "  inflating: /content/dataset/dataset/14_029_4_0085.bmp  \n",
      "  inflating: /content/dataset/dataset/14_042_2_0047.bmp  \n",
      "  inflating: /content/dataset/dataset/14_029_2_0042.bmp  \n",
      "  inflating: /content/dataset/dataset/14_081_11_0032.bmp  \n",
      "  inflating: /content/dataset/dataset/14_081_3_0016.bmp  \n",
      "  inflating: /content/dataset/dataset/14_007_6_0043.bmp  \n",
      "  inflating: /content/dataset/dataset/14_088_5_0043.bmp  \n",
      "  inflating: /content/dataset/dataset/14_049_1_0017.bmp  \n",
      "  inflating: /content/dataset/dataset/14_064_2_0066.bmp  \n",
      "  inflating: /content/dataset/dataset/14_023_4_0060.bmp  \n",
      "  inflating: /content/dataset/dataset/14_022_6_0067.bmp  \n",
      "  inflating: /content/dataset/dataset/14_095_1_0085.bmp  \n",
      "  inflating: /content/dataset/dataset/14_096_2_0023.bmp  \n",
      "  inflating: /content/dataset/dataset/14_007_5_0041.bmp  \n",
      "  inflating: /content/dataset/dataset/14_096_4_0075.bmp  \n",
      "  inflating: /content/dataset/dataset/14_088_6_0051.bmp  \n",
      "  inflating: /content/dataset/dataset/14_095_7_0057.bmp  \n",
      "  inflating: /content/dataset/dataset/14_053_5_0066.bmp  \n",
      "  inflating: /content/dataset/dataset/14_087_1_0072.bmp  \n",
      "  inflating: /content/dataset/dataset/14_088_1_0025.bmp  \n",
      "  inflating: /content/dataset/dataset/14_031_7_0020.bmp  \n",
      "  inflating: /content/dataset/dataset/14_081_11_0037.bmp  \n",
      "  inflating: /content/dataset/dataset/14_084_6_0039.bmp  \n",
      "  inflating: /content/dataset/dataset/14_064_2_0054.bmp  \n",
      "  inflating: /content/dataset/dataset/14_022_7_0072.bmp  \n",
      "  inflating: /content/dataset/dataset/14_042_3_0023.bmp  \n",
      "  inflating: /content/dataset/dataset/14_085_4_0050.bmp  \n",
      "  inflating: /content/dataset/dataset/14_087_1_0068.bmp  \n",
      "  inflating: /content/dataset/dataset/14_053_1_0043.bmp  \n",
      "  inflating: /content/dataset/dataset/14_097_2_0014.bmp  \n",
      "  inflating: /content/dataset/dataset/14_097_1_0026.bmp  \n",
      "  inflating: /content/dataset/dataset/14_029_6_0062.bmp  \n",
      "  inflating: /content/dataset/dataset/14_084_6_0052.bmp  \n",
      "  inflating: /content/dataset/dataset/14_039_5_0061.bmp  \n",
      "  inflating: /content/dataset/dataset/14_087_1_0044.bmp  \n",
      "  inflating: /content/dataset/dataset/14_088_5_0039.bmp  \n",
      "  inflating: /content/dataset/dataset/14_019_5_0090.bmp  \n",
      "  inflating: /content/dataset/dataset/14_021_5_0071.bmp  \n",
      "  inflating: /content/dataset/dataset/14_095_8_0060.bmp  \n",
      "  inflating: /content/dataset/dataset/14_029_4_0092.bmp  \n",
      "  inflating: /content/dataset/dataset/14_029_2_0034.bmp  \n",
      "  inflating: /content/dataset/dataset/14_007_10_0047.bmp  \n",
      "  inflating: /content/dataset/dataset/14_096_3_0044.bmp  \n",
      "  inflating: /content/dataset/dataset/14_021_1_0054.bmp  \n",
      "  inflating: /content/dataset/dataset/14_033_3_0087.bmp  \n",
      "  inflating: /content/dataset/dataset/14_024_1_0053.bmp  \n",
      "  inflating: /content/dataset/dataset/14_029_7_0055.bmp  \n",
      "  inflating: /content/dataset/dataset/14_026_3_0090.bmp  \n",
      "  inflating: /content/dataset/dataset/14_088_6_0054.bmp  \n",
      "  inflating: /content/dataset/dataset/14_096_4_0063.bmp  \n",
      "  inflating: /content/dataset/dataset/14_007_8_0110.bmp  \n",
      "  inflating: /content/dataset/dataset/14_033_3_0080.bmp  \n",
      "  inflating: /content/dataset/dataset/14_095_2_0038.bmp  \n",
      "  inflating: /content/dataset/dataset/14_042_3_0064.bmp  \n",
      "  inflating: /content/dataset/dataset/14_077_6_0056.bmp  \n",
      "  inflating: /content/dataset/dataset/14_096_5_0056.bmp  \n",
      "  inflating: /content/dataset/dataset/14_042_3_0050.bmp  \n",
      "  inflating: /content/dataset/dataset/14_022_3_0050.bmp  \n",
      "  inflating: /content/dataset/dataset/14_069_1_0065.bmp  \n",
      "  inflating: /content/dataset/dataset/14_095_7_0029.bmp  \n",
      "  inflating: /content/dataset/dataset/14_084_6_0048.bmp  \n",
      "  inflating: /content/dataset/dataset/14_069_1_0072.bmp  \n",
      "  inflating: /content/dataset/dataset/14_066_7_0055.bmp  \n",
      "  inflating: /content/dataset/dataset/14_031_6_0042.bmp  \n",
      "  inflating: /content/dataset/dataset/14_031_3_0052.bmp  \n",
      "  inflating: /content/dataset/dataset/14_029_5_0045.bmp  \n",
      "  inflating: /content/dataset/dataset/14_022_3_0051.bmp  \n",
      "  inflating: /content/dataset/dataset/14_095_8_0043.bmp  \n",
      "  inflating: /content/dataset/dataset/14_024_4_0045.bmp  \n",
      "  inflating: /content/dataset/dataset/14_031_4_0045.bmp  \n",
      "  inflating: /content/dataset/dataset/14_031_4_0043.bmp  \n",
      "  inflating: /content/dataset/dataset/14_029_6_0074.bmp  \n",
      "  inflating: /content/dataset/dataset/14_042_5_0064.bmp  \n",
      "  inflating: /content/dataset/dataset/14_098_4_0020.bmp  \n",
      "  inflating: /content/dataset/dataset/14_032_7_0044.bmp  \n",
      "  inflating: /content/dataset/dataset/14_097_1_0036.bmp  \n",
      "  inflating: /content/dataset/dataset/14_029_4_0098.bmp  \n",
      "  inflating: /content/dataset/dataset/14_095_1_0039.bmp  \n",
      "  inflating: /content/dataset/dataset/14_031_3_0063.bmp  \n",
      "  inflating: /content/dataset/dataset/14_029_2_0049.bmp  \n",
      "  inflating: /content/dataset/dataset/14_007_3_0061.bmp  \n",
      "  inflating: /content/dataset/dataset/14_019_5_0056.bmp  \n",
      "  inflating: /content/dataset/dataset/14_081_6_0030.bmp  \n",
      "  inflating: /content/dataset/dataset/14_059_1_0075.bmp  \n",
      "  inflating: /content/dataset/dataset/14_029_6_0045.bmp  \n",
      "  inflating: /content/dataset/dataset/14_021_1_0053.bmp  \n",
      "  inflating: /content/dataset/dataset/14_021_6_0038.bmp  \n",
      "  inflating: /content/dataset/dataset/14_096_6_0032.bmp  \n",
      "  inflating: /content/dataset/dataset/14_059_2_0042.bmp  \n",
      "  inflating: /content/dataset/dataset/14_096_6_0026.bmp  \n",
      "  inflating: /content/dataset/dataset/14_053_2_0059.bmp  \n",
      "  inflating: /content/dataset/dataset/14_032_6_0052.bmp  \n",
      "  inflating: /content/dataset/dataset/14_053_5_0074.bmp  \n",
      "  inflating: /content/dataset/dataset/14_081_7_0030.bmp  \n",
      "  inflating: /content/dataset/dataset/14_058_3_0052.bmp  \n",
      "  inflating: /content/dataset/dataset/14_032_6_0034.bmp  \n",
      "  inflating: /content/dataset/dataset/14_058_3_0043.bmp  \n",
      "  inflating: /content/dataset/dataset/14_046_3_0058.bmp  \n",
      "  inflating: /content/dataset/dataset/14_085_2_0032.bmp  \n",
      "  inflating: /content/dataset/dataset/14_066_7_0057.bmp  \n",
      "  inflating: /content/dataset/dataset/14_033_4_0090.bmp  \n",
      "  inflating: /content/dataset/dataset/14_087_3_0033.bmp  \n",
      "  inflating: /content/dataset/dataset/14_007_5_0104.bmp  \n",
      "  inflating: /content/dataset/dataset/14_028_2_0067.bmp  \n",
      "  inflating: /content/dataset/dataset/14_096_3_0063.bmp  \n",
      "  inflating: /content/dataset/dataset/14_042_2_0034.bmp  \n",
      "  inflating: /content/dataset/dataset/14_007_5_0094.bmp  \n",
      "  inflating: /content/dataset/dataset/14_087_3_0039.bmp  \n",
      "  inflating: /content/dataset/dataset/14_081_6_0026.bmp  \n",
      "  inflating: /content/dataset/dataset/14_032_7_0054.bmp  \n",
      "  inflating: /content/dataset/dataset/14_085_4_0035.bmp  \n",
      "  inflating: /content/dataset/dataset/14_087_3_0084.bmp  \n",
      "  inflating: /content/dataset/dataset/14_053_1_0033.bmp  \n",
      "  inflating: /content/dataset/dataset/14_042_1_0028.bmp  \n",
      "  inflating: /content/dataset/dataset/14_087_1_0058.bmp  \n",
      "  inflating: /content/dataset/dataset/14_023_4_0073.bmp  \n",
      "  inflating: /content/dataset/dataset/14_024_2_0024.bmp  \n",
      "  inflating: /content/dataset/dataset/14_085_2_0061.bmp  \n",
      "  inflating: /content/dataset/dataset/14_022_3_0043.bmp  \n",
      "  inflating: /content/dataset/dataset/14_032_6_0032.bmp  \n",
      "  inflating: /content/dataset/dataset/14_028_3_0085.bmp  \n",
      "  inflating: /content/dataset/dataset/14_031_8_0036.bmp  \n",
      "  inflating: /content/dataset/dataset/14_007_8_0059.bmp  \n",
      "  inflating: /content/dataset/dataset/14_022_7_0034.bmp  \n",
      "  inflating: /content/dataset/dataset/14_032_6_0064.bmp  \n",
      "  inflating: /content/dataset/dataset/14_006_1_0133.bmp  \n",
      "  inflating: /content/dataset/dataset/14_095_7_0050.bmp  \n",
      "  inflating: /content/dataset/dataset/14_006_1_0042.bmp  \n",
      "  inflating: /content/dataset/dataset/14_096_6_0023.bmp  \n",
      "  inflating: /content/dataset/dataset/14_026_2_0019.bmp  \n",
      "  inflating: /content/dataset/dataset/14_083_1_0049.bmp  \n",
      "  inflating: /content/dataset/dataset/14_087_2_0021.bmp  \n",
      "  inflating: /content/dataset/dataset/14_039_5_0034.bmp  \n",
      "  inflating: /content/dataset/dataset/14_042_4_0057.bmp  \n",
      "  inflating: /content/dataset/dataset/14_026_2_0068.bmp  \n",
      "  inflating: /content/dataset/dataset/14_029_1_0064.bmp  \n",
      "  inflating: /content/dataset/dataset/14_062_5_0045.bmp  \n",
      "  inflating: /content/dataset/dataset/14_028_3_0078.bmp  \n",
      "  inflating: /content/dataset/dataset/14_085_5_0060.bmp  \n",
      "  inflating: /content/dataset/dataset/14_028_2_0072.bmp  \n",
      "  inflating: /content/dataset/dataset/14_022_7_0062.bmp  \n",
      "  inflating: /content/dataset/dataset/14_006_1_0085.bmp  \n",
      "  inflating: /content/dataset/dataset/14_039_5_0050.bmp  \n",
      "  inflating: /content/dataset/dataset/14_096_6_0054.bmp  \n",
      "  inflating: /content/dataset/dataset/14_039_7_0076.bmp  \n",
      "  inflating: /content/dataset/dataset/14_053_2_0063.bmp  \n",
      "  inflating: /content/dataset/dataset/14_095_5_0038.bmp  \n",
      "  inflating: /content/dataset/dataset/14_029_1_0033.bmp  \n",
      "  inflating: /content/dataset/dataset/14_087_2_0040.bmp  \n",
      "  inflating: /content/dataset/dataset/14_080_2_0083.bmp  \n",
      "  inflating: /content/dataset/dataset/14_053_2_0038.bmp  \n",
      "  inflating: /content/dataset/dataset/14_021_6_0018.bmp  \n",
      "  inflating: /content/dataset/dataset/14_096_3_0049.bmp  \n",
      "  inflating: /content/dataset/dataset/14_083_1_0051.bmp  \n",
      "  inflating: /content/dataset/dataset/14_064_2_0067.bmp  \n",
      "  inflating: /content/dataset/dataset/14_024_3_0033.bmp  \n",
      "  inflating: /content/dataset/dataset/14_031_7_0032.bmp  \n",
      "  inflating: /content/dataset/dataset/14_095_1_0046.bmp  \n",
      "  inflating: /content/dataset/dataset/14_039_7_0062.bmp  \n",
      "  inflating: /content/dataset/dataset/14_026_2_0085.bmp  \n",
      "  inflating: /content/dataset/dataset/14_087_1_0054.bmp  \n",
      "  inflating: /content/dataset/dataset/14_077_6_0107.bmp  \n",
      "  inflating: /content/dataset/dataset/14_031_7_0051.bmp  \n",
      "  inflating: /content/dataset/dataset/14_026_2_0109.bmp  \n",
      "  inflating: /content/dataset/dataset/14_007_6_0080.bmp  \n",
      "  inflating: /content/dataset/dataset/14_095_5_0054.bmp  \n",
      "  inflating: /content/dataset/dataset/14_066_7_0047.bmp  \n",
      "  inflating: /content/dataset/dataset/14_029_5_0055.bmp  \n",
      "  inflating: /content/dataset/dataset/14_006_1_0044.bmp  \n",
      "  inflating: /content/dataset/dataset/14_029_4_0062.bmp  \n",
      "  inflating: /content/dataset/dataset/14_031_8_0072.bmp  \n",
      "  inflating: /content/dataset/dataset/14_028_1_0047.bmp  \n",
      "  inflating: /content/dataset/dataset/14_029_4_0083.bmp  \n",
      "  inflating: /content/dataset/dataset/14_042_3_0052.bmp  \n",
      "  inflating: /content/dataset/dataset/14_031_6_0034.bmp  \n",
      "  inflating: /content/dataset/dataset/14_085_2_0059.bmp  \n",
      "  inflating: /content/dataset/dataset/14_029_2_0061.bmp  \n",
      "  inflating: /content/dataset/dataset/14_096_3_0067.bmp  \n",
      "  inflating: /content/dataset/dataset/14_039_4_0023.bmp  \n",
      "  inflating: /content/dataset/dataset/14_081_6_0032.bmp  \n",
      "  inflating: /content/dataset/dataset/14_096_3_0071.bmp  \n",
      "  inflating: /content/dataset/dataset/14_039_5_0073.bmp  \n",
      "  inflating: /content/dataset/dataset/14_080_2_0060.bmp  \n",
      "  inflating: /content/dataset/dataset/14_006_1_0113.bmp  \n",
      "  inflating: /content/dataset/dataset/14_022_6_0061.bmp  \n",
      "  inflating: /content/dataset/dataset/14_095_8_0068.bmp  \n",
      "  inflating: /content/dataset/dataset/14_059_2_0046.bmp  \n",
      "  inflating: /content/dataset/dataset/14_042_2_0053.bmp  \n",
      "  inflating: /content/dataset/dataset/14_028_1_0056.bmp  \n",
      "  inflating: /content/dataset/dataset/14_098_3_0018.bmp  \n",
      "  inflating: /content/dataset/dataset/14_032_7_0034.bmp  \n",
      "  inflating: /content/dataset/dataset/14_026_2_0073.bmp  \n",
      "  inflating: /content/dataset/dataset/14_031_8_0071.bmp  \n",
      "  inflating: /content/dataset/dataset/14_007_3_0080.bmp  \n",
      "  inflating: /content/dataset/dataset/14_033_4_0037.bmp  \n",
      "  inflating: /content/dataset/dataset/14_016_1_0048.bmp  \n",
      "  inflating: /content/dataset/dataset/14_084_7_0034.bmp  \n",
      "  inflating: /content/dataset/dataset/14_029_2_0038.bmp  \n",
      "  inflating: /content/dataset/dataset/14_092_2_0040.bmp  \n",
      "  inflating: /content/dataset/dataset/14_029_6_0061.bmp  \n",
      "  inflating: /content/dataset/dataset/14_042_1_0041.bmp  \n",
      "  inflating: /content/dataset/dataset/14_023_3_0037.bmp  \n",
      "  inflating: /content/dataset/dataset/14_095_1_0075.bmp  \n",
      "  inflating: /content/dataset/dataset/14_021_1_0063.bmp  \n",
      "  inflating: /content/dataset/dataset/14_028_2_0084.bmp  \n",
      "  inflating: /content/dataset/dataset/14_081_11_0038.bmp  \n",
      "  inflating: /content/dataset/dataset/14_096_5_0063.bmp  \n",
      "  inflating: /content/dataset/dataset/14_096_6_0061.bmp  \n",
      "  inflating: /content/dataset/dataset/14_081_3_0022.bmp  \n",
      "  inflating: /content/dataset/dataset/14_031_3_0070.bmp  \n",
      "  inflating: /content/dataset/dataset/14_095_8_0053.bmp  \n",
      "  inflating: /content/dataset/dataset/14_006_1_0116.bmp  \n",
      "  inflating: /content/dataset/dataset/14_007_10_0092.bmp  \n",
      "  inflating: /content/dataset/dataset/14_042_4_0072.bmp  \n",
      "  inflating: /content/dataset/dataset/14_049_3_0024.bmp  \n",
      "  inflating: /content/dataset/dataset/14_042_5_0063.bmp  \n",
      "  inflating: /content/dataset/dataset/14_042_4_0033.bmp  \n",
      "  inflating: /content/dataset/dataset/14_031_3_0058.bmp  \n",
      "  inflating: /content/dataset/dataset/14_029_5_0087.bmp  \n",
      "  inflating: /content/dataset/dataset/14_039_4_0028.bmp  \n",
      "  inflating: /content/dataset/dataset/14_049_4_0059.bmp  \n",
      "  inflating: /content/dataset/dataset/14_053_4_0077.bmp  \n",
      "  inflating: /content/dataset/dataset/14_029_5_0068.bmp  \n",
      "  inflating: /content/dataset/dataset/14_032_6_0066.bmp  \n",
      "  inflating: /content/dataset/dataset/14_007_10_0036.bmp  \n",
      "  inflating: /content/dataset/dataset/14_032_6_0039.bmp  \n",
      "  inflating: /content/dataset/dataset/14_046_3_0060.bmp  \n",
      "  inflating: /content/dataset/dataset/14_031_6_0047.bmp  \n",
      "  inflating: /content/dataset/dataset/14_006_1_0070.bmp  \n",
      "  inflating: /content/dataset/dataset/14_031_5_0049.bmp  \n",
      "  inflating: /content/dataset/dataset/14_022_6_0047.bmp  \n",
      "  inflating: /content/dataset/dataset/14_031_5_0045.bmp  \n",
      "  inflating: /content/dataset/dataset/14_096_6_0042.bmp  \n",
      "  inflating: /content/dataset/dataset/14_059_1_0100.bmp  \n",
      "  inflating: /content/dataset/dataset/14_033_4_0065.bmp  \n",
      "  inflating: /content/dataset/dataset/14_058_3_0044.bmp  \n",
      "  inflating: /content/dataset/dataset/14_029_7_0048.bmp  \n",
      "  inflating: /content/dataset/dataset/14_095_7_0032.bmp  \n",
      "  inflating: /content/dataset/dataset/14_029_6_0083.bmp  \n",
      "  inflating: /content/dataset/dataset/14_019_5_0055.bmp  \n",
      "  inflating: /content/dataset/dataset/14_039_5_0029.bmp  \n",
      "  inflating: /content/dataset/dataset/14_033_3_0041.bmp  \n",
      "  inflating: /content/dataset/dataset/14_029_7_0060.bmp  \n",
      "  inflating: /content/dataset/dataset/14_087_3_0042.bmp  \n",
      "  inflating: /content/dataset/dataset/14_085_4_0083.bmp  \n",
      "  inflating: /content/dataset/dataset/14_087_3_0046.bmp  \n",
      "  inflating: /content/dataset/dataset/14_016_1_0043.bmp  \n",
      "  inflating: /content/dataset/dataset/14_088_8_0052.bmp  \n",
      "  inflating: /content/dataset/dataset/14_066_8_0053.bmp  \n",
      "  inflating: /content/dataset/dataset/14_006_1_0048.bmp  \n",
      "  inflating: /content/dataset/dataset/14_039_7_0067.bmp  \n",
      "  inflating: /content/dataset/dataset/14_085_4_0033.bmp  \n",
      "  inflating: /content/dataset/dataset/14_095_2_0058.bmp  \n",
      "  inflating: /content/dataset/dataset/14_029_5_0052.bmp  \n",
      "  inflating: /content/dataset/dataset/14_007_8_0098.bmp  \n",
      "  inflating: /content/dataset/dataset/14_096_6_0025.bmp  \n",
      "  inflating: /content/dataset/dataset/14_023_3_0035.bmp  \n",
      "  inflating: /content/dataset/dataset/14_021_6_0021.bmp  \n",
      "  inflating: /content/dataset/dataset/14_026_2_0038.bmp  \n",
      "  inflating: /content/dataset/dataset/14_042_5_0036.bmp  \n",
      "  inflating: /content/dataset/dataset/14_081_7_0031.bmp  \n",
      "  inflating: /content/dataset/dataset/14_026_3_0084.bmp  \n",
      "  inflating: /content/dataset/dataset/14_032_4_0043.bmp  \n",
      "  inflating: /content/dataset/dataset/14_031_6_0069.bmp  \n",
      "  inflating: /content/dataset/dataset/14_032_6_0041.bmp  \n",
      "  inflating: /content/dataset/dataset/14_028_3_0079.bmp  \n",
      "  inflating: /content/dataset/dataset/14_032_7_0032.bmp  \n",
      "  inflating: /content/dataset/dataset/14_026_2_0117.bmp  \n",
      "  inflating: /content/dataset/dataset/14_039_4_0034.bmp  \n",
      "  inflating: /content/dataset/dataset/14_006_1_0088.bmp  \n",
      "  inflating: /content/dataset/dataset/14_007_8_0034.bmp  \n",
      "  inflating: /content/dataset/dataset/14_039_1_0039.bmp  \n",
      "  inflating: /content/dataset/dataset/14_062_2_0042.bmp  \n",
      "  inflating: /content/dataset/dataset/14_084_5_0032.bmp  \n",
      "  inflating: /content/dataset/dataset/14_064_3_0019.bmp  \n",
      "  inflating: /content/dataset/dataset/14_062_3_0039.bmp  \n",
      "  inflating: /content/dataset/dataset/14_048_5_0070.bmp  \n",
      "  inflating: /content/dataset/dataset/14_084_4_0017.bmp  \n",
      "  inflating: /content/dataset/dataset/14_023_2_0099.bmp  \n",
      "  inflating: /content/dataset/dataset/14_048_2_0093.bmp  \n",
      "  inflating: /content/dataset/dataset/14_083_6_0039.bmp  \n",
      "  inflating: /content/dataset/dataset/14_023_2_0068.bmp  \n",
      "  inflating: /content/dataset/dataset/14_015_1_0035.bmp  \n",
      "  inflating: /content/dataset/dataset/14_048_2_0055.bmp  \n",
      "  inflating: /content/dataset/dataset/14_066_10_0070.bmp  \n",
      "  inflating: /content/dataset/dataset/14_083_6_0025.bmp  \n",
      "  inflating: /content/dataset/dataset/14_046_5_0064.bmp  \n",
      "  inflating: /content/dataset/dataset/14_046_5_0035.bmp  \n",
      "  inflating: /content/dataset/dataset/14_084_3_0023.bmp  \n",
      "  inflating: /content/dataset/dataset/14_023_2_0075.bmp  \n",
      "  inflating: /content/dataset/dataset/14_015_1_0041.bmp  \n",
      "  inflating: /content/dataset/dataset/14_084_3_0045.bmp  \n",
      "  inflating: /content/dataset/dataset/14_048_3_0084.bmp  \n",
      "  inflating: /content/dataset/dataset/14_084_1_0045.bmp  \n",
      "  inflating: /content/dataset/dataset/14_083_6_0028.bmp  \n",
      "  inflating: /content/dataset/dataset/14_048_3_0040.bmp  \n",
      "  inflating: /content/dataset/dataset/14_048_1_0031.bmp  \n",
      "  inflating: /content/dataset/dataset/14_083_6_0042.bmp  \n",
      "  inflating: /content/dataset/dataset/14_062_3_0058.bmp  \n",
      "  inflating: /content/dataset/dataset/14_048_1_0038.bmp  \n",
      "  inflating: /content/dataset/dataset/14_084_3_0040.bmp  \n",
      "  inflating: /content/dataset/dataset/14_084_5_0051.bmp  \n",
      "  inflating: /content/dataset/dataset/14_046_5_0077.bmp  \n",
      "  inflating: /content/dataset/dataset/14_084_5_0034.bmp  \n",
      "  inflating: /content/dataset/dataset/14_092_1_0041.bmp  \n",
      "  inflating: /content/dataset/dataset/14_062_2_0081.bmp  \n",
      "  inflating: /content/dataset/dataset/14_083_6_0029.bmp  \n",
      "  inflating: /content/dataset/dataset/14_048_2_0070.bmp  \n",
      "  inflating: /content/dataset/dataset/14_057_2_0065.bmp  \n",
      "  inflating: /content/dataset/dataset/14_062_3_0069.bmp  \n",
      "  inflating: /content/dataset/dataset/14_057_2_0072.bmp  \n",
      "  inflating: /content/dataset/dataset/14_048_2_0058.bmp  \n",
      "  inflating: /content/dataset/dataset/14_048_3_0050.bmp  \n",
      "  inflating: /content/dataset/dataset/14_092_1_0048.bmp  \n",
      "  inflating: /content/dataset/dataset/14_048_3_0071.bmp  \n",
      "  inflating: /content/dataset/dataset/14_046_5_0033.bmp  \n",
      "  inflating: /content/dataset/dataset/14_057_2_0050.bmp  \n",
      "  inflating: /content/dataset/dataset/14_023_2_0073.bmp  \n",
      "  inflating: /content/dataset/dataset/14_048_4_0024.bmp  \n",
      "  inflating: /content/dataset/dataset/14_062_2_0040.bmp  \n",
      "  inflating: /content/dataset/dataset/14_084_3_0042.bmp  \n",
      "  inflating: /content/dataset/dataset/14_057_3_0064.bmp  \n",
      "  inflating: /content/dataset/dataset/14_084_5_0035.bmp  \n",
      "  inflating: /content/dataset/dataset/14_015_1_0028.bmp  \n",
      "  inflating: /content/dataset/dataset/14_048_2_0045.bmp  \n",
      "  inflating: /content/dataset/dataset/14_062_3_0044.bmp  \n",
      "  inflating: /content/dataset/dataset/14_062_2_0036.bmp  \n",
      "  inflating: /content/dataset/dataset/14_057_2_0039.bmp  \n",
      "  inflating: /content/dataset/dataset/14_048_3_0037.bmp  \n",
      "  inflating: /content/dataset/dataset/14_066_9_0050.bmp  \n",
      "  inflating: /content/dataset/dataset/14_075_3_0033.xml  \n",
      "  inflating: /content/dataset/dataset/14_053_5_0058.xml  \n",
      "  inflating: /content/dataset/dataset/14_096_2_0042.xml  \n",
      "  inflating: /content/dataset/dataset/14_096_5_0037.xml  \n",
      "  inflating: /content/dataset/dataset/14_066_8_0060.xml  \n",
      "  inflating: /content/dataset/dataset/14_084_9_0037.xml  \n",
      "  inflating: /content/dataset/dataset/14_087_3_0079.xml  \n",
      "  inflating: /content/dataset/dataset/14_075_3_0025.xml  \n",
      "  inflating: /content/dataset/dataset/14_088_5_0028.xml  \n",
      "  inflating: /content/dataset/dataset/14_094_3_0048.xml  \n",
      "  inflating: /content/dataset/dataset/14_066_8_0027.xml  \n",
      "  inflating: /content/dataset/dataset/14_059_2_0052.xml  \n",
      "  inflating: /content/dataset/dataset/14_080_2_0068.xml  \n",
      "  inflating: /content/dataset/dataset/14_084_7_0036.xml  \n",
      "  inflating: /content/dataset/dataset/14_087_2_0033.xml  \n",
      "  inflating: /content/dataset/dataset/14_055_5_0012.xml  \n",
      "  inflating: /content/dataset/dataset/14_081_7_0041.xml  \n",
      "  inflating: /content/dataset/dataset/14_096_6_0061.xml  \n",
      "  inflating: /content/dataset/dataset/14_053_2_0081.xml  \n",
      "  inflating: /content/dataset/dataset/14_087_2_0031.xml  \n",
      "  inflating: /content/dataset/dataset/14_095_7_0045.xml  \n",
      "  inflating: /content/dataset/dataset/14_095_1_0047.xml  \n",
      "  inflating: /content/dataset/dataset/14_096_6_0042.xml  \n",
      "  inflating: /content/dataset/dataset/14_095_4_0018.xml  \n",
      "  inflating: /content/dataset/dataset/14_077_6_0082.xml  \n",
      "  inflating: /content/dataset/dataset/14_083_1_0034.xml  \n",
      "  inflating: /content/dataset/dataset/14_053_1_0044.xml  \n",
      "  inflating: /content/dataset/dataset/14_051_8_0035.xml  \n",
      "  inflating: /content/dataset/dataset/14_068_3_0019.xml  \n",
      "  inflating: /content/dataset/dataset/14_094_3_0033.xml  \n",
      "  inflating: /content/dataset/dataset/14_085_1_0063.xml  \n",
      "  inflating: /content/dataset/dataset/14_077_6_0100.xml  \n",
      "  inflating: /content/dataset/dataset/14_080_2_0056.xml  \n",
      "  inflating: /content/dataset/dataset/14_097_1_0030.xml  \n",
      "  inflating: /content/dataset/dataset/14_055_8_0023.xml  \n",
      "  inflating: /content/dataset/dataset/14_077_5_0036.xml  \n",
      "  inflating: /content/dataset/dataset/14_096_6_0041.xml  \n",
      "  inflating: /content/dataset/dataset/14_099_5_0023.xml  \n",
      "  inflating: /content/dataset/dataset/14_080_3_0036.xml  \n",
      "  inflating: /content/dataset/dataset/14_069_1_0064.xml  \n",
      "  inflating: /content/dataset/dataset/14_067_7_0018.xml  \n",
      "  inflating: /content/dataset/dataset/14_094_3_0060.xml  \n",
      "  inflating: /content/dataset/dataset/14_088_8_0061.xml  \n",
      "  inflating: /content/dataset/dataset/14_077_6_0080.xml  \n",
      "  inflating: /content/dataset/dataset/14_095_5_0059.xml  \n",
      "  inflating: /content/dataset/dataset/14_095_8_0061.xml  \n",
      "  inflating: /content/dataset/dataset/14_080_2_0096.xml  \n",
      "  inflating: /content/dataset/dataset/14_096_6_0062.xml  \n",
      "  inflating: /content/dataset/dataset/14_066_8_0025.xml  \n",
      "  inflating: /content/dataset/dataset/14_096_4_0068.xml  \n",
      "  inflating: /content/dataset/dataset/14_066_3_0065.xml  \n",
      "  inflating: /content/dataset/dataset/14_081_3_0027.xml  \n",
      "  inflating: /content/dataset/dataset/14_077_5_0052.xml  \n",
      "  inflating: /content/dataset/dataset/14_081_7_0044.xml  \n",
      "  inflating: /content/dataset/dataset/14_087_1_0039.xml  \n",
      "  inflating: /content/dataset/dataset/14_095_2_0045.xml  \n",
      "  inflating: /content/dataset/dataset/14_051_6_0026.xml  \n",
      "  inflating: /content/dataset/dataset/14_081_6_0030.xml  \n",
      "  inflating: /content/dataset/dataset/14_084_3_0034.xml  \n",
      "  inflating: /content/dataset/dataset/14_062_3_0067.xml  \n",
      "  inflating: /content/dataset/dataset/14_092_1_0046.xml  \n",
      "  inflating: /content/dataset/dataset/14_062_2_0060.xml  \n",
      "  inflating: /content/dataset/dataset/14_064_3_0030.xml  \n",
      "  inflating: /content/dataset/dataset/14_057_2_0055.xml  \n",
      "  inflating: /content/dataset/dataset/14_057_2_0075.xml  \n",
      "  inflating: /content/dataset/dataset/14_062_2_0043.xml  \n",
      "  inflating: /content/dataset/dataset/14_062_2_0062.xml  \n",
      "  inflating: /content/dataset/dataset/14_083_7_0015.xml  \n",
      "  inflating: /content/dataset/dataset/14_050_10_0031.xml  \n",
      "  inflating: /content/dataset/dataset/14_062_3_0064.xml  \n",
      "  inflating: /content/dataset/dataset/14_039_1_0047.xml  \n",
      "  inflating: /content/dataset/dataset/14_040_7_0013.xml  \n",
      "  inflating: /content/dataset/dataset/14_024_5_0071.xml  \n",
      "  inflating: /content/dataset/dataset/14_026_2_0125.xml  \n",
      "  inflating: /content/dataset/dataset/14_028_2_0081.xml  \n",
      "  inflating: /content/dataset/dataset/14_026_2_0130.xml  \n",
      "  inflating: /content/dataset/dataset/14_039_1_0051.xml  \n",
      "  inflating: /content/dataset/dataset/14_007_8_0115.xml  \n",
      "  inflating: /content/dataset/dataset/14_007_6_0077.xml  \n",
      "  inflating: /content/dataset/dataset/14_029_6_0066.xml  \n",
      "  inflating: /content/dataset/dataset/14_066_2_0036.xml  \n",
      "  inflating: /content/dataset/dataset/14_096_5_0060.xml  \n",
      "  inflating: /content/dataset/dataset/14_084_7_0068.xml  \n",
      "  inflating: /content/dataset/dataset/14_095_1_0062.xml  \n",
      "  inflating: /content/dataset/dataset/14_055_8_0019.xml  \n",
      "  inflating: /content/dataset/dataset/14_068_2_0032.xml  \n",
      "  inflating: /content/dataset/dataset/14_059_2_0043.xml  \n",
      "  inflating: /content/dataset/dataset/14_066_10_0040.xml  \n",
      "  inflating: /content/dataset/dataset/14_007_5_0113.xml  \n",
      "  inflating: /content/dataset/dataset/14_028_2_0071.xml  \n",
      "  inflating: /content/dataset/dataset/14_031_3_0053.xml  \n",
      "  inflating: /content/dataset/dataset/14_019_5_0070.xml  \n",
      "  inflating: /content/dataset/dataset/14_022_6_0059.xml  \n",
      "  inflating: /content/dataset/dataset/14_032_4_0048.xml  \n",
      "  inflating: /content/dataset/dataset/14_029_6_0067.xml  \n",
      "  inflating: /content/dataset/dataset/14_026_2_0104.xml  \n",
      "  inflating: /content/dataset/dataset/14_023_3_0029.xml  \n",
      "  inflating: /content/dataset/dataset/14_046_6_0069.xml  \n",
      "  inflating: /content/dataset/dataset/14_024_2_0049.xml  \n",
      "  inflating: /content/dataset/dataset/14_019_5_0050.xml  \n",
      "  inflating: /content/dataset/dataset/14_006_1_0108.xml  \n",
      "  inflating: /content/dataset/dataset/14_042_1_0050.xml  \n",
      "  inflating: /content/dataset/dataset/14_042_4_0031.xml  \n",
      "  inflating: /content/dataset/dataset/14_024_6_0027.xml  \n",
      "  inflating: /content/dataset/dataset/14_039_7_0073.xml  \n",
      "  inflating: /content/dataset/dataset/14_023_3_0046.xml  \n",
      "  inflating: /content/dataset/dataset/14_029_5_0055.xml  \n",
      "  inflating: /content/dataset/dataset/14_029_2_0050.xml  \n",
      "  inflating: /content/dataset/dataset/14_019_5_0066.xml  \n",
      "  inflating: /content/dataset/dataset/14_010_1_0013.xml  \n",
      "  inflating: /content/dataset/dataset/14_024_3_0016.xml  \n",
      "  inflating: /content/dataset/dataset/14_033_3_0074.xml  \n",
      "  inflating: /content/dataset/dataset/14_012_3_0017.xml  \n",
      "  inflating: /content/dataset/dataset/14_032_4_0039.xml  \n",
      "  inflating: /content/dataset/dataset/14_032_4_0055.xml  \n",
      "  inflating: /content/dataset/dataset/14_014_1_0013.xml  \n",
      "  inflating: /content/dataset/dataset/14_017_1_0049.xml  \n",
      "  inflating: /content/dataset/dataset/14_023_4_0063.xml  \n",
      "  inflating: /content/dataset/dataset/14_022_1_0038.xml  \n",
      "  inflating: /content/dataset/dataset/14_021_6_0015.xml  \n",
      "  inflating: /content/dataset/dataset/14_018_8_0045.xml  \n",
      "  inflating: /content/dataset/dataset/14_022_7_0027.xml  \n",
      "  inflating: /content/dataset/dataset/14_029_4_0053.xml  \n",
      "  inflating: /content/dataset/dataset/14_010_1_0042.xml  \n",
      "  inflating: /content/dataset/dataset/14_007_6_0048.xml  \n",
      "  inflating: /content/dataset/dataset/14_032_6_0060.xml  \n",
      "  inflating: /content/dataset/dataset/14_006_1_0040.xml  \n",
      "  inflating: /content/dataset/dataset/14_007_5_0110.xml  \n",
      "  inflating: /content/dataset/dataset/14_049_1_0029.xml  \n",
      "  inflating: /content/dataset/dataset/14_042_3_0046.xml  \n",
      "  inflating: /content/dataset/dataset/14_029_6_0044.xml  \n",
      "  inflating: /content/dataset/dataset/14_021_1_0042.xml  \n",
      "  inflating: /content/dataset/dataset/14_021_1_0100.xml  \n",
      "  inflating: /content/dataset/dataset/14_087_1_0083.xml  \n",
      "  inflating: /content/dataset/dataset/14_055_5_0015.xml  \n",
      "  inflating: /content/dataset/dataset/14_075_6_0030.xml  \n",
      "  inflating: /content/dataset/dataset/14_097_1_0034.xml  \n",
      "  inflating: /content/dataset/dataset/14_095_4_0016.xml  \n",
      "  inflating: /content/dataset/dataset/14_026_2_0129.xml  \n",
      "  inflating: /content/dataset/dataset/14_057_3_0074.xml  \n",
      "  inflating: /content/dataset/dataset/14_002_8_0021.xml  \n",
      "  inflating: /content/dataset/dataset/14_006_1_0048.xml  \n",
      "  inflating: /content/dataset/dataset/14_028_3_0067.xml  \n",
      "  inflating: /content/dataset/dataset/14_028_1_0079.xml  \n",
      "  inflating: /content/dataset/dataset/14_026_2_0090.xml  \n",
      "  inflating: /content/dataset/dataset/14_010_6_0028.xml  \n",
      "  inflating: /content/dataset/dataset/14_021_2_0029.xml  \n",
      "  inflating: /content/dataset/dataset/14_022_6_0065.xml  \n",
      "  inflating: /content/dataset/dataset/14_046_6_0041.xml  \n",
      "  inflating: /content/dataset/dataset/14_029_4_0073.xml  \n",
      "  inflating: /content/dataset/dataset/14_007_3_0067.xml  \n",
      "  inflating: /content/dataset/dataset/14_031_8_0080.xml  \n",
      "  inflating: /content/dataset/dataset/14_019_5_0064.xml  \n",
      "  inflating: /content/dataset/dataset/14_039_2_0038.xml  \n",
      "  inflating: /content/dataset/dataset/14_022_2_0045.xml  \n",
      "  inflating: /content/dataset/dataset/14_007_6_0037.xml  \n",
      "  inflating: /content/dataset/dataset/14_044_1_0054.xml  \n",
      "  inflating: /content/dataset/dataset/14_026_3_0078.xml  \n",
      "  inflating: /content/dataset/dataset/14_042_4_0044.xml  \n",
      "  inflating: /content/dataset/dataset/14_019_5_0046.xml  \n",
      "  inflating: /content/dataset/dataset/14_007_8_0090.xml  \n",
      "  inflating: /content/dataset/dataset/14_002_5_0016.xml  \n",
      "  inflating: /content/dataset/dataset/14_022_3_0052.xml  \n",
      "  inflating: /content/dataset/dataset/14_007_8_0075.xml  \n",
      "  inflating: /content/dataset/dataset/14_039_7_0055.xml  \n",
      "  inflating: /content/dataset/dataset/14_031_8_0044.xml  \n",
      "  inflating: /content/dataset/dataset/14_031_3_0063.xml  \n",
      "  inflating: /content/dataset/dataset/14_039_4_0044.xml  \n",
      "  inflating: /content/dataset/dataset/14_042_5_0049.xml  \n",
      "  inflating: /content/dataset/dataset/14_018_6_0030.xml  \n",
      "  inflating: /content/dataset/dataset/14_044_2_0025.xml  \n",
      "  inflating: /content/dataset/dataset/14_042_1_0055.xml  \n",
      "  inflating: /content/dataset/dataset/14_044_2_0040.xml  \n",
      "  inflating: /content/dataset/dataset/14_031_4_0028.xml  \n",
      "  inflating: /content/dataset/dataset/14_039_1_0055.xml  \n",
      "  inflating: /content/dataset/dataset/14_044_5_0034.xml  \n",
      "  inflating: /content/dataset/dataset/14_085_5_0066.xml  \n",
      "  inflating: /content/dataset/dataset/14_064_2_0069.xml  \n",
      "  inflating: /content/dataset/dataset/14_067_7_0020.xml  \n",
      "  inflating: /content/dataset/dataset/14_084_9_0033.xml  \n",
      "  inflating: /content/dataset/dataset/14_077_6_0093.xml  \n",
      "  inflating: /content/dataset/dataset/14_096_5_0080.xml  \n",
      "  inflating: /content/dataset/dataset/14_087_2_0035.xml  \n",
      "  inflating: /content/dataset/dataset/14_069_1_0096.xml  \n",
      "  inflating: /content/dataset/dataset/14_099_6_0021.xml  \n",
      "  inflating: /content/dataset/dataset/14_039_2_0029.xml  \n",
      "  inflating: /content/dataset/dataset/14_029_7_0044.xml  \n",
      "  inflating: /content/dataset/dataset/14_029_2_0030.xml  \n",
      "  inflating: /content/dataset/dataset/14_042_4_0059.xml  \n",
      "  inflating: /content/dataset/dataset/14_023_4_0058.xml  \n",
      "  inflating: /content/dataset/dataset/14_039_4_0035.xml  \n",
      "  inflating: /content/dataset/dataset/14_028_1_0095.xml  \n",
      "  inflating: /content/dataset/dataset/14_021_1_0044.xml  \n",
      "  inflating: /content/dataset/dataset/14_022_6_0027.xml  \n",
      "  inflating: /content/dataset/dataset/14_024_4_0036.xml  \n",
      "  inflating: /content/dataset/dataset/14_032_4_0064.xml  \n",
      "  inflating: /content/dataset/dataset/14_021_16_0064.xml  \n",
      "  inflating: /content/dataset/dataset/14_042_1_0024.xml  \n",
      "  inflating: /content/dataset/dataset/14_021_15_0048.xml  \n",
      "  inflating: /content/dataset/dataset/14_021_32_0022.xml  \n",
      "  inflating: /content/dataset/dataset/14_046_5_0070.xml  \n",
      "  inflating: /content/dataset/dataset/14_048_2_0087.xml  \n",
      "  inflating: /content/dataset/dataset/14_015_1_0014.xml  \n",
      "  inflating: /content/dataset/dataset/14_007_10_0084.xml  \n",
      "  inflating: /content/dataset/dataset/14_021_37_0026.xml  \n",
      "  inflating: /content/dataset/dataset/14_015_1_0051.xml  \n",
      "  inflating: /content/dataset/dataset/14_046_5_0084.xml  \n",
      "  inflating: /content/dataset/dataset/14_048_5_0038.xml  \n",
      "  inflating: /content/dataset/dataset/14_048_5_0031.xml  \n",
      "  inflating: /content/dataset/dataset/14_048_3_0030.xml  \n",
      "  inflating: /content/dataset/dataset/14_048_2_0058.xml  \n",
      "  inflating: /content/dataset/dataset/14_021_38_0041.xml  \n",
      "  inflating: /content/dataset/dataset/14_048_5_0051.xml  \n",
      "  inflating: /content/dataset/dataset/14_048_5_0020.xml  \n",
      "  inflating: /content/dataset/dataset/14_048_4_0038.xml  \n",
      "  inflating: /content/dataset/dataset/14_046_5_0083.xml  \n",
      "  inflating: /content/dataset/dataset/14_021_37_0055.bmp  \n",
      "  inflating: /content/dataset/dataset/14_048_3_0045.xml  \n",
      "  inflating: /content/dataset/dataset/14_044_1_0049.bmp  \n",
      "  inflating: /content/dataset/dataset/14_012_4_0018.bmp  \n",
      "  inflating: /content/dataset/dataset/14_075_5_0034.xml  \n",
      "  inflating: /content/dataset/dataset/14_051_6_0025.xml  \n",
      "  inflating: /content/dataset/dataset/14_085_1_0085.xml  \n",
      "  inflating: /content/dataset/dataset/14_066_8_0052.xml  \n",
      "  inflating: /content/dataset/dataset/14_087_2_0059.xml  \n",
      "  inflating: /content/dataset/dataset/14_083_1_0038.xml  \n",
      "  inflating: /content/dataset/dataset/14_057_2_0070.xml  \n",
      "  inflating: /content/dataset/dataset/14_049_1_0019.xml  \n",
      "  inflating: /content/dataset/dataset/14_083_7_0024.xml  \n",
      "  inflating: /content/dataset/dataset/14_039_4_0071.xml  \n",
      "  inflating: /content/dataset/dataset/14_026_2_0025.xml  \n",
      "  inflating: /content/dataset/dataset/14_007_6_0036.xml  \n",
      "  inflating: /content/dataset/dataset/14_022_3_0044.xml  \n",
      "  inflating: /content/dataset/dataset/14_039_2_0045.xml  \n",
      "  inflating: /content/dataset/dataset/14_029_5_0053.xml  \n",
      "  inflating: /content/dataset/dataset/14_002_8_0013.xml  \n",
      "  inflating: /content/dataset/dataset/14_021_34_0018.xml  \n",
      "  inflating: /content/dataset/dataset/14_021_30_0013.xml  \n",
      "  inflating: /content/dataset/dataset/14_046_5_0031.xml  \n",
      "  inflating: /content/dataset/dataset/14_012_4_0033.bmp  \n",
      "  inflating: /content/dataset/dataset/14_068_2_0023.bmp  \n",
      "  inflating: /content/dataset/dataset/14_070_3_0046.bmp  \n",
      "  inflating: /content/dataset/dataset/14_050_9_0028.bmp  \n",
      "  inflating: /content/dataset/dataset/14_017_1_0054.bmp  \n",
      "  inflating: /content/dataset/dataset/14_044_1_0032.bmp  \n",
      "  inflating: /content/dataset/dataset/14_002_5_0032.bmp  \n",
      "  inflating: /content/dataset/dataset/14_051_2_0020.bmp  \n",
      "  inflating: /content/dataset/dataset/14_055_6_0020.bmp  \n",
      "  inflating: /content/dataset/dataset/14_075_8_0037.bmp  \n",
      "  inflating: /content/dataset/dataset/14_070_4_0027.bmp  \n",
      "  inflating: /content/dataset/dataset/14_070_3_0050.bmp  \n",
      "  inflating: /content/dataset/dataset/14_040_2_0035.bmp  \n",
      "  inflating: /content/dataset/dataset/14_040_1_0030.bmp  \n",
      "  inflating: /content/dataset/dataset/14_021_37_0054.bmp  \n",
      "  inflating: /content/dataset/dataset/14_069_1_0075.xml  \n",
      "  inflating: /content/dataset/dataset/14_087_3_0056.xml  \n",
      "  inflating: /content/dataset/dataset/14_066_8_0059.xml  \n",
      "  inflating: /content/dataset/dataset/14_087_3_0033.xml  \n",
      "  inflating: /content/dataset/dataset/14_087_1_0069.xml  \n",
      "  inflating: /content/dataset/dataset/14_084_9_0024.xml  \n",
      "  inflating: /content/dataset/dataset/14_087_1_0043.xml  \n",
      "  inflating: /content/dataset/dataset/14_088_1_0038.xml  \n",
      "  inflating: /content/dataset/dataset/14_081_10_0034.xml  \n",
      "  inflating: /content/dataset/dataset/14_010_1_0047.xml  \n",
      "  inflating: /content/dataset/dataset/14_029_4_0080.xml  \n",
      "  inflating: /content/dataset/dataset/14_028_3_0049.xml  \n",
      "  inflating: /content/dataset/dataset/14_029_1_0053.xml  \n",
      "  inflating: /content/dataset/dataset/14_039_4_0047.xml  \n",
      "  inflating: /content/dataset/dataset/14_021_32_0018.xml  \n",
      "  inflating: /content/dataset/dataset/14_034_7_0024.bmp  \n",
      "  inflating: /content/dataset/dataset/14_075_2_0022.bmp  \n",
      "  inflating: /content/dataset/dataset/14_050_8_0055.bmp  \n",
      "  inflating: /content/dataset/dataset/14_094_3_0049.bmp  \n",
      "  inflating: /content/dataset/dataset/14_099_5_0024.bmp  \n",
      "  inflating: /content/dataset/dataset/14_003_2_0014.bmp  \n",
      "  inflating: /content/dataset/dataset/14_075_3_0035.bmp  \n",
      "  inflating: /content/dataset/dataset/14_010_1_0034.bmp  \n",
      "  inflating: /content/dataset/dataset/14_070_5_0033.bmp  \n",
      "  inflating: /content/dataset/dataset/14_075_4_0030.bmp  \n",
      "  inflating: /content/dataset/dataset/14_055_8_0018.bmp  \n",
      "  inflating: /content/dataset/dataset/14_040_7_0021.bmp  \n",
      "  inflating: /content/dataset/dataset/14_021_35_0034.bmp  \n",
      "  inflating: /content/dataset/dataset/14_040_3_0017.bmp  \n",
      "  inflating: /content/dataset/dataset/14_052_1_0020.bmp  \n",
      "  inflating: /content/dataset/dataset/14_070_4_0023.bmp  \n",
      "  inflating: /content/dataset/dataset/14_099_6_0017.bmp  \n",
      "  inflating: /content/dataset/dataset/14_010_1_0029.bmp  \n",
      "  inflating: /content/dataset/dataset/14_034_6_0019.bmp  \n",
      "  inflating: /content/dataset/dataset/14_021_37_0046.bmp  \n",
      "  inflating: /content/dataset/dataset/14_034_6_0031.bmp  \n",
      "  inflating: /content/dataset/dataset/14_075_5_0023.bmp  \n",
      "  inflating: /content/dataset/dataset/14_055_5_0035.xml  \n",
      "  inflating: /content/dataset/dataset/14_075_4_0033.xml  \n",
      "  inflating: /content/dataset/dataset/14_051_2_0048.xml  \n",
      "  inflating: /content/dataset/dataset/14_088_2_0020.xml  \n",
      "  inflating: /content/dataset/dataset/14_084_7_0049.xml  \n",
      "  inflating: /content/dataset/dataset/14_096_2_0016.xml  \n",
      "  inflating: /content/dataset/dataset/14_070_5_0038.xml  \n",
      "  inflating: /content/dataset/dataset/14_095_8_0065.xml  \n",
      "  inflating: /content/dataset/dataset/14_084_4_0016.xml  \n",
      "  inflating: /content/dataset/dataset/14_066_10_0074.xml  \n",
      "  inflating: /content/dataset/dataset/14_029_6_0068.xml  \n",
      "  inflating: /content/dataset/dataset/14_029_2_0061.xml  \n",
      "  inflating: /content/dataset/dataset/14_033_4_0081.xml  \n",
      "  inflating: /content/dataset/dataset/14_031_4_0015.xml  \n",
      "  inflating: /content/dataset/dataset/14_022_6_0048.xml  \n",
      "  inflating: /content/dataset/dataset/14_010_6_0019.xml  \n",
      "  inflating: /content/dataset/dataset/14_024_2_0021.xml  \n",
      "  inflating: /content/dataset/dataset/14_019_5_0038.xml  \n",
      "  inflating: /content/dataset/dataset/14_006_1_0052.xml  \n",
      "  inflating: /content/dataset/dataset/14_029_2_0075.xml  \n",
      "  inflating: /content/dataset/dataset/14_031_8_0064.xml  \n",
      "  inflating: /content/dataset/dataset/14_018_6_0018.xml  \n",
      "  inflating: /content/dataset/dataset/14_022_2_0040.xml  \n",
      "  inflating: /content/dataset/dataset/14_021_15_0045.xml  \n",
      "  inflating: /content/dataset/dataset/14_048_4_0043.xml  \n",
      "  inflating: /content/dataset/dataset/14_033_4_0075.xml  \n",
      "  inflating: /content/dataset/dataset/14_021_38_0033.xml  \n",
      "  inflating: /content/dataset/dataset/14_017_1_0029.bmp  \n",
      "  inflating: /content/dataset/dataset/14_050_8_0053.bmp  \n",
      "  inflating: /content/dataset/dataset/14_040_1_0014.bmp  \n",
      "  inflating: /content/dataset/dataset/14_021_37_0036.bmp  \n",
      "  inflating: /content/dataset/dataset/14_075_6_0019.bmp  \n",
      "  inflating: /content/dataset/dataset/14_046_6_0026.bmp  \n",
      "  inflating: /content/dataset/dataset/14_021_15_0039.bmp  \n",
      "  inflating: /content/dataset/dataset/14_018_8_0037.bmp  \n",
      "  inflating: /content/dataset/dataset/14_021_15_0062.bmp  \n",
      "  inflating: /content/dataset/dataset/14_021_15_0027.bmp  \n",
      "  inflating: /content/dataset/dataset/14_018_6_0020.bmp  \n",
      "  inflating: /content/dataset/dataset/14_021_4_0058.bmp  \n",
      "  inflating: /content/dataset/dataset/14_021_16_0061.bmp  \n",
      "  inflating: /content/dataset/dataset/14_024_6_0047.bmp  \n",
      "  inflating: /content/dataset/dataset/14_021_15_0046.bmp  \n",
      "  inflating: /content/dataset/dataset/14_021_15_0053.bmp  \n",
      "  inflating: /content/dataset/dataset/14_046_6_0067.bmp  \n",
      "  inflating: /content/dataset/dataset/14_018_6_0025.bmp  \n",
      "  inflating: /content/dataset/dataset/14_024_6_0070.bmp  \n",
      "  inflating: /content/dataset/dataset/14_021_15_0064.bmp  \n",
      "  inflating: /content/dataset/dataset/14_075_6_0019.xml  \n",
      "  inflating: /content/dataset/dataset/14_050_9_0043.xml  \n",
      "  inflating: /content/dataset/dataset/14_073_1_0056.xml  \n",
      "  inflating: /content/dataset/dataset/14_070_5_0031.xml  \n",
      "  inflating: /content/dataset/dataset/14_066_10_0057.xml  \n",
      "  inflating: /content/dataset/dataset/14_073_1_0043.xml  \n",
      "  inflating: /content/dataset/dataset/14_032_6_0067.xml  \n",
      "  inflating: /content/dataset/dataset/14_048_4_0074.xml  \n",
      "  inflating: /content/dataset/dataset/14_029_2_0033.xml  \n",
      "  inflating: /content/dataset/dataset/14_010_1_0023.xml  \n",
      "  inflating: /content/dataset/dataset/14_021_1_0078.xml  \n",
      "  inflating: /content/dataset/dataset/14_033_4_0018.xml  \n",
      "  inflating: /content/dataset/dataset/14_033_4_0080.xml  \n",
      "  inflating: /content/dataset/dataset/14_022_1_0073.xml  \n",
      "  inflating: /content/dataset/dataset/14_029_1_0047.xml  \n",
      "  inflating: /content/dataset/dataset/14_026_3_0066.xml  \n",
      "  inflating: /content/dataset/dataset/14_076_3_0016.bmp  \n",
      "  inflating: /content/dataset/dataset/14_002_5_0037.bmp  \n",
      "  inflating: /content/dataset/dataset/14_075_8_0026.xml  \n",
      "  inflating: /content/dataset/dataset/14_053_4_0059.xml  \n",
      "  inflating: /content/dataset/dataset/14_080_2_0051.xml  \n",
      "  inflating: /content/dataset/dataset/14_075_5_0037.xml  \n",
      "  inflating: /content/dataset/dataset/14_007_5_0041.xml  \n",
      "  inflating: /content/dataset/dataset/14_031_6_0065.xml  \n",
      "  inflating: /content/dataset/dataset/14_023_4_0047.xml  \n",
      "  inflating: /content/dataset/dataset/14_049_4_0058.xml  \n",
      "  inflating: /content/dataset/dataset/14_021_30_0010.bmp  \n",
      "  inflating: /content/dataset/dataset/14_017_1_0028.bmp  \n",
      "  inflating: /content/dataset/dataset/14_021_37_0047.xml  \n",
      "  inflating: /content/dataset/dataset/14_007_10_0060.xml  \n",
      "  inflating: /content/dataset/dataset/14_034_6_0025.bmp  \n",
      "  inflating: /content/dataset/dataset/14_018_8_0027.bmp  \n",
      "  inflating: /content/dataset/dataset/14_044_5_0046.bmp  \n",
      "  inflating: /content/dataset/dataset/14_040_2_0027.bmp  \n",
      "  inflating: /content/dataset/dataset/14_094_3_0059.bmp  \n",
      "  inflating: /content/dataset/dataset/14_050_10_0047.bmp  \n",
      "  inflating: /content/dataset/dataset/14_085_2_0041.bmp  \n",
      "  inflating: /content/dataset/dataset/14_085_4_0086.bmp  \n",
      "  inflating: /content/dataset/dataset/14_085_1_0099.bmp  \n",
      "  inflating: /content/dataset/dataset/14_006_1_0047.bmp  \n",
      "  inflating: /content/dataset/dataset/14_088_1_0021.bmp  \n",
      "  inflating: /content/dataset/dataset/14_031_6_0040.bmp  \n",
      "  inflating: /content/dataset/dataset/14_033_3_0030.bmp  \n",
      "  inflating: /content/dataset/dataset/14_042_4_0040.bmp  \n",
      "  inflating: /content/dataset/dataset/14_095_7_0043.bmp  \n",
      "  inflating: /content/dataset/dataset/14_077_5_0072.bmp  \n",
      "  inflating: /content/dataset/dataset/14_053_5_0058.bmp  \n",
      "  inflating: /content/dataset/dataset/14_095_2_0055.bmp  \n",
      "  inflating: /content/dataset/dataset/14_026_2_0082.bmp  \n",
      "  inflating: /content/dataset/dataset/14_066_2_0054.bmp  \n",
      "  inflating: /content/dataset/dataset/14_031_4_0020.bmp  \n",
      "  inflating: /content/dataset/dataset/14_032_7_0041.bmp  \n",
      "  inflating: /content/dataset/dataset/14_006_1_0060.bmp  \n",
      "  inflating: /content/dataset/dataset/14_032_6_0044.bmp  \n",
      "  inflating: /content/dataset/dataset/14_007_6_0051.bmp  \n",
      "  inflating: /content/dataset/dataset/14_033_4_0083.bmp  \n",
      "  inflating: /content/dataset/dataset/14_024_2_0040.bmp  \n",
      "  inflating: /content/dataset/dataset/14_097_2_0023.bmp  \n",
      "  inflating: /content/dataset/dataset/14_039_5_0045.bmp  \n",
      "  inflating: /content/dataset/dataset/14_007_10_0051.bmp  \n",
      "  inflating: /content/dataset/dataset/14_031_4_0010.bmp  \n",
      "  inflating: /content/dataset/dataset/14_058_3_0054.bmp  \n",
      "  inflating: /content/dataset/dataset/14_024_3_0050.bmp  \n",
      "  inflating: /content/dataset/dataset/14_066_7_0063.bmp  \n",
      "  inflating: /content/dataset/dataset/14_087_1_0070.bmp  \n",
      "  inflating: /content/dataset/dataset/14_006_1_0093.bmp  \n",
      "  inflating: /content/dataset/dataset/14_024_3_0008.bmp  \n",
      "  inflating: /content/dataset/dataset/14_007_5_0124.bmp  \n",
      "  inflating: /content/dataset/dataset/14_028_3_0061.bmp  \n",
      "  inflating: /content/dataset/dataset/14_096_4_0047.bmp  \n",
      "  inflating: /content/dataset/dataset/14_062_5_0042.bmp  \n",
      "  inflating: /content/dataset/dataset/14_024_1_0030.bmp  \n",
      "  inflating: /content/dataset/dataset/14_095_2_0042.bmp  \n",
      "  inflating: /content/dataset/dataset/14_031_3_0057.bmp  \n",
      "  inflating: /content/dataset/dataset/14_007_5_0053.bmp  \n",
      "  inflating: /content/dataset/dataset/14_077_6_0101.bmp  \n",
      "  inflating: /content/dataset/dataset/14_085_5_0066.bmp  \n",
      "  inflating: /content/dataset/dataset/14_016_1_0071.bmp  \n",
      "  inflating: /content/dataset/dataset/14_096_6_0065.bmp  \n",
      "  inflating: /content/dataset/dataset/14_006_1_0140.bmp  \n",
      "  inflating: /content/dataset/dataset/14_042_4_0053.bmp  \n",
      "  inflating: /content/dataset/dataset/14_049_3_0035.bmp  \n",
      "  inflating: /content/dataset/dataset/14_081_11_0033.bmp  \n",
      "  inflating: /content/dataset/dataset/14_096_6_0043.bmp  \n",
      "  inflating: /content/dataset/dataset/14_096_4_0042.bmp  \n",
      "  inflating: /content/dataset/dataset/14_007_5_0054.bmp  \n",
      "  inflating: /content/dataset/dataset/14_088_1_0052.bmp  \n",
      "  inflating: /content/dataset/dataset/14_096_2_0057.bmp  \n",
      "  inflating: /content/dataset/dataset/14_095_1_0078.bmp  \n",
      "  inflating: /content/dataset/dataset/14_024_3_0052.bmp  \n",
      "  inflating: /content/dataset/dataset/14_080_2_0065.bmp  \n",
      "  inflating: /content/dataset/dataset/14_049_4_0027.bmp  \n",
      "  inflating: /content/dataset/dataset/14_042_1_0063.bmp  \n",
      "  inflating: /content/dataset/dataset/14_069_1_0073.bmp  \n",
      "  inflating: /content/dataset/dataset/14_085_4_0044.bmp  \n",
      "  inflating: /content/dataset/dataset/14_029_2_0074.bmp  \n",
      "  inflating: /content/dataset/dataset/14_007_10_0067.bmp  \n",
      "  inflating: /content/dataset/dataset/14_007_6_0093.bmp  \n",
      "  inflating: /content/dataset/dataset/14_026_2_0063.bmp  \n",
      "  inflating: /content/dataset/dataset/14_077_5_0051.bmp  \n",
      "  inflating: /content/dataset/dataset/14_096_6_0044.bmp  \n",
      "  inflating: /content/dataset/dataset/14_095_8_0030.bmp  \n",
      "  inflating: /content/dataset/dataset/14_095_2_0040.bmp  \n",
      "  inflating: /content/dataset/dataset/14_021_6_0049.bmp  \n",
      "  inflating: /content/dataset/dataset/14_066_3_0065.bmp  \n",
      "  inflating: /content/dataset/dataset/14_031_5_0056.bmp  \n",
      "  inflating: /content/dataset/dataset/14_026_2_0071.bmp  \n",
      "  inflating: /content/dataset/dataset/14_066_3_0058.bmp  \n",
      "  inflating: /content/dataset/dataset/14_085_2_0058.bmp  \n",
      "  inflating: /content/dataset/dataset/14_062_5_0039.bmp  \n",
      "  inflating: /content/dataset/dataset/14_066_2_0066.bmp  \n",
      "  inflating: /content/dataset/dataset/14_022_7_0056.bmp  \n",
      "  inflating: /content/dataset/dataset/14_019_5_0080.bmp  \n",
      "  inflating: /content/dataset/dataset/14_042_2_0064.bmp  \n",
      "  inflating: /content/dataset/dataset/14_024_3_0047.bmp  \n",
      "  inflating: /content/dataset/dataset/14_029_4_0060.bmp  \n",
      "  inflating: /content/dataset/dataset/14_023_3_0042.bmp  \n",
      "  inflating: /content/dataset/dataset/14_019_5_0074.bmp  \n",
      "  inflating: /content/dataset/dataset/14_084_7_0059.bmp  \n",
      "  inflating: /content/dataset/dataset/14_024_4_0051.bmp  \n",
      "  inflating: /content/dataset/dataset/14_042_1_0020.bmp  \n",
      "  inflating: /content/dataset/dataset/14_042_4_0044.bmp  \n",
      "  inflating: /content/dataset/dataset/14_023_4_0063.bmp  \n",
      "  inflating: /content/dataset/dataset/14_059_1_0062.bmp  \n",
      "  inflating: /content/dataset/dataset/14_083_1_0050.bmp  \n",
      "  inflating: /content/dataset/dataset/14_085_2_0033.bmp  \n",
      "  inflating: /content/dataset/dataset/14_031_7_0072.bmp  \n",
      "  inflating: /content/dataset/dataset/14_021_1_0081.bmp  \n",
      "  inflating: /content/dataset/dataset/14_042_4_0073.bmp  \n",
      "  inflating: /content/dataset/dataset/14_029_4_0074.bmp  \n",
      "  inflating: /content/dataset/dataset/14_087_3_0030.bmp  \n",
      "  inflating: /content/dataset/dataset/14_022_6_0040.bmp  \n",
      "  inflating: /content/dataset/dataset/14_080_2_0041.bmp  \n",
      "  inflating: /content/dataset/dataset/14_016_1_0018.bmp  \n",
      "  inflating: /content/dataset/dataset/14_069_1_0057.bmp  \n",
      "  inflating: /content/dataset/dataset/14_087_1_0088.bmp  \n",
      "  inflating: /content/dataset/dataset/14_096_3_0059.bmp  \n",
      "  inflating: /content/dataset/dataset/14_053_4_0080.bmp  \n",
      "  inflating: /content/dataset/dataset/14_085_5_0054.bmp  \n",
      "  inflating: /content/dataset/dataset/14_069_1_0092.bmp  \n",
      "  inflating: /content/dataset/dataset/14_097_2_0032.bmp  \n",
      "  inflating: /content/dataset/dataset/14_031_4_0028.bmp  \n",
      "  inflating: /content/dataset/dataset/14_087_1_0076.bmp  \n",
      "  inflating: /content/dataset/dataset/14_024_2_0046.bmp  \n",
      "  inflating: /content/dataset/dataset/14_026_2_0081.bmp  \n",
      "  inflating: /content/dataset/dataset/14_097_1_0030.bmp  \n",
      "  inflating: /content/dataset/dataset/14_085_2_0065.bmp  \n",
      "  inflating: /content/dataset/dataset/14_095_7_0035.bmp  \n",
      "  inflating: /content/dataset/dataset/14_066_8_0026.bmp  \n",
      "  inflating: /content/dataset/dataset/14_024_1_0029.bmp  \n",
      "  inflating: /content/dataset/dataset/14_058_3_0059.bmp  \n",
      "  inflating: /content/dataset/dataset/14_033_4_0075.bmp  \n",
      "  inflating: /content/dataset/dataset/14_029_6_0051.bmp  \n",
      "  inflating: /content/dataset/dataset/14_088_5_0046.bmp  \n",
      "  inflating: /content/dataset/dataset/14_083_1_0041.bmp  \n",
      "  inflating: /content/dataset/dataset/14_033_3_0028.bmp  \n",
      "  inflating: /content/dataset/dataset/14_088_1_0032.bmp  \n",
      "  inflating: /content/dataset/dataset/14_021_1_0064.bmp  \n",
      "  inflating: /content/dataset/dataset/14_053_4_0052.bmp  \n",
      "  inflating: /content/dataset/dataset/14_095_1_0070.bmp  \n",
      "  inflating: /content/dataset/dataset/14_053_1_0052.bmp  \n",
      "  inflating: /content/dataset/dataset/14_031_3_0053.bmp  \n",
      "  inflating: /content/dataset/dataset/14_088_8_0036.bmp  \n",
      "  inflating: /content/dataset/dataset/14_088_3_0027.bmp  \n",
      "  inflating: /content/dataset/dataset/14_039_2_0055.bmp  \n",
      "  inflating: /content/dataset/dataset/14_077_5_0073.bmp  \n",
      "  inflating: /content/dataset/dataset/14_081_7_0033.bmp  \n",
      "  inflating: /content/dataset/dataset/14_058_4_0031.bmp  \n",
      "  inflating: /content/dataset/dataset/14_032_7_0035.bmp  \n",
      "  inflating: /content/dataset/dataset/14_077_6_0058.bmp  \n",
      "  inflating: /content/dataset/dataset/14_081_3_0023.bmp  \n",
      "  inflating: /content/dataset/dataset/14_042_5_0041.bmp  \n",
      "  inflating: /content/dataset/dataset/14_088_6_0055.bmp  \n",
      "  inflating: /content/dataset/dataset/14_077_5_0064.bmp  \n",
      "  inflating: /content/dataset/dataset/14_087_3_0066.bmp  \n",
      "  inflating: /content/dataset/dataset/14_095_5_0059.bmp  \n",
      "  inflating: /content/dataset/dataset/14_064_2_0052.bmp  \n",
      "  inflating: /content/dataset/dataset/14_006_1_0148.bmp  \n",
      "  inflating: /content/dataset/dataset/14_095_5_0030.bmp  \n",
      "  inflating: /content/dataset/dataset/14_006_1_0071.bmp  \n",
      "  inflating: /content/dataset/dataset/14_077_6_0093.bmp  \n",
      "  inflating: /content/dataset/dataset/14_024_2_0034.bmp  \n",
      "  inflating: /content/dataset/dataset/14_007_5_0038.bmp  \n",
      "  inflating: /content/dataset/dataset/14_053_1_0035.bmp  \n",
      "  inflating: /content/dataset/dataset/14_042_4_0056.bmp  \n",
      "  inflating: /content/dataset/dataset/14_028_3_0074.bmp  \n",
      "  inflating: /content/dataset/dataset/14_081_6_0040.bmp  \n",
      "  inflating: /content/dataset/dataset/14_007_10_0087.bmp  \n",
      "  inflating: /content/dataset/dataset/14_032_4_0034.bmp  \n",
      "  inflating: /content/dataset/dataset/14_059_2_0065.bmp  \n",
      "  inflating: /content/dataset/dataset/14_096_3_0048.bmp  \n",
      "  inflating: /content/dataset/dataset/14_062_5_0064.bmp  \n",
      "  inflating: /content/dataset/dataset/14_053_5_0051.bmp  \n",
      "  inflating: /content/dataset/dataset/14_039_5_0055.bmp  \n",
      "  inflating: /content/dataset/dataset/14_033_3_0025.bmp  \n",
      "  inflating: /content/dataset/dataset/14_026_3_0065.bmp  \n",
      "  inflating: /content/dataset/dataset/14_042_1_0025.bmp  \n",
      "  inflating: /content/dataset/dataset/14_007_8_0052.bmp  \n",
      "  inflating: /content/dataset/dataset/14_096_2_0019.bmp  \n",
      "  inflating: /content/dataset/dataset/14_007_6_0082.bmp  \n",
      "  inflating: /content/dataset/dataset/14_039_2_0033.bmp  \n",
      "  inflating: /content/dataset/dataset/14_077_6_0079.bmp  \n",
      "  inflating: /content/dataset/dataset/14_085_2_0063.bmp  \n",
      "  inflating: /content/dataset/dataset/14_007_5_0059.bmp  \n",
      "  inflating: /content/dataset/dataset/14_007_8_0046.bmp  \n",
      "  inflating: /content/dataset/dataset/14_033_4_0030.bmp  \n",
      "  inflating: /content/dataset/dataset/14_088_5_0047.bmp  \n",
      "  inflating: /content/dataset/dataset/14_077_5_0078.bmp  \n",
      "  inflating: /content/dataset/dataset/14_007_8_0043.bmp  \n",
      "  inflating: /content/dataset/dataset/14_066_8_0062.bmp  \n",
      "  inflating: /content/dataset/dataset/14_007_8_0100.bmp  \n",
      "  inflating: /content/dataset/dataset/14_021_1_0031.bmp  \n",
      "  inflating: /content/dataset/dataset/14_028_1_0065.bmp  \n",
      "  inflating: /content/dataset/dataset/14_006_1_0106.bmp  \n",
      "  inflating: /content/dataset/dataset/14_096_3_0035.bmp  \n",
      "  inflating: /content/dataset/dataset/14_021_6_0025.bmp  \n",
      "  inflating: /content/dataset/dataset/14_029_4_0089.bmp  \n",
      "  inflating: /content/dataset/dataset/14_053_5_0072.bmp  \n",
      "  inflating: /content/dataset/dataset/14_042_4_0042.bmp  \n",
      "  inflating: /content/dataset/dataset/14_007_6_0066.bmp  \n",
      "  inflating: /content/dataset/dataset/14_031_4_0033.bmp  \n",
      "  inflating: /content/dataset/dataset/14_032_7_0033.bmp  \n",
      "  inflating: /content/dataset/dataset/14_088_8_0061.bmp  \n",
      "  inflating: /content/dataset/dataset/14_092_2_0027.bmp  \n",
      "  inflating: /content/dataset/dataset/14_042_4_0038.bmp  \n",
      "  inflating: /content/dataset/dataset/14_095_5_0032.bmp  \n",
      "  inflating: /content/dataset/dataset/14_042_4_0046.bmp  \n",
      "  inflating: /content/dataset/dataset/14_088_8_0066.bmp  \n",
      "  inflating: /content/dataset/dataset/14_096_5_0057.bmp  \n",
      "  inflating: /content/dataset/dataset/14_031_7_0054.bmp  \n",
      "  inflating: /content/dataset/dataset/14_087_1_0041.bmp  \n",
      "  inflating: /content/dataset/dataset/14_042_4_0047.bmp  \n",
      "  inflating: /content/dataset/dataset/14_022_2_0073.bmp  \n",
      "  inflating: /content/dataset/dataset/14_024_2_0028.bmp  \n",
      "  inflating: /content/dataset/dataset/14_042_3_0072.bmp  \n",
      "  inflating: /content/dataset/dataset/14_024_5_0050.bmp  \n",
      "  inflating: /content/dataset/dataset/14_083_1_0062.bmp  \n",
      "  inflating: /content/dataset/dataset/14_033_3_0053.bmp  \n",
      "  inflating: /content/dataset/dataset/14_096_2_0018.bmp  \n",
      "  inflating: /content/dataset/dataset/14_064_2_0056.bmp  \n",
      "  inflating: /content/dataset/dataset/14_029_6_0081.bmp  \n",
      "  inflating: /content/dataset/dataset/14_028_2_0086.bmp  \n",
      "  inflating: /content/dataset/dataset/14_059_2_0040.bmp  \n",
      "  inflating: /content/dataset/dataset/14_053_5_0056.bmp  \n",
      "  inflating: /content/dataset/dataset/14_087_3_0043.bmp  \n",
      "  inflating: /content/dataset/dataset/14_029_6_0038.bmp  \n",
      "  inflating: /content/dataset/dataset/14_077_6_0092.bmp  \n",
      "  inflating: /content/dataset/dataset/14_096_4_0035.bmp  \n",
      "  inflating: /content/dataset/dataset/14_053_5_0044.bmp  \n",
      "  inflating: /content/dataset/dataset/14_087_1_0042.bmp  \n",
      "  inflating: /content/dataset/dataset/14_092_2_0045.bmp  \n",
      "  inflating: /content/dataset/dataset/14_088_5_0032.bmp  \n",
      "  inflating: /content/dataset/dataset/14_026_2_0077.bmp  \n",
      "  inflating: /content/dataset/dataset/14_039_5_0041.bmp  \n",
      "  inflating: /content/dataset/dataset/14_053_2_0056.bmp  \n",
      "  inflating: /content/dataset/dataset/14_062_5_0070.bmp  \n",
      "  inflating: /content/dataset/dataset/14_042_5_0045.bmp  \n",
      "  inflating: /content/dataset/dataset/14_095_2_0041.bmp  \n",
      "  inflating: /content/dataset/dataset/14_019_5_0064.bmp  \n",
      "  inflating: /content/dataset/dataset/14_042_4_0045.bmp  \n",
      "  inflating: /content/dataset/dataset/14_087_2_0046.bmp  \n",
      "  inflating: /content/dataset/dataset/14_042_1_0039.bmp  \n",
      "  inflating: /content/dataset/dataset/14_016_1_0069.bmp  \n",
      "  inflating: /content/dataset/dataset/14_019_5_0071.bmp  \n",
      "  inflating: /content/dataset/dataset/14_032_4_0033.bmp  \n",
      "  inflating: /content/dataset/dataset/14_057_3_0085.bmp  \n",
      "  inflating: /content/dataset/dataset/14_046_5_0086.bmp  \n",
      "  inflating: /content/dataset/dataset/14_015_1_0061.bmp  \n",
      "  inflating: /content/dataset/dataset/14_048_3_0048.bmp  \n",
      "  inflating: /content/dataset/dataset/14_062_2_0060.bmp  \n",
      "  inflating: /content/dataset/dataset/14_048_3_0063.bmp  \n",
      "  inflating: /content/dataset/dataset/14_084_1_0054.bmp  \n",
      "  inflating: /content/dataset/dataset/14_015_1_0008.bmp  \n",
      "  inflating: /content/dataset/dataset/14_062_3_0052.bmp  \n",
      "  inflating: /content/dataset/dataset/14_091_1_0044.bmp  \n",
      "  inflating: /content/dataset/dataset/14_062_3_0063.bmp  \n",
      "  inflating: /content/dataset/dataset/14_015_1_0009.bmp  \n",
      "  inflating: /content/dataset/dataset/14_062_3_0065.bmp  \n",
      "  inflating: /content/dataset/dataset/14_046_5_0083.bmp  \n",
      "  inflating: /content/dataset/dataset/14_048_3_0057.bmp  \n",
      "  inflating: /content/dataset/dataset/14_092_1_0057.bmp  \n",
      "  inflating: /content/dataset/dataset/14_091_1_0041.bmp  \n",
      "  inflating: /content/dataset/dataset/14_057_2_0047.bmp  \n",
      "  inflating: /content/dataset/dataset/14_046_5_0087.bmp  \n",
      "  inflating: /content/dataset/dataset/14_084_5_0017.bmp  \n",
      "  inflating: /content/dataset/dataset/14_048_2_0022.bmp  \n",
      "  inflating: /content/dataset/dataset/14_084_1_0022.bmp  \n",
      "  inflating: /content/dataset/dataset/14_062_2_0085.bmp  \n",
      "  inflating: /content/dataset/dataset/14_048_1_0070.bmp  \n",
      "  inflating: /content/dataset/dataset/14_084_3_0032.bmp  \n",
      "  inflating: /content/dataset/dataset/14_057_3_0087.bmp  \n",
      "  inflating: /content/dataset/dataset/14_048_3_0030.bmp  \n",
      "  inflating: /content/dataset/dataset/14_064_3_0027.bmp  \n",
      "  inflating: /content/dataset/dataset/14_062_2_0083.bmp  \n",
      "  inflating: /content/dataset/dataset/14_023_2_0087.bmp  \n",
      "  inflating: /content/dataset/dataset/14_046_5_0046.bmp  \n",
      "  inflating: /content/dataset/dataset/14_048_3_0090.bmp  \n",
      "  inflating: /content/dataset/dataset/14_084_5_0050.bmp  \n",
      "  inflating: /content/dataset/dataset/14_083_6_0043.bmp  \n",
      "  inflating: /content/dataset/dataset/14_015_1_0021.bmp  \n",
      "  inflating: /content/dataset/dataset/14_062_3_0038.bmp  \n",
      "  inflating: /content/dataset/dataset/14_048_5_0030.bmp  \n",
      "  inflating: /content/dataset/dataset/14_048_3_0041.bmp  \n",
      "  inflating: /content/dataset/dataset/14_023_2_0117.bmp  \n",
      "  inflating: /content/dataset/dataset/14_048_2_0049.bmp  \n",
      "  inflating: /content/dataset/dataset/14_048_3_0036.bmp  \n",
      "  inflating: /content/dataset/dataset/14_084_5_0026.bmp  \n",
      "  inflating: /content/dataset/dataset/14_066_10_0054.bmp  \n",
      "  inflating: /content/dataset/dataset/14_084_5_0024.bmp  \n",
      "  inflating: /content/dataset/dataset/14_084_1_0057.bmp  \n",
      "  inflating: /content/dataset/dataset/14_092_1_0054.bmp  \n",
      "  inflating: /content/dataset/dataset/14_083_7_0009.bmp  \n",
      "  inflating: /content/dataset/test_labels.csv  \n",
      "  inflating: /content/dataset/train_labels.csv  \n",
      "   creating: /content/dataset/video_test/\n",
      "  inflating: /content/dataset/video_test/14-001 (7)#ssd_resnet50_v1_fpn.avi  \n",
      "  inflating: /content/dataset/video_test/14-014 (4)#input.avi  \n",
      "  inflating: /content/dataset/video_test/14-017 (18)#faster_rcnn_nas_lowproposals_coco.avi  \n",
      "  inflating: /content/dataset/video_test/14-008 (1)#faster_rcnn_resnet50_coco.avi  \n",
      "  inflating: /content/dataset/video_test/14-005 (21)#faster_rcnn_resnet101_coco.avi  \n",
      "  inflating: /content/dataset/video_test/14-005 (21)#ssd_resnet50_v1_fpn.avi  \n",
      "  inflating: /content/dataset/video_test/14-003 (14)#faster_rcnn_resnet50_coco.avi  \n",
      "  inflating: /content/dataset/video_test/14-017 (18)#faster_rcnn_resnet101_coco.avi  \n",
      "  inflating: /content/dataset/video_test/14-014 (4)#ssd_mobilenet_v2_coco.avi  \n",
      "  inflating: /content/dataset/video_test/14-009 (2)#ssd_resnet50_v1_fpn.avi  \n",
      "  inflating: /content/dataset/video_test/14-001 (7)#faster_rcnn_nas_lowproposals_coco.avi  \n",
      "  inflating: /content/dataset/video_test/14-010 (21)#ssd_mobilenet_v2_coco.avi  \n",
      "  inflating: /content/dataset/video_test/14-003 (14)#rfcn_resnet101_coco.avi  \n",
      "  inflating: /content/dataset/video_test/14-005 (21)#ssd_mobilenet_v1_fpn_coco.avi  \n",
      "  inflating: /content/dataset/video_test/14-017 (18)#ssd_mobilenet_v2_coco.avi  \n",
      "  inflating: /content/dataset/video_test/14-003 (14)#ssd_resnet50_v1_fpn.avi  \n",
      "  inflating: /content/dataset/video_test/14-001 (7)#ssd_mobilenet_v1_fpn_coco.avi  \n",
      "  inflating: /content/dataset/video_test/14-003 (14)#input.avi  \n",
      "  inflating: /content/dataset/video_test/14-003 (14)#ssd_mobilenet_v2_coco.avi  \n",
      "  inflating: /content/dataset/video_test/14-010 (21)#faster_rcnn_inception_resnet_v2_atrous_coco.avi  \n",
      "  inflating: /content/dataset/video_test/14-010 (21)#ssd_mobilenet_v1_fpn_coco.avi  \n",
      "  inflating: /content/dataset/video_test/14-010 (21)#ssd_resnet50_v1_fpn.avi  \n",
      "  inflating: /content/dataset/video_test/14-005 (21)#ssd_mobilenet_v2_coco.avi  \n",
      "  inflating: /content/dataset/video_test/14-017 (18)#ssd_resnet50_v1_fpn.avi  \n",
      "  inflating: /content/dataset/video_test/14-009 (2)#faster_rcnn_resnet50_coco.avi  \n",
      "  inflating: /content/dataset/video_test/14-014 (4)#ssd_mobilenet_v1_fpn_coco.avi  \n",
      "  inflating: /content/dataset/video_test/14-001 (7)#faster_rcnn_resnet50_coco.avi  \n",
      "  inflating: /content/dataset/video_test/14-003 (14)#faster_rcnn_nas_lowproposals_coco.avi  \n",
      "  inflating: /content/dataset/video_test/14-001 (7)#faster_rcnn_inception_resnet_v2_atrous_coco.avi  \n",
      "  inflating: /content/dataset/video_test/14-017 (18)#ssd_mobilenet_v1_fpn_coco.avi  \n",
      "  inflating: /content/dataset/video_test/14-014 (4)#faster_rcnn_resnet50_coco.avi  \n",
      "  inflating: /content/dataset/video_test/14-005 (21)#rfcn_resnet101_coco.avi  \n",
      "  inflating: /content/dataset/video_test/14-005 (21)#faster_rcnn_inception_resnet_v2_atrous_coco.avi  \n",
      "  inflating: /content/dataset/video_test/14-009 (2)#faster_rcnn_resnet101_coco.avi  \n",
      "  inflating: /content/dataset/video_test/14-010 (21)#faster_rcnn_resnet101_coco.avi  \n",
      "  inflating: /content/dataset/video_test/14-008 (1)#faster_rcnn_nas_lowproposals_coco.avi  \n",
      "  inflating: /content/dataset/video_test/14-001 (7)#faster_rcnn_resnet101_coco.avi  \n",
      "  inflating: /content/dataset/video_test/14-014 (4)#ssd_resnet50_v1_fpn.avi  \n",
      "  inflating: /content/dataset/video_test/14-014 (4)#faster_rcnn_inception_resnet_v2_atrous_coco.avi  \n",
      "  inflating: /content/dataset/video_test/14-017 (18)#faster_rcnn_resnet50_coco.avi  \n",
      "  inflating: /content/dataset/video_test/14-001 (7)#ssd_mobilenet_v2_coco.avi  \n",
      "  inflating: /content/dataset/video_test/14-014 (4)#faster_rcnn_resnet101_coco.avi  \n",
      "  inflating: /content/dataset/video_test/14-008 (1)#ssd_resnet50_v1_fpn.avi  \n",
      "  inflating: /content/dataset/video_test/14-005 (21)#input.avi  \n",
      "  inflating: /content/dataset/video_test/14-008 (1)#ssd_mobilenet_v2_coco.avi  \n",
      "  inflating: /content/dataset/video_test/14-005 (21)#faster_rcnn_resnet50_coco.avi  \n",
      "  inflating: /content/dataset/video_test/14-001 (7)#rfcn_resnet101_coco.avi  \n",
      "  inflating: /content/dataset/video_test/14-009 (2)#input.avi  \n",
      "  inflating: /content/dataset/video_test/14-010 (21)#rfcn_resnet101_coco.avi  \n",
      "  inflating: /content/dataset/video_test/14-003 (14)#ssd_mobilenet_v1_fpn_coco.avi  \n",
      "  inflating: /content/dataset/video_test/14-005 (21)#faster_rcnn_nas_lowproposals_coco.avi  \n",
      "  inflating: /content/dataset/video_test/14-008 (1)#ssd_mobilenet_v1_fpn_coco.avi  \n",
      "  inflating: /content/dataset/video_test/14-010 (21)#input.avi  \n",
      "  inflating: /content/dataset/video_test/14-010 (21)#faster_rcnn_nas_lowproposals_coco.avi  \n",
      "  inflating: /content/dataset/video_test/14-017 (18)#input.avi  \n",
      "  inflating: /content/dataset/video_test/14-008 (1)#input.avi  \n",
      "  inflating: /content/dataset/video_test/14-001 (7)#input.avi  \n",
      "  inflating: /content/dataset/video_test/14-014 (4)#rfcn_resnet101_coco.avi  \n",
      "  inflating: /content/dataset/video_test/14-008 (1)#faster_rcnn_inception_resnet_v2_atrous_coco.avi  \n",
      "  inflating: /content/dataset/video_test/14-008 (1)#rfcn_resnet101_coco.avi  \n",
      "  inflating: /content/dataset/video_test/14-014 (4)#faster_rcnn_nas_lowproposals_coco.avi  \n",
      "  inflating: /content/dataset/video_test/14-010 (21)#faster_rcnn_resnet50_coco.avi  \n",
      "  inflating: /content/dataset/video_test/14-017 (18)#faster_rcnn_inception_resnet_v2_atrous_coco.avi  \n",
      "  inflating: /content/dataset/video_test/14-017 (18)#rfcn_resnet101_coco.avi  \n",
      "  inflating: /content/dataset/video_test/14-008 (1)#faster_rcnn_resnet101_coco.avi  \n",
      "  inflating: /content/dataset/video_test/14-003 (14)#faster_rcnn_inception_resnet_v2_atrous_coco.avi  \n",
      "  inflating: /content/dataset/video_test/14-003 (14)#faster_rcnn_resnet101_coco.avi  \n",
      "  inflating: /content/dataset/video_test/14-009 (2)#rfcn_resnet101_coco.avi  \n",
      "  inflating: /content/dataset/video_test/14-009 (2)#faster_rcnn_inception_resnet_v2_atrous_coco.avi  \n",
      "  inflating: /content/dataset/video_test/14-009 (2)#faster_rcnn_nas_lowproposals_coco.avi  \n",
      "  inflating: /content/dataset/video_test/14-009 (2)#ssd_mobilenet_v1_fpn_coco.avi  \n",
      "  inflating: /content/dataset/video_test/14-009 (2)#ssd_mobilenet_v2_coco.avi  \n",
      "  inflating: /content/dataset/video_test/14-008 (7)#ssd_mobilenet_v1_fpn_coco.avi  \n",
      "  inflating: /content/dataset/video_test/14-008 (7)#rfcn_resnet101_coco.avi  \n",
      "  inflating: /content/dataset/video_test/14-008 (7)#ssd_resnet50_v1_fpn.avi  \n",
      "  inflating: /content/dataset/video_test/14-008 (7)#faster_rcnn_inception_resnet_v2_atrous_coco.avi  \n",
      "  inflating: /content/dataset/video_test/14-008 (7)#ssd_mobilenet_v2_coco.avi  \n",
      "  inflating: /content/dataset/video_test/14-008 (7)#input.avi  \n",
      "  inflating: /content/dataset/video_test/14-008 (7)#faster_rcnn_resnet101_coco.avi  \n",
      "  inflating: /content/dataset/video_test/14-008 (7)#faster_rcnn_resnet50_coco.avi  \n",
      "  inflating: /content/dataset/video_test/14-008 (7)#faster_rcnn_nas_lowproposals_coco.avi  \n",
      "  inflating: /content/dataset/video_test/14-019 (4)#faster_rcnn_nas_lowproposals_coco.avi  \n",
      "  inflating: /content/dataset/video_test/14-019 (4)#ssd_resnet50_v1_fpn.avi  \n",
      "  inflating: /content/dataset/video_test/14-019 (4)#faster_rcnn_inception_resnet_v2_atrous_coco.avi  \n",
      "  inflating: /content/dataset/video_test/14-019 (4)#input.avi  \n",
      "  inflating: /content/dataset/video_test/14-019 (4)#ssd_mobilenet_v1_fpn_coco.avi  \n",
      "  inflating: /content/dataset/video_test/14-019 (4)#faster_rcnn_resnet101_coco.avi  \n",
      "  inflating: /content/dataset/video_test/14-019 (4)#rfcn_resnet101_coco.avi  \n",
      "  inflating: /content/dataset/video_test/14-019 (4)#faster_rcnn_resnet50_coco.avi  \n",
      "  inflating: /content/dataset/video_test/14-019 (4)#ssd_mobilenet_v2_coco.avi  \n",
      "   creating: /content/dataset/video_val/\n",
      "  inflating: /content/dataset/video_val/14-010 (1)#faster_rcnn_nas_lowproposals_coco.avi  \n",
      "  inflating: /content/dataset/video_val/14-018 (8)#input.avi  \n",
      "  inflating: /content/dataset/video_val/14-012 (3)#faster_rcnn_resnet50_coco.avi  \n",
      "  inflating: /content/dataset/video_val/14-010 (1)#rfcn_resnet101_coco.avi  \n",
      "  inflating: /content/dataset/video_val/14-010 (1)#ssd_mobilenet_v2_coco.avi  \n",
      "  inflating: /content/dataset/video_val/14-017 (1)#ssd_resnet50_v1_fpn.avi  \n",
      "  inflating: /content/dataset/video_val/14-012 (4)#ssd_mobilenet_v2_coco.avi  \n",
      "  inflating: /content/dataset/video_val/14-003 (1)#input.avi  \n",
      "  inflating: /content/dataset/video_val/14-010 (1)#ssd_mobilenet_v1_fpn_coco.avi  \n",
      "  inflating: /content/dataset/video_val/14-012 (4)#faster_rcnn_resnet50_coco.avi  \n",
      "  inflating: /content/dataset/video_val/14-002 (5)#faster_rcnn_resnet50_coco.avi  \n",
      "  inflating: /content/dataset/video_val/14-012 (3)#input.avi  \n",
      "  inflating: /content/dataset/video_val/14-002 (8)#rfcn_resnet101_coco.avi  \n",
      "  inflating: /content/dataset/video_val/14-015 (1)#faster_rcnn_inception_resnet_v2_atrous_coco.avi  \n",
      "  inflating: /content/dataset/video_val/14-010 (6)#ssd_resnet50_v1_fpn.avi  \n",
      "  inflating: /content/dataset/video_val/14-018 (8)#faster_rcnn_inception_resnet_v2_atrous_coco.avi  \n",
      "  inflating: /content/dataset/video_val/14-012 (4)#input.avi  \n",
      "  inflating: /content/dataset/video_val/14-003 (1)#faster_rcnn_resnet101_coco.avi  \n",
      "  inflating: /content/dataset/video_val/14-018 (6)#ssd_mobilenet_v1_fpn_coco.avi  \n",
      "  inflating: /content/dataset/video_val/14-018 (8)#ssd_mobilenet_v2_coco.avi  \n",
      "  inflating: /content/dataset/video_val/14-003 (1)#ssd_mobilenet_v1_fpn_coco.avi  \n",
      "  inflating: /content/dataset/video_val/14-012 (4)#ssd_resnet50_v1_fpn.avi  \n",
      "  inflating: /content/dataset/video_val/14-010 (6)#faster_rcnn_nas_lowproposals_coco.avi  \n",
      "  inflating: /content/dataset/video_val/14-003 (2)#faster_rcnn_inception_resnet_v2_atrous_coco.avi  \n",
      "  inflating: /content/dataset/video_val/14-003 (2)#ssd_resnet50_v1_fpn.avi  \n",
      "  inflating: /content/dataset/video_val/14-017 (1)#faster_rcnn_inception_resnet_v2_atrous_coco.avi  \n",
      "  inflating: /content/dataset/video_val/14-003 (2)#ssd_mobilenet_v2_coco.avi  \n",
      "  inflating: /content/dataset/video_val/14-007 (8)#ssd_mobilenet_v2_coco.avi  \n",
      "  inflating: /content/dataset/video_val/14-003 (1)#rfcn_resnet101_coco.avi  \n",
      "  inflating: /content/dataset/video_val/14-016 (1)#ssd_mobilenet_v1_fpn_coco.avi  \n",
      "  inflating: /content/dataset/video_val/14-017 (1)#rfcn_resnet101_coco.avi  \n",
      "  inflating: /content/dataset/video_val/14-010 (6)#faster_rcnn_resnet50_coco.avi  \n",
      "  inflating: /content/dataset/video_val/14-012 (3)#faster_rcnn_resnet101_coco.avi  \n",
      "  inflating: /content/dataset/video_val/14-010 (1)#faster_rcnn_resnet50_coco.avi  \n",
      "  inflating: /content/dataset/video_val/14-015 (1)#faster_rcnn_resnet101_coco.avi  \n",
      "  inflating: /content/dataset/video_val/14-002 (8)#ssd_resnet50_v1_fpn.avi  \n",
      "  inflating: /content/dataset/video_val/14-010 (1)#faster_rcnn_inception_resnet_v2_atrous_coco.avi  \n",
      "  inflating: /content/dataset/video_val/14-014 (1)#faster_rcnn_inception_resnet_v2_atrous_coco.avi  \n",
      "  inflating: /content/dataset/video_val/14-003 (1)#ssd_mobilenet_v2_coco.avi  \n",
      "  inflating: /content/dataset/video_val/14-003 (1)#faster_rcnn_inception_resnet_v2_atrous_coco.avi  \n",
      "  inflating: /content/dataset/video_val/14-014 (1)#faster_rcnn_nas_lowproposals_coco.avi  \n",
      "  inflating: /content/dataset/video_val/14-012 (4)#ssd_mobilenet_v1_fpn_coco.avi  \n",
      "  inflating: /content/dataset/video_val/14-002 (5)#ssd_mobilenet_v2_coco.avi  \n",
      "  inflating: /content/dataset/video_val/14-018 (8)#ssd_mobilenet_v1_fpn_coco.avi  \n",
      "  inflating: /content/dataset/video_val/14-012 (3)#ssd_mobilenet_v2_coco.avi  \n",
      "  inflating: /content/dataset/video_val/14-002 (5)#faster_rcnn_nas_lowproposals_coco.avi  \n",
      "  inflating: /content/dataset/video_val/14-012 (4)#faster_rcnn_resnet101_coco.avi  \n",
      "  inflating: /content/dataset/video_val/14-002 (8)#faster_rcnn_inception_resnet_v2_atrous_coco.avi  \n",
      "  inflating: /content/dataset/video_val/14-010 (1)#ssd_resnet50_v1_fpn.avi  \n",
      "  inflating: /content/dataset/video_val/14-018 (8)#faster_rcnn_resnet101_coco.avi  \n",
      "  inflating: /content/dataset/video_val/14-012 (3)#rfcn_resnet101_coco.avi  \n",
      "  inflating: /content/dataset/video_val/14-002 (8)#faster_rcnn_nas_lowproposals_coco.avi  \n",
      "  inflating: /content/dataset/video_val/14-017 (1)#input.avi  \n",
      "  inflating: /content/dataset/video_val/14-015 (1)#rfcn_resnet101_coco.avi  \n",
      "  inflating: /content/dataset/video_val/14-016 (1)#faster_rcnn_resnet50_coco.avi  \n",
      "  inflating: /content/dataset/video_val/14-010 (6)#rfcn_resnet101_coco.avi  \n",
      "  inflating: /content/dataset/video_val/14-014 (1)#ssd_mobilenet_v1_fpn_coco.avi  \n",
      "  inflating: /content/dataset/video_val/14-016 (1)#ssd_resnet50_v1_fpn.avi  \n",
      "  inflating: /content/dataset/video_val/14-003 (1)#ssd_resnet50_v1_fpn.avi  \n",
      "  inflating: /content/dataset/video_val/14-016 (1)#faster_rcnn_inception_resnet_v2_atrous_coco.avi  \n",
      "  inflating: /content/dataset/video_val/14-014 (1)#faster_rcnn_resnet101_coco.avi  \n",
      "  inflating: /content/dataset/video_val/14-002 (8)#input.avi  \n",
      "  inflating: /content/dataset/video_val/14-002 (8)#ssd_mobilenet_v1_fpn_coco.avi  \n",
      "  inflating: /content/dataset/video_val/14-002 (8)#ssd_mobilenet_v2_coco.avi  \n",
      "  inflating: /content/dataset/video_val/14-012 (4)#rfcn_resnet101_coco.avi  \n",
      "  inflating: /content/dataset/video_val/14-003 (2)#faster_rcnn_nas_lowproposals_coco.avi  \n",
      "  inflating: /content/dataset/video_val/14-014 (1)#ssd_resnet50_v1_fpn.avi  \n",
      "  inflating: /content/dataset/video_val/14-010 (6)#faster_rcnn_inception_resnet_v2_atrous_coco.avi  \n",
      "  inflating: /content/dataset/video_val/14-017 (1)#ssd_mobilenet_v1_fpn_coco.avi  \n",
      "  inflating: /content/dataset/video_val/14-017 (1)#faster_rcnn_resnet101_coco.avi  \n",
      "  inflating: /content/dataset/video_val/14-012 (3)#faster_rcnn_nas_lowproposals_coco.avi  \n",
      "  inflating: /content/dataset/video_val/14-012 (3)#ssd_resnet50_v1_fpn.avi  \n",
      "  inflating: /content/dataset/video_val/14-010 (1)#input.avi  \n",
      "  inflating: /content/dataset/video_val/14-002 (5)#input.avi  \n",
      "  inflating: /content/dataset/video_val/14-015 (1)#ssd_resnet50_v1_fpn.avi  \n",
      "  inflating: /content/dataset/video_val/14-003 (1)#faster_rcnn_resnet50_coco.avi  \n",
      "  inflating: /content/dataset/video_val/14-015 (1)#faster_rcnn_nas_lowproposals_coco.avi  \n",
      "  inflating: /content/dataset/video_val/14-014 (1)#faster_rcnn_resnet50_coco.avi  \n",
      "  inflating: /content/dataset/video_val/14-002 (8)#faster_rcnn_resnet50_coco.avi  \n",
      "  inflating: /content/dataset/video_val/14-018 (8)#rfcn_resnet101_coco.avi  \n",
      "  inflating: /content/dataset/video_val/14-012 (4)#faster_rcnn_inception_resnet_v2_atrous_coco.avi  \n",
      "  inflating: /content/dataset/video_val/14-010 (6)#input.avi  \n",
      "  inflating: /content/dataset/video_val/14-010 (1)#faster_rcnn_resnet101_coco.avi  \n",
      "  inflating: /content/dataset/video_val/14-016 (1)#rfcn_resnet101_coco.avi  \n",
      "  inflating: /content/dataset/video_val/14-003 (2)#input.avi  \n",
      "  inflating: /content/dataset/video_val/14-018 (8)#faster_rcnn_resnet50_coco.avi  \n",
      "  inflating: /content/dataset/video_val/14-002 (5)#ssd_resnet50_v1_fpn.avi  \n",
      "  inflating: /content/dataset/video_val/14-002 (5)#ssd_mobilenet_v1_fpn_coco.avi  \n",
      "  inflating: /content/dataset/video_val/14-015 (1)#ssd_mobilenet_v2_coco.avi  \n",
      "  inflating: /content/dataset/video_val/14-014 (1)#ssd_mobilenet_v2_coco.avi  \n",
      "  inflating: /content/dataset/video_val/14-015 (1)#ssd_mobilenet_v1_fpn_coco.avi  \n",
      "  inflating: /content/dataset/video_val/14-012 (4)#faster_rcnn_nas_lowproposals_coco.avi  \n",
      "  inflating: /content/dataset/video_val/14-018 (8)#faster_rcnn_nas_lowproposals_coco.avi  \n",
      "  inflating: /content/dataset/video_val/14-016 (1)#ssd_mobilenet_v2_coco.avi  \n",
      "  inflating: /content/dataset/video_val/14-010 (6)#faster_rcnn_resnet101_coco.avi  \n",
      "  inflating: /content/dataset/video_val/14-002 (8)#faster_rcnn_resnet101_coco.avi  \n",
      "  inflating: /content/dataset/video_val/14-017 (1)#ssd_mobilenet_v2_coco.avi  \n",
      "  inflating: /content/dataset/video_val/14-015 (1)#faster_rcnn_resnet50_coco.avi  \n",
      "  inflating: /content/dataset/video_val/14-014 (1)#rfcn_resnet101_coco.avi  \n",
      "  inflating: /content/dataset/video_val/14-003 (2)#faster_rcnn_resnet101_coco.avi  \n",
      "  inflating: /content/dataset/video_val/14-012 (3)#faster_rcnn_inception_resnet_v2_atrous_coco.avi  \n",
      "  inflating: /content/dataset/video_val/14-014 (1)#input.avi  \n",
      "  inflating: /content/dataset/video_val/14-018 (8)#ssd_resnet50_v1_fpn.avi  \n",
      "  inflating: /content/dataset/video_val/14-016 (1)#input.avi  \n",
      "  inflating: /content/dataset/video_val/14-010 (6)#ssd_mobilenet_v1_fpn_coco.avi  \n",
      "  inflating: /content/dataset/video_val/14-002 (5)#faster_rcnn_resnet101_coco.avi  \n",
      "  inflating: /content/dataset/video_val/14-003 (2)#rfcn_resnet101_coco.avi  \n",
      "  inflating: /content/dataset/video_val/14-003 (2)#faster_rcnn_resnet50_coco.avi  \n",
      "  inflating: /content/dataset/video_val/14-017 (1)#faster_rcnn_resnet50_coco.avi  \n",
      "  inflating: /content/dataset/video_val/14-003 (2)#ssd_mobilenet_v1_fpn_coco.avi  \n",
      "  inflating: /content/dataset/video_val/14-002 (5)#faster_rcnn_inception_resnet_v2_atrous_coco.avi  \n",
      "  inflating: /content/dataset/video_val/14-016 (1)#faster_rcnn_nas_lowproposals_coco.avi  \n",
      "  inflating: /content/dataset/video_val/14-017 (1)#faster_rcnn_nas_lowproposals_coco.avi  \n",
      "  inflating: /content/dataset/video_val/14-012 (3)#ssd_mobilenet_v1_fpn_coco.avi  \n",
      "  inflating: /content/dataset/video_val/14-015 (1)#input.avi  \n",
      "  inflating: /content/dataset/video_val/14-002 (5)#rfcn_resnet101_coco.avi  \n",
      "  inflating: /content/dataset/video_val/14-016 (1)#faster_rcnn_resnet101_coco.avi  \n",
      "  inflating: /content/dataset/video_val/14-003 (1)#faster_rcnn_nas_lowproposals_coco.avi  \n",
      "  inflating: /content/dataset/video_val/14-010 (6)#ssd_mobilenet_v2_coco.avi  \n",
      "  inflating: /content/dataset/video_val/14-018 (6)#ssd_resnet50_v1_fpn.avi  \n",
      "  inflating: /content/dataset/video_val/14-007 (8)#faster_rcnn_inception_resnet_v2_atrous_coco.avi  \n",
      "  inflating: /content/dataset/video_val/14-018 (6)#faster_rcnn_inception_resnet_v2_atrous_coco.avi  \n",
      "  inflating: /content/dataset/video_val/14-018 (6)#faster_rcnn_resnet50_coco.avi  \n",
      "  inflating: /content/dataset/video_val/14-018 (6)#input.avi  \n",
      "  inflating: /content/dataset/video_val/14-018 (6)#faster_rcnn_resnet101_coco.avi  \n",
      "  inflating: /content/dataset/video_val/14-007 (8)#faster_rcnn_resnet101_coco.avi  \n",
      "  inflating: /content/dataset/video_val/14-018 (6)#rfcn_resnet101_coco.avi  \n",
      "  inflating: /content/dataset/video_val/14-018 (6)#ssd_mobilenet_v2_coco.avi  \n",
      "  inflating: /content/dataset/video_val/14-018 (6)#faster_rcnn_nas_lowproposals_coco.avi  \n",
      "  inflating: /content/dataset/video_val/14-007 (6)#faster_rcnn_nas_lowproposals_coco.avi  \n",
      "  inflating: /content/dataset/video_val/14-007 (6)#rfcn_resnet101_coco.avi  \n",
      "  inflating: /content/dataset/video_val/14-007 (6)#input.avi  \n",
      "  inflating: /content/dataset/video_val/14-007 (6)#faster_rcnn_inception_resnet_v2_atrous_coco.avi  \n",
      "  inflating: /content/dataset/video_val/14-007 (6)#faster_rcnn_resnet50_coco.avi  \n",
      "  inflating: /content/dataset/video_val/14-007 (6)#faster_rcnn_resnet101_coco.avi  \n",
      "  inflating: /content/dataset/video_val/14-007 (6)#ssd_resnet50_v1_fpn.avi  \n",
      "  inflating: /content/dataset/video_val/14-007 (6)#ssd_mobilenet_v2_coco.avi  \n",
      "  inflating: /content/dataset/video_val/14-007 (8)#ssd_resnet50_v1_fpn.avi  \n",
      "  inflating: /content/dataset/video_val/14-007 (8)#input.avi  \n",
      "  inflating: /content/dataset/video_val/14-007 (8)#rfcn_resnet101_coco.avi  \n",
      "  inflating: /content/dataset/video_val/14-007 (8)#ssd_mobilenet_v1_fpn_coco.avi  \n",
      "  inflating: /content/dataset/video_val/14-007 (8)#faster_rcnn_nas_lowproposals_coco.avi  \n",
      "  inflating: /content/dataset/video_val/14-007 (8)#faster_rcnn_resnet50_coco.avi  \n",
      "  inflating: /content/dataset/video_val/14-007 (10)#input.avi  \n",
      "  inflating: /content/dataset/video_val/14-007 (10)#faster_rcnn_nas_lowproposals_coco.avi  \n",
      "  inflating: /content/dataset/video_val/14-007 (10)#ssd_resnet50_v1_fpn.avi  \n",
      "  inflating: /content/dataset/video_val/14-007 (10)#faster_rcnn_resnet50_coco.avi  \n",
      "  inflating: /content/dataset/video_val/14-007 (10)#ssd_mobilenet_v1_fpn_coco.avi  \n",
      "  inflating: /content/dataset/video_val/14-007 (10)#faster_rcnn_inception_resnet_v2_atrous_coco.avi  \n",
      "  inflating: /content/dataset/video_val/14-007 (10)#rfcn_resnet101_coco.avi  \n",
      "  inflating: /content/dataset/video_val/14-007 (10)#ssd_mobilenet_v2_coco.avi  \n",
      "  inflating: /content/dataset/video_val/14-007 (10)#faster_rcnn_resnet101_coco.avi  \n",
      "  inflating: /content/dataset/video_val/14-007 (5)#ssd_mobilenet_v2_coco.avi  \n",
      "  inflating: /content/dataset/video_val/14-007 (5)#ssd_resnet50_v1_fpn.avi  \n",
      "  inflating: /content/dataset/video_val/14-007 (5)#faster_rcnn_inception_resnet_v2_atrous_coco.avi  \n",
      "  inflating: /content/dataset/video_val/14-007 (5)#faster_rcnn_resnet101_coco.avi  \n",
      "  inflating: /content/dataset/video_val/14-007 (5)#ssd_mobilenet_v1_fpn_coco.avi  \n",
      "  inflating: /content/dataset/video_val/14-007 (5)#rfcn_resnet101_coco.avi  \n",
      "  inflating: /content/dataset/video_val/14-007 (5)#faster_rcnn_resnet50_coco.avi  \n",
      "  inflating: /content/dataset/video_val/14-007 (5)#input.avi  \n",
      "  inflating: /content/dataset/video_val/14-007 (5)#faster_rcnn_nas_lowproposals_coco.avi  \n",
      "  inflating: /content/dataset/video_val/14-007 (3)#faster_rcnn_nas_lowproposals_coco.avi  \n",
      "  inflating: /content/dataset/video_val/14-007 (3)#faster_rcnn_inception_resnet_v2_atrous_coco.avi  \n",
      "  inflating: /content/dataset/video_val/14-007 (3)#ssd_mobilenet_v2_coco.avi  \n",
      "  inflating: /content/dataset/video_val/14-007 (3)#rfcn_resnet101_coco.avi  \n",
      "  inflating: /content/dataset/video_val/14-007 (3)#ssd_mobilenet_v1_fpn_coco.avi  \n",
      "  inflating: /content/dataset/video_val/14-006 (1)#ssd_mobilenet_v2_coco.avi  \n",
      "  inflating: /content/dataset/video_val/14-007 (3)#input.avi  \n",
      "  inflating: /content/dataset/video_val/14-007 (3)#ssd_resnet50_v1_fpn.avi  \n",
      "  inflating: /content/dataset/video_val/14-006 (1)#input.avi  \n",
      "  inflating: /content/dataset/video_val/14-006 (1)#faster_rcnn_resnet101_coco.avi  \n",
      "  inflating: /content/dataset/video_val/14-007 (3)#faster_rcnn_resnet101_coco.avi  \n",
      "  inflating: /content/dataset/video_val/14-007 (3)#faster_rcnn_resnet50_coco.avi  \n",
      "  inflating: /content/dataset/video_val/14-006 (1)#ssd_resnet50_v1_fpn.avi  \n",
      "  inflating: /content/dataset/video_val/14-006 (1)#ssd_mobilenet_v1_fpn_coco.avi  \n",
      "  inflating: /content/dataset/video_val/14-006 (1)#rfcn_resnet101_coco.avi  \n",
      "  inflating: /content/dataset/video_val/14-006 (1)#faster_rcnn_nas_lowproposals_coco.avi  \n",
      "  inflating: /content/dataset/video_val/14-006 (1)#faster_rcnn_inception_resnet_v2_atrous_coco.avi  \n",
      "  inflating: /content/dataset/video_val/14-006 (1)#faster_rcnn_resnet50_coco.avi  \n",
      "  inflating: /content/dataset/timing_test.xlsx  \n",
      "  inflating: /content/dataset/timing_val.xlsx  \n",
      "Collecting ultralytics\n",
      "  Downloading ultralytics-8.2.22-py3-none-any.whl (778 kB)\n",
      "\u001b[2K     \u001b[90m━━━━━━━━━━━━━━━━━━━━━━━━━━━━━━━━━━━━━━━━\u001b[0m \u001b[32m778.4/778.4 kB\u001b[0m \u001b[31m16.7 MB/s\u001b[0m eta \u001b[36m0:00:00\u001b[0m\n",
      "\u001b[?25hRequirement already satisfied: matplotlib>=3.3.0 in /usr/local/lib/python3.10/dist-packages (from ultralytics) (3.7.1)\n",
      "Requirement already satisfied: opencv-python>=4.6.0 in /usr/local/lib/python3.10/dist-packages (from ultralytics) (4.8.0.76)\n",
      "Requirement already satisfied: pillow>=7.1.2 in /usr/local/lib/python3.10/dist-packages (from ultralytics) (9.4.0)\n",
      "Requirement already satisfied: pyyaml>=5.3.1 in /usr/local/lib/python3.10/dist-packages (from ultralytics) (6.0.1)\n",
      "Requirement already satisfied: requests>=2.23.0 in /usr/local/lib/python3.10/dist-packages (from ultralytics) (2.31.0)\n",
      "Requirement already satisfied: scipy>=1.4.1 in /usr/local/lib/python3.10/dist-packages (from ultralytics) (1.11.4)\n",
      "Requirement already satisfied: torch>=1.8.0 in /usr/local/lib/python3.10/dist-packages (from ultralytics) (2.3.0+cu121)\n",
      "Requirement already satisfied: torchvision>=0.9.0 in /usr/local/lib/python3.10/dist-packages (from ultralytics) (0.18.0+cu121)\n",
      "Requirement already satisfied: tqdm>=4.64.0 in /usr/local/lib/python3.10/dist-packages (from ultralytics) (4.66.4)\n",
      "Requirement already satisfied: psutil in /usr/local/lib/python3.10/dist-packages (from ultralytics) (5.9.5)\n",
      "Requirement already satisfied: py-cpuinfo in /usr/local/lib/python3.10/dist-packages (from ultralytics) (9.0.0)\n",
      "Collecting thop>=0.1.1 (from ultralytics)\n",
      "  Downloading thop-0.1.1.post2209072238-py3-none-any.whl (15 kB)\n",
      "Requirement already satisfied: pandas>=1.1.4 in /usr/local/lib/python3.10/dist-packages (from ultralytics) (2.0.3)\n",
      "Requirement already satisfied: seaborn>=0.11.0 in /usr/local/lib/python3.10/dist-packages (from ultralytics) (0.13.1)\n",
      "Requirement already satisfied: contourpy>=1.0.1 in /usr/local/lib/python3.10/dist-packages (from matplotlib>=3.3.0->ultralytics) (1.2.1)\n",
      "Requirement already satisfied: cycler>=0.10 in /usr/local/lib/python3.10/dist-packages (from matplotlib>=3.3.0->ultralytics) (0.12.1)\n",
      "Requirement already satisfied: fonttools>=4.22.0 in /usr/local/lib/python3.10/dist-packages (from matplotlib>=3.3.0->ultralytics) (4.51.0)\n",
      "Requirement already satisfied: kiwisolver>=1.0.1 in /usr/local/lib/python3.10/dist-packages (from matplotlib>=3.3.0->ultralytics) (1.4.5)\n",
      "Requirement already satisfied: numpy>=1.20 in /usr/local/lib/python3.10/dist-packages (from matplotlib>=3.3.0->ultralytics) (1.25.2)\n",
      "Requirement already satisfied: packaging>=20.0 in /usr/local/lib/python3.10/dist-packages (from matplotlib>=3.3.0->ultralytics) (24.0)\n",
      "Requirement already satisfied: pyparsing>=2.3.1 in /usr/local/lib/python3.10/dist-packages (from matplotlib>=3.3.0->ultralytics) (3.1.2)\n",
      "Requirement already satisfied: python-dateutil>=2.7 in /usr/local/lib/python3.10/dist-packages (from matplotlib>=3.3.0->ultralytics) (2.8.2)\n",
      "Requirement already satisfied: pytz>=2020.1 in /usr/local/lib/python3.10/dist-packages (from pandas>=1.1.4->ultralytics) (2023.4)\n",
      "Requirement already satisfied: tzdata>=2022.1 in /usr/local/lib/python3.10/dist-packages (from pandas>=1.1.4->ultralytics) (2024.1)\n",
      "Requirement already satisfied: charset-normalizer<4,>=2 in /usr/local/lib/python3.10/dist-packages (from requests>=2.23.0->ultralytics) (3.3.2)\n",
      "Requirement already satisfied: idna<4,>=2.5 in /usr/local/lib/python3.10/dist-packages (from requests>=2.23.0->ultralytics) (3.7)\n",
      "Requirement already satisfied: urllib3<3,>=1.21.1 in /usr/local/lib/python3.10/dist-packages (from requests>=2.23.0->ultralytics) (2.0.7)\n",
      "Requirement already satisfied: certifi>=2017.4.17 in /usr/local/lib/python3.10/dist-packages (from requests>=2.23.0->ultralytics) (2024.2.2)\n",
      "Requirement already satisfied: filelock in /usr/local/lib/python3.10/dist-packages (from torch>=1.8.0->ultralytics) (3.14.0)\n",
      "Requirement already satisfied: typing-extensions>=4.8.0 in /usr/local/lib/python3.10/dist-packages (from torch>=1.8.0->ultralytics) (4.11.0)\n",
      "Requirement already satisfied: sympy in /usr/local/lib/python3.10/dist-packages (from torch>=1.8.0->ultralytics) (1.12)\n",
      "Requirement already satisfied: networkx in /usr/local/lib/python3.10/dist-packages (from torch>=1.8.0->ultralytics) (3.3)\n",
      "Requirement already satisfied: jinja2 in /usr/local/lib/python3.10/dist-packages (from torch>=1.8.0->ultralytics) (3.1.4)\n",
      "Requirement already satisfied: fsspec in /usr/local/lib/python3.10/dist-packages (from torch>=1.8.0->ultralytics) (2023.6.0)\n",
      "Collecting nvidia-cuda-nvrtc-cu12==12.1.105 (from torch>=1.8.0->ultralytics)\n",
      "  Using cached nvidia_cuda_nvrtc_cu12-12.1.105-py3-none-manylinux1_x86_64.whl (23.7 MB)\n",
      "Collecting nvidia-cuda-runtime-cu12==12.1.105 (from torch>=1.8.0->ultralytics)\n",
      "  Using cached nvidia_cuda_runtime_cu12-12.1.105-py3-none-manylinux1_x86_64.whl (823 kB)\n",
      "Collecting nvidia-cuda-cupti-cu12==12.1.105 (from torch>=1.8.0->ultralytics)\n",
      "  Using cached nvidia_cuda_cupti_cu12-12.1.105-py3-none-manylinux1_x86_64.whl (14.1 MB)\n",
      "Collecting nvidia-cudnn-cu12==8.9.2.26 (from torch>=1.8.0->ultralytics)\n",
      "  Using cached nvidia_cudnn_cu12-8.9.2.26-py3-none-manylinux1_x86_64.whl (731.7 MB)\n",
      "Collecting nvidia-cublas-cu12==12.1.3.1 (from torch>=1.8.0->ultralytics)\n",
      "  Using cached nvidia_cublas_cu12-12.1.3.1-py3-none-manylinux1_x86_64.whl (410.6 MB)\n",
      "Collecting nvidia-cufft-cu12==11.0.2.54 (from torch>=1.8.0->ultralytics)\n",
      "  Using cached nvidia_cufft_cu12-11.0.2.54-py3-none-manylinux1_x86_64.whl (121.6 MB)\n",
      "Collecting nvidia-curand-cu12==10.3.2.106 (from torch>=1.8.0->ultralytics)\n",
      "  Using cached nvidia_curand_cu12-10.3.2.106-py3-none-manylinux1_x86_64.whl (56.5 MB)\n",
      "Collecting nvidia-cusolver-cu12==11.4.5.107 (from torch>=1.8.0->ultralytics)\n",
      "  Using cached nvidia_cusolver_cu12-11.4.5.107-py3-none-manylinux1_x86_64.whl (124.2 MB)\n",
      "Collecting nvidia-cusparse-cu12==12.1.0.106 (from torch>=1.8.0->ultralytics)\n",
      "  Using cached nvidia_cusparse_cu12-12.1.0.106-py3-none-manylinux1_x86_64.whl (196.0 MB)\n",
      "Collecting nvidia-nccl-cu12==2.20.5 (from torch>=1.8.0->ultralytics)\n",
      "  Using cached nvidia_nccl_cu12-2.20.5-py3-none-manylinux2014_x86_64.whl (176.2 MB)\n",
      "Collecting nvidia-nvtx-cu12==12.1.105 (from torch>=1.8.0->ultralytics)\n",
      "  Using cached nvidia_nvtx_cu12-12.1.105-py3-none-manylinux1_x86_64.whl (99 kB)\n",
      "Requirement already satisfied: triton==2.3.0 in /usr/local/lib/python3.10/dist-packages (from torch>=1.8.0->ultralytics) (2.3.0)\n",
      "Collecting nvidia-nvjitlink-cu12 (from nvidia-cusolver-cu12==11.4.5.107->torch>=1.8.0->ultralytics)\n",
      "  Downloading nvidia_nvjitlink_cu12-12.5.40-py3-none-manylinux2014_x86_64.whl (21.3 MB)\n",
      "\u001b[2K     \u001b[90m━━━━━━━━━━━━━━━━━━━━━━━━━━━━━━━━━━━━━━━━\u001b[0m \u001b[32m21.3/21.3 MB\u001b[0m \u001b[31m69.3 MB/s\u001b[0m eta \u001b[36m0:00:00\u001b[0m\n",
      "\u001b[?25hRequirement already satisfied: six>=1.5 in /usr/local/lib/python3.10/dist-packages (from python-dateutil>=2.7->matplotlib>=3.3.0->ultralytics) (1.16.0)\n",
      "Requirement already satisfied: MarkupSafe>=2.0 in /usr/local/lib/python3.10/dist-packages (from jinja2->torch>=1.8.0->ultralytics) (2.1.5)\n",
      "Requirement already satisfied: mpmath>=0.19 in /usr/local/lib/python3.10/dist-packages (from sympy->torch>=1.8.0->ultralytics) (1.3.0)\n",
      "Installing collected packages: nvidia-nvtx-cu12, nvidia-nvjitlink-cu12, nvidia-nccl-cu12, nvidia-curand-cu12, nvidia-cufft-cu12, nvidia-cuda-runtime-cu12, nvidia-cuda-nvrtc-cu12, nvidia-cuda-cupti-cu12, nvidia-cublas-cu12, nvidia-cusparse-cu12, nvidia-cudnn-cu12, nvidia-cusolver-cu12, thop, ultralytics\n",
      "Successfully installed nvidia-cublas-cu12-12.1.3.1 nvidia-cuda-cupti-cu12-12.1.105 nvidia-cuda-nvrtc-cu12-12.1.105 nvidia-cuda-runtime-cu12-12.1.105 nvidia-cudnn-cu12-8.9.2.26 nvidia-cufft-cu12-11.0.2.54 nvidia-curand-cu12-10.3.2.106 nvidia-cusolver-cu12-11.4.5.107 nvidia-cusparse-cu12-12.1.0.106 nvidia-nccl-cu12-2.20.5 nvidia-nvjitlink-cu12-12.5.40 nvidia-nvtx-cu12-12.1.105 thop-0.1.1.post2209072238 ultralytics-8.2.22\n"
     ]
    }
   ],
   "source": [
    "!rm -r /content/sample_data\n",
    "!wget https://prod-dcd-datasets-cache-zipfiles.s3.eu-west-1.amazonaws.com/ydrm75xywg-1.zip\n",
    "!unzip /content/ydrm75xywg-1.zip\n",
    "!mkdir /content/dataset\n",
    "!unzip /content/ydrm75xywg-1/\"Stenosis detection\".zip -d /content/dataset\n",
    "!mv /content/dataset/dataset /content/dataset/images\n",
    "!rm -r /content/dataset/video_test\n",
    "!rm -r /content/dataset/video_val\n",
    "!rm /content/ydrm75xywg-1.zip\n",
    "!rm -r /content/ydrm75xywg-1\n",
    "!pip install ultralytics"
   ]
  },
  {
   "cell_type": "code",
   "execution_count": 3,
   "metadata": {
    "colab": {
     "base_uri": "https://localhost:8080/"
    },
    "id": "t0qnDOaIfCA_",
    "outputId": "d1c9f3da-c9b7-4edd-8b9c-8b93d7dba7ca"
   },
   "outputs": [
    {
     "name": "stdout",
     "output_type": "stream",
     "text": [
      "/content\n"
     ]
    }
   ],
   "source": [
    "cd /content"
   ]
  },
  {
   "cell_type": "code",
   "execution_count": 4,
   "metadata": {
    "colab": {
     "base_uri": "https://localhost:8080/"
    },
    "id": "yV1CrpjhfGYx",
    "outputId": "54ef575a-39de-4b58-fb1a-36e704a9bc3b"
   },
   "outputs": [
    {
     "name": "stdout",
     "output_type": "stream",
     "text": [
      "Cloning into 'coronary-artery-stenosis-detection'...\n",
      "remote: Enumerating objects: 13, done.\u001b[K\n",
      "remote: Counting objects: 100% (13/13), done.\u001b[K\n",
      "remote: Compressing objects: 100% (11/11), done.\u001b[K\n",
      "remote: Total 13 (delta 3), reused 12 (delta 2), pack-reused 0\u001b[K\n",
      "Receiving objects: 100% (13/13), 4.48 KiB | 4.48 MiB/s, done.\n",
      "Resolving deltas: 100% (3/3), done.\n"
     ]
    }
   ],
   "source": [
    "!git clone https://github.com/amirrezarajabi/coronary-artery-stenosis-detection.git"
   ]
  },
  {
   "cell_type": "code",
   "execution_count": 5,
   "metadata": {
    "colab": {
     "base_uri": "https://localhost:8080/"
    },
    "id": "WC0zUVm7fIOa",
    "outputId": "4d03ffce-83af-4830-d799-7e11ad48e339"
   },
   "outputs": [
    {
     "name": "stdout",
     "output_type": "stream",
     "text": [
      "/content/coronary-artery-stenosis-detection/partition_dataset.py:35: DeprecationWarning: Flags not at the start of the expression '([a-zA-Z0-9\\\\s_\\\\\\\\.\\\\-\\\\' (truncated) but at position 27\n",
      "  if re.search(r'([a-zA-Z0-9\\s_\\\\.\\-\\(\\):])+(?i)(.jpg|.jpeg|.png|.bmp)$', f)]\n"
     ]
    }
   ],
   "source": [
    "!python /content/coronary-artery-stenosis-detection/partition_dataset.py -x -i /content/dataset/images -o /content/dataset -r 0.1"
   ]
  },
  {
   "cell_type": "code",
   "execution_count": 6,
   "metadata": {
    "id": "FWcLFBzrfKqD"
   },
   "outputs": [],
   "source": [
    "!rm -rf /content/dataset/images\n",
    "!mkdir /content/dataset/images\n",
    "!mkdir /content/dataset/labels\n",
    "!mkdir /content/dataset/labels/train\n",
    "!mkdir /content/dataset/labels/test\n",
    "!mv /content/dataset/train /content/dataset/images\n",
    "!mv /content/dataset/test /content/dataset/images"
   ]
  },
  {
   "cell_type": "code",
   "execution_count": 7,
   "metadata": {
    "id": "A3s9g7dmfMcI"
   },
   "outputs": [],
   "source": [
    "import os\n",
    "import glob\n",
    "from xml.etree import ElementTree as ET\n",
    "from PIL import Image\n",
    "from tqdm import tqdm\n",
    "\n",
    "def make_label(img_path):\n",
    "    Image.open(img_path).save(img_path.replace(\"bmp\", \"jpg\"))\n",
    "    xml_path = img_path.replace(\"bmp\", \"xml\")\n",
    "    txt_path = img_path.replace(\"bmp\", \"txt\").replace(\"images\", \"labels\")\n",
    "    with open(xml_path, 'r') as f:\n",
    "        tree = ET.parse(f)\n",
    "        root = tree.getroot()\n",
    "        size = root.find('size')\n",
    "        W = int(size.find('width').text)\n",
    "        H = int(size.find('height').text)\n",
    "        boxes = []\n",
    "        for obj in root.findall('object'):\n",
    "            class_label = obj.find('name').text\n",
    "            bndbox = obj.find('bndbox')\n",
    "            xmin = int(bndbox.find('xmin').text)\n",
    "            ymin = int(bndbox.find('ymin').text)\n",
    "            xmax = int(bndbox.find('xmax').text)\n",
    "            ymax = int(bndbox.find('ymax').text)\n",
    "            x_center = (xmin + xmax) / 2.0 / W\n",
    "            y_center = (ymin + ymax) / 2.0 / H\n",
    "            width = (xmax - xmin) / W\n",
    "            height = (ymax - ymin) / H\n",
    "            boxes.append(f\"0 {x_center} {y_center} {width} {height}\")\n",
    "    with open(txt_path, \"w\") as f:\n",
    "        f.write('\\n'.join(boxes))\n",
    "    os.remove(xml_path)\n",
    "    os.remove(img_path)"
   ]
  },
  {
   "cell_type": "code",
   "execution_count": 8,
   "metadata": {
    "colab": {
     "base_uri": "https://localhost:8080/"
    },
    "id": "o9vWsW0hfOBh",
    "outputId": "76f705f0-349b-4649-b2d7-1df894391f1f"
   },
   "outputs": [
    {
     "name": "stderr",
     "output_type": "stream",
     "text": [
      "100%|██████████| 7492/7492 [00:37<00:00, 202.01it/s]\n",
      "100%|██████████| 833/833 [00:04<00:00, 205.09it/s]\n"
     ]
    }
   ],
   "source": [
    "train_images = glob.glob(\"/content/dataset/images/train/*.bmp\")\n",
    "for ti in tqdm(train_images):\n",
    "  make_label(ti)\n",
    "\n",
    "test_images = glob.glob(\"/content/dataset/images/test/*.bmp\")\n",
    "for ti in tqdm(test_images):\n",
    "  make_label(ti)"
   ]
  },
  {
   "cell_type": "code",
   "execution_count": 9,
   "metadata": {
    "id": "ovoeX82h-Xmf"
   },
   "outputs": [],
   "source": [
    "!mkdir /content/drive/MyDrive/yolo_ws"
   ]
  },
  {
   "cell_type": "code",
   "execution_count": 10,
   "metadata": {
    "colab": {
     "base_uri": "https://localhost:8080/"
    },
    "id": "SCrGpmj2fVow",
    "outputId": "e9ff3936-8c2d-4e8b-b3e5-9222bf958ae7"
   },
   "outputs": [
    {
     "name": "stdout",
     "output_type": "stream",
     "text": [
      "/content/drive/MyDrive/yolo_ws\n"
     ]
    }
   ],
   "source": [
    "cd /content/drive/MyDrive/yolo_ws"
   ]
  },
  {
   "cell_type": "code",
   "execution_count": 11,
   "metadata": {
    "colab": {
     "base_uri": "https://localhost:8080/"
    },
    "id": "sVCp4EujfSpt",
    "outputId": "625757b9-468f-46e9-b5d2-6e3a5e3c716d"
   },
   "outputs": [
    {
     "name": "stdout",
     "output_type": "stream",
     "text": [
      "Downloading https://github.com/ultralytics/assets/releases/download/v8.2.0/yolov8n.pt to 'yolov8n.pt'...\n"
     ]
    },
    {
     "name": "stderr",
     "output_type": "stream",
     "text": [
      "100%|██████████| 6.23M/6.23M [00:00<00:00, 253MB/s]\n"
     ]
    },
    {
     "name": "stdout",
     "output_type": "stream",
     "text": [
      "Ultralytics YOLOv8.2.22 🚀 Python-3.10.12 torch-2.3.0+cu121 CUDA:0 (NVIDIA L4, 22700MiB)\n",
      "\u001b[34m\u001b[1mengine/trainer: \u001b[0mtask=detect, mode=train, model=yolov8n.pt, data=/content/coronary-artery-stenosis-detection/dataset.yaml, epochs=100, time=None, patience=100, batch=128, imgsz=640, save=True, save_period=-1, cache=False, device=None, workers=8, project=None, name=train, exist_ok=False, pretrained=True, optimizer=auto, verbose=True, seed=0, deterministic=True, single_cls=False, rect=False, cos_lr=False, close_mosaic=10, resume=False, amp=True, fraction=1.0, profile=False, freeze=None, multi_scale=False, overlap_mask=True, mask_ratio=4, dropout=0.0, val=True, split=val, save_json=False, save_hybrid=False, conf=None, iou=0.7, max_det=300, half=False, dnn=False, plots=True, source=None, vid_stride=1, stream_buffer=False, visualize=False, augment=False, agnostic_nms=False, classes=None, retina_masks=False, embed=None, show=False, save_frames=False, save_txt=False, save_conf=False, save_crop=False, show_labels=True, show_conf=True, show_boxes=True, line_width=None, format=torchscript, keras=False, optimize=False, int8=False, dynamic=False, simplify=False, opset=None, workspace=4, nms=False, lr0=0.01, lrf=0.01, momentum=0.937, weight_decay=0.0005, warmup_epochs=3.0, warmup_momentum=0.8, warmup_bias_lr=0.1, box=7.5, cls=0.5, dfl=1.5, pose=12.0, kobj=1.0, label_smoothing=0.0, nbs=64, hsv_h=0.015, hsv_s=0.7, hsv_v=0.4, degrees=0.0, translate=0.1, scale=0.5, shear=0.0, perspective=0.0, flipud=0.0, fliplr=0.5, bgr=0.0, mosaic=1.0, mixup=0.0, copy_paste=0.0, auto_augment=randaugment, erasing=0.4, crop_fraction=1.0, cfg=None, tracker=botsort.yaml, save_dir=runs/detect/train\n",
      "Downloading https://ultralytics.com/assets/Arial.ttf to '/root/.config/Ultralytics/Arial.ttf'...\n"
     ]
    },
    {
     "name": "stderr",
     "output_type": "stream",
     "text": [
      "100%|██████████| 755k/755k [00:00<00:00, 97.5MB/s]\n"
     ]
    },
    {
     "name": "stdout",
     "output_type": "stream",
     "text": [
      "Overriding model.yaml nc=80 with nc=1\n",
      "\n",
      "                   from  n    params  module                                       arguments                     \n",
      "  0                  -1  1       464  ultralytics.nn.modules.conv.Conv             [3, 16, 3, 2]                 \n",
      "  1                  -1  1      4672  ultralytics.nn.modules.conv.Conv             [16, 32, 3, 2]                \n",
      "  2                  -1  1      7360  ultralytics.nn.modules.block.C2f             [32, 32, 1, True]             \n",
      "  3                  -1  1     18560  ultralytics.nn.modules.conv.Conv             [32, 64, 3, 2]                \n",
      "  4                  -1  2     49664  ultralytics.nn.modules.block.C2f             [64, 64, 2, True]             \n",
      "  5                  -1  1     73984  ultralytics.nn.modules.conv.Conv             [64, 128, 3, 2]               \n",
      "  6                  -1  2    197632  ultralytics.nn.modules.block.C2f             [128, 128, 2, True]           \n",
      "  7                  -1  1    295424  ultralytics.nn.modules.conv.Conv             [128, 256, 3, 2]              \n",
      "  8                  -1  1    460288  ultralytics.nn.modules.block.C2f             [256, 256, 1, True]           \n",
      "  9                  -1  1    164608  ultralytics.nn.modules.block.SPPF            [256, 256, 5]                 \n",
      " 10                  -1  1         0  torch.nn.modules.upsampling.Upsample         [None, 2, 'nearest']          \n",
      " 11             [-1, 6]  1         0  ultralytics.nn.modules.conv.Concat           [1]                           \n",
      " 12                  -1  1    148224  ultralytics.nn.modules.block.C2f             [384, 128, 1]                 \n",
      " 13                  -1  1         0  torch.nn.modules.upsampling.Upsample         [None, 2, 'nearest']          \n",
      " 14             [-1, 4]  1         0  ultralytics.nn.modules.conv.Concat           [1]                           \n",
      " 15                  -1  1     37248  ultralytics.nn.modules.block.C2f             [192, 64, 1]                  \n",
      " 16                  -1  1     36992  ultralytics.nn.modules.conv.Conv             [64, 64, 3, 2]                \n",
      " 17            [-1, 12]  1         0  ultralytics.nn.modules.conv.Concat           [1]                           \n",
      " 18                  -1  1    123648  ultralytics.nn.modules.block.C2f             [192, 128, 1]                 \n",
      " 19                  -1  1    147712  ultralytics.nn.modules.conv.Conv             [128, 128, 3, 2]              \n",
      " 20             [-1, 9]  1         0  ultralytics.nn.modules.conv.Concat           [1]                           \n",
      " 21                  -1  1    493056  ultralytics.nn.modules.block.C2f             [384, 256, 1]                 \n",
      " 22        [15, 18, 21]  1    751507  ultralytics.nn.modules.head.Detect           [1, [64, 128, 256]]           \n",
      "Model summary: 225 layers, 3011043 parameters, 3011027 gradients, 8.2 GFLOPs\n",
      "\n",
      "Transferred 319/355 items from pretrained weights\n",
      "\u001b[34m\u001b[1mTensorBoard: \u001b[0mStart with 'tensorboard --logdir runs/detect/train', view at http://localhost:6006/\n",
      "Freezing layer 'model.22.dfl.conv.weight'\n",
      "\u001b[34m\u001b[1mAMP: \u001b[0mrunning Automatic Mixed Precision (AMP) checks with YOLOv8n...\n"
     ]
    },
    {
     "name": "stderr",
     "output_type": "stream",
     "text": [
      "/usr/local/lib/python3.10/dist-packages/torch/nn/modules/conv.py:456: UserWarning: Plan failed with a cudnnException: CUDNN_BACKEND_EXECUTION_PLAN_DESCRIPTOR: cudnnFinalize Descriptor Failed cudnn_status: CUDNN_STATUS_NOT_SUPPORTED (Triggered internally at ../aten/src/ATen/native/cudnn/Conv_v8.cpp:919.)\n",
      "  return F.conv2d(input, weight, bias, self.stride,\n"
     ]
    },
    {
     "name": "stdout",
     "output_type": "stream",
     "text": [
      "\u001b[34m\u001b[1mAMP: \u001b[0mchecks passed ✅\n"
     ]
    },
    {
     "name": "stderr",
     "output_type": "stream",
     "text": [
      "\u001b[34m\u001b[1mtrain: \u001b[0mScanning /content/dataset/labels/train... 7492 images, 0 backgrounds, 0 corrupt: 100%|██████████| 7492/7492 [00:05<00:00, 1396.99it/s]\n"
     ]
    },
    {
     "name": "stdout",
     "output_type": "stream",
     "text": [
      "\u001b[34m\u001b[1mtrain: \u001b[0mNew cache created: /content/dataset/labels/train.cache\n",
      "\u001b[34m\u001b[1malbumentations: \u001b[0mBlur(p=0.01, blur_limit=(3, 7)), MedianBlur(p=0.01, blur_limit=(3, 7)), ToGray(p=0.01), CLAHE(p=0.01, clip_limit=(1, 4.0), tile_grid_size=(8, 8))\n"
     ]
    },
    {
     "name": "stderr",
     "output_type": "stream",
     "text": [
      "/usr/lib/python3.10/multiprocessing/popen_fork.py:66: RuntimeWarning: os.fork() was called. os.fork() is incompatible with multithreaded code, and JAX is multithreaded, so this will likely lead to a deadlock.\n",
      "  self.pid = os.fork()\n",
      "\u001b[34m\u001b[1mval: \u001b[0mScanning /content/dataset/labels/test... 833 images, 0 backgrounds, 0 corrupt: 100%|██████████| 833/833 [00:00<00:00, 1118.74it/s]"
     ]
    },
    {
     "name": "stdout",
     "output_type": "stream",
     "text": [
      "\u001b[34m\u001b[1mval: \u001b[0mNew cache created: /content/dataset/labels/test.cache\n"
     ]
    },
    {
     "name": "stderr",
     "output_type": "stream",
     "text": [
      "\n"
     ]
    },
    {
     "name": "stdout",
     "output_type": "stream",
     "text": [
      "Plotting labels to runs/detect/train/labels.jpg... \n",
      "\u001b[34m\u001b[1moptimizer:\u001b[0m 'optimizer=auto' found, ignoring 'lr0=0.01' and 'momentum=0.937' and determining best 'optimizer', 'lr0' and 'momentum' automatically... \n",
      "\u001b[34m\u001b[1moptimizer:\u001b[0m AdamW(lr=0.002, momentum=0.9) with parameter groups 57 weight(decay=0.0), 64 weight(decay=0.001), 63 bias(decay=0.0)\n",
      "\u001b[34m\u001b[1mTensorBoard: \u001b[0mmodel graph visualization added ✅\n",
      "Image sizes 640 train, 640 val\n",
      "Using 8 dataloader workers\n",
      "Logging results to \u001b[1mruns/detect/train\u001b[0m\n",
      "Starting training for 100 epochs...\n",
      "\n",
      "      Epoch    GPU_mem   box_loss   cls_loss   dfl_loss  Instances       Size\n"
     ]
    },
    {
     "name": "stderr",
     "output_type": "stream",
     "text": [
      "\r\n",
      "  0%|          | 0/59 [00:00<?, ?it/s]/usr/local/lib/python3.10/dist-packages/torch/nn/modules/conv.py:456: UserWarning: Plan failed with a cudnnException: CUDNN_BACKEND_EXECUTION_PLAN_DESCRIPTOR: cudnnFinalize Descriptor Failed cudnn_status: CUDNN_STATUS_NOT_SUPPORTED (Triggered internally at ../aten/src/ATen/native/cudnn/Conv_v8.cpp:919.)\n",
      "  return F.conv2d(input, weight, bias, self.stride,\n",
      "      1/100      18.3G      3.234       6.71      1.975        101        640: 100%|██████████| 59/59 [00:47<00:00,  1.24it/s]\n",
      "                 Class     Images  Instances      Box(P          R      mAP50  mAP50-95): 100%|██████████| 4/4 [00:04<00:00,  1.25s/it]"
     ]
    },
    {
     "name": "stdout",
     "output_type": "stream",
     "text": [
      "                   all        833        833      0.166     0.0228      0.018    0.00575\n"
     ]
    },
    {
     "name": "stderr",
     "output_type": "stream",
     "text": [
      "\n"
     ]
    },
    {
     "name": "stdout",
     "output_type": "stream",
     "text": [
      "\n",
      "      Epoch    GPU_mem   box_loss   cls_loss   dfl_loss  Instances       Size\n"
     ]
    },
    {
     "name": "stderr",
     "output_type": "stream",
     "text": [
      "      2/100      16.9G      2.515       3.41      1.522        101        640: 100%|██████████| 59/59 [00:43<00:00,  1.34it/s]\n",
      "                 Class     Images  Instances      Box(P          R      mAP50  mAP50-95): 100%|██████████| 4/4 [00:04<00:00,  1.07s/it]\n"
     ]
    },
    {
     "name": "stdout",
     "output_type": "stream",
     "text": [
      "                   all        833        833   0.000982      0.119    0.00942    0.00178\n",
      "\n",
      "      Epoch    GPU_mem   box_loss   cls_loss   dfl_loss  Instances       Size\n"
     ]
    },
    {
     "name": "stderr",
     "output_type": "stream",
     "text": [
      "      3/100      16.9G      2.433      2.514      1.521        101        640: 100%|██████████| 59/59 [00:45<00:00,  1.29it/s]\n",
      "                 Class     Images  Instances      Box(P          R      mAP50  mAP50-95): 100%|██████████| 4/4 [00:03<00:00,  1.12it/s]"
     ]
    },
    {
     "name": "stdout",
     "output_type": "stream",
     "text": [
      "                   all        833        833     0.0539     0.0564     0.0114    0.00253\n"
     ]
    },
    {
     "name": "stderr",
     "output_type": "stream",
     "text": [
      "\n"
     ]
    },
    {
     "name": "stdout",
     "output_type": "stream",
     "text": [
      "\n",
      "      Epoch    GPU_mem   box_loss   cls_loss   dfl_loss  Instances       Size\n"
     ]
    },
    {
     "name": "stderr",
     "output_type": "stream",
     "text": [
      "      4/100      16.9G      2.368      2.109      1.487        105        640: 100%|██████████| 59/59 [00:45<00:00,  1.30it/s]\n",
      "                 Class     Images  Instances      Box(P          R      mAP50  mAP50-95): 100%|██████████| 4/4 [00:06<00:00,  1.72s/it]"
     ]
    },
    {
     "name": "stdout",
     "output_type": "stream",
     "text": [
      "                   all        833        833      0.212      0.146     0.0946     0.0253\n"
     ]
    },
    {
     "name": "stderr",
     "output_type": "stream",
     "text": [
      "\n"
     ]
    },
    {
     "name": "stdout",
     "output_type": "stream",
     "text": [
      "\n",
      "      Epoch    GPU_mem   box_loss   cls_loss   dfl_loss  Instances       Size\n"
     ]
    },
    {
     "name": "stderr",
     "output_type": "stream",
     "text": [
      "      5/100      16.9G      2.279      1.833      1.444         83        640: 100%|██████████| 59/59 [00:45<00:00,  1.31it/s]\n",
      "                 Class     Images  Instances      Box(P          R      mAP50  mAP50-95): 100%|██████████| 4/4 [00:03<00:00,  1.11it/s]"
     ]
    },
    {
     "name": "stdout",
     "output_type": "stream",
     "text": [
      "                   all        833        833      0.436      0.268      0.254     0.0793\n"
     ]
    },
    {
     "name": "stderr",
     "output_type": "stream",
     "text": [
      "\n"
     ]
    },
    {
     "name": "stdout",
     "output_type": "stream",
     "text": [
      "\n",
      "      Epoch    GPU_mem   box_loss   cls_loss   dfl_loss  Instances       Size\n"
     ]
    },
    {
     "name": "stderr",
     "output_type": "stream",
     "text": [
      "      6/100      16.9G      2.198      1.674      1.403         89        640: 100%|██████████| 59/59 [00:45<00:00,  1.28it/s]\n",
      "                 Class     Images  Instances      Box(P          R      mAP50  mAP50-95): 100%|██████████| 4/4 [00:10<00:00,  2.56s/it]"
     ]
    },
    {
     "name": "stdout",
     "output_type": "stream",
     "text": [
      "                   all        833        833      0.568      0.445      0.454      0.145\n"
     ]
    },
    {
     "name": "stderr",
     "output_type": "stream",
     "text": [
      "\n"
     ]
    },
    {
     "name": "stdout",
     "output_type": "stream",
     "text": [
      "\n",
      "      Epoch    GPU_mem   box_loss   cls_loss   dfl_loss  Instances       Size\n"
     ]
    },
    {
     "name": "stderr",
     "output_type": "stream",
     "text": [
      "      7/100      16.9G      2.155      1.555      1.379         80        640: 100%|██████████| 59/59 [00:49<00:00,  1.19it/s]\n",
      "                 Class     Images  Instances      Box(P          R      mAP50  mAP50-95): 100%|██████████| 4/4 [00:03<00:00,  1.07it/s]"
     ]
    },
    {
     "name": "stdout",
     "output_type": "stream",
     "text": [
      "                   all        833        833      0.524       0.46      0.428      0.121\n"
     ]
    },
    {
     "name": "stderr",
     "output_type": "stream",
     "text": [
      "\n"
     ]
    },
    {
     "name": "stdout",
     "output_type": "stream",
     "text": [
      "\n",
      "      Epoch    GPU_mem   box_loss   cls_loss   dfl_loss  Instances       Size\n"
     ]
    },
    {
     "name": "stderr",
     "output_type": "stream",
     "text": [
      "      8/100      16.9G      2.106       1.46      1.353         94        640: 100%|██████████| 59/59 [00:48<00:00,  1.22it/s]\n",
      "                 Class     Images  Instances      Box(P          R      mAP50  mAP50-95): 100%|██████████| 4/4 [00:04<00:00,  1.19s/it]"
     ]
    },
    {
     "name": "stdout",
     "output_type": "stream",
     "text": [
      "                   all        833        833      0.677      0.507      0.568      0.198\n"
     ]
    },
    {
     "name": "stderr",
     "output_type": "stream",
     "text": [
      "\n"
     ]
    },
    {
     "name": "stdout",
     "output_type": "stream",
     "text": [
      "\n",
      "      Epoch    GPU_mem   box_loss   cls_loss   dfl_loss  Instances       Size\n"
     ]
    },
    {
     "name": "stderr",
     "output_type": "stream",
     "text": [
      "      9/100      16.9G      2.074       1.38      1.338         89        640: 100%|██████████| 59/59 [00:44<00:00,  1.32it/s]\n",
      "                 Class     Images  Instances      Box(P          R      mAP50  mAP50-95): 100%|██████████| 4/4 [00:03<00:00,  1.08it/s]"
     ]
    },
    {
     "name": "stdout",
     "output_type": "stream",
     "text": [
      "                   all        833        833      0.758      0.679       0.73      0.266\n"
     ]
    },
    {
     "name": "stderr",
     "output_type": "stream",
     "text": [
      "\n"
     ]
    },
    {
     "name": "stdout",
     "output_type": "stream",
     "text": [
      "\n",
      "      Epoch    GPU_mem   box_loss   cls_loss   dfl_loss  Instances       Size\n"
     ]
    },
    {
     "name": "stderr",
     "output_type": "stream",
     "text": [
      "     10/100      16.9G      2.053      1.313      1.323        101        640: 100%|██████████| 59/59 [00:50<00:00,  1.18it/s]\n",
      "                 Class     Images  Instances      Box(P          R      mAP50  mAP50-95): 100%|██████████| 4/4 [00:03<00:00,  1.11it/s]"
     ]
    },
    {
     "name": "stdout",
     "output_type": "stream",
     "text": [
      "                   all        833        833      0.801      0.618      0.721      0.287\n"
     ]
    },
    {
     "name": "stderr",
     "output_type": "stream",
     "text": [
      "\n"
     ]
    },
    {
     "name": "stdout",
     "output_type": "stream",
     "text": [
      "\n",
      "      Epoch    GPU_mem   box_loss   cls_loss   dfl_loss  Instances       Size\n"
     ]
    },
    {
     "name": "stderr",
     "output_type": "stream",
     "text": [
      "     11/100      16.9G      2.036      1.297      1.317         97        640: 100%|██████████| 59/59 [00:49<00:00,  1.18it/s]\n",
      "                 Class     Images  Instances      Box(P          R      mAP50  mAP50-95): 100%|██████████| 4/4 [00:03<00:00,  1.11it/s]"
     ]
    },
    {
     "name": "stdout",
     "output_type": "stream",
     "text": [
      "                   all        833        833      0.735      0.589      0.639      0.251\n"
     ]
    },
    {
     "name": "stderr",
     "output_type": "stream",
     "text": [
      "\n"
     ]
    },
    {
     "name": "stdout",
     "output_type": "stream",
     "text": [
      "\n",
      "      Epoch    GPU_mem   box_loss   cls_loss   dfl_loss  Instances       Size\n"
     ]
    },
    {
     "name": "stderr",
     "output_type": "stream",
     "text": [
      "     12/100      16.9G      2.013      1.222      1.316         80        640: 100%|██████████| 59/59 [00:53<00:00,  1.10it/s]\n",
      "                 Class     Images  Instances      Box(P          R      mAP50  mAP50-95): 100%|██████████| 4/4 [00:10<00:00,  2.61s/it]"
     ]
    },
    {
     "name": "stdout",
     "output_type": "stream",
     "text": [
      "                   all        833        833       0.82      0.678      0.753      0.298\n"
     ]
    },
    {
     "name": "stderr",
     "output_type": "stream",
     "text": [
      "\n"
     ]
    },
    {
     "name": "stdout",
     "output_type": "stream",
     "text": [
      "\n",
      "      Epoch    GPU_mem   box_loss   cls_loss   dfl_loss  Instances       Size\n"
     ]
    },
    {
     "name": "stderr",
     "output_type": "stream",
     "text": [
      "     13/100      16.9G      1.991       1.19      1.296         89        640: 100%|██████████| 59/59 [00:45<00:00,  1.28it/s]\n",
      "                 Class     Images  Instances      Box(P          R      mAP50  mAP50-95): 100%|██████████| 4/4 [00:10<00:00,  2.61s/it]"
     ]
    },
    {
     "name": "stdout",
     "output_type": "stream",
     "text": [
      "                   all        833        833      0.833       0.73       0.82      0.341\n"
     ]
    },
    {
     "name": "stderr",
     "output_type": "stream",
     "text": [
      "\n"
     ]
    },
    {
     "name": "stdout",
     "output_type": "stream",
     "text": [
      "\n",
      "      Epoch    GPU_mem   box_loss   cls_loss   dfl_loss  Instances       Size\n"
     ]
    },
    {
     "name": "stderr",
     "output_type": "stream",
     "text": [
      "     14/100      16.9G      1.964      1.168      1.277         84        640: 100%|██████████| 59/59 [00:46<00:00,  1.27it/s]\n",
      "                 Class     Images  Instances      Box(P          R      mAP50  mAP50-95): 100%|██████████| 4/4 [00:10<00:00,  2.54s/it]"
     ]
    },
    {
     "name": "stdout",
     "output_type": "stream",
     "text": [
      "                   all        833        833      0.867      0.745      0.827      0.338\n"
     ]
    },
    {
     "name": "stderr",
     "output_type": "stream",
     "text": [
      "\n"
     ]
    },
    {
     "name": "stdout",
     "output_type": "stream",
     "text": [
      "\n",
      "      Epoch    GPU_mem   box_loss   cls_loss   dfl_loss  Instances       Size\n"
     ]
    },
    {
     "name": "stderr",
     "output_type": "stream",
     "text": [
      "     15/100      16.9G      1.951      1.137      1.279         92        640: 100%|██████████| 59/59 [00:45<00:00,  1.29it/s]\n",
      "                 Class     Images  Instances      Box(P          R      mAP50  mAP50-95): 100%|██████████| 4/4 [00:11<00:00,  2.98s/it]"
     ]
    },
    {
     "name": "stdout",
     "output_type": "stream",
     "text": [
      "                   all        833        833      0.874      0.858      0.897      0.368\n"
     ]
    },
    {
     "name": "stderr",
     "output_type": "stream",
     "text": [
      "\n"
     ]
    },
    {
     "name": "stdout",
     "output_type": "stream",
     "text": [
      "\n",
      "      Epoch    GPU_mem   box_loss   cls_loss   dfl_loss  Instances       Size\n"
     ]
    },
    {
     "name": "stderr",
     "output_type": "stream",
     "text": [
      "     16/100      16.9G      1.915       1.11      1.259        105        640: 100%|██████████| 59/59 [00:54<00:00,  1.09it/s]\n",
      "                 Class     Images  Instances      Box(P          R      mAP50  mAP50-95): 100%|██████████| 4/4 [00:03<00:00,  1.11it/s]"
     ]
    },
    {
     "name": "stdout",
     "output_type": "stream",
     "text": [
      "                   all        833        833      0.868      0.808      0.881      0.352\n"
     ]
    },
    {
     "name": "stderr",
     "output_type": "stream",
     "text": [
      "\n"
     ]
    },
    {
     "name": "stdout",
     "output_type": "stream",
     "text": [
      "\n",
      "      Epoch    GPU_mem   box_loss   cls_loss   dfl_loss  Instances       Size\n"
     ]
    },
    {
     "name": "stderr",
     "output_type": "stream",
     "text": [
      "     17/100      16.9G      1.922      1.091      1.257         94        640: 100%|██████████| 59/59 [00:45<00:00,  1.29it/s]\n",
      "                 Class     Images  Instances      Box(P          R      mAP50  mAP50-95): 100%|██████████| 4/4 [00:03<00:00,  1.10it/s]"
     ]
    },
    {
     "name": "stdout",
     "output_type": "stream",
     "text": [
      "                   all        833        833      0.869      0.768      0.863      0.335\n"
     ]
    },
    {
     "name": "stderr",
     "output_type": "stream",
     "text": [
      "\n"
     ]
    },
    {
     "name": "stdout",
     "output_type": "stream",
     "text": [
      "\n",
      "      Epoch    GPU_mem   box_loss   cls_loss   dfl_loss  Instances       Size\n"
     ]
    },
    {
     "name": "stderr",
     "output_type": "stream",
     "text": [
      "     18/100      16.9G      1.901      1.065      1.252        112        640: 100%|██████████| 59/59 [00:46<00:00,  1.27it/s]\n",
      "                 Class     Images  Instances      Box(P          R      mAP50  mAP50-95): 100%|██████████| 4/4 [00:03<00:00,  1.10it/s]"
     ]
    },
    {
     "name": "stdout",
     "output_type": "stream",
     "text": [
      "                   all        833        833      0.862      0.745       0.84      0.341\n"
     ]
    },
    {
     "name": "stderr",
     "output_type": "stream",
     "text": [
      "\n"
     ]
    },
    {
     "name": "stdout",
     "output_type": "stream",
     "text": [
      "\n",
      "      Epoch    GPU_mem   box_loss   cls_loss   dfl_loss  Instances       Size\n"
     ]
    },
    {
     "name": "stderr",
     "output_type": "stream",
     "text": [
      "     19/100      16.9G        1.9      1.048      1.257        101        640: 100%|██████████| 59/59 [00:46<00:00,  1.28it/s]\n",
      "                 Class     Images  Instances      Box(P          R      mAP50  mAP50-95): 100%|██████████| 4/4 [00:03<00:00,  1.10it/s]"
     ]
    },
    {
     "name": "stdout",
     "output_type": "stream",
     "text": [
      "                   all        833        833      0.805      0.647      0.719      0.273\n"
     ]
    },
    {
     "name": "stderr",
     "output_type": "stream",
     "text": [
      "\n"
     ]
    },
    {
     "name": "stdout",
     "output_type": "stream",
     "text": [
      "\n",
      "      Epoch    GPU_mem   box_loss   cls_loss   dfl_loss  Instances       Size\n"
     ]
    },
    {
     "name": "stderr",
     "output_type": "stream",
     "text": [
      "     20/100      16.9G      1.882      1.027      1.243         98        640: 100%|██████████| 59/59 [00:46<00:00,  1.28it/s]\n",
      "                 Class     Images  Instances      Box(P          R      mAP50  mAP50-95): 100%|██████████| 4/4 [00:07<00:00,  1.90s/it]"
     ]
    },
    {
     "name": "stdout",
     "output_type": "stream",
     "text": [
      "                   all        833        833      0.896      0.804      0.901      0.389\n"
     ]
    },
    {
     "name": "stderr",
     "output_type": "stream",
     "text": [
      "\n"
     ]
    },
    {
     "name": "stdout",
     "output_type": "stream",
     "text": [
      "\n",
      "      Epoch    GPU_mem   box_loss   cls_loss   dfl_loss  Instances       Size\n"
     ]
    },
    {
     "name": "stderr",
     "output_type": "stream",
     "text": [
      "     21/100      16.9G      1.876      1.016      1.242         83        640: 100%|██████████| 59/59 [00:45<00:00,  1.29it/s]\n",
      "                 Class     Images  Instances      Box(P          R      mAP50  mAP50-95): 100%|██████████| 4/4 [00:09<00:00,  2.30s/it]"
     ]
    },
    {
     "name": "stdout",
     "output_type": "stream",
     "text": [
      "                   all        833        833      0.829      0.676      0.774      0.285\n"
     ]
    },
    {
     "name": "stderr",
     "output_type": "stream",
     "text": [
      "\n"
     ]
    },
    {
     "name": "stdout",
     "output_type": "stream",
     "text": [
      "\n",
      "      Epoch    GPU_mem   box_loss   cls_loss   dfl_loss  Instances       Size\n"
     ]
    },
    {
     "name": "stderr",
     "output_type": "stream",
     "text": [
      "     22/100      16.9G      1.869      1.004      1.234         80        640: 100%|██████████| 59/59 [00:46<00:00,  1.28it/s]\n",
      "                 Class     Images  Instances      Box(P          R      mAP50  mAP50-95): 100%|██████████| 4/4 [00:11<00:00,  2.97s/it]"
     ]
    },
    {
     "name": "stdout",
     "output_type": "stream",
     "text": [
      "                   all        833        833      0.905      0.793      0.884      0.384\n"
     ]
    },
    {
     "name": "stderr",
     "output_type": "stream",
     "text": [
      "\n"
     ]
    },
    {
     "name": "stdout",
     "output_type": "stream",
     "text": [
      "\n",
      "      Epoch    GPU_mem   box_loss   cls_loss   dfl_loss  Instances       Size\n"
     ]
    },
    {
     "name": "stderr",
     "output_type": "stream",
     "text": [
      "     23/100      16.9G      1.839      1.005       1.22        107        640: 100%|██████████| 59/59 [00:45<00:00,  1.28it/s]\n",
      "                 Class     Images  Instances      Box(P          R      mAP50  mAP50-95): 100%|██████████| 4/4 [00:04<00:00,  1.23s/it]"
     ]
    },
    {
     "name": "stdout",
     "output_type": "stream",
     "text": [
      "                   all        833        833      0.825       0.61      0.687      0.272\n"
     ]
    },
    {
     "name": "stderr",
     "output_type": "stream",
     "text": [
      "\n"
     ]
    },
    {
     "name": "stdout",
     "output_type": "stream",
     "text": [
      "\n",
      "      Epoch    GPU_mem   box_loss   cls_loss   dfl_loss  Instances       Size\n"
     ]
    },
    {
     "name": "stderr",
     "output_type": "stream",
     "text": [
      "     24/100      16.9G      1.848      0.988      1.221         88        640: 100%|██████████| 59/59 [00:46<00:00,  1.26it/s]\n",
      "                 Class     Images  Instances      Box(P          R      mAP50  mAP50-95): 100%|██████████| 4/4 [00:11<00:00,  2.97s/it]"
     ]
    },
    {
     "name": "stdout",
     "output_type": "stream",
     "text": [
      "                   all        833        833      0.915      0.846      0.933      0.405\n"
     ]
    },
    {
     "name": "stderr",
     "output_type": "stream",
     "text": [
      "\n"
     ]
    },
    {
     "name": "stdout",
     "output_type": "stream",
     "text": [
      "\n",
      "      Epoch    GPU_mem   box_loss   cls_loss   dfl_loss  Instances       Size\n"
     ]
    },
    {
     "name": "stderr",
     "output_type": "stream",
     "text": [
      "     25/100      16.9G      1.838     0.9687      1.223         85        640: 100%|██████████| 59/59 [00:47<00:00,  1.24it/s]\n",
      "                 Class     Images  Instances      Box(P          R      mAP50  mAP50-95): 100%|██████████| 4/4 [00:03<00:00,  1.11it/s]"
     ]
    },
    {
     "name": "stdout",
     "output_type": "stream",
     "text": [
      "                   all        833        833      0.891      0.835      0.907      0.392\n"
     ]
    },
    {
     "name": "stderr",
     "output_type": "stream",
     "text": [
      "\n"
     ]
    },
    {
     "name": "stdout",
     "output_type": "stream",
     "text": [
      "\n",
      "      Epoch    GPU_mem   box_loss   cls_loss   dfl_loss  Instances       Size\n"
     ]
    },
    {
     "name": "stderr",
     "output_type": "stream",
     "text": [
      "     26/100      16.9G      1.824     0.9573      1.208        104        640: 100%|██████████| 59/59 [00:47<00:00,  1.24it/s]\n",
      "                 Class     Images  Instances      Box(P          R      mAP50  mAP50-95): 100%|██████████| 4/4 [00:07<00:00,  1.92s/it]"
     ]
    },
    {
     "name": "stdout",
     "output_type": "stream",
     "text": [
      "                   all        833        833      0.884      0.797      0.872      0.334\n"
     ]
    },
    {
     "name": "stderr",
     "output_type": "stream",
     "text": [
      "\n"
     ]
    },
    {
     "name": "stdout",
     "output_type": "stream",
     "text": [
      "\n",
      "      Epoch    GPU_mem   box_loss   cls_loss   dfl_loss  Instances       Size\n"
     ]
    },
    {
     "name": "stderr",
     "output_type": "stream",
     "text": [
      "     27/100      16.9G      1.828     0.9454       1.21         85        640: 100%|██████████| 59/59 [00:46<00:00,  1.28it/s]\n",
      "                 Class     Images  Instances      Box(P          R      mAP50  mAP50-95): 100%|██████████| 4/4 [00:03<00:00,  1.12it/s]"
     ]
    },
    {
     "name": "stdout",
     "output_type": "stream",
     "text": [
      "                   all        833        833      0.912      0.855      0.912      0.382\n"
     ]
    },
    {
     "name": "stderr",
     "output_type": "stream",
     "text": [
      "\n"
     ]
    },
    {
     "name": "stdout",
     "output_type": "stream",
     "text": [
      "\n",
      "      Epoch    GPU_mem   box_loss   cls_loss   dfl_loss  Instances       Size\n"
     ]
    },
    {
     "name": "stderr",
     "output_type": "stream",
     "text": [
      "     28/100      16.9G      1.812     0.9377      1.204         95        640: 100%|██████████| 59/59 [00:46<00:00,  1.28it/s]\n",
      "                 Class     Images  Instances      Box(P          R      mAP50  mAP50-95): 100%|██████████| 4/4 [00:06<00:00,  1.68s/it]"
     ]
    },
    {
     "name": "stdout",
     "output_type": "stream",
     "text": [
      "                   all        833        833      0.939      0.905      0.957      0.427\n"
     ]
    },
    {
     "name": "stderr",
     "output_type": "stream",
     "text": [
      "\n"
     ]
    },
    {
     "name": "stdout",
     "output_type": "stream",
     "text": [
      "\n",
      "      Epoch    GPU_mem   box_loss   cls_loss   dfl_loss  Instances       Size\n"
     ]
    },
    {
     "name": "stderr",
     "output_type": "stream",
     "text": [
      "     29/100      16.9G      1.801     0.9215        1.2         94        640: 100%|██████████| 59/59 [00:44<00:00,  1.33it/s]\n",
      "                 Class     Images  Instances      Box(P          R      mAP50  mAP50-95): 100%|██████████| 4/4 [00:06<00:00,  1.72s/it]"
     ]
    },
    {
     "name": "stdout",
     "output_type": "stream",
     "text": [
      "                   all        833        833      0.929      0.917      0.953      0.411\n"
     ]
    },
    {
     "name": "stderr",
     "output_type": "stream",
     "text": [
      "\n"
     ]
    },
    {
     "name": "stdout",
     "output_type": "stream",
     "text": [
      "\n",
      "      Epoch    GPU_mem   box_loss   cls_loss   dfl_loss  Instances       Size\n"
     ]
    },
    {
     "name": "stderr",
     "output_type": "stream",
     "text": [
      "     30/100      16.9G      1.791     0.9099      1.195         76        640: 100%|██████████| 59/59 [00:48<00:00,  1.23it/s]\n",
      "                 Class     Images  Instances      Box(P          R      mAP50  mAP50-95): 100%|██████████| 4/4 [00:03<00:00,  1.13it/s]"
     ]
    },
    {
     "name": "stdout",
     "output_type": "stream",
     "text": [
      "                   all        833        833       0.92      0.869      0.929      0.411\n"
     ]
    },
    {
     "name": "stderr",
     "output_type": "stream",
     "text": [
      "\n"
     ]
    },
    {
     "name": "stdout",
     "output_type": "stream",
     "text": [
      "\n",
      "      Epoch    GPU_mem   box_loss   cls_loss   dfl_loss  Instances       Size\n"
     ]
    },
    {
     "name": "stderr",
     "output_type": "stream",
     "text": [
      "     31/100      16.9G      1.798     0.9141      1.203         94        640: 100%|██████████| 59/59 [00:50<00:00,  1.18it/s]\n",
      "                 Class     Images  Instances      Box(P          R      mAP50  mAP50-95): 100%|██████████| 4/4 [00:08<00:00,  2.20s/it]"
     ]
    },
    {
     "name": "stdout",
     "output_type": "stream",
     "text": [
      "                   all        833        833      0.914      0.867      0.927      0.408\n"
     ]
    },
    {
     "name": "stderr",
     "output_type": "stream",
     "text": [
      "\n"
     ]
    },
    {
     "name": "stdout",
     "output_type": "stream",
     "text": [
      "\n",
      "      Epoch    GPU_mem   box_loss   cls_loss   dfl_loss  Instances       Size\n"
     ]
    },
    {
     "name": "stderr",
     "output_type": "stream",
     "text": [
      "     32/100      16.9G       1.78     0.8961      1.196         95        640: 100%|██████████| 59/59 [00:46<00:00,  1.28it/s]\n",
      "                 Class     Images  Instances      Box(P          R      mAP50  mAP50-95): 100%|██████████| 4/4 [00:07<00:00,  1.95s/it]"
     ]
    },
    {
     "name": "stdout",
     "output_type": "stream",
     "text": [
      "                   all        833        833      0.938      0.852      0.915      0.415\n"
     ]
    },
    {
     "name": "stderr",
     "output_type": "stream",
     "text": [
      "\n"
     ]
    },
    {
     "name": "stdout",
     "output_type": "stream",
     "text": [
      "\n",
      "      Epoch    GPU_mem   box_loss   cls_loss   dfl_loss  Instances       Size\n"
     ]
    },
    {
     "name": "stderr",
     "output_type": "stream",
     "text": [
      "     33/100      16.9G      1.765     0.8918      1.184         88        640: 100%|██████████| 59/59 [00:46<00:00,  1.27it/s]\n",
      "                 Class     Images  Instances      Box(P          R      mAP50  mAP50-95): 100%|██████████| 4/4 [00:11<00:00,  2.94s/it]"
     ]
    },
    {
     "name": "stdout",
     "output_type": "stream",
     "text": [
      "                   all        833        833      0.942      0.887      0.958      0.443\n"
     ]
    },
    {
     "name": "stderr",
     "output_type": "stream",
     "text": [
      "\n"
     ]
    },
    {
     "name": "stdout",
     "output_type": "stream",
     "text": [
      "\n",
      "      Epoch    GPU_mem   box_loss   cls_loss   dfl_loss  Instances       Size\n"
     ]
    },
    {
     "name": "stderr",
     "output_type": "stream",
     "text": [
      "     34/100      16.9G      1.757     0.8752       1.18        105        640: 100%|██████████| 59/59 [00:45<00:00,  1.29it/s]\n",
      "                 Class     Images  Instances      Box(P          R      mAP50  mAP50-95): 100%|██████████| 4/4 [00:04<00:00,  1.18s/it]"
     ]
    },
    {
     "name": "stdout",
     "output_type": "stream",
     "text": [
      "                   all        833        833      0.936      0.911      0.947      0.408\n"
     ]
    },
    {
     "name": "stderr",
     "output_type": "stream",
     "text": [
      "\n"
     ]
    },
    {
     "name": "stdout",
     "output_type": "stream",
     "text": [
      "\n",
      "      Epoch    GPU_mem   box_loss   cls_loss   dfl_loss  Instances       Size\n"
     ]
    },
    {
     "name": "stderr",
     "output_type": "stream",
     "text": [
      "     35/100      16.9G      1.762      0.875      1.187         82        640: 100%|██████████| 59/59 [00:46<00:00,  1.26it/s]\n",
      "                 Class     Images  Instances      Box(P          R      mAP50  mAP50-95): 100%|██████████| 4/4 [00:11<00:00,  2.98s/it]"
     ]
    },
    {
     "name": "stdout",
     "output_type": "stream",
     "text": [
      "                   all        833        833       0.92      0.896      0.942      0.432\n"
     ]
    },
    {
     "name": "stderr",
     "output_type": "stream",
     "text": [
      "\n"
     ]
    },
    {
     "name": "stdout",
     "output_type": "stream",
     "text": [
      "\n",
      "      Epoch    GPU_mem   box_loss   cls_loss   dfl_loss  Instances       Size\n"
     ]
    },
    {
     "name": "stderr",
     "output_type": "stream",
     "text": [
      "     36/100      16.9G      1.749     0.8723      1.182         90        640: 100%|██████████| 59/59 [00:46<00:00,  1.28it/s]\n",
      "                 Class     Images  Instances      Box(P          R      mAP50  mAP50-95): 100%|██████████| 4/4 [00:09<00:00,  2.35s/it]"
     ]
    },
    {
     "name": "stdout",
     "output_type": "stream",
     "text": [
      "                   all        833        833      0.942      0.863      0.937      0.429\n"
     ]
    },
    {
     "name": "stderr",
     "output_type": "stream",
     "text": [
      "\n"
     ]
    },
    {
     "name": "stdout",
     "output_type": "stream",
     "text": [
      "\n",
      "      Epoch    GPU_mem   box_loss   cls_loss   dfl_loss  Instances       Size\n"
     ]
    },
    {
     "name": "stderr",
     "output_type": "stream",
     "text": [
      "     37/100      16.9G      1.728      0.859      1.174        110        640: 100%|██████████| 59/59 [00:45<00:00,  1.29it/s]\n",
      "                 Class     Images  Instances      Box(P          R      mAP50  mAP50-95): 100%|██████████| 4/4 [00:07<00:00,  1.92s/it]"
     ]
    },
    {
     "name": "stdout",
     "output_type": "stream",
     "text": [
      "                   all        833        833       0.95      0.911      0.959      0.438\n"
     ]
    },
    {
     "name": "stderr",
     "output_type": "stream",
     "text": [
      "\n"
     ]
    },
    {
     "name": "stdout",
     "output_type": "stream",
     "text": [
      "\n",
      "      Epoch    GPU_mem   box_loss   cls_loss   dfl_loss  Instances       Size\n"
     ]
    },
    {
     "name": "stderr",
     "output_type": "stream",
     "text": [
      "     38/100      16.9G      1.732     0.8494      1.162        106        640: 100%|██████████| 59/59 [00:46<00:00,  1.27it/s]\n",
      "                 Class     Images  Instances      Box(P          R      mAP50  mAP50-95): 100%|██████████| 4/4 [00:11<00:00,  2.96s/it]"
     ]
    },
    {
     "name": "stdout",
     "output_type": "stream",
     "text": [
      "                   all        833        833      0.928       0.88      0.931      0.403\n"
     ]
    },
    {
     "name": "stderr",
     "output_type": "stream",
     "text": [
      "\n"
     ]
    },
    {
     "name": "stdout",
     "output_type": "stream",
     "text": [
      "\n",
      "      Epoch    GPU_mem   box_loss   cls_loss   dfl_loss  Instances       Size\n"
     ]
    },
    {
     "name": "stderr",
     "output_type": "stream",
     "text": [
      "     39/100      16.9G      1.722     0.8286      1.165         90        640: 100%|██████████| 59/59 [00:45<00:00,  1.29it/s]\n",
      "                 Class     Images  Instances      Box(P          R      mAP50  mAP50-95): 100%|██████████| 4/4 [00:10<00:00,  2.61s/it]"
     ]
    },
    {
     "name": "stdout",
     "output_type": "stream",
     "text": [
      "                   all        833        833      0.944       0.92      0.959      0.426\n"
     ]
    },
    {
     "name": "stderr",
     "output_type": "stream",
     "text": [
      "\n"
     ]
    },
    {
     "name": "stdout",
     "output_type": "stream",
     "text": [
      "\n",
      "      Epoch    GPU_mem   box_loss   cls_loss   dfl_loss  Instances       Size\n"
     ]
    },
    {
     "name": "stderr",
     "output_type": "stream",
     "text": [
      "     40/100      16.9G      1.726     0.8434      1.168        105        640: 100%|██████████| 59/59 [00:45<00:00,  1.29it/s]\n",
      "                 Class     Images  Instances      Box(P          R      mAP50  mAP50-95): 100%|██████████| 4/4 [00:07<00:00,  1.94s/it]"
     ]
    },
    {
     "name": "stdout",
     "output_type": "stream",
     "text": [
      "                   all        833        833      0.903      0.863      0.902      0.359\n"
     ]
    },
    {
     "name": "stderr",
     "output_type": "stream",
     "text": [
      "\n"
     ]
    },
    {
     "name": "stdout",
     "output_type": "stream",
     "text": [
      "\n",
      "      Epoch    GPU_mem   box_loss   cls_loss   dfl_loss  Instances       Size\n"
     ]
    },
    {
     "name": "stderr",
     "output_type": "stream",
     "text": [
      "     41/100      16.9G      1.737     0.8426      1.175         95        640: 100%|██████████| 59/59 [00:46<00:00,  1.28it/s]\n",
      "                 Class     Images  Instances      Box(P          R      mAP50  mAP50-95): 100%|██████████| 4/4 [00:03<00:00,  1.12it/s]"
     ]
    },
    {
     "name": "stdout",
     "output_type": "stream",
     "text": [
      "                   all        833        833      0.949      0.919      0.964      0.455\n"
     ]
    },
    {
     "name": "stderr",
     "output_type": "stream",
     "text": [
      "\n"
     ]
    },
    {
     "name": "stdout",
     "output_type": "stream",
     "text": [
      "\n",
      "      Epoch    GPU_mem   box_loss   cls_loss   dfl_loss  Instances       Size\n"
     ]
    },
    {
     "name": "stderr",
     "output_type": "stream",
     "text": [
      "     42/100      16.9G       1.72     0.8258      1.165         93        640: 100%|██████████| 59/59 [00:47<00:00,  1.24it/s]\n",
      "                 Class     Images  Instances      Box(P          R      mAP50  mAP50-95): 100%|██████████| 4/4 [00:10<00:00,  2.61s/it]"
     ]
    },
    {
     "name": "stdout",
     "output_type": "stream",
     "text": [
      "                   all        833        833      0.959      0.929       0.97      0.456\n"
     ]
    },
    {
     "name": "stderr",
     "output_type": "stream",
     "text": [
      "\n"
     ]
    },
    {
     "name": "stdout",
     "output_type": "stream",
     "text": [
      "\n",
      "      Epoch    GPU_mem   box_loss   cls_loss   dfl_loss  Instances       Size\n"
     ]
    },
    {
     "name": "stderr",
     "output_type": "stream",
     "text": [
      "     43/100      16.9G      1.712     0.8206      1.163         98        640: 100%|██████████| 59/59 [00:46<00:00,  1.27it/s]\n",
      "                 Class     Images  Instances      Box(P          R      mAP50  mAP50-95): 100%|██████████| 4/4 [00:11<00:00,  2.97s/it]"
     ]
    },
    {
     "name": "stdout",
     "output_type": "stream",
     "text": [
      "                   all        833        833      0.943      0.921      0.962      0.447\n"
     ]
    },
    {
     "name": "stderr",
     "output_type": "stream",
     "text": [
      "\n"
     ]
    },
    {
     "name": "stdout",
     "output_type": "stream",
     "text": [
      "\n",
      "      Epoch    GPU_mem   box_loss   cls_loss   dfl_loss  Instances       Size\n"
     ]
    },
    {
     "name": "stderr",
     "output_type": "stream",
     "text": [
      "     44/100      16.9G      1.683     0.7981      1.145         85        640: 100%|██████████| 59/59 [00:48<00:00,  1.21it/s]\n",
      "                 Class     Images  Instances      Box(P          R      mAP50  mAP50-95): 100%|██████████| 4/4 [00:10<00:00,  2.68s/it]"
     ]
    },
    {
     "name": "stdout",
     "output_type": "stream",
     "text": [
      "                   all        833        833       0.95      0.927      0.968      0.432\n"
     ]
    },
    {
     "name": "stderr",
     "output_type": "stream",
     "text": [
      "\n"
     ]
    },
    {
     "name": "stdout",
     "output_type": "stream",
     "text": [
      "\n",
      "      Epoch    GPU_mem   box_loss   cls_loss   dfl_loss  Instances       Size\n"
     ]
    },
    {
     "name": "stderr",
     "output_type": "stream",
     "text": [
      "     45/100      16.9G       1.71     0.8158      1.167         90        640: 100%|██████████| 59/59 [00:54<00:00,  1.08it/s]\n",
      "                 Class     Images  Instances      Box(P          R      mAP50  mAP50-95): 100%|██████████| 4/4 [00:03<00:00,  1.10it/s]"
     ]
    },
    {
     "name": "stdout",
     "output_type": "stream",
     "text": [
      "                   all        833        833      0.944      0.918      0.958      0.444\n"
     ]
    },
    {
     "name": "stderr",
     "output_type": "stream",
     "text": [
      "\n"
     ]
    },
    {
     "name": "stdout",
     "output_type": "stream",
     "text": [
      "\n",
      "      Epoch    GPU_mem   box_loss   cls_loss   dfl_loss  Instances       Size\n"
     ]
    },
    {
     "name": "stderr",
     "output_type": "stream",
     "text": [
      "     46/100      16.9G      1.677     0.7989       1.15         97        640: 100%|██████████| 59/59 [00:49<00:00,  1.20it/s]\n",
      "                 Class     Images  Instances      Box(P          R      mAP50  mAP50-95): 100%|██████████| 4/4 [00:07<00:00,  1.76s/it]"
     ]
    },
    {
     "name": "stdout",
     "output_type": "stream",
     "text": [
      "                   all        833        833      0.959      0.937      0.973      0.456\n"
     ]
    },
    {
     "name": "stderr",
     "output_type": "stream",
     "text": [
      "\n"
     ]
    },
    {
     "name": "stdout",
     "output_type": "stream",
     "text": [
      "\n",
      "      Epoch    GPU_mem   box_loss   cls_loss   dfl_loss  Instances       Size\n"
     ]
    },
    {
     "name": "stderr",
     "output_type": "stream",
     "text": [
      "     47/100      16.9G      1.678     0.7941      1.148         80        640: 100%|██████████| 59/59 [00:46<00:00,  1.27it/s]\n",
      "                 Class     Images  Instances      Box(P          R      mAP50  mAP50-95): 100%|██████████| 4/4 [00:03<00:00,  1.12it/s]"
     ]
    },
    {
     "name": "stdout",
     "output_type": "stream",
     "text": [
      "                   all        833        833      0.954      0.941      0.972      0.459\n"
     ]
    },
    {
     "name": "stderr",
     "output_type": "stream",
     "text": [
      "\n"
     ]
    },
    {
     "name": "stdout",
     "output_type": "stream",
     "text": [
      "\n",
      "      Epoch    GPU_mem   box_loss   cls_loss   dfl_loss  Instances       Size\n"
     ]
    },
    {
     "name": "stderr",
     "output_type": "stream",
     "text": [
      "     48/100      16.9G      1.679      0.793      1.148         97        640: 100%|██████████| 59/59 [00:46<00:00,  1.28it/s]\n",
      "                 Class     Images  Instances      Box(P          R      mAP50  mAP50-95): 100%|██████████| 4/4 [00:03<00:00,  1.13it/s]"
     ]
    },
    {
     "name": "stdout",
     "output_type": "stream",
     "text": [
      "                   all        833        833      0.938      0.931      0.966      0.459\n"
     ]
    },
    {
     "name": "stderr",
     "output_type": "stream",
     "text": [
      "\n"
     ]
    },
    {
     "name": "stdout",
     "output_type": "stream",
     "text": [
      "\n",
      "      Epoch    GPU_mem   box_loss   cls_loss   dfl_loss  Instances       Size\n"
     ]
    },
    {
     "name": "stderr",
     "output_type": "stream",
     "text": [
      "     49/100      16.9G      1.678     0.7837      1.151         91        640: 100%|██████████| 59/59 [00:48<00:00,  1.20it/s]\n",
      "                 Class     Images  Instances      Box(P          R      mAP50  mAP50-95): 100%|██████████| 4/4 [00:07<00:00,  1.87s/it]"
     ]
    },
    {
     "name": "stdout",
     "output_type": "stream",
     "text": [
      "                   all        833        833      0.961      0.946      0.976      0.472\n"
     ]
    },
    {
     "name": "stderr",
     "output_type": "stream",
     "text": [
      "\n"
     ]
    },
    {
     "name": "stdout",
     "output_type": "stream",
     "text": [
      "\n",
      "      Epoch    GPU_mem   box_loss   cls_loss   dfl_loss  Instances       Size\n"
     ]
    },
    {
     "name": "stderr",
     "output_type": "stream",
     "text": [
      "     50/100      16.9G      1.655     0.7789      1.143         78        640: 100%|██████████| 59/59 [00:46<00:00,  1.28it/s]\n",
      "                 Class     Images  Instances      Box(P          R      mAP50  mAP50-95): 100%|██████████| 4/4 [00:03<00:00,  1.11it/s]"
     ]
    },
    {
     "name": "stdout",
     "output_type": "stream",
     "text": [
      "                   all        833        833      0.969      0.936      0.973       0.46\n"
     ]
    },
    {
     "name": "stderr",
     "output_type": "stream",
     "text": [
      "\n"
     ]
    },
    {
     "name": "stdout",
     "output_type": "stream",
     "text": [
      "\n",
      "      Epoch    GPU_mem   box_loss   cls_loss   dfl_loss  Instances       Size\n"
     ]
    },
    {
     "name": "stderr",
     "output_type": "stream",
     "text": [
      "     51/100      16.9G      1.672     0.7801       1.15         97        640: 100%|██████████| 59/59 [00:46<00:00,  1.28it/s]\n",
      "                 Class     Images  Instances      Box(P          R      mAP50  mAP50-95): 100%|██████████| 4/4 [00:03<00:00,  1.12it/s]"
     ]
    },
    {
     "name": "stdout",
     "output_type": "stream",
     "text": [
      "                   all        833        833      0.972      0.953      0.979      0.459\n"
     ]
    },
    {
     "name": "stderr",
     "output_type": "stream",
     "text": [
      "\n"
     ]
    },
    {
     "name": "stdout",
     "output_type": "stream",
     "text": [
      "\n",
      "      Epoch    GPU_mem   box_loss   cls_loss   dfl_loss  Instances       Size\n"
     ]
    },
    {
     "name": "stderr",
     "output_type": "stream",
     "text": [
      "     52/100      16.9G      1.646      0.761      1.136        113        640: 100%|██████████| 59/59 [00:46<00:00,  1.28it/s]\n",
      "                 Class     Images  Instances      Box(P          R      mAP50  mAP50-95): 100%|██████████| 4/4 [00:03<00:00,  1.13it/s]"
     ]
    },
    {
     "name": "stdout",
     "output_type": "stream",
     "text": [
      "                   all        833        833      0.951       0.94      0.968      0.461\n"
     ]
    },
    {
     "name": "stderr",
     "output_type": "stream",
     "text": [
      "\n"
     ]
    },
    {
     "name": "stdout",
     "output_type": "stream",
     "text": [
      "\n",
      "      Epoch    GPU_mem   box_loss   cls_loss   dfl_loss  Instances       Size\n"
     ]
    },
    {
     "name": "stderr",
     "output_type": "stream",
     "text": [
      "     53/100      16.9G      1.648     0.7623      1.134         96        640: 100%|██████████| 59/59 [00:49<00:00,  1.19it/s]\n",
      "                 Class     Images  Instances      Box(P          R      mAP50  mAP50-95): 100%|██████████| 4/4 [00:11<00:00,  2.77s/it]"
     ]
    },
    {
     "name": "stdout",
     "output_type": "stream",
     "text": [
      "                   all        833        833      0.961      0.952      0.967      0.457\n"
     ]
    },
    {
     "name": "stderr",
     "output_type": "stream",
     "text": [
      "\n"
     ]
    },
    {
     "name": "stdout",
     "output_type": "stream",
     "text": [
      "\n",
      "      Epoch    GPU_mem   box_loss   cls_loss   dfl_loss  Instances       Size\n"
     ]
    },
    {
     "name": "stderr",
     "output_type": "stream",
     "text": [
      "     54/100      16.9G       1.62     0.7486      1.126         87        640: 100%|██████████| 59/59 [00:47<00:00,  1.24it/s]\n",
      "                 Class     Images  Instances      Box(P          R      mAP50  mAP50-95): 100%|██████████| 4/4 [00:03<00:00,  1.11it/s]"
     ]
    },
    {
     "name": "stdout",
     "output_type": "stream",
     "text": [
      "                   all        833        833      0.957      0.942       0.97      0.443\n"
     ]
    },
    {
     "name": "stderr",
     "output_type": "stream",
     "text": [
      "\n"
     ]
    },
    {
     "name": "stdout",
     "output_type": "stream",
     "text": [
      "\n",
      "      Epoch    GPU_mem   box_loss   cls_loss   dfl_loss  Instances       Size\n"
     ]
    },
    {
     "name": "stderr",
     "output_type": "stream",
     "text": [
      "     55/100      16.9G      1.637     0.7544      1.127        108        640: 100%|██████████| 59/59 [00:49<00:00,  1.18it/s]\n",
      "                 Class     Images  Instances      Box(P          R      mAP50  mAP50-95): 100%|██████████| 4/4 [00:03<00:00,  1.11it/s]"
     ]
    },
    {
     "name": "stdout",
     "output_type": "stream",
     "text": [
      "                   all        833        833      0.959      0.934       0.97      0.458\n"
     ]
    },
    {
     "name": "stderr",
     "output_type": "stream",
     "text": [
      "\n"
     ]
    },
    {
     "name": "stdout",
     "output_type": "stream",
     "text": [
      "\n",
      "      Epoch    GPU_mem   box_loss   cls_loss   dfl_loss  Instances       Size\n"
     ]
    },
    {
     "name": "stderr",
     "output_type": "stream",
     "text": [
      "     56/100      16.9G      1.636     0.7498      1.137         88        640: 100%|██████████| 59/59 [00:46<00:00,  1.28it/s]\n",
      "                 Class     Images  Instances      Box(P          R      mAP50  mAP50-95): 100%|██████████| 4/4 [00:03<00:00,  1.13it/s]"
     ]
    },
    {
     "name": "stdout",
     "output_type": "stream",
     "text": [
      "                   all        833        833      0.964      0.952      0.974      0.472\n"
     ]
    },
    {
     "name": "stderr",
     "output_type": "stream",
     "text": [
      "\n"
     ]
    },
    {
     "name": "stdout",
     "output_type": "stream",
     "text": [
      "\n",
      "      Epoch    GPU_mem   box_loss   cls_loss   dfl_loss  Instances       Size\n"
     ]
    },
    {
     "name": "stderr",
     "output_type": "stream",
     "text": [
      "     57/100      16.9G      1.621     0.7488       1.12         69        640: 100%|██████████| 59/59 [00:46<00:00,  1.28it/s]\n",
      "                 Class     Images  Instances      Box(P          R      mAP50  mAP50-95): 100%|██████████| 4/4 [00:03<00:00,  1.12it/s]"
     ]
    },
    {
     "name": "stdout",
     "output_type": "stream",
     "text": [
      "                   all        833        833      0.973      0.962      0.985      0.463\n"
     ]
    },
    {
     "name": "stderr",
     "output_type": "stream",
     "text": [
      "\n"
     ]
    },
    {
     "name": "stdout",
     "output_type": "stream",
     "text": [
      "\n",
      "      Epoch    GPU_mem   box_loss   cls_loss   dfl_loss  Instances       Size\n"
     ]
    },
    {
     "name": "stderr",
     "output_type": "stream",
     "text": [
      "     58/100      16.9G      1.622     0.7439       1.12         80        640: 100%|██████████| 59/59 [00:54<00:00,  1.09it/s]\n",
      "                 Class     Images  Instances      Box(P          R      mAP50  mAP50-95): 100%|██████████| 4/4 [00:03<00:00,  1.13it/s]"
     ]
    },
    {
     "name": "stdout",
     "output_type": "stream",
     "text": [
      "                   all        833        833      0.961      0.952      0.977      0.461\n"
     ]
    },
    {
     "name": "stderr",
     "output_type": "stream",
     "text": [
      "\n"
     ]
    },
    {
     "name": "stdout",
     "output_type": "stream",
     "text": [
      "\n",
      "      Epoch    GPU_mem   box_loss   cls_loss   dfl_loss  Instances       Size\n"
     ]
    },
    {
     "name": "stderr",
     "output_type": "stream",
     "text": [
      "     59/100      16.9G      1.622     0.7439      1.125         81        640: 100%|██████████| 59/59 [00:46<00:00,  1.27it/s]\n",
      "                 Class     Images  Instances      Box(P          R      mAP50  mAP50-95): 100%|██████████| 4/4 [00:03<00:00,  1.12it/s]"
     ]
    },
    {
     "name": "stdout",
     "output_type": "stream",
     "text": [
      "                   all        833        833      0.952      0.953      0.975      0.479\n"
     ]
    },
    {
     "name": "stderr",
     "output_type": "stream",
     "text": [
      "\n"
     ]
    },
    {
     "name": "stdout",
     "output_type": "stream",
     "text": [
      "\n",
      "      Epoch    GPU_mem   box_loss   cls_loss   dfl_loss  Instances       Size\n"
     ]
    },
    {
     "name": "stderr",
     "output_type": "stream",
     "text": [
      "     60/100      16.9G      1.607     0.7365      1.118         88        640: 100%|██████████| 59/59 [00:48<00:00,  1.21it/s]\n",
      "                 Class     Images  Instances      Box(P          R      mAP50  mAP50-95): 100%|██████████| 4/4 [00:07<00:00,  1.85s/it]"
     ]
    },
    {
     "name": "stdout",
     "output_type": "stream",
     "text": [
      "                   all        833        833      0.955      0.942      0.975       0.47\n"
     ]
    },
    {
     "name": "stderr",
     "output_type": "stream",
     "text": [
      "\n"
     ]
    },
    {
     "name": "stdout",
     "output_type": "stream",
     "text": [
      "\n",
      "      Epoch    GPU_mem   box_loss   cls_loss   dfl_loss  Instances       Size\n"
     ]
    },
    {
     "name": "stderr",
     "output_type": "stream",
     "text": [
      "     61/100      16.9G      1.603     0.7271      1.121        102        640: 100%|██████████| 59/59 [00:46<00:00,  1.26it/s]\n",
      "                 Class     Images  Instances      Box(P          R      mAP50  mAP50-95): 100%|██████████| 4/4 [00:03<00:00,  1.14it/s]"
     ]
    },
    {
     "name": "stdout",
     "output_type": "stream",
     "text": [
      "                   all        833        833      0.958      0.944      0.973      0.473\n"
     ]
    },
    {
     "name": "stderr",
     "output_type": "stream",
     "text": [
      "\n"
     ]
    },
    {
     "name": "stdout",
     "output_type": "stream",
     "text": [
      "\n",
      "      Epoch    GPU_mem   box_loss   cls_loss   dfl_loss  Instances       Size\n"
     ]
    },
    {
     "name": "stderr",
     "output_type": "stream",
     "text": [
      "     62/100      16.9G      1.591     0.7179      1.113        101        640: 100%|██████████| 59/59 [00:46<00:00,  1.27it/s]\n",
      "                 Class     Images  Instances      Box(P          R      mAP50  mAP50-95): 100%|██████████| 4/4 [00:03<00:00,  1.12it/s]"
     ]
    },
    {
     "name": "stdout",
     "output_type": "stream",
     "text": [
      "                   all        833        833       0.96      0.956      0.979      0.491\n"
     ]
    },
    {
     "name": "stderr",
     "output_type": "stream",
     "text": [
      "\n"
     ]
    },
    {
     "name": "stdout",
     "output_type": "stream",
     "text": [
      "\n",
      "      Epoch    GPU_mem   box_loss   cls_loss   dfl_loss  Instances       Size\n"
     ]
    },
    {
     "name": "stderr",
     "output_type": "stream",
     "text": [
      "     63/100      16.9G      1.595     0.7174      1.114         93        640: 100%|██████████| 59/59 [00:48<00:00,  1.21it/s]\n",
      "                 Class     Images  Instances      Box(P          R      mAP50  mAP50-95): 100%|██████████| 4/4 [00:07<00:00,  1.95s/it]"
     ]
    },
    {
     "name": "stdout",
     "output_type": "stream",
     "text": [
      "                   all        833        833      0.968      0.952       0.98      0.472\n"
     ]
    },
    {
     "name": "stderr",
     "output_type": "stream",
     "text": [
      "\n"
     ]
    },
    {
     "name": "stdout",
     "output_type": "stream",
     "text": [
      "\n",
      "      Epoch    GPU_mem   box_loss   cls_loss   dfl_loss  Instances       Size\n"
     ]
    },
    {
     "name": "stderr",
     "output_type": "stream",
     "text": [
      "     64/100      16.9G      1.587      0.713      1.112         90        640: 100%|██████████| 59/59 [00:46<00:00,  1.28it/s]\n",
      "                 Class     Images  Instances      Box(P          R      mAP50  mAP50-95): 100%|██████████| 4/4 [00:03<00:00,  1.12it/s]"
     ]
    },
    {
     "name": "stdout",
     "output_type": "stream",
     "text": [
      "                   all        833        833      0.969      0.956      0.978      0.482\n"
     ]
    },
    {
     "name": "stderr",
     "output_type": "stream",
     "text": [
      "\n"
     ]
    },
    {
     "name": "stdout",
     "output_type": "stream",
     "text": [
      "\n",
      "      Epoch    GPU_mem   box_loss   cls_loss   dfl_loss  Instances       Size\n"
     ]
    },
    {
     "name": "stderr",
     "output_type": "stream",
     "text": [
      "     65/100      16.9G      1.578     0.7112      1.103         82        640: 100%|██████████| 59/59 [00:46<00:00,  1.27it/s]\n",
      "                 Class     Images  Instances      Box(P          R      mAP50  mAP50-95): 100%|██████████| 4/4 [00:03<00:00,  1.11it/s]"
     ]
    },
    {
     "name": "stdout",
     "output_type": "stream",
     "text": [
      "                   all        833        833      0.969      0.952      0.979      0.477\n"
     ]
    },
    {
     "name": "stderr",
     "output_type": "stream",
     "text": [
      "\n"
     ]
    },
    {
     "name": "stdout",
     "output_type": "stream",
     "text": [
      "\n",
      "      Epoch    GPU_mem   box_loss   cls_loss   dfl_loss  Instances       Size\n"
     ]
    },
    {
     "name": "stderr",
     "output_type": "stream",
     "text": [
      "     66/100      16.9G      1.586     0.7114      1.107         98        640: 100%|██████████| 59/59 [00:46<00:00,  1.28it/s]\n",
      "                 Class     Images  Instances      Box(P          R      mAP50  mAP50-95): 100%|██████████| 4/4 [00:03<00:00,  1.12it/s]"
     ]
    },
    {
     "name": "stdout",
     "output_type": "stream",
     "text": [
      "                   all        833        833      0.959      0.946      0.973      0.465\n"
     ]
    },
    {
     "name": "stderr",
     "output_type": "stream",
     "text": [
      "\n"
     ]
    },
    {
     "name": "stdout",
     "output_type": "stream",
     "text": [
      "\n",
      "      Epoch    GPU_mem   box_loss   cls_loss   dfl_loss  Instances       Size\n"
     ]
    },
    {
     "name": "stderr",
     "output_type": "stream",
     "text": [
      "     67/100      16.9G      1.566     0.6996      1.097         98        640: 100%|██████████| 59/59 [00:46<00:00,  1.28it/s]\n",
      "                 Class     Images  Instances      Box(P          R      mAP50  mAP50-95): 100%|██████████| 4/4 [00:03<00:00,  1.14it/s]"
     ]
    },
    {
     "name": "stdout",
     "output_type": "stream",
     "text": [
      "                   all        833        833      0.966      0.936      0.973      0.486\n"
     ]
    },
    {
     "name": "stderr",
     "output_type": "stream",
     "text": [
      "\n"
     ]
    },
    {
     "name": "stdout",
     "output_type": "stream",
     "text": [
      "\n",
      "      Epoch    GPU_mem   box_loss   cls_loss   dfl_loss  Instances       Size\n"
     ]
    },
    {
     "name": "stderr",
     "output_type": "stream",
     "text": [
      "     68/100      16.9G      1.569     0.7002      1.104         92        640: 100%|██████████| 59/59 [00:46<00:00,  1.28it/s]\n",
      "                 Class     Images  Instances      Box(P          R      mAP50  mAP50-95): 100%|██████████| 4/4 [00:03<00:00,  1.09it/s]"
     ]
    },
    {
     "name": "stdout",
     "output_type": "stream",
     "text": [
      "                   all        833        833      0.978      0.962      0.984      0.487\n"
     ]
    },
    {
     "name": "stderr",
     "output_type": "stream",
     "text": [
      "\n"
     ]
    },
    {
     "name": "stdout",
     "output_type": "stream",
     "text": [
      "\n",
      "      Epoch    GPU_mem   box_loss   cls_loss   dfl_loss  Instances       Size\n"
     ]
    },
    {
     "name": "stderr",
     "output_type": "stream",
     "text": [
      "     69/100      16.9G       1.56     0.6945      1.104         87        640: 100%|██████████| 59/59 [00:46<00:00,  1.28it/s]\n",
      "                 Class     Images  Instances      Box(P          R      mAP50  mAP50-95): 100%|██████████| 4/4 [00:03<00:00,  1.13it/s]"
     ]
    },
    {
     "name": "stdout",
     "output_type": "stream",
     "text": [
      "                   all        833        833      0.979       0.96      0.982      0.496\n"
     ]
    },
    {
     "name": "stderr",
     "output_type": "stream",
     "text": [
      "\n"
     ]
    },
    {
     "name": "stdout",
     "output_type": "stream",
     "text": [
      "\n",
      "      Epoch    GPU_mem   box_loss   cls_loss   dfl_loss  Instances       Size\n"
     ]
    },
    {
     "name": "stderr",
     "output_type": "stream",
     "text": [
      "     70/100      16.9G      1.556     0.6948      1.101         71        640: 100%|██████████| 59/59 [00:46<00:00,  1.27it/s]\n",
      "                 Class     Images  Instances      Box(P          R      mAP50  mAP50-95): 100%|██████████| 4/4 [00:03<00:00,  1.13it/s]"
     ]
    },
    {
     "name": "stdout",
     "output_type": "stream",
     "text": [
      "                   all        833        833      0.968      0.964      0.981      0.488\n"
     ]
    },
    {
     "name": "stderr",
     "output_type": "stream",
     "text": [
      "\n"
     ]
    },
    {
     "name": "stdout",
     "output_type": "stream",
     "text": [
      "\n",
      "      Epoch    GPU_mem   box_loss   cls_loss   dfl_loss  Instances       Size\n"
     ]
    },
    {
     "name": "stderr",
     "output_type": "stream",
     "text": [
      "     71/100      16.9G      1.554     0.6943      1.102         92        640: 100%|██████████| 59/59 [00:46<00:00,  1.27it/s]\n",
      "                 Class     Images  Instances      Box(P          R      mAP50  mAP50-95): 100%|██████████| 4/4 [00:03<00:00,  1.10it/s]"
     ]
    },
    {
     "name": "stdout",
     "output_type": "stream",
     "text": [
      "                   all        833        833      0.973      0.962      0.982      0.486\n"
     ]
    },
    {
     "name": "stderr",
     "output_type": "stream",
     "text": [
      "\n"
     ]
    },
    {
     "name": "stdout",
     "output_type": "stream",
     "text": [
      "\n",
      "      Epoch    GPU_mem   box_loss   cls_loss   dfl_loss  Instances       Size\n"
     ]
    },
    {
     "name": "stderr",
     "output_type": "stream",
     "text": [
      "     72/100      16.9G      1.536     0.6825      1.096         95        640: 100%|██████████| 59/59 [00:46<00:00,  1.28it/s]\n",
      "                 Class     Images  Instances      Box(P          R      mAP50  mAP50-95): 100%|██████████| 4/4 [00:03<00:00,  1.14it/s]"
     ]
    },
    {
     "name": "stdout",
     "output_type": "stream",
     "text": [
      "                   all        833        833      0.973      0.965      0.984      0.491\n"
     ]
    },
    {
     "name": "stderr",
     "output_type": "stream",
     "text": [
      "\n"
     ]
    },
    {
     "name": "stdout",
     "output_type": "stream",
     "text": [
      "\n",
      "      Epoch    GPU_mem   box_loss   cls_loss   dfl_loss  Instances       Size\n"
     ]
    },
    {
     "name": "stderr",
     "output_type": "stream",
     "text": [
      "     73/100      16.9G      1.545     0.6812      1.096         81        640: 100%|██████████| 59/59 [00:46<00:00,  1.28it/s]\n",
      "                 Class     Images  Instances      Box(P          R      mAP50  mAP50-95): 100%|██████████| 4/4 [00:03<00:00,  1.13it/s]"
     ]
    },
    {
     "name": "stdout",
     "output_type": "stream",
     "text": [
      "                   all        833        833       0.97      0.957      0.981      0.477\n"
     ]
    },
    {
     "name": "stderr",
     "output_type": "stream",
     "text": [
      "\n"
     ]
    },
    {
     "name": "stdout",
     "output_type": "stream",
     "text": [
      "\n",
      "      Epoch    GPU_mem   box_loss   cls_loss   dfl_loss  Instances       Size\n"
     ]
    },
    {
     "name": "stderr",
     "output_type": "stream",
     "text": [
      "     74/100      16.9G      1.528     0.6778      1.088         90        640: 100%|██████████| 59/59 [00:46<00:00,  1.28it/s]\n",
      "                 Class     Images  Instances      Box(P          R      mAP50  mAP50-95): 100%|██████████| 4/4 [00:03<00:00,  1.10it/s]"
     ]
    },
    {
     "name": "stdout",
     "output_type": "stream",
     "text": [
      "                   all        833        833      0.975      0.962       0.98      0.485\n"
     ]
    },
    {
     "name": "stderr",
     "output_type": "stream",
     "text": [
      "\n"
     ]
    },
    {
     "name": "stdout",
     "output_type": "stream",
     "text": [
      "\n",
      "      Epoch    GPU_mem   box_loss   cls_loss   dfl_loss  Instances       Size\n"
     ]
    },
    {
     "name": "stderr",
     "output_type": "stream",
     "text": [
      "     75/100      16.9G      1.533     0.6801      1.096         79        640: 100%|██████████| 59/59 [00:46<00:00,  1.28it/s]\n",
      "                 Class     Images  Instances      Box(P          R      mAP50  mAP50-95): 100%|██████████| 4/4 [00:03<00:00,  1.13it/s]"
     ]
    },
    {
     "name": "stdout",
     "output_type": "stream",
     "text": [
      "                   all        833        833      0.967      0.952      0.975      0.498\n"
     ]
    },
    {
     "name": "stderr",
     "output_type": "stream",
     "text": [
      "\n"
     ]
    },
    {
     "name": "stdout",
     "output_type": "stream",
     "text": [
      "\n",
      "      Epoch    GPU_mem   box_loss   cls_loss   dfl_loss  Instances       Size\n"
     ]
    },
    {
     "name": "stderr",
     "output_type": "stream",
     "text": [
      "     76/100      16.9G      1.516     0.6721      1.088        104        640: 100%|██████████| 59/59 [00:46<00:00,  1.27it/s]\n",
      "                 Class     Images  Instances      Box(P          R      mAP50  mAP50-95): 100%|██████████| 4/4 [00:07<00:00,  1.84s/it]"
     ]
    },
    {
     "name": "stdout",
     "output_type": "stream",
     "text": [
      "                   all        833        833      0.981      0.962      0.984      0.495\n"
     ]
    },
    {
     "name": "stderr",
     "output_type": "stream",
     "text": [
      "\n"
     ]
    },
    {
     "name": "stdout",
     "output_type": "stream",
     "text": [
      "\n",
      "      Epoch    GPU_mem   box_loss   cls_loss   dfl_loss  Instances       Size\n"
     ]
    },
    {
     "name": "stderr",
     "output_type": "stream",
     "text": [
      "     77/100      16.9G      1.508     0.6592      1.083         79        640: 100%|██████████| 59/59 [00:45<00:00,  1.28it/s]\n",
      "                 Class     Images  Instances      Box(P          R      mAP50  mAP50-95): 100%|██████████| 4/4 [00:10<00:00,  2.58s/it]"
     ]
    },
    {
     "name": "stdout",
     "output_type": "stream",
     "text": [
      "                   all        833        833      0.986      0.958      0.986      0.489\n"
     ]
    },
    {
     "name": "stderr",
     "output_type": "stream",
     "text": [
      "\n"
     ]
    },
    {
     "name": "stdout",
     "output_type": "stream",
     "text": [
      "\n",
      "      Epoch    GPU_mem   box_loss   cls_loss   dfl_loss  Instances       Size\n"
     ]
    },
    {
     "name": "stderr",
     "output_type": "stream",
     "text": [
      "     78/100      16.9G      1.508      0.662      1.085         97        640: 100%|██████████| 59/59 [00:47<00:00,  1.24it/s]\n",
      "                 Class     Images  Instances      Box(P          R      mAP50  mAP50-95): 100%|██████████| 4/4 [00:03<00:00,  1.12it/s]"
     ]
    },
    {
     "name": "stdout",
     "output_type": "stream",
     "text": [
      "                   all        833        833       0.98      0.958      0.984      0.501\n"
     ]
    },
    {
     "name": "stderr",
     "output_type": "stream",
     "text": [
      "\n"
     ]
    },
    {
     "name": "stdout",
     "output_type": "stream",
     "text": [
      "\n",
      "      Epoch    GPU_mem   box_loss   cls_loss   dfl_loss  Instances       Size\n"
     ]
    },
    {
     "name": "stderr",
     "output_type": "stream",
     "text": [
      "     79/100      16.9G      1.502     0.6566       1.08         88        640: 100%|██████████| 59/59 [00:46<00:00,  1.27it/s]\n",
      "                 Class     Images  Instances      Box(P          R      mAP50  mAP50-95): 100%|██████████| 4/4 [00:03<00:00,  1.13it/s]"
     ]
    },
    {
     "name": "stdout",
     "output_type": "stream",
     "text": [
      "                   all        833        833      0.979      0.968      0.985      0.496\n"
     ]
    },
    {
     "name": "stderr",
     "output_type": "stream",
     "text": [
      "\n"
     ]
    },
    {
     "name": "stdout",
     "output_type": "stream",
     "text": [
      "\n",
      "      Epoch    GPU_mem   box_loss   cls_loss   dfl_loss  Instances       Size\n"
     ]
    },
    {
     "name": "stderr",
     "output_type": "stream",
     "text": [
      "     80/100      16.9G      1.508     0.6565       1.08         81        640: 100%|██████████| 59/59 [00:46<00:00,  1.27it/s]\n",
      "                 Class     Images  Instances      Box(P          R      mAP50  mAP50-95): 100%|██████████| 4/4 [00:03<00:00,  1.12it/s]"
     ]
    },
    {
     "name": "stdout",
     "output_type": "stream",
     "text": [
      "                   all        833        833      0.977      0.959      0.983      0.499\n"
     ]
    },
    {
     "name": "stderr",
     "output_type": "stream",
     "text": [
      "\n"
     ]
    },
    {
     "name": "stdout",
     "output_type": "stream",
     "text": [
      "\n",
      "      Epoch    GPU_mem   box_loss   cls_loss   dfl_loss  Instances       Size\n"
     ]
    },
    {
     "name": "stderr",
     "output_type": "stream",
     "text": [
      "     81/100      16.9G      1.493     0.6525       1.08        101        640: 100%|██████████| 59/59 [00:46<00:00,  1.28it/s]\n",
      "                 Class     Images  Instances      Box(P          R      mAP50  mAP50-95): 100%|██████████| 4/4 [00:03<00:00,  1.05it/s]"
     ]
    },
    {
     "name": "stdout",
     "output_type": "stream",
     "text": [
      "                   all        833        833      0.977       0.95      0.981      0.489\n"
     ]
    },
    {
     "name": "stderr",
     "output_type": "stream",
     "text": [
      "\n"
     ]
    },
    {
     "name": "stdout",
     "output_type": "stream",
     "text": [
      "\n",
      "      Epoch    GPU_mem   box_loss   cls_loss   dfl_loss  Instances       Size\n"
     ]
    },
    {
     "name": "stderr",
     "output_type": "stream",
     "text": [
      "     82/100      16.9G      1.488     0.6468      1.072         92        640: 100%|██████████| 59/59 [00:46<00:00,  1.26it/s]\n",
      "                 Class     Images  Instances      Box(P          R      mAP50  mAP50-95): 100%|██████████| 4/4 [00:03<00:00,  1.13it/s]"
     ]
    },
    {
     "name": "stdout",
     "output_type": "stream",
     "text": [
      "                   all        833        833      0.976      0.967      0.984      0.492\n"
     ]
    },
    {
     "name": "stderr",
     "output_type": "stream",
     "text": [
      "\n"
     ]
    },
    {
     "name": "stdout",
     "output_type": "stream",
     "text": [
      "\n",
      "      Epoch    GPU_mem   box_loss   cls_loss   dfl_loss  Instances       Size\n"
     ]
    },
    {
     "name": "stderr",
     "output_type": "stream",
     "text": [
      "     83/100      16.9G      1.492     0.6492      1.082         96        640: 100%|██████████| 59/59 [00:46<00:00,  1.27it/s]\n",
      "                 Class     Images  Instances      Box(P          R      mAP50  mAP50-95): 100%|██████████| 4/4 [00:03<00:00,  1.12it/s]"
     ]
    },
    {
     "name": "stdout",
     "output_type": "stream",
     "text": [
      "                   all        833        833      0.977      0.963      0.984      0.487\n"
     ]
    },
    {
     "name": "stderr",
     "output_type": "stream",
     "text": [
      "\n"
     ]
    },
    {
     "name": "stdout",
     "output_type": "stream",
     "text": [
      "\n",
      "      Epoch    GPU_mem   box_loss   cls_loss   dfl_loss  Instances       Size\n"
     ]
    },
    {
     "name": "stderr",
     "output_type": "stream",
     "text": [
      "     84/100      16.9G       1.48     0.6411      1.071         94        640: 100%|██████████| 59/59 [00:46<00:00,  1.27it/s]\n",
      "                 Class     Images  Instances      Box(P          R      mAP50  mAP50-95): 100%|██████████| 4/4 [00:03<00:00,  1.14it/s]"
     ]
    },
    {
     "name": "stdout",
     "output_type": "stream",
     "text": [
      "                   all        833        833      0.977      0.971      0.988      0.498\n"
     ]
    },
    {
     "name": "stderr",
     "output_type": "stream",
     "text": [
      "\n"
     ]
    },
    {
     "name": "stdout",
     "output_type": "stream",
     "text": [
      "\n",
      "      Epoch    GPU_mem   box_loss   cls_loss   dfl_loss  Instances       Size\n"
     ]
    },
    {
     "name": "stderr",
     "output_type": "stream",
     "text": [
      "     85/100      16.9G      1.472      0.636      1.077         87        640: 100%|██████████| 59/59 [00:46<00:00,  1.27it/s]\n",
      "                 Class     Images  Instances      Box(P          R      mAP50  mAP50-95): 100%|██████████| 4/4 [00:03<00:00,  1.12it/s]"
     ]
    },
    {
     "name": "stdout",
     "output_type": "stream",
     "text": [
      "                   all        833        833      0.978      0.959      0.986        0.5\n"
     ]
    },
    {
     "name": "stderr",
     "output_type": "stream",
     "text": [
      "\n"
     ]
    },
    {
     "name": "stdout",
     "output_type": "stream",
     "text": [
      "\n",
      "      Epoch    GPU_mem   box_loss   cls_loss   dfl_loss  Instances       Size\n"
     ]
    },
    {
     "name": "stderr",
     "output_type": "stream",
     "text": [
      "     86/100      16.9G      1.477     0.6339      1.073         81        640: 100%|██████████| 59/59 [00:46<00:00,  1.27it/s]\n",
      "                 Class     Images  Instances      Box(P          R      mAP50  mAP50-95): 100%|██████████| 4/4 [00:03<00:00,  1.14it/s]"
     ]
    },
    {
     "name": "stdout",
     "output_type": "stream",
     "text": [
      "                   all        833        833      0.977      0.962      0.986      0.493\n"
     ]
    },
    {
     "name": "stderr",
     "output_type": "stream",
     "text": [
      "\n"
     ]
    },
    {
     "name": "stdout",
     "output_type": "stream",
     "text": [
      "\n",
      "      Epoch    GPU_mem   box_loss   cls_loss   dfl_loss  Instances       Size\n"
     ]
    },
    {
     "name": "stderr",
     "output_type": "stream",
     "text": [
      "     87/100      16.9G      1.459     0.6309      1.068         99        640: 100%|██████████| 59/59 [00:46<00:00,  1.27it/s]\n",
      "                 Class     Images  Instances      Box(P          R      mAP50  mAP50-95): 100%|██████████| 4/4 [00:03<00:00,  1.14it/s]"
     ]
    },
    {
     "name": "stdout",
     "output_type": "stream",
     "text": [
      "                   all        833        833      0.977      0.962      0.984      0.497\n"
     ]
    },
    {
     "name": "stderr",
     "output_type": "stream",
     "text": [
      "\n"
     ]
    },
    {
     "name": "stdout",
     "output_type": "stream",
     "text": [
      "\n",
      "      Epoch    GPU_mem   box_loss   cls_loss   dfl_loss  Instances       Size\n"
     ]
    },
    {
     "name": "stderr",
     "output_type": "stream",
     "text": [
      "     88/100      16.9G      1.474     0.6373      1.073         93        640: 100%|██████████| 59/59 [00:46<00:00,  1.27it/s]\n",
      "                 Class     Images  Instances      Box(P          R      mAP50  mAP50-95): 100%|██████████| 4/4 [00:03<00:00,  1.11it/s]"
     ]
    },
    {
     "name": "stdout",
     "output_type": "stream",
     "text": [
      "                   all        833        833      0.975      0.966      0.984      0.507\n"
     ]
    },
    {
     "name": "stderr",
     "output_type": "stream",
     "text": [
      "\n"
     ]
    },
    {
     "name": "stdout",
     "output_type": "stream",
     "text": [
      "\n",
      "      Epoch    GPU_mem   box_loss   cls_loss   dfl_loss  Instances       Size\n"
     ]
    },
    {
     "name": "stderr",
     "output_type": "stream",
     "text": [
      "     89/100      16.9G      1.452     0.6241      1.061         86        640: 100%|██████████| 59/59 [00:46<00:00,  1.27it/s]\n",
      "                 Class     Images  Instances      Box(P          R      mAP50  mAP50-95): 100%|██████████| 4/4 [00:03<00:00,  1.13it/s]"
     ]
    },
    {
     "name": "stdout",
     "output_type": "stream",
     "text": [
      "                   all        833        833      0.978       0.96      0.986        0.5\n"
     ]
    },
    {
     "name": "stderr",
     "output_type": "stream",
     "text": [
      "\n"
     ]
    },
    {
     "name": "stdout",
     "output_type": "stream",
     "text": [
      "\n",
      "      Epoch    GPU_mem   box_loss   cls_loss   dfl_loss  Instances       Size\n"
     ]
    },
    {
     "name": "stderr",
     "output_type": "stream",
     "text": [
      "     90/100      16.9G      1.456     0.6225      1.061         78        640: 100%|██████████| 59/59 [00:50<00:00,  1.16it/s]\n",
      "                 Class     Images  Instances      Box(P          R      mAP50  mAP50-95): 100%|██████████| 4/4 [00:03<00:00,  1.10it/s]"
     ]
    },
    {
     "name": "stdout",
     "output_type": "stream",
     "text": [
      "                   all        833        833      0.977       0.96      0.985      0.501\n"
     ]
    },
    {
     "name": "stderr",
     "output_type": "stream",
     "text": [
      "\n"
     ]
    },
    {
     "name": "stdout",
     "output_type": "stream",
     "text": [
      "Closing dataloader mosaic\n",
      "\u001b[34m\u001b[1malbumentations: \u001b[0mBlur(p=0.01, blur_limit=(3, 7)), MedianBlur(p=0.01, blur_limit=(3, 7)), ToGray(p=0.01), CLAHE(p=0.01, clip_limit=(1, 4.0), tile_grid_size=(8, 8))\n"
     ]
    },
    {
     "name": "stderr",
     "output_type": "stream",
     "text": [
      "/usr/lib/python3.10/multiprocessing/popen_fork.py:66: RuntimeWarning: os.fork() was called. os.fork() is incompatible with multithreaded code, and JAX is multithreaded, so this will likely lead to a deadlock.\n",
      "  self.pid = os.fork()\n"
     ]
    },
    {
     "name": "stdout",
     "output_type": "stream",
     "text": [
      "\n",
      "      Epoch    GPU_mem   box_loss   cls_loss   dfl_loss  Instances       Size\n"
     ]
    },
    {
     "name": "stderr",
     "output_type": "stream",
     "text": [
      "     91/100      16.9G      1.456     0.5852       1.13         68        640: 100%|██████████| 59/59 [00:45<00:00,  1.30it/s]\n",
      "                 Class     Images  Instances      Box(P          R      mAP50  mAP50-95): 100%|██████████| 4/4 [00:04<00:00,  1.09s/it]"
     ]
    },
    {
     "name": "stdout",
     "output_type": "stream",
     "text": [
      "                   all        833        833      0.984      0.953      0.985      0.496\n"
     ]
    },
    {
     "name": "stderr",
     "output_type": "stream",
     "text": [
      "\n"
     ]
    },
    {
     "name": "stdout",
     "output_type": "stream",
     "text": [
      "\n",
      "      Epoch    GPU_mem   box_loss   cls_loss   dfl_loss  Instances       Size\n"
     ]
    },
    {
     "name": "stderr",
     "output_type": "stream",
     "text": [
      "     92/100      16.9G      1.425     0.5696      1.121         67        640: 100%|██████████| 59/59 [00:43<00:00,  1.37it/s]\n",
      "                 Class     Images  Instances      Box(P          R      mAP50  mAP50-95): 100%|██████████| 4/4 [00:04<00:00,  1.06s/it]"
     ]
    },
    {
     "name": "stdout",
     "output_type": "stream",
     "text": [
      "                   all        833        833      0.978      0.962      0.986      0.497\n"
     ]
    },
    {
     "name": "stderr",
     "output_type": "stream",
     "text": [
      "\n"
     ]
    },
    {
     "name": "stdout",
     "output_type": "stream",
     "text": [
      "\n",
      "      Epoch    GPU_mem   box_loss   cls_loss   dfl_loss  Instances       Size\n"
     ]
    },
    {
     "name": "stderr",
     "output_type": "stream",
     "text": [
      "     93/100      16.9G      1.411     0.5621       1.11         67        640: 100%|██████████| 59/59 [00:41<00:00,  1.41it/s]\n",
      "                 Class     Images  Instances      Box(P          R      mAP50  mAP50-95): 100%|██████████| 4/4 [00:06<00:00,  1.64s/it]"
     ]
    },
    {
     "name": "stdout",
     "output_type": "stream",
     "text": [
      "                   all        833        833      0.983      0.965      0.986        0.5\n"
     ]
    },
    {
     "name": "stderr",
     "output_type": "stream",
     "text": [
      "\n"
     ]
    },
    {
     "name": "stdout",
     "output_type": "stream",
     "text": [
      "\n",
      "      Epoch    GPU_mem   box_loss   cls_loss   dfl_loss  Instances       Size\n"
     ]
    },
    {
     "name": "stderr",
     "output_type": "stream",
     "text": [
      "     94/100      16.9G      1.397     0.5602      1.109         68        640: 100%|██████████| 59/59 [00:43<00:00,  1.37it/s]\n",
      "                 Class     Images  Instances      Box(P          R      mAP50  mAP50-95): 100%|██████████| 4/4 [00:03<00:00,  1.11it/s]"
     ]
    },
    {
     "name": "stdout",
     "output_type": "stream",
     "text": [
      "                   all        833        833      0.988      0.957      0.986      0.497\n"
     ]
    },
    {
     "name": "stderr",
     "output_type": "stream",
     "text": [
      "\n"
     ]
    },
    {
     "name": "stdout",
     "output_type": "stream",
     "text": [
      "\n",
      "      Epoch    GPU_mem   box_loss   cls_loss   dfl_loss  Instances       Size\n"
     ]
    },
    {
     "name": "stderr",
     "output_type": "stream",
     "text": [
      "     95/100      16.9G      1.398     0.5549      1.107         67        640: 100%|██████████| 59/59 [00:42<00:00,  1.37it/s]\n",
      "                 Class     Images  Instances      Box(P          R      mAP50  mAP50-95): 100%|██████████| 4/4 [00:03<00:00,  1.13it/s]"
     ]
    },
    {
     "name": "stdout",
     "output_type": "stream",
     "text": [
      "                   all        833        833       0.98       0.96      0.985      0.501\n"
     ]
    },
    {
     "name": "stderr",
     "output_type": "stream",
     "text": [
      "\n"
     ]
    },
    {
     "name": "stdout",
     "output_type": "stream",
     "text": [
      "\n",
      "      Epoch    GPU_mem   box_loss   cls_loss   dfl_loss  Instances       Size\n"
     ]
    },
    {
     "name": "stderr",
     "output_type": "stream",
     "text": [
      "     96/100      16.9G       1.39     0.5535      1.102         68        640: 100%|██████████| 59/59 [00:45<00:00,  1.30it/s]\n",
      "                 Class     Images  Instances      Box(P          R      mAP50  mAP50-95): 100%|██████████| 4/4 [00:03<00:00,  1.12it/s]"
     ]
    },
    {
     "name": "stdout",
     "output_type": "stream",
     "text": [
      "                   all        833        833      0.979      0.963      0.986      0.499\n"
     ]
    },
    {
     "name": "stderr",
     "output_type": "stream",
     "text": [
      "\n"
     ]
    },
    {
     "name": "stdout",
     "output_type": "stream",
     "text": [
      "\n",
      "      Epoch    GPU_mem   box_loss   cls_loss   dfl_loss  Instances       Size\n"
     ]
    },
    {
     "name": "stderr",
     "output_type": "stream",
     "text": [
      "     97/100      16.9G      1.387     0.5507      1.105         68        640: 100%|██████████| 59/59 [00:42<00:00,  1.40it/s]\n",
      "                 Class     Images  Instances      Box(P          R      mAP50  mAP50-95): 100%|██████████| 4/4 [00:03<00:00,  1.13it/s]"
     ]
    },
    {
     "name": "stdout",
     "output_type": "stream",
     "text": [
      "                   all        833        833      0.971       0.97      0.986      0.501\n"
     ]
    },
    {
     "name": "stderr",
     "output_type": "stream",
     "text": [
      "\n"
     ]
    },
    {
     "name": "stdout",
     "output_type": "stream",
     "text": [
      "\n",
      "      Epoch    GPU_mem   box_loss   cls_loss   dfl_loss  Instances       Size\n"
     ]
    },
    {
     "name": "stderr",
     "output_type": "stream",
     "text": [
      "     98/100      16.9G      1.374     0.5469      1.106         66        640: 100%|██████████| 59/59 [00:43<00:00,  1.36it/s]\n",
      "                 Class     Images  Instances      Box(P          R      mAP50  mAP50-95): 100%|██████████| 4/4 [00:03<00:00,  1.12it/s]"
     ]
    },
    {
     "name": "stdout",
     "output_type": "stream",
     "text": [
      "                   all        833        833      0.983      0.959      0.986      0.503\n"
     ]
    },
    {
     "name": "stderr",
     "output_type": "stream",
     "text": [
      "\n"
     ]
    },
    {
     "name": "stdout",
     "output_type": "stream",
     "text": [
      "\n",
      "      Epoch    GPU_mem   box_loss   cls_loss   dfl_loss  Instances       Size\n"
     ]
    },
    {
     "name": "stderr",
     "output_type": "stream",
     "text": [
      "     99/100      16.9G      1.377     0.5463      1.101         68        640: 100%|██████████| 59/59 [00:42<00:00,  1.38it/s]\n",
      "                 Class     Images  Instances      Box(P          R      mAP50  mAP50-95): 100%|██████████| 4/4 [00:03<00:00,  1.13it/s]"
     ]
    },
    {
     "name": "stdout",
     "output_type": "stream",
     "text": [
      "                   all        833        833      0.971      0.971      0.986      0.502\n"
     ]
    },
    {
     "name": "stderr",
     "output_type": "stream",
     "text": [
      "\n"
     ]
    },
    {
     "name": "stdout",
     "output_type": "stream",
     "text": [
      "\n",
      "      Epoch    GPU_mem   box_loss   cls_loss   dfl_loss  Instances       Size\n"
     ]
    },
    {
     "name": "stderr",
     "output_type": "stream",
     "text": [
      "    100/100      16.9G      1.369     0.5421      1.096         67        640: 100%|██████████| 59/59 [00:42<00:00,  1.40it/s]\n",
      "                 Class     Images  Instances      Box(P          R      mAP50  mAP50-95): 100%|██████████| 4/4 [00:03<00:00,  1.12it/s]"
     ]
    },
    {
     "name": "stdout",
     "output_type": "stream",
     "text": [
      "                   all        833        833       0.97      0.971      0.986      0.503\n"
     ]
    },
    {
     "name": "stderr",
     "output_type": "stream",
     "text": [
      "\n"
     ]
    },
    {
     "name": "stdout",
     "output_type": "stream",
     "text": [
      "\n",
      "100 epochs completed in 1.485 hours.\n",
      "Optimizer stripped from runs/detect/train/weights/last.pt, 6.3MB\n",
      "Optimizer stripped from runs/detect/train/weights/best.pt, 6.3MB\n",
      "\n",
      "Validating runs/detect/train/weights/best.pt...\n",
      "Ultralytics YOLOv8.2.22 🚀 Python-3.10.12 torch-2.3.0+cu121 CUDA:0 (NVIDIA L4, 22700MiB)\n",
      "Model summary (fused): 168 layers, 3005843 parameters, 0 gradients, 8.1 GFLOPs\n"
     ]
    },
    {
     "name": "stderr",
     "output_type": "stream",
     "text": [
      "/usr/local/lib/python3.10/dist-packages/torch/nn/modules/conv.py:456: UserWarning: Plan failed with a cudnnException: CUDNN_BACKEND_EXECUTION_PLAN_DESCRIPTOR: cudnnFinalize Descriptor Failed cudnn_status: CUDNN_STATUS_NOT_SUPPORTED (Triggered internally at ../aten/src/ATen/native/cudnn/Conv_v8.cpp:919.)\n",
      "  return F.conv2d(input, weight, bias, self.stride,\n",
      "                 Class     Images  Instances      Box(P          R      mAP50  mAP50-95): 100%|██████████| 4/4 [00:07<00:00,  1.99s/it]\n"
     ]
    },
    {
     "name": "stdout",
     "output_type": "stream",
     "text": [
      "                   all        833        833      0.975      0.966      0.984      0.507\n",
      "Speed: 0.2ms preprocess, 1.4ms inference, 0.0ms loss, 2.0ms postprocess per image\n",
      "Results saved to \u001b[1mruns/detect/train\u001b[0m\n"
     ]
    }
   ],
   "source": [
    "from ultralytics import YOLO\n",
    "\n",
    "# Load a model\n",
    "model = YOLO(\"yolov8n.pt\")  # load a pretrained model (recommended for training)\n",
    "\n",
    "# Train the model\n",
    "results = model.train(data=\"/content/coronary-artery-stenosis-detection/dataset.yaml\", epochs=100, imgsz=640, batch=128)"
   ]
  }
 ],
 "metadata": {
  "accelerator": "GPU",
  "colab": {
   "gpuType": "L4",
   "machine_shape": "hm",
   "provenance": []
  },
  "kernelspec": {
   "display_name": "Python 3 (ipykernel)",
   "language": "python",
   "name": "python3"
  },
  "language_info": {
   "codemirror_mode": {
    "name": "ipython",
    "version": 3
   },
   "file_extension": ".py",
   "mimetype": "text/x-python",
   "name": "python",
   "nbconvert_exporter": "python",
   "pygments_lexer": "ipython3",
   "version": "3.10.12"
  }
 },
 "nbformat": 4,
 "nbformat_minor": 1
}
